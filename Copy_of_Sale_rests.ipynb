{
  "cells": [
    {
      "cell_type": "markdown",
      "metadata": {
        "id": "view-in-github",
        "colab_type": "text"
      },
      "source": [
        "<a href=\"https://colab.research.google.com/github/penny1xu/RESTS/blob/main/Copy_of_Sale_rests.ipynb\" target=\"_parent\"><img src=\"https://colab.research.google.com/assets/colab-badge.svg\" alt=\"Open In Colab\"/></a>"
      ]
    },
    {
      "cell_type": "code",
      "execution_count": 42,
      "metadata": {
        "colab": {
          "base_uri": "https://localhost:8080/"
        },
        "id": "MJff6UchHVNB",
        "outputId": "de5e2b2b-4f2e-4602-cae7-9cdc5e510e35"
      },
      "outputs": [
        {
          "output_type": "stream",
          "name": "stdout",
          "text": [
            "Looking in indexes: https://pypi.org/simple, https://us-python.pkg.dev/colab-wheels/public/simple/\n",
            "Requirement already satisfied: censusgeocode in /usr/local/lib/python3.7/dist-packages (0.5.2)\n",
            "Requirement already satisfied: requests[security]<3,>=2.27.0 in /usr/local/lib/python3.7/dist-packages (from censusgeocode) (2.28.1)\n",
            "Requirement already satisfied: requests-toolbelt<1,>=0.9.0 in /usr/local/lib/python3.7/dist-packages (from censusgeocode) (0.9.1)\n",
            "Requirement already satisfied: urllib3<1.27,>=1.21.1 in /usr/local/lib/python3.7/dist-packages (from requests[security]<3,>=2.27.0->censusgeocode) (1.24.3)\n",
            "Requirement already satisfied: certifi>=2017.4.17 in /usr/local/lib/python3.7/dist-packages (from requests[security]<3,>=2.27.0->censusgeocode) (2022.6.15)\n",
            "Requirement already satisfied: charset-normalizer<3,>=2 in /usr/local/lib/python3.7/dist-packages (from requests[security]<3,>=2.27.0->censusgeocode) (2.1.0)\n",
            "Requirement already satisfied: idna<4,>=2.5 in /usr/local/lib/python3.7/dist-packages (from requests[security]<3,>=2.27.0->censusgeocode) (2.10)\n",
            "Looking in indexes: https://pypi.org/simple, https://us-python.pkg.dev/colab-wheels/public/simple/\n",
            "Requirement already satisfied: rets in /usr/local/lib/python3.7/dist-packages (1.0.0)\n",
            "Requirement already satisfied: xmltodict>=0.11.0 in /usr/local/lib/python3.7/dist-packages (from rets) (0.13.0)\n",
            "Requirement already satisfied: requests>=2.18.4 in /usr/local/lib/python3.7/dist-packages (from rets) (2.28.1)\n",
            "Requirement already satisfied: future>=0.16 in /usr/local/lib/python3.7/dist-packages (from rets) (0.16.0)\n",
            "Requirement already satisfied: six>=1.10 in /usr/local/lib/python3.7/dist-packages (from rets) (1.15.0)\n",
            "Requirement already satisfied: idna<4,>=2.5 in /usr/local/lib/python3.7/dist-packages (from requests>=2.18.4->rets) (2.10)\n",
            "Requirement already satisfied: certifi>=2017.4.17 in /usr/local/lib/python3.7/dist-packages (from requests>=2.18.4->rets) (2022.6.15)\n",
            "Requirement already satisfied: charset-normalizer<3,>=2 in /usr/local/lib/python3.7/dist-packages (from requests>=2.18.4->rets) (2.1.0)\n",
            "Requirement already satisfied: urllib3<1.27,>=1.21.1 in /usr/local/lib/python3.7/dist-packages (from requests>=2.18.4->rets) (1.24.3)\n"
          ]
        }
      ],
      "source": [
        "!pip install censusgeocode\n",
        "!pip install rets\n",
        "import csv\n",
        "import pandas as pd\n",
        "import censusgeocode as cg\n",
        "import numpy as np\n",
        "import sys\n",
        "from rets import Session\n"
      ]
    },
    {
      "cell_type": "code",
      "execution_count": 43,
      "metadata": {
        "id": "itgrCM-_Lglt"
      },
      "outputs": [],
      "source": [
        "def add(lo_left,lo_right,la_left,la_right):\n",
        "    a = 0.008 #调整经纬度改这里\n",
        "    lo_left -= a\n",
        "    lo_right += a\n",
        "    la_left -= a\n",
        "    la_right += a\n",
        "    return lo_left, lo_right, la_left, la_right"
      ]
    },
    {
      "cell_type": "code",
      "execution_count": 44,
      "metadata": {
        "id": "NtLir-mDWsiX"
      },
      "outputs": [],
      "source": [
        "def judgeType(item):\n",
        "  if(item['PropertyType'] == 'Residential' and item['PropertySubType'] == 'Single Family Residence'):#改type在这里\n",
        "    return True"
      ]
    },
    {
      "cell_type": "code",
      "source": [
        "def sumdata(result):\n",
        "  price = []\n",
        "  cdom_signValue = []\n",
        "  df_id = pd.DataFrame()\n",
        "  for item in result['ClosePrice']:\n",
        "    item = float(item)\n",
        "    price.append(item)\n",
        "  result['ClosePrice'] = price\n",
        "  mean = result['ClosePrice'].mean()\n",
        "  top = list(result['ClosePrice'])\n",
        "  top.sort(reverse = True)\n",
        "  top_mean = sum(top[0:3])/3\n",
        "  min = list(result['ClosePrice'])\n",
        "  min.sort(reverse = False)\n",
        "  median = result['ClosePrice'].median()\n",
        "  for item in result['CumulativeDaysOnMarket']:\n",
        "    item = int(item)\n",
        "    cdom_signValue.append(item)\n",
        "  result['CumulativeDaysOnMarket'] = cdom_signValue\n",
        "  cdom = result['CumulativeDaysOnMarket'].mean()\n",
        "  df_id_comp = pd.DataFrame()\n",
        "  df2_append_comp = {'Min': min[0],'Median': median ,'Mean': mean,'Top 3 Mean': top_mean,'Max\tAvg.': top[0] ,'CDOM': cdom}\n",
        "  df_id_comp = df_id_comp.append(df2_append_comp, ignore_index = True)\n",
        "  df3_append_comp = {'Min': None,'Median': None ,'Mean': 0.93,'Top 3 Mean': 0.98,'Max\tAvg.': 3 ,'CDOM': None}\n",
        "  df_id_comp = df_id_comp.append(df3_append_comp, ignore_index = True)\n",
        "  df4_append_comp = {'Min': None,'Median': None ,'Mean': 10,'Top 3 Mean': 20,'Max':30 ,'CDOM': None} ######\n",
        "  df_id_comp = df_id_comp.append(df4_append_comp, ignore_index = True)#####\n",
        "  df_id_comp = df_id_comp.rename(index={0: 'Comps', 1: '% above price',2: 'Est. Margin'})\n",
        "  return df_id_comp"
      ],
      "metadata": {
        "id": "3wELh1DaYTxg"
      },
      "execution_count": 45,
      "outputs": []
    },
    {
      "cell_type": "code",
      "execution_count": 46,
      "metadata": {
        "id": "7ltm-qDfls5y"
      },
      "outputs": [],
      "source": [
        "def calSqr(sqr):\n",
        "    if sqr <= 1100:\n",
        "        left = sqr - 100\n",
        "        right = sqr + 100\n",
        "    elif sqr <= 2200:\n",
        "        left = sqr - 200\n",
        "        right = sqr + 200\n",
        "    else:\n",
        "        left = sqr - 300\n",
        "        right = sqr + 300\n",
        "    return left, right"
      ]
    },
    {
      "cell_type": "code",
      "execution_count": 47,
      "metadata": {
        "id": "V9PMU59IqZfn"
      },
      "outputs": [],
      "source": [
        "def calYear(year):\n",
        "  if year < 1990:\n",
        "     begin = 0 \n",
        "     end = 1989\n",
        "  elif year >= 1990 and year < 2011:\n",
        "    begin = 1990\n",
        "    end = 2010\n",
        "  elif year >= 2011 and year < 2022:\n",
        "    begin = 2011\n",
        "    end = 2021\n",
        "  else:\n",
        "    begin = 2022\n",
        "    end = 9999\n",
        "  return begin,end"
      ]
    },
    {
      "cell_type": "code",
      "execution_count": 48,
      "metadata": {
        "id": "AhqamORj_VKw"
      },
      "outputs": [],
      "source": [
        "def subGeo(research, lo_left,lo_right,la_left,la_right, status, date, sq_left, sq_right,yr_begin,yr_end,sub):\n",
        "################### multiple status ##############\n",
        "  if type(status) != list:\n",
        "    status = [status]\n",
        "###################################################  \n",
        "  filter = {\n",
        "        \"Longitude\": \"{}-{}\".format(lo_left - 0.008, lo_right + 0.008),\n",
        "        \"Latitude\": \"{}-{}\".format(la_left - 0.008, la_right + 0.008),\n",
        "        \"MlsStatus\" : {\"$in\": status},\n",
        "        \"CloseDate\" : \"{}\".format(date),\n",
        "        \"LivingArea\" : \"{}-{}\".format(sq_left, sq_right),\n",
        "        \"YearBuilt\" :\"{}-{}\".format(yr_begin, yr_end)\n",
        "        }\n",
        "  result = research.search(resource='Property', resource_class='Property', search_filter=filter)\n",
        "  lis = []\n",
        "  count = 0\n",
        "  di ={}\n",
        "  df = pd.DataFrame()\n",
        "  for item in result:\n",
        "    if(judgeType(item)):\n",
        "      if(sub == item['SubdivisionName'].split()[0]):\n",
        "        df = pd.concat([df, pd.DataFrame(item.values())], axis=1, ignore_index=True)\n",
        "        count += 1\n",
        "        di = item # 存表头\n",
        "  for key in di:\n",
        "    lis.append(key)\n",
        "  df = df.T\n",
        "  df.columns = lis\n",
        "  return df\n",
        "   "
      ]
    },
    {
      "cell_type": "code",
      "source": [
        "def adjustadd(number, finalN, city, state, code, street, rets_client, column2, column3):\n",
        "  df1 = insertAdd(number, finalN, city, state, code, street, rets_client, column2, \"SLD\", \"2022-01-01-2022-06-30\")\n",
        "  df2 = insertAdd(number, finalN, city, state, code, street, rets_client, column3, [\"PND\",\"ACT\",\"AOC\",\"AKO\",\"AC\"], \".EMPTY.\")\n",
        "  df1 = addcolumn(df1)\n",
        "  df1.to_csv('{} SLD.csv'.format(finalN))\n",
        "  if(len(set(df1['PostalCode'])) == 1 and len(set(df1['first'])) == 1):\n",
        "    df2 = addcolumn(df2)\n",
        "    df2 = df2[df2['PostalCode'] == df1['PostalCode'][0]]\n",
        "    df2 = df2[df2['first'] == df1['first'][0]]\n",
        "    df2.to_csv('{} PND,ACT,AOC,AKO,AC.csv'.format(finalN))\n",
        "    return\n",
        "  else:\n",
        "    df2 = df2[df2['Longitude'].between(min(df1['Longitude']),max(df1['Longitude']))]\n",
        "    df2 = df2[df2['Latitude'].between(min(df1['Latitude']),max(df1['Latitude']))]\n",
        "    df2.to_csv('{} PND,ACT.csv'.format(finalN))\n",
        "    return"
      ],
      "metadata": {
        "id": "f4EWdg4dPBdX"
      },
      "execution_count": 49,
      "outputs": []
    },
    {
      "cell_type": "code",
      "source": [
        "def adjustmls(pulled_value, lis_mls, rets_client, column2, column3):\n",
        "  df1 = insertId(pulled_value, lis_mls, rets_client, column2, \"SLD\", \"2022-01-01-2022-06-30\") \n",
        "  df2 = insertId(pulled_value, lis_mls, rets_client, column3, [\"PND\",\"ACT\",\"AOC\",\"AKO\",\"AC\"], \".EMPTY.\")\n",
        "  df1 = addcolumn(df1)\n",
        "  df1.to_csv('{} SLD.csv'.format(lis_mls))\n",
        "  if(len(set(df1['PostalCode'])) == 1 and len(set(df1['first'])) == 1):\n",
        "    df2 = addcolumn(df2)\n",
        "    df2 = df2[df2['PostalCode'] == df1['PostalCode'][0]]\n",
        "    df2 = df2[df2['first'] == df1['first'][0]]\n",
        "    df2.to_csv('{} PND,ACT,AOC,AKO,AC.csv'.format(lis_mls))\n",
        "    return\n",
        "  else:\n",
        "    df2 = df2[df2['Longitude'].between(min(df1['Longitude']),max(df1['Longitude']))]\n",
        "    df2 = df2[df2['Latitude'].between(min(df1['Latitude']),max(df1['Latitude']))]\n",
        "    df2.to_csv('{} PND,ACT.csv'.format(lis_mls))\n",
        "    return"
      ],
      "metadata": {
        "id": "gZc-Khe1QU5Y"
      },
      "execution_count": 50,
      "outputs": []
    },
    {
      "cell_type": "code",
      "source": [
        "def adjustvalue (pulled_value,Id_list, rets_client, column2, column3):\n",
        "  df1 = insertId(pulled_value, Id_list, rets_client, column2, \"SLD\", \"2022-01-01-2022-06-30\") \n",
        "  df2 = insertId(pulled_value, Id_list, rets_client, column3, [\"PND\",\"ACT\",\"AOC\",\"AKO\",\"AC\"], \".EMPTY.\")\n",
        "  df1 = addcolumn(df1)\n",
        "  df1.to_csv('{} SLD.csv'.format(Id_list))\n",
        "  if(len(set(df1['PostalCode'])) == 1 and len(set(df1['first'])) == 1):\n",
        "    df2 = addcolumn(df2)\n",
        "    df2 = df2[df2['PostalCode'] == df1['PostalCode'][0]]\n",
        "    df2 = df2[df2['first'] == df1['first'][0]]\n",
        "    df2.to_csv('{} PND,ACT.csv'.format(Id_list[i]))\n",
        "    return\n",
        "  else:\n",
        "    df2 = df2[df2['Longitude'].between(min(df1['Longitude']),max(df1['Longitude']))]\n",
        "    df2 = df2[df2['Latitude'].between(min(df1['Latitude']),max(df1['Latitude']))]\n",
        "    df2.to_csv('{} PND,ACT.csv'.format(Id_list[i])) \n",
        "    return"
      ],
      "metadata": {
        "id": "bfNvzHTigClV"
      },
      "execution_count": 51,
      "outputs": []
    },
    {
      "cell_type": "code",
      "execution_count": 52,
      "metadata": {
        "id": "j-bVvyh4HrtB"
      },
      "outputs": [],
      "source": [
        "def findifNull(research, lo_left,lo_right,la_left,la_right, status, date, sq_left, sq_right,yr_begin,yr_end):\n",
        "  #经纬度查找\n",
        "################### multiple status ##############\n",
        "  if type(status) != list:\n",
        "    status = [status]\n",
        "###################################################  \n",
        "  filter = {\n",
        "        \"Longitude\": \"{}-{}\".format(lo_left, lo_right),\n",
        "        \"Latitude\": \"{}-{}\".format(la_left, la_right),\n",
        "        \"MlsStatus\" : {\"$in\": status},\n",
        "        \"CloseDate\" : \"{}\".format(date),\n",
        "        \"LivingArea\" : \"{}-{}\".format(sq_left, sq_right),\n",
        "        \"YearBuilt\" :\"{}-{}\".format(yr_begin, yr_end)\n",
        "        }\n",
        "  result = research.search(resource='Property', resource_class='Property', search_filter=filter)\n",
        "  lis = []\n",
        "  count = 0\n",
        "  di ={}\n",
        "  df = pd.DataFrame()\n",
        "  for item in result:\n",
        "    if(judgeType(item)):\n",
        "      df = pd.concat([df, pd.DataFrame(item.values())], axis=1, ignore_index=True) #?\n",
        "      count += 1\n",
        "      di = item # 存表头\n",
        "  for key in di:\n",
        "    lis.append(key)\n",
        "  if(count >= 5): \n",
        "    df = df.T\n",
        "    df.columns = lis\n",
        "    return df\n",
        "  else:\n",
        "    lo_left, lo_right, la_left, la_right = add(lo_left,lo_right,la_left,la_right)\n",
        "    return findifNull(research, lo_left,lo_right,la_left,la_right, status, date, sq_left, sq_right,yr_begin,yr_end)\n"
      ]
    },
    {
      "cell_type": "markdown",
      "metadata": {
        "id": "HwWI8C2-Wb3X"
      },
      "source": [
        ""
      ]
    },
    {
      "cell_type": "code",
      "execution_count": 53,
      "metadata": {
        "id": "BGJv_Nq_Hxuy"
      },
      "outputs": [],
      "source": [
        "def findHouse(house_leftLa,house_rightLa,house_leftLo,house_rightLo,research,zip,column, sub, status, date, sq_left, sq_right,yr_begin,yr_end):\n",
        "################### multiple status ##############\n",
        "  if type(status) != list:\n",
        "    status = [status]\n",
        "###################################################   \n",
        "  #sub，zip查找，未找到足够的自动转经纬度\n",
        "  filter = {\n",
        "        \"PostalCode\" : zip,\n",
        "        \"MlsStatus\" : {\"$in\": status},\n",
        "        \"CloseDate\" : \"{}\".format(date),\n",
        "        \"LivingArea\" : \"{}-{}\".format(sq_left, sq_right),\n",
        "        \"YearBuilt\" :\"{}-{}\".format(yr_begin, yr_end)\n",
        "        }\n",
        "  result = research.search(resource='Property', resource_class='Property', search_filter=filter)\n",
        "  count = 0\n",
        "\n",
        "  df = pd.DataFrame()\n",
        "  for item in result: \n",
        "    if(judgeType(item)):\n",
        "      if(sub == item['SubdivisionName'].split()[0] or sub.upper() == item['SubdivisionName'].split()[0]):\n",
        "         df = pd.concat([df, pd.DataFrame(item.values())], axis=1, ignore_index=True) \n",
        "         count += 1  \n",
        "  if(count > 10):\n",
        "    return subGeo(research, house_leftLo,house_rightLo, house_leftLa, house_rightLa, status, date, sq_left, sq_right,yr_begin,yr_end,sub)        \n",
        "  elif(count >= 5):  \n",
        "    df = df.T\n",
        "    df.columns = column # \n",
        "    return df\n",
        "  else:\n",
        "    return findifNull(research, house_leftLo,house_rightLo, house_leftLa, house_rightLa, status, date, sq_left, sq_right,yr_begin,yr_end)"
      ]
    },
    {
      "cell_type": "code",
      "execution_count": 54,
      "metadata": {
        "id": "FdyoCacQ9qP_"
      },
      "outputs": [],
      "source": [
        "def findfirst(result):\n",
        "  #判断是否有，不用管\n",
        "    count = 0\n",
        "    for item in result:\n",
        "        count += 1\n",
        "    if(count == 0):\n",
        "        return False\n",
        "    else:\n",
        "        return True    "
      ]
    },
    {
      "cell_type": "code",
      "execution_count": 55,
      "metadata": {
        "id": "dq92etn8F9fg"
      },
      "outputs": [],
      "source": [
        "def insertId(pulled_value, mls,rets_client, column2, status, date):\n",
        "################### multiple status ##############\n",
        "  if type(status) != list:\n",
        "    status = [status]\n",
        "###################################################   \n",
        "  #mls查找，按照先sub + zip，后geo\n",
        "  column = []\n",
        "  for key in pulled_value:\n",
        "    column.append(key)\n",
        "  print(\"\\nThis value exists in Website\")\n",
        "  zip = pulled_value.get('PostalCode')\n",
        "  latitude = pulled_value.get('Latitude')\n",
        "  longitude = pulled_value.get('Longitude')\n",
        "  sqr = pulled_value.get('LivingArea')\n",
        "  year = pulled_value.get('YearBuilt')\n",
        "  name = pulled_value.get('StreetName')\n",
        "  number = pulled_value.get('StreetNumber')\n",
        "  city = pulled_value.get('City')\n",
        "  state = pulled_value.get('StateOrProvince')\n",
        "  if(zip != \"\" and latitude != \"\" and longitude != \"\" and sqr != \"\" and year !=\"\"):\n",
        "    #findAdd(rets_client, address, city, state, zipcode, bedroom, status, date, column2)\n",
        "      house_leftLa = float(pulled_value.get('Latitude'))\n",
        "      house_rightLa = float(pulled_value.get('Latitude')) \n",
        "      house_leftLo = float(pulled_value.get('Longitude'))\n",
        "      house_rightLo = float(pulled_value.get('Longitude'))\n",
        "      sub = str(pulled_value.get('SubdivisionName').split()[0])\n",
        "      sqr = float(sqr)\n",
        "      year = float(year)\n",
        "      left, right = calSqr(sqr)\n",
        "      begin,end = calYear(year)\n",
        "      result = findHouse(house_leftLa, house_rightLa, house_leftLo, house_rightLo, rets_client,int(zip) ,column, sub, status, date, left, right,begin,end) \n",
        "      result['FullAddress'] = result['StreetNumber'] + \" \" + result['StreetName']  + \", \" + result['City'] + \", \" +result['StateOrProvince'] + \" \" + result['PostalCode']       \n",
        "      result = result[['BathroomsFull','BathroomsHalf', 'BathroomsTotalDecimal', 'BathroomsTotalInteger','BedroomsTotal', 'BuildingAreaTotal', 'City', 'CloseDate', 'ClosePrice', 'CumulativeDaysOnMarket', \n",
        "   'DaysOnMarket', 'GarageSpaces', 'Latitude', 'ListingContractDate', 'ListingId', 'ListPrice', \n",
        "   'ListSource', 'LivingArea', 'Longitude', 'LotSizeAcres', 'MlsStatus', 'OwnerName', 'OwnerPhone', 'OwnerPhoneAlternative',\n",
        "   'ParcelNumber', 'ParcelNumber2', 'PoolYN', 'PostalCode', 'PreviousListPrice', 'PreviousStatus', 'PropertySubType',\n",
        "   'PropertyType', 'PublicRemarks', 'PurchaseContractDate', 'SchoolDistrict', 'StandardStatus', 'StatusChangeTimestamp',\n",
        "   'StreetDirPrefix', 'StreetDirSuffix', 'StreetName', 'StreetNumber', 'StreetNumberNumeric', 'StreetSuffix', 'SubdivisionName',\n",
        "   'USProperty_MUI', 'YearBuilt','LotSizeAcres','FullAddress']]\n",
        "\n",
        "###########################################################\n",
        "# 改 sumdata \n",
        "      if(status == 'SLD'): \n",
        "        sumdata(result).to_csv('{}.csv'.format(mls))\n",
        "###########################################################\n",
        "      df_id_status = pd.DataFrame()\t\t\n",
        "      for i in range(len(result['FullAddress'])):\t\t\t\t\t\t\t\t\n",
        "        df_id_status = df_id_status.append(result.loc[i][column2], ignore_index = True)\n",
        "      return df_id_status   \n",
        "  elif(zip != \"\" and city != \"\" and name != \"\" and number != \"\" and state != \"\"):\n",
        "    address = number + ' ' + name\n",
        "    print(address, city, state, zip)\n",
        "    return findAdd(rets_client, address, city, state, int(zip), status, date, column2)\n",
        "  else:\n",
        "    print('Information missing in the system!')"
      ]
    },
    {
      "cell_type": "code",
      "execution_count": 56,
      "metadata": {
        "id": "uYwr8ISHUeph"
      },
      "outputs": [],
      "source": [
        "def insertAdd(number, name, city, state, zip, address, rets_client, column2, status, date):\n",
        "################### multiple status ##############\n",
        "  if type(status) != list:\n",
        "    status = [status]\n",
        "###################################################  \n",
        "  #add查找，按照先sub + zip，后geo\n",
        "  pulled_value = {}\n",
        "  result = rets_client.search(resource = 'Property', resource_class='Property', dmql_query='(StreetNumber = {}),(StreetName = {}),(PostalCode = {})'.format(number,name,zip))\n",
        "  for item in result:\n",
        "    pulled_value = item\n",
        "  if(len(pulled_value) != 0):\n",
        "    column = []\n",
        "    for key in pulled_value:\n",
        "      column.append(key)\n",
        "    print(\"\\nThis value exists in Website\")\n",
        "    zip = pulled_value.get('PostalCode')\n",
        "    latitude = pulled_value.get('Latitude')\n",
        "    longitude = pulled_value.get('Longitude')\n",
        "    sqr = pulled_value.get('LivingArea')\n",
        "    year = pulled_value.get('YearBuilt')\n",
        "    if(zip != \"\" and latitude != \"\" and longitude != \"\" and sqr != \"\" and year !=\"\"):\n",
        "        house_leftLa = float(pulled_value.get('Latitude'))\n",
        "        house_rightLa = float(pulled_value.get('Latitude')) \n",
        "        house_leftLo = float(pulled_value.get('Longitude'))\n",
        "        house_rightLo = float(pulled_value.get('Longitude'))\n",
        "        zip = int(pulled_value.get('PostalCode'))\n",
        "        sqr = float(sqr)\n",
        "        year = float(year)\n",
        "        left, right = calSqr(sqr)\n",
        "        begin,end = calYear(year)\n",
        "        sub = str(pulled_value.get('SubdivisionName').split()[0])\n",
        "        result1 = findHouse(house_leftLa, house_rightLa, house_leftLo, house_rightLo, rets_client,zip,column, sub, status, date, left, right, begin,end)        \n",
        "        result1['FullAddress'] = result1['StreetNumber'] + \" \" + result1['StreetName']  + \", \" + result1['City'] + \", \" +result1['StateOrProvince'] + \" \" + result1['PostalCode']       \n",
        "        result1 = result1[['BathroomsFull','BathroomsHalf', 'BathroomsTotalDecimal', 'BathroomsTotalInteger','BedroomsTotal', 'BuildingAreaTotal', 'City', 'CloseDate', 'ClosePrice', 'CumulativeDaysOnMarket', \n",
        "   'DaysOnMarket', 'GarageSpaces', 'Latitude', 'ListingContractDate', 'ListingId', 'ListPrice', \n",
        "   'ListSource', 'LivingArea', 'Longitude', 'LotSizeAcres', 'MlsStatus', 'OwnerName', 'OwnerPhone', 'OwnerPhoneAlternative',\n",
        "   'ParcelNumber', 'ParcelNumber2', 'PoolYN', 'PostalCode', 'PreviousListPrice', 'PreviousStatus', 'PropertySubType',\n",
        "   'PropertyType', 'PublicRemarks', 'PurchaseContractDate', 'SchoolDistrict', 'StandardStatus', 'StatusChangeTimestamp',\n",
        "   'StreetDirPrefix', 'StreetDirSuffix', 'StreetName', 'StreetNumber', 'StreetNumberNumeric', 'StreetSuffix', 'SubdivisionName',\n",
        "   'USProperty_MUI', 'YearBuilt','LotSizeAcres','FullAddress']]\n",
        "###########################################################\n",
        "# 改 sumdata\n",
        "        if(status == 'SLD'): \n",
        "          sumdata(result).to_csv('{}.csv'.format(address))\n",
        "###########################################################\n",
        "        df_id_status = pd.DataFrame()\t\t\n",
        "        for i in range(len(result1['FullAddress'])):\t\t\t\t\t\t\t\t\n",
        "          df_id_status = df_id_status.append(result1.loc[i][column2], ignore_index = True)\n",
        "        return df_id_status\n",
        "    else:\n",
        "      print('check coordinates')\n",
        "      return findAdd(rets_client, address, city, state, zip, status, date, column2)\n",
        "  else:\n",
        "    print('check coordinates')\n",
        "    return findAdd(rets_client, address, city, state, zip, status, date, column2)\n"
      ]
    },
    {
      "cell_type": "code",
      "execution_count": 57,
      "metadata": {
        "id": "98V_OZMYUnCQ"
      },
      "outputs": [],
      "source": [
        "def findAdd(rets_client, address, city, state, zipcode, status, date, column2):  \n",
        "################### multiple status ##############\n",
        "  if type(status) != list:\n",
        "    status = [status]\n",
        "###################################################  \n",
        "  #geo代码，在mls和address中引用\n",
        "  result = cg.address(address, city = city, state= state,zipcode = zipcode)\n",
        "  lo_left = result[0]['coordinates']['x']\n",
        "  lo_right = result[0]['coordinates']['x']\n",
        "  la_left = result[0]['coordinates']['y']\n",
        "  la_right = result[0]['coordinates']['y']\n",
        "  left = 0\n",
        "  right = 9999\n",
        "  begin = 0\n",
        "  end = 9999\n",
        "  result = findifNull(rets_client, lo_left, lo_right, la_left, la_right, status, date, left, right,begin,end)\n",
        "  result['FullAddress'] = result['StreetNumber'] + \" \" + result['StreetName']  + \", \" + result['City'] + \", \" +result['StateOrProvince'] + \" \" + result['PostalCode']         \n",
        "  result = result[['BathroomsFull','BathroomsHalf', 'BathroomsTotalDecimal', 'BathroomsTotalInteger','BedroomsTotal', 'BuildingAreaTotal', 'City', 'CloseDate', 'ClosePrice', 'CumulativeDaysOnMarket', \n",
        "   'DaysOnMarket', 'GarageSpaces', 'Latitude', 'ListingContractDate', 'ListingId', 'ListPrice', \n",
        "   'ListSource', 'LivingArea', 'Longitude', 'LotSizeAcres', 'MlsStatus', 'OwnerName', 'OwnerPhone', 'OwnerPhoneAlternative',\n",
        "   'ParcelNumber', 'ParcelNumber2', 'PoolYN', 'PostalCode', 'PreviousListPrice', 'PreviousStatus', 'PropertySubType',\n",
        "   'PropertyType', 'PublicRemarks', 'PurchaseContractDate', 'SchoolDistrict', 'StandardStatus', 'StatusChangeTimestamp',\n",
        "   'StreetDirPrefix', 'StreetDirSuffix', 'StreetName', 'StreetNumber', 'StreetNumberNumeric', 'StreetSuffix', 'SubdivisionName',\n",
        "   'USProperty_MUI', 'YearBuilt','LotSizeAcres','FullAddress']]\n",
        "\n",
        "###########################################################\n",
        "# 改 sumdata\n",
        "  if(status == 'SLD'): \n",
        "    sumdata(result).to_csv('{}.csv'.format(address))\n",
        "###########################################################\n",
        "  df_id_status = pd.DataFrame()\t\t\n",
        "  for i in range(len(result['FullAddress'])):\t\t\t\t\t\t\t\t\n",
        "    df_id_status = df_id_status.append(result.loc[i][column2], ignore_index = True)\n",
        "  return df_id_status\n"
      ]
    },
    {
      "cell_type": "code",
      "execution_count": 58,
      "metadata": {
        "id": "a5tr5Dr_smsa"
      },
      "outputs": [],
      "source": [
        "def judge(i):\n",
        "  #不用管，为了美观\n",
        "    if i % 10 == 1:\n",
        "        return 'st'\n",
        "    elif i % 10 == 2:\n",
        "        return 'nd'\n",
        "    elif i % 10 == 3:\n",
        "        return 'rd'\n",
        "    else:\n",
        "        return 'th'"
      ]
    },
    {
      "cell_type": "code",
      "execution_count": 59,
      "metadata": {
        "id": "R_4OpH6XXKvz"
      },
      "outputs": [],
      "source": [
        "def addcolumn(df):\n",
        "  k = []\n",
        "  for item in df['SubdivisionName']:\n",
        "    k.append(item.split()[0])\n",
        "  df['first'] = k\n",
        "  return df"
      ]
    },
    {
      "cell_type": "code",
      "execution_count": 60,
      "metadata": {
        "id": "a_RrPUgWH6yN"
      },
      "outputs": [],
      "source": [
        "def main():\n",
        "  login_url = 'https://ntrdd.mlsmatrix.com/rets/Login.ashx' \n",
        "  username = '0671181_NID'\n",
        "  password = 'Rt$tg6jx'\n",
        "  rets_client = Session(login_url, username, password)\n",
        "  rets_client.login()\n",
        "  while True:\n",
        "        column2 = ['MlsStatus','FullAddress', 'ListingId', 'ClosePrice', 'LivingArea', 'BedroomsTotal', 'BathroomsTotalInteger', 'YearBuilt', 'GarageSpaces', 'PoolYN', 'LotSizeAcres','CloseDate','CumulativeDaysOnMarket', 'SubdivisionName', 'Longitude', 'Latitude', 'PostalCode']\n",
        "        column3 = ['MlsStatus','FullAddress', 'ListingId', 'ListPrice', 'LivingArea', 'BedroomsTotal', 'BathroomsTotalInteger', 'YearBuilt', 'GarageSpaces', 'PoolYN', 'LotSizeAcres','CloseDate','CumulativeDaysOnMarket', 'SubdivisionName', 'Longitude', 'Latitude', 'PostalCode']\n",
        "        print('please insert values, csv_address or csv_mls: ')\n",
        "        choice = input()\n",
        "        if choice == 'csv_address':\n",
        "            while True:\n",
        "                print('select which csv you want to use')\n",
        "                csv = input()\n",
        "                try:\n",
        "                    data = pd.read_csv('{}.csv'.format(csv))        \n",
        "                    code = []\n",
        "                    name = []\n",
        "                    number = []\n",
        "                    street = []\n",
        "                    city = []\n",
        "                    state = []\n",
        "                    for item in data['address']:\n",
        "                        a = item.split(',')[0]\n",
        "                        b = item.split(',')[2]\n",
        "                        c = item.split(',')[1]\n",
        "                        street.append(a)\n",
        "                        city.append(c)\n",
        "                        numbers = a.split()[0]\n",
        "                        names = a.split()[1:(len(a.split()) - 1)]\n",
        "                        codes = b.split()[1][0:5]\n",
        "                        states = b.split()[0]\n",
        "                        state.append(states)\n",
        "                        code.append(codes)\n",
        "                        name.append(names)\n",
        "                        number.append(numbers)\n",
        "                    finalN = []\n",
        "                    for item in name:\n",
        "                        string = \"\"\n",
        "                        for items in item:\n",
        "                            string += items\n",
        "                            string += ' '\n",
        "                        finalN.append(string[0:len(string) - 1])            \n",
        "                    for i in range(len(code)):\n",
        "                      try:\n",
        "                        adjustadd(number[i], finalN[i], city[i], state[i], code[i], street[i], rets_client, column2, column3)\n",
        "                      except AttributeError and IndexError:\n",
        "                        print(\"{} is not exist!\".format(finalN[i]))                       \n",
        "                    return \"finished\"\n",
        "                except FileNotFoundError:\n",
        "                    print(\"Oops! There is no file!  Try again...\")\n",
        "\n",
        "        elif(choice =='csv_mls'):\n",
        "          while True:\n",
        "            print(\"Which csv do you want to use? (make sure you have listingId)\")\n",
        "            csv = input()\n",
        "            try:\n",
        "              lis_mls = []\n",
        "              data = pd.read_csv('{}.csv'.format(csv)) \n",
        "              for item in data['mls']:\n",
        "                lis_mls.append(int(item))\n",
        "              for i in range(len(lis_mls)):\n",
        "                pulled_value = {}\n",
        "                result = rets_client.search(resource='Property', resource_class='Property', dmql_query='(ListingId = {})'.format(lis_mls[i]))\n",
        "                for items in result:\n",
        "                  pulled_value = items\n",
        "                if(len(pulled_value) != 0):\n",
        "                  try:\n",
        "                    adjustmls(pulled_value, lis_mls[i], rets_client, column2, column3) \n",
        "                    if i == len(lis_mls) - 1:\n",
        "                        return\n",
        "                  except AttributeError and IndexError:\n",
        "                     print('{} is not valid'.format(lis_mls[i]))\n",
        "                 #end here\n",
        "            except FileNotFoundError:\n",
        "              print(\"Oops! There is no file!  Try again...\")\n",
        "\n",
        "        elif(choice == 'value'):\n",
        "            while True:\n",
        "                print('How many mls you want to check?')\n",
        "                number = input()\n",
        "                try:\n",
        "                    Id_list = []\n",
        "                    for i in range(int(number)):\n",
        "                        print('Enter the {}{} #MLS'.format(i+1, judge(i+1)))\n",
        "                        mls = input()\n",
        "                        Id_list.append(mls)\n",
        "           #14730621\n",
        "                    for i in range(len(Id_list)):\n",
        "                        pulled_value = {}\n",
        "                        result = rets_client.search(resource='Property', resource_class='Property', dmql_query='(ListingId = {})'.format(Id_list[i]))\n",
        "                        for items in result:\n",
        "                            pulled_value = items\n",
        "                        if(len(pulled_value) != 0):\n",
        "                          try:\n",
        "                            adjustmls(pulled_value, Id_list[i], rets_client, column2, column3) \n",
        "                          except AttributeError and IndexError:\n",
        "                            print(\"{} is not exist!\".format(Id_list[i]))\n",
        "                          if(i == len(Id_list) - 1):\n",
        "                              return\n",
        "                        else:\n",
        "\n",
        "                            print('Id {} not exists, please insert specific value'.format(Id_list[i]))\n",
        "                            print(\"If you don't know the address, please insert skip\")\n",
        "                            deci = input()\n",
        "                            if(deci == 'skip'):\n",
        "                                if(i == int(number) - 1):\n",
        "                                    return\n",
        "                                continue\n",
        "                                \n",
        "                            else:\n",
        "                                print('Enter street number')\n",
        "                                number = input()\n",
        "        #'8615 Barclay Street'\n",
        "                                print('Enter street name')\n",
        "                                name = input()\n",
        "                                print('Enter city')\n",
        "                                city = input()\n",
        "        #'Dallas'\n",
        "                                print('Enter state')\n",
        "                                state = input()\n",
        "        #'Texas'\n",
        "                                print('Enter zipcode')\n",
        "                                zip = input()\n",
        "        #'75227'\n",
        "                                string = \"\"\n",
        "                                for i in range(len(name.split()) - 1):\n",
        "                                  string += name.split()[i] + \" \"\n",
        "                                string = string[0:len(string) - 1]\n",
        "                                address = number + ' ' + name\n",
        "                                try:\n",
        "                                  adjustadd(number, string, city, state, zip, address, rets_client, column2, column3)\n",
        "                                  if(i == int(number) - 1):\n",
        "                                      return\n",
        "                                except AttributeError and IndexError:\n",
        "                                    print(\"{} is not exist!\".format(address))   \n",
        "\n",
        "                          \n",
        "                except ValueError:\n",
        "                    print(\"invalid input, try again!\")\n",
        "        else:\n",
        "            print(\"invalid input, try again!\")"
      ]
    },
    {
      "cell_type": "code",
      "execution_count": 61,
      "metadata": {
        "colab": {
          "base_uri": "https://localhost:8080/"
        },
        "id": "_-lc3ZqLIJRX",
        "outputId": "5cb68294-0a43-4853-84c1-abfd37accad0"
      },
      "outputs": [
        {
          "output_type": "stream",
          "name": "stdout",
          "text": [
            "please insert values, csv_address or csv_mls: \n",
            "value\n",
            "How many mls you want to check?\n",
            "1\n",
            "Enter the 1st #MLS\n",
            "20094591\n",
            "\n",
            "This value exists in Website\n",
            "\n",
            "This value exists in Website\n",
            "None\n"
          ]
        }
      ],
      "source": [
        "if __name__ == \"__main__\":\n",
        "    print(main()) \n",
        "    #5005 Bama Drive, Arlington, Texas 76017\n",
        "    #20082801(跑不出来)\n"
      ]
    },
    {
      "cell_type": "markdown",
      "metadata": {
        "id": "lQYxndoBKaUG"
      },
      "source": [
        "#No Need to Run\n"
      ]
    },
    {
      "cell_type": "code",
      "execution_count": 62,
      "metadata": {
        "id": "H03LHn44G9AS",
        "colab": {
          "base_uri": "https://localhost:8080/"
        },
        "outputId": "80790c48-047d-4a32-ab4a-6c43a9c37eea"
      },
      "outputs": [
        {
          "output_type": "stream",
          "name": "stdout",
          "text": [
            "-97.37198700 32.75081600\n"
          ]
        }
      ],
      "source": [
        "from re import X\n",
        "login_url = 'https://ntrdd.mlsmatrix.com/rets/Login.ashx' \n",
        "username = '0671181_NID'\n",
        "password = 'Rt$tg6jx'\n",
        "rets_client = Session(login_url, username, password)\n",
        "rets_client.login()\n",
        "filter = {\n",
        "        \"MlsStatus\" : \"{}\".format(\"SLD\")\n",
        "}\n",
        "\n",
        "result = rets_client.search(resource='Property', resource_class='Property', limit = 1, search_filter=filter)\n",
        "for item in result:\n",
        "  print(item['Longitude'],item['Latitude'])\n",
        "#5005 Bama Drive, Arlington, Texas 76017\n",
        "\n",
        "#x = - 96.65156600 - 0.016 = -96.667566\n",
        "\n",
        "\n",
        "number = - 96.63644800 \n",
        "\n"
      ]
    },
    {
      "cell_type": "code",
      "execution_count": 63,
      "metadata": {
        "id": "h9_71geiseWb",
        "colab": {
          "base_uri": "https://localhost:8080/"
        },
        "outputId": "bd0aacf9-f4d0-4ee3-eb4d-313d283d7aaa"
      },
      "outputs": [
        {
          "output_type": "execute_result",
          "data": {
            "text/plain": [
              "[]"
            ]
          },
          "metadata": {},
          "execution_count": 63
        }
      ],
      "source": [
        "address = '108 Planters Emory'\n",
        "city = 'Planters'\n",
        "zipcode = 75440\n",
        "state = 'Texas'\n",
        "result = cg.address(address, city = city, state= state,zipcode = zipcode)\n",
        "result"
      ]
    },
    {
      "cell_type": "code",
      "execution_count": 64,
      "metadata": {
        "id": "8hdvFAW0bEeX",
        "colab": {
          "base_uri": "https://localhost:8080/",
          "height": 380
        },
        "outputId": "e5cf77d9-9dcb-468b-a2c7-83479ddfe19b"
      },
      "outputs": [
        {
          "output_type": "error",
          "ename": "FileNotFoundError",
          "evalue": "ignored",
          "traceback": [
            "\u001b[0;31m---------------------------------------------------------------------------\u001b[0m",
            "\u001b[0;31mFileNotFoundError\u001b[0m                         Traceback (most recent call last)",
            "\u001b[0;32m<ipython-input-64-ec78e512a2f7>\u001b[0m in \u001b[0;36m<module>\u001b[0;34m()\u001b[0m\n\u001b[0;32m----> 1\u001b[0;31m \u001b[0mdf\u001b[0m \u001b[0;34m=\u001b[0m \u001b[0mpd\u001b[0m\u001b[0;34m.\u001b[0m\u001b[0mread_csv\u001b[0m\u001b[0;34m(\u001b[0m\u001b[0;34m'test.csv'\u001b[0m\u001b[0;34m)\u001b[0m\u001b[0;34m\u001b[0m\u001b[0;34m\u001b[0m\u001b[0m\n\u001b[0m\u001b[1;32m      2\u001b[0m \u001b[0mdf\u001b[0m\u001b[0;34m.\u001b[0m\u001b[0mrename\u001b[0m\u001b[0;34m(\u001b[0m\u001b[0mcolumns\u001b[0m\u001b[0;34m=\u001b[0m\u001b[0;34m{\u001b[0m \u001b[0mdf\u001b[0m\u001b[0;34m.\u001b[0m\u001b[0mcolumns\u001b[0m\u001b[0;34m[\u001b[0m\u001b[0;36m0\u001b[0m\u001b[0;34m]\u001b[0m\u001b[0;34m:\u001b[0m \u001b[0;34m\"地址\"\u001b[0m \u001b[0;34m}\u001b[0m\u001b[0;34m,\u001b[0m \u001b[0minplace\u001b[0m \u001b[0;34m=\u001b[0m \u001b[0;32mTrue\u001b[0m\u001b[0;34m)\u001b[0m\u001b[0;34m\u001b[0m\u001b[0;34m\u001b[0m\u001b[0m\n\u001b[1;32m      3\u001b[0m \u001b[0mdf\u001b[0m\u001b[0;34m.\u001b[0m\u001b[0mto_csv\u001b[0m\u001b[0;34m(\u001b[0m\u001b[0;34m'test1.csv'\u001b[0m\u001b[0;34m)\u001b[0m\u001b[0;34m\u001b[0m\u001b[0;34m\u001b[0m\u001b[0m\n",
            "\u001b[0;32m/usr/local/lib/python3.7/dist-packages/pandas/util/_decorators.py\u001b[0m in \u001b[0;36mwrapper\u001b[0;34m(*args, **kwargs)\u001b[0m\n\u001b[1;32m    309\u001b[0m                     \u001b[0mstacklevel\u001b[0m\u001b[0;34m=\u001b[0m\u001b[0mstacklevel\u001b[0m\u001b[0;34m,\u001b[0m\u001b[0;34m\u001b[0m\u001b[0;34m\u001b[0m\u001b[0m\n\u001b[1;32m    310\u001b[0m                 )\n\u001b[0;32m--> 311\u001b[0;31m             \u001b[0;32mreturn\u001b[0m \u001b[0mfunc\u001b[0m\u001b[0;34m(\u001b[0m\u001b[0;34m*\u001b[0m\u001b[0margs\u001b[0m\u001b[0;34m,\u001b[0m \u001b[0;34m**\u001b[0m\u001b[0mkwargs\u001b[0m\u001b[0;34m)\u001b[0m\u001b[0;34m\u001b[0m\u001b[0;34m\u001b[0m\u001b[0m\n\u001b[0m\u001b[1;32m    312\u001b[0m \u001b[0;34m\u001b[0m\u001b[0m\n\u001b[1;32m    313\u001b[0m         \u001b[0;32mreturn\u001b[0m \u001b[0mwrapper\u001b[0m\u001b[0;34m\u001b[0m\u001b[0;34m\u001b[0m\u001b[0m\n",
            "\u001b[0;32m/usr/local/lib/python3.7/dist-packages/pandas/io/parsers/readers.py\u001b[0m in \u001b[0;36mread_csv\u001b[0;34m(filepath_or_buffer, sep, delimiter, header, names, index_col, usecols, squeeze, prefix, mangle_dupe_cols, dtype, engine, converters, true_values, false_values, skipinitialspace, skiprows, skipfooter, nrows, na_values, keep_default_na, na_filter, verbose, skip_blank_lines, parse_dates, infer_datetime_format, keep_date_col, date_parser, dayfirst, cache_dates, iterator, chunksize, compression, thousands, decimal, lineterminator, quotechar, quoting, doublequote, escapechar, comment, encoding, encoding_errors, dialect, error_bad_lines, warn_bad_lines, on_bad_lines, delim_whitespace, low_memory, memory_map, float_precision, storage_options)\u001b[0m\n\u001b[1;32m    584\u001b[0m     \u001b[0mkwds\u001b[0m\u001b[0;34m.\u001b[0m\u001b[0mupdate\u001b[0m\u001b[0;34m(\u001b[0m\u001b[0mkwds_defaults\u001b[0m\u001b[0;34m)\u001b[0m\u001b[0;34m\u001b[0m\u001b[0;34m\u001b[0m\u001b[0m\n\u001b[1;32m    585\u001b[0m \u001b[0;34m\u001b[0m\u001b[0m\n\u001b[0;32m--> 586\u001b[0;31m     \u001b[0;32mreturn\u001b[0m \u001b[0m_read\u001b[0m\u001b[0;34m(\u001b[0m\u001b[0mfilepath_or_buffer\u001b[0m\u001b[0;34m,\u001b[0m \u001b[0mkwds\u001b[0m\u001b[0;34m)\u001b[0m\u001b[0;34m\u001b[0m\u001b[0;34m\u001b[0m\u001b[0m\n\u001b[0m\u001b[1;32m    587\u001b[0m \u001b[0;34m\u001b[0m\u001b[0m\n\u001b[1;32m    588\u001b[0m \u001b[0;34m\u001b[0m\u001b[0m\n",
            "\u001b[0;32m/usr/local/lib/python3.7/dist-packages/pandas/io/parsers/readers.py\u001b[0m in \u001b[0;36m_read\u001b[0;34m(filepath_or_buffer, kwds)\u001b[0m\n\u001b[1;32m    480\u001b[0m \u001b[0;34m\u001b[0m\u001b[0m\n\u001b[1;32m    481\u001b[0m     \u001b[0;31m# Create the parser.\u001b[0m\u001b[0;34m\u001b[0m\u001b[0;34m\u001b[0m\u001b[0;34m\u001b[0m\u001b[0m\n\u001b[0;32m--> 482\u001b[0;31m     \u001b[0mparser\u001b[0m \u001b[0;34m=\u001b[0m \u001b[0mTextFileReader\u001b[0m\u001b[0;34m(\u001b[0m\u001b[0mfilepath_or_buffer\u001b[0m\u001b[0;34m,\u001b[0m \u001b[0;34m**\u001b[0m\u001b[0mkwds\u001b[0m\u001b[0;34m)\u001b[0m\u001b[0;34m\u001b[0m\u001b[0;34m\u001b[0m\u001b[0m\n\u001b[0m\u001b[1;32m    483\u001b[0m \u001b[0;34m\u001b[0m\u001b[0m\n\u001b[1;32m    484\u001b[0m     \u001b[0;32mif\u001b[0m \u001b[0mchunksize\u001b[0m \u001b[0;32mor\u001b[0m \u001b[0miterator\u001b[0m\u001b[0;34m:\u001b[0m\u001b[0;34m\u001b[0m\u001b[0;34m\u001b[0m\u001b[0m\n",
            "\u001b[0;32m/usr/local/lib/python3.7/dist-packages/pandas/io/parsers/readers.py\u001b[0m in \u001b[0;36m__init__\u001b[0;34m(self, f, engine, **kwds)\u001b[0m\n\u001b[1;32m    809\u001b[0m             \u001b[0mself\u001b[0m\u001b[0;34m.\u001b[0m\u001b[0moptions\u001b[0m\u001b[0;34m[\u001b[0m\u001b[0;34m\"has_index_names\"\u001b[0m\u001b[0;34m]\u001b[0m \u001b[0;34m=\u001b[0m \u001b[0mkwds\u001b[0m\u001b[0;34m[\u001b[0m\u001b[0;34m\"has_index_names\"\u001b[0m\u001b[0;34m]\u001b[0m\u001b[0;34m\u001b[0m\u001b[0;34m\u001b[0m\u001b[0m\n\u001b[1;32m    810\u001b[0m \u001b[0;34m\u001b[0m\u001b[0m\n\u001b[0;32m--> 811\u001b[0;31m         \u001b[0mself\u001b[0m\u001b[0;34m.\u001b[0m\u001b[0m_engine\u001b[0m \u001b[0;34m=\u001b[0m \u001b[0mself\u001b[0m\u001b[0;34m.\u001b[0m\u001b[0m_make_engine\u001b[0m\u001b[0;34m(\u001b[0m\u001b[0mself\u001b[0m\u001b[0;34m.\u001b[0m\u001b[0mengine\u001b[0m\u001b[0;34m)\u001b[0m\u001b[0;34m\u001b[0m\u001b[0;34m\u001b[0m\u001b[0m\n\u001b[0m\u001b[1;32m    812\u001b[0m \u001b[0;34m\u001b[0m\u001b[0m\n\u001b[1;32m    813\u001b[0m     \u001b[0;32mdef\u001b[0m \u001b[0mclose\u001b[0m\u001b[0;34m(\u001b[0m\u001b[0mself\u001b[0m\u001b[0;34m)\u001b[0m\u001b[0;34m:\u001b[0m\u001b[0;34m\u001b[0m\u001b[0;34m\u001b[0m\u001b[0m\n",
            "\u001b[0;32m/usr/local/lib/python3.7/dist-packages/pandas/io/parsers/readers.py\u001b[0m in \u001b[0;36m_make_engine\u001b[0;34m(self, engine)\u001b[0m\n\u001b[1;32m   1038\u001b[0m             )\n\u001b[1;32m   1039\u001b[0m         \u001b[0;31m# error: Too many arguments for \"ParserBase\"\u001b[0m\u001b[0;34m\u001b[0m\u001b[0;34m\u001b[0m\u001b[0;34m\u001b[0m\u001b[0m\n\u001b[0;32m-> 1040\u001b[0;31m         \u001b[0;32mreturn\u001b[0m \u001b[0mmapping\u001b[0m\u001b[0;34m[\u001b[0m\u001b[0mengine\u001b[0m\u001b[0;34m]\u001b[0m\u001b[0;34m(\u001b[0m\u001b[0mself\u001b[0m\u001b[0;34m.\u001b[0m\u001b[0mf\u001b[0m\u001b[0;34m,\u001b[0m \u001b[0;34m**\u001b[0m\u001b[0mself\u001b[0m\u001b[0;34m.\u001b[0m\u001b[0moptions\u001b[0m\u001b[0;34m)\u001b[0m  \u001b[0;31m# type: ignore[call-arg]\u001b[0m\u001b[0;34m\u001b[0m\u001b[0;34m\u001b[0m\u001b[0m\n\u001b[0m\u001b[1;32m   1041\u001b[0m \u001b[0;34m\u001b[0m\u001b[0m\n\u001b[1;32m   1042\u001b[0m     \u001b[0;32mdef\u001b[0m \u001b[0m_failover_to_python\u001b[0m\u001b[0;34m(\u001b[0m\u001b[0mself\u001b[0m\u001b[0;34m)\u001b[0m\u001b[0;34m:\u001b[0m\u001b[0;34m\u001b[0m\u001b[0;34m\u001b[0m\u001b[0m\n",
            "\u001b[0;32m/usr/local/lib/python3.7/dist-packages/pandas/io/parsers/c_parser_wrapper.py\u001b[0m in \u001b[0;36m__init__\u001b[0;34m(self, src, **kwds)\u001b[0m\n\u001b[1;32m     49\u001b[0m \u001b[0;34m\u001b[0m\u001b[0m\n\u001b[1;32m     50\u001b[0m         \u001b[0;31m# open handles\u001b[0m\u001b[0;34m\u001b[0m\u001b[0;34m\u001b[0m\u001b[0;34m\u001b[0m\u001b[0m\n\u001b[0;32m---> 51\u001b[0;31m         \u001b[0mself\u001b[0m\u001b[0;34m.\u001b[0m\u001b[0m_open_handles\u001b[0m\u001b[0;34m(\u001b[0m\u001b[0msrc\u001b[0m\u001b[0;34m,\u001b[0m \u001b[0mkwds\u001b[0m\u001b[0;34m)\u001b[0m\u001b[0;34m\u001b[0m\u001b[0;34m\u001b[0m\u001b[0m\n\u001b[0m\u001b[1;32m     52\u001b[0m         \u001b[0;32massert\u001b[0m \u001b[0mself\u001b[0m\u001b[0;34m.\u001b[0m\u001b[0mhandles\u001b[0m \u001b[0;32mis\u001b[0m \u001b[0;32mnot\u001b[0m \u001b[0;32mNone\u001b[0m\u001b[0;34m\u001b[0m\u001b[0;34m\u001b[0m\u001b[0m\n\u001b[1;32m     53\u001b[0m \u001b[0;34m\u001b[0m\u001b[0m\n",
            "\u001b[0;32m/usr/local/lib/python3.7/dist-packages/pandas/io/parsers/base_parser.py\u001b[0m in \u001b[0;36m_open_handles\u001b[0;34m(self, src, kwds)\u001b[0m\n\u001b[1;32m    227\u001b[0m             \u001b[0mmemory_map\u001b[0m\u001b[0;34m=\u001b[0m\u001b[0mkwds\u001b[0m\u001b[0;34m.\u001b[0m\u001b[0mget\u001b[0m\u001b[0;34m(\u001b[0m\u001b[0;34m\"memory_map\"\u001b[0m\u001b[0;34m,\u001b[0m \u001b[0;32mFalse\u001b[0m\u001b[0;34m)\u001b[0m\u001b[0;34m,\u001b[0m\u001b[0;34m\u001b[0m\u001b[0;34m\u001b[0m\u001b[0m\n\u001b[1;32m    228\u001b[0m             \u001b[0mstorage_options\u001b[0m\u001b[0;34m=\u001b[0m\u001b[0mkwds\u001b[0m\u001b[0;34m.\u001b[0m\u001b[0mget\u001b[0m\u001b[0;34m(\u001b[0m\u001b[0;34m\"storage_options\"\u001b[0m\u001b[0;34m,\u001b[0m \u001b[0;32mNone\u001b[0m\u001b[0;34m)\u001b[0m\u001b[0;34m,\u001b[0m\u001b[0;34m\u001b[0m\u001b[0;34m\u001b[0m\u001b[0m\n\u001b[0;32m--> 229\u001b[0;31m             \u001b[0merrors\u001b[0m\u001b[0;34m=\u001b[0m\u001b[0mkwds\u001b[0m\u001b[0;34m.\u001b[0m\u001b[0mget\u001b[0m\u001b[0;34m(\u001b[0m\u001b[0;34m\"encoding_errors\"\u001b[0m\u001b[0;34m,\u001b[0m \u001b[0;34m\"strict\"\u001b[0m\u001b[0;34m)\u001b[0m\u001b[0;34m,\u001b[0m\u001b[0;34m\u001b[0m\u001b[0;34m\u001b[0m\u001b[0m\n\u001b[0m\u001b[1;32m    230\u001b[0m         )\n\u001b[1;32m    231\u001b[0m \u001b[0;34m\u001b[0m\u001b[0m\n",
            "\u001b[0;32m/usr/local/lib/python3.7/dist-packages/pandas/io/common.py\u001b[0m in \u001b[0;36mget_handle\u001b[0;34m(path_or_buf, mode, encoding, compression, memory_map, is_text, errors, storage_options)\u001b[0m\n\u001b[1;32m    705\u001b[0m                 \u001b[0mencoding\u001b[0m\u001b[0;34m=\u001b[0m\u001b[0mioargs\u001b[0m\u001b[0;34m.\u001b[0m\u001b[0mencoding\u001b[0m\u001b[0;34m,\u001b[0m\u001b[0;34m\u001b[0m\u001b[0;34m\u001b[0m\u001b[0m\n\u001b[1;32m    706\u001b[0m                 \u001b[0merrors\u001b[0m\u001b[0;34m=\u001b[0m\u001b[0merrors\u001b[0m\u001b[0;34m,\u001b[0m\u001b[0;34m\u001b[0m\u001b[0;34m\u001b[0m\u001b[0m\n\u001b[0;32m--> 707\u001b[0;31m                 \u001b[0mnewline\u001b[0m\u001b[0;34m=\u001b[0m\u001b[0;34m\"\"\u001b[0m\u001b[0;34m,\u001b[0m\u001b[0;34m\u001b[0m\u001b[0;34m\u001b[0m\u001b[0m\n\u001b[0m\u001b[1;32m    708\u001b[0m             )\n\u001b[1;32m    709\u001b[0m         \u001b[0;32melse\u001b[0m\u001b[0;34m:\u001b[0m\u001b[0;34m\u001b[0m\u001b[0;34m\u001b[0m\u001b[0m\n",
            "\u001b[0;31mFileNotFoundError\u001b[0m: [Errno 2] No such file or directory: 'test.csv'"
          ]
        }
      ],
      "source": [
        "df = pd.read_csv('test.csv')\n",
        "df.rename(columns={ df.columns[0]: \"地址\" }, inplace = True)\n",
        "df.to_csv('test1.csv')"
      ]
    },
    {
      "cell_type": "code",
      "execution_count": null,
      "metadata": {
        "id": "-fbd5Dk_FVS1"
      },
      "outputs": [],
      "source": [
        "#df.rename(columns={ df.columns[0]: \"地址\" }, inplace = True)\n",
        "#df.to_csv('test1.csv')"
      ]
    }
  ],
  "metadata": {
    "colab": {
      "collapsed_sections": [],
      "name": "Copy of Sale_rests.ipynb",
      "provenance": [],
      "include_colab_link": true
    },
    "kernelspec": {
      "display_name": "Python 3",
      "name": "python3"
    },
    "language_info": {
      "name": "python"
    }
  },
  "nbformat": 4,
  "nbformat_minor": 0
}