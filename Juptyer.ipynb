{
  "nbformat": 4,
  "nbformat_minor": 0,
  "metadata": {
    "colab": {
      "name": "Juptyer.ipynb",
      "provenance": [],
      "collapsed_sections": [],
      "authorship_tag": "ABX9TyP8qpotrra/RNtNW038G/zI",
      "include_colab_link": true
    },
    "kernelspec": {
      "name": "python3",
      "display_name": "Python 3"
    },
    "language_info": {
      "name": "python"
    }
  },
  "cells": [
    {
      "cell_type": "markdown",
      "metadata": {
        "id": "view-in-github",
        "colab_type": "text"
      },
      "source": [
        "<a href=\"https://colab.research.google.com/github/penny1xu/RESTS/blob/main/Juptyer.ipynb\" target=\"_parent\"><img src=\"https://colab.research.google.com/assets/colab-badge.svg\" alt=\"Open In Colab\"/></a>"
      ]
    },
    {
      "cell_type": "code",
      "execution_count": null,
      "metadata": {
        "id": "YO4O4xABmF3B"
      },
      "outputs": [],
      "source": [
        "!pip install censusgeocode\n",
        "!pip install rets\n",
        "import csv\n",
        "import pandas as pd\n",
        "import censusgeocode as cg\n",
        "import numpy as np\n",
        "import sys\n",
        "from rets import Session"
      ]
    },
    {
      "cell_type": "code",
      "source": [
        "def FindGeocode(): # if cannot find address use Geocode(censusgeocode)\n",
        "  return"
      ],
      "metadata": {
        "id": "McBjhwermNvS"
      },
      "execution_count": null,
      "outputs": []
    },
    {
      "cell_type": "code",
      "source": [
        "def Single():  # just one mls or address\n",
        "\n",
        "  #input one address/mls; \n",
        "\n",
        "  #-> yes: use网站data (if null -> censusgeocode)/attributes)\n",
        "  #->no: ceosusgeocode; Attributes: other API\n",
        "\n",
        "  #(output geo/attributes) -> find geo/attributes in 网站\n",
        "\n",
        "  return"
      ],
      "metadata": {
        "id": "5EwOKPmLoXBh"
      },
      "execution_count": null,
      "outputs": []
    },
    {
      "cell_type": "code",
      "source": [
        "def SearchType(): # choose single,list(write a loop)\n",
        "  return"
      ],
      "metadata": {
        "id": "DG7pggcrmRqB"
      },
      "execution_count": null,
      "outputs": []
    },
    {
      "cell_type": "code",
      "source": [
        "def FindComps():# find all qualify address\n",
        "\n",
        "  return"
      ],
      "metadata": {
        "id": "fof68BtomaK5"
      },
      "execution_count": null,
      "outputs": []
    },
    {
      "cell_type": "code",
      "source": [
        "def SaleAnalysis(): #(input list of comps; out: statistics data)\n",
        "  return"
      ],
      "metadata": {
        "id": "5jMFNom3m5Ah"
      },
      "execution_count": null,
      "outputs": []
    },
    {
      "cell_type": "code",
      "source": [
        "def LeaseAnalysis(): #(input list of comps; out: statistics data)\n",
        "  return"
      ],
      "metadata": {
        "id": "322TOOJjm_sR"
      },
      "execution_count": null,
      "outputs": []
    },
    {
      "cell_type": "code",
      "source": [
        "def Automls(): # one hr pull ->原来那个没问题\n",
        "  return"
      ],
      "metadata": {
        "id": "aDUMzaJwqHu7"
      },
      "execution_count": null,
      "outputs": []
    }
  ]
}