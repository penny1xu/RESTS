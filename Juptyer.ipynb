{
  "nbformat": 4,
  "nbformat_minor": 0,
  "metadata": {
    "colab": {
      "name": "Juptyer.ipynb",
      "provenance": [],
      "collapsed_sections": [],
      "authorship_tag": "ABX9TyOn04xW71Or2GCPwQDdoK9Q",
      "include_colab_link": true
    },
    "kernelspec": {
      "name": "python3",
      "display_name": "Python 3"
    },
    "language_info": {
      "name": "python"
    }
  },
  "cells": [
    {
      "cell_type": "markdown",
      "metadata": {
        "id": "view-in-github",
        "colab_type": "text"
      },
      "source": [
        "<a href=\"https://colab.research.google.com/github/penny1xu/RESTS/blob/main/Juptyer.ipynb\" target=\"_parent\"><img src=\"https://colab.research.google.com/assets/colab-badge.svg\" alt=\"Open In Colab\"/></a>"
      ]
    },
    {
      "cell_type": "code",
      "execution_count": null,
      "metadata": {
        "id": "YO4O4xABmF3B"
      },
      "outputs": [],
      "source": [
        "!pip install censusgeocode\n",
        "!pip install rets\n",
        "import csv\n",
        "import pandas as pd\n",
        "import censusgeocode as cg\n",
        "import numpy as np\n",
        "import sys\n",
        "from rets import Session"
      ]
    },
    {
      "cell_type": "code",
      "source": [
        "def FindGeocode(): # if cannot find address use Geocode\n",
        "  return"
      ],
      "metadata": {
        "id": "McBjhwermNvS"
      },
      "execution_count": null,
      "outputs": []
    },
    {
      "cell_type": "code",
      "source": [
        "def Single(): #\n",
        "  return"
      ],
      "metadata": {
        "id": "5EwOKPmLoXBh"
      },
      "execution_count": null,
      "outputs": []
    },
    {
      "cell_type": "code",
      "source": [
        "def SearchType(): # single,list\n",
        "  return"
      ],
      "metadata": {
        "id": "DG7pggcrmRqB"
      },
      "execution_count": null,
      "outputs": []
    },
    {
      "cell_type": "code",
      "source": [
        "def FindComps():# find all qualify address\n",
        "  return"
      ],
      "metadata": {
        "id": "fof68BtomaK5"
      },
      "execution_count": null,
      "outputs": []
    },
    {
      "cell_type": "code",
      "source": [
        "def SaleAnalysis(): \n",
        "  return"
      ],
      "metadata": {
        "id": "5jMFNom3m5Ah"
      },
      "execution_count": null,
      "outputs": []
    },
    {
      "cell_type": "code",
      "source": [
        "def LeaseAnalysis():\n",
        "  return"
      ],
      "metadata": {
        "id": "322TOOJjm_sR"
      },
      "execution_count": null,
      "outputs": []
    }
  ]
}