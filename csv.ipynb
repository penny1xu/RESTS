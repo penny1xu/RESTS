{
  "nbformat": 4,
  "nbformat_minor": 0,
  "metadata": {
    "colab": {
      "name": "csv.ipynb",
      "provenance": [],
      "collapsed_sections": [
        "rYmH_XKyuLEh"
      ],
      "authorship_tag": "ABX9TyPliWugafRyZ1tyND2CPmfc",
      "include_colab_link": true
    },
    "kernelspec": {
      "name": "python3",
      "display_name": "Python 3"
    },
    "language_info": {
      "name": "python"
    }
  },
  "cells": [
    {
      "cell_type": "markdown",
      "metadata": {
        "id": "view-in-github",
        "colab_type": "text"
      },
      "source": [
        "<a href=\"https://colab.research.google.com/github/penny1xu/RESTS/blob/main/csv.ipynb\" target=\"_parent\"><img src=\"https://colab.research.google.com/assets/colab-badge.svg\" alt=\"Open In Colab\"/></a>"
      ]
    },
    {
      "cell_type": "code",
      "execution_count": 61,
      "metadata": {
        "colab": {
          "base_uri": "https://localhost:8080/"
        },
        "id": "VH-CenwVcSNT",
        "outputId": "5d5aa6fb-ca2d-43c2-cb34-e02702ca013a"
      },
      "outputs": [
        {
          "output_type": "stream",
          "name": "stdout",
          "text": [
            "Looking in indexes: https://pypi.org/simple, https://us-python.pkg.dev/colab-wheels/public/simple/\n",
            "Requirement already satisfied: censusgeocode in /usr/local/lib/python3.7/dist-packages (0.5.2)\n",
            "Requirement already satisfied: requests[security]<3,>=2.27.0 in /usr/local/lib/python3.7/dist-packages (from censusgeocode) (2.28.0)\n",
            "Requirement already satisfied: requests-toolbelt<1,>=0.9.0 in /usr/local/lib/python3.7/dist-packages (from censusgeocode) (0.9.1)\n",
            "Requirement already satisfied: charset-normalizer~=2.0.0 in /usr/local/lib/python3.7/dist-packages (from requests[security]<3,>=2.27.0->censusgeocode) (2.0.12)\n",
            "Requirement already satisfied: idna<4,>=2.5 in /usr/local/lib/python3.7/dist-packages (from requests[security]<3,>=2.27.0->censusgeocode) (2.10)\n",
            "Requirement already satisfied: certifi>=2017.4.17 in /usr/local/lib/python3.7/dist-packages (from requests[security]<3,>=2.27.0->censusgeocode) (2022.6.15)\n",
            "Requirement already satisfied: urllib3<1.27,>=1.21.1 in /usr/local/lib/python3.7/dist-packages (from requests[security]<3,>=2.27.0->censusgeocode) (1.24.3)\n",
            "Looking in indexes: https://pypi.org/simple, https://us-python.pkg.dev/colab-wheels/public/simple/\n",
            "Requirement already satisfied: datatable in /usr/local/lib/python3.7/dist-packages (1.0.0)\n",
            "Looking in indexes: https://pypi.org/simple, https://us-python.pkg.dev/colab-wheels/public/simple/\n",
            "Requirement already satisfied: rets in /usr/local/lib/python3.7/dist-packages (1.0.0)\n",
            "Requirement already satisfied: six>=1.10 in /usr/local/lib/python3.7/dist-packages (from rets) (1.15.0)\n",
            "Requirement already satisfied: requests>=2.18.4 in /usr/local/lib/python3.7/dist-packages (from rets) (2.28.0)\n",
            "Requirement already satisfied: xmltodict>=0.11.0 in /usr/local/lib/python3.7/dist-packages (from rets) (0.13.0)\n",
            "Requirement already satisfied: future>=0.16 in /usr/local/lib/python3.7/dist-packages (from rets) (0.16.0)\n",
            "Requirement already satisfied: idna<4,>=2.5 in /usr/local/lib/python3.7/dist-packages (from requests>=2.18.4->rets) (2.10)\n",
            "Requirement already satisfied: certifi>=2017.4.17 in /usr/local/lib/python3.7/dist-packages (from requests>=2.18.4->rets) (2022.6.15)\n",
            "Requirement already satisfied: charset-normalizer~=2.0.0 in /usr/local/lib/python3.7/dist-packages (from requests>=2.18.4->rets) (2.0.12)\n",
            "Requirement already satisfied: urllib3<1.27,>=1.21.1 in /usr/local/lib/python3.7/dist-packages (from requests>=2.18.4->rets) (1.24.3)\n",
            "Looking in indexes: https://pypi.org/simple, https://us-python.pkg.dev/colab-wheels/public/simple/\n",
            "Requirement already satisfied: pytz in /usr/local/lib/python3.7/dist-packages (2022.1)\n"
          ]
        }
      ],
      "source": [
        "!pip install censusgeocode\n",
        "!pip install datatable\n",
        "!pip install rets\n",
        "import csv\n",
        "import pandas as pd\n",
        "import censusgeocode as cg\n",
        "import numpy as np\n",
        "import sys\n",
        "from rets import Session\n",
        "import datetime\n",
        "from datetime import datetime,timedelta\n",
        "!pip install pytz\n",
        "import pytz\n",
        "import datatable as dt\n",
        "import sys\n",
        "from rets import Session"
      ]
    },
    {
      "cell_type": "markdown",
      "source": [
        "# Address"
      ],
      "metadata": {
        "id": "rYmH_XKyuLEh"
      }
    },
    {
      "cell_type": "code",
      "source": [
        "login_url = 'https://ntrdd.mlsmatrix.com/rets/Login.ashx' \n",
        "username = '0671181_NID'\n",
        "password = 'Rt$tg6jx'\n",
        "rets_client = Session(login_url, username, password)\n",
        "rets_client.login()\n",
        "\n",
        "#filter = {\n",
        "       # \"MlsStatus\": \"SLD\",\n",
        "       # \"ModificationTimestamp\": {\"$gte\": dt_string}\n",
        "        #}\n",
        "#result = rets_client.search(resource='Property', resource_class='Property', limit = 10,search_filter=filter)\n",
        "\n",
        "\n",
        "tz_IN = pytz.timezone('US/Central')\n",
        "ini_time_for_now = datetime.now(tz_IN)\n",
        "today_before_1hours = ini_time_for_now - timedelta(hours = 1)\n",
        "dt_string = today_before_1hours.strftime(\"%Y-%m-%dT%H:%M:%S.000\")\n",
        "\n",
        "dt_string\n"
      ],
      "metadata": {
        "colab": {
          "base_uri": "https://localhost:8080/",
          "height": 36
        },
        "id": "uWJNzZM2ccVr",
        "outputId": "f40fe236-7f9d-46ba-e5f4-053bcf3b0494"
      },
      "execution_count": 82,
      "outputs": [
        {
          "output_type": "execute_result",
          "data": {
            "text/plain": [
              "'2022-06-22T18:04:42.000'"
            ],
            "application/vnd.google.colaboratory.intrinsic+json": {
              "type": "string"
            }
          },
          "metadata": {},
          "execution_count": 82
        }
      ]
    },
    {
      "cell_type": "code",
      "source": [
        "#BOM\n",
        "relist_result = rets_client.search(resource = 'Property', resource_class='Property', dmql_query='(StatusChangeTimestamp = {}+),(MlsStatus = Act)'.format(dt_string))\n",
        "lis = []\n",
        "di ={}\n",
        "df = pd.DataFrame()\n",
        "# not empty value\n",
        "for item in relist_result:\n",
        "    if(item['PropertyType'] == 'Residential' and item['PropertySubType'] == 'Single Family Residence' and item['StateOrProvince']== 'Texas' and item['PreviousStatus']!='Coming Soon' and item['PreviousStatus']!='Active' and item['PreviousStatus']!=\"\"):\n",
        "      print(item['StatusChangeTimestamp'])\n",
        "      df = pd.concat([df, pd.DataFrame(item.values())], axis=1, ignore_index=True) \n",
        "      di = item \n",
        "\n",
        "for key in di:\n",
        "  lis.append(key)\n",
        "df = df.T\n",
        "df.columns = lis\n",
        "print(len(df.index))\n",
        "df['FullAddress'] = df['StreetNumber'] + \" \" + df['StreetName']  + \", \" + df['City'] + \", \" +df['StateOrProvince'] + \" \" + df['PostalCode']\n",
        "df = df[['BathroomsFull','BathroomsHalf', 'BathroomsTotalDecimal', 'BathroomsTotalInteger','BedroomsTotal', 'BuildingAreaTotal', 'City', 'CloseDate', 'ClosePrice', 'CumulativeDaysOnMarket', \n",
        "   'DaysOnMarket', 'GarageSpaces', 'Latitude', 'ListingContractDate', 'ListingId', 'ListPrice', \n",
        "   'ListSource', 'LivingArea', 'Longitude', 'LotSizeAcres', 'MlsStatus', 'OwnerName', 'OwnerPhone', 'OwnerPhoneAlternative',\n",
        "   'ParcelNumber', 'ParcelNumber2', 'PoolYN', 'PostalCode', 'PreviousListPrice', 'PreviousStatus', 'PropertySubType',\n",
        "   'PropertyType', 'PublicRemarks', 'PurchaseContractDate', 'SchoolDistrict', 'StandardStatus', 'StatusChangeTimestamp',\n",
        "   'StreetDirPrefix', 'StreetDirSuffix', 'StreetName', 'StreetNumber', 'StreetNumberNumeric', 'StreetSuffix', 'SubdivisionName',\n",
        "   'USProperty_MUI', 'YearBuilt','FullAddress']]\n"
      ],
      "metadata": {
        "colab": {
          "base_uri": "https://localhost:8080/"
        },
        "id": "v8-Mhpv_cfCM",
        "outputId": "16db6536-5879-4fa4-db92-e937cb266941"
      },
      "execution_count": 87,
      "outputs": [
        {
          "output_type": "stream",
          "name": "stdout",
          "text": [
            "2022-06-22T18:06:02.990\n",
            "2022-06-22T18:32:47.133\n",
            "2022-06-22T18:31:10.423\n",
            "2022-06-22T18:42:43.403\n",
            "2022-06-22T18:22:01.633\n",
            "2022-06-22T18:28:28.477\n",
            "2022-06-22T18:38:09.913\n",
            "7\n"
          ]
        }
      ]
    },
    {
      "cell_type": "markdown",
      "source": [
        "# Result"
      ],
      "metadata": {
        "id": "I9WEdJWZxjAW"
      }
    },
    {
      "cell_type": "code",
      "source": [
        "dfa = df[['FullAddress','ListingId','ListPrice','LivingArea','BathroomsFull','BedroomsTotal','YearBuilt','GarageSpaces','PoolYN','LotSizeAcres','SubdivisionName']]\n",
        "dfa"
      ],
      "metadata": {
        "colab": {
          "base_uri": "https://localhost:8080/",
          "height": 382
        },
        "id": "cBLLXH0JxiHU",
        "outputId": "24ee2314-0793-4173-9154-1dcf911054ac"
      },
      "execution_count": 89,
      "outputs": [
        {
          "output_type": "execute_result",
          "data": {
            "text/plain": [
              "                                      FullAddress ListingId   ListPrice  \\\n",
              "0            5212 Silver Lake, Plano, Texas 75093  20013218  1399995.00   \n",
              "1         415 Mineral Wells, Terrell, Texas 75160  20048115   324900.00   \n",
              "2         417 Mineral Wells, Terrell, Texas 75160  20048137   324900.00   \n",
              "3             10202 Deermont, Dallas, Texas 75243  20069122   400000.00   \n",
              "4            3212 Spruce, Royse City, Texas 75189  20079969   325000.00   \n",
              "5  10548 Winding Passage, Fort Worth, Texas 76131  20083707   375000.00   \n",
              "6         4317 Oak Chase, Fort Worth, Texas 76244  20090924   425000.00   \n",
              "\n",
              "  LivingArea BathroomsFull BedroomsTotal YearBuilt GarageSpaces PoolYN  \\\n",
              "0    5888.00             5             5      1997            3      1   \n",
              "1    2378.00             2             3      2022            2      0   \n",
              "2    2378.00             2             3      2022            2      0   \n",
              "3    2400.00             2             4      1976            2      1   \n",
              "4    2020.00             2             3      2007            2      0   \n",
              "5    2726.00             3             4      2010            2      0   \n",
              "6    1984.00             2             3      2015            2      0   \n",
              "\n",
              "  LotSizeAcres            SubdivisionName  \n",
              "0       0.3800  Lakeside On Preston Ph 4c  \n",
              "1       0.1346      DEWBERRY 2ND Addition  \n",
              "2       0.1346      DEWBERRY 2ND Addition  \n",
              "3       0.2250          Cimmaron Ridge 01  \n",
              "4       0.1650       Woodland Creek Ph II  \n",
              "5       0.1430        Fossil Hill Estates  \n",
              "6       0.1380             Steadman Farms  "
            ],
            "text/html": [
              "\n",
              "  <div id=\"df-3edb5a96-10f1-40eb-b16b-42bb9fa226e8\">\n",
              "    <div class=\"colab-df-container\">\n",
              "      <div>\n",
              "<style scoped>\n",
              "    .dataframe tbody tr th:only-of-type {\n",
              "        vertical-align: middle;\n",
              "    }\n",
              "\n",
              "    .dataframe tbody tr th {\n",
              "        vertical-align: top;\n",
              "    }\n",
              "\n",
              "    .dataframe thead th {\n",
              "        text-align: right;\n",
              "    }\n",
              "</style>\n",
              "<table border=\"1\" class=\"dataframe\">\n",
              "  <thead>\n",
              "    <tr style=\"text-align: right;\">\n",
              "      <th></th>\n",
              "      <th>FullAddress</th>\n",
              "      <th>ListingId</th>\n",
              "      <th>ListPrice</th>\n",
              "      <th>LivingArea</th>\n",
              "      <th>BathroomsFull</th>\n",
              "      <th>BedroomsTotal</th>\n",
              "      <th>YearBuilt</th>\n",
              "      <th>GarageSpaces</th>\n",
              "      <th>PoolYN</th>\n",
              "      <th>LotSizeAcres</th>\n",
              "      <th>SubdivisionName</th>\n",
              "    </tr>\n",
              "  </thead>\n",
              "  <tbody>\n",
              "    <tr>\n",
              "      <th>0</th>\n",
              "      <td>5212 Silver Lake, Plano, Texas 75093</td>\n",
              "      <td>20013218</td>\n",
              "      <td>1399995.00</td>\n",
              "      <td>5888.00</td>\n",
              "      <td>5</td>\n",
              "      <td>5</td>\n",
              "      <td>1997</td>\n",
              "      <td>3</td>\n",
              "      <td>1</td>\n",
              "      <td>0.3800</td>\n",
              "      <td>Lakeside On Preston Ph 4c</td>\n",
              "    </tr>\n",
              "    <tr>\n",
              "      <th>1</th>\n",
              "      <td>415 Mineral Wells, Terrell, Texas 75160</td>\n",
              "      <td>20048115</td>\n",
              "      <td>324900.00</td>\n",
              "      <td>2378.00</td>\n",
              "      <td>2</td>\n",
              "      <td>3</td>\n",
              "      <td>2022</td>\n",
              "      <td>2</td>\n",
              "      <td>0</td>\n",
              "      <td>0.1346</td>\n",
              "      <td>DEWBERRY 2ND Addition</td>\n",
              "    </tr>\n",
              "    <tr>\n",
              "      <th>2</th>\n",
              "      <td>417 Mineral Wells, Terrell, Texas 75160</td>\n",
              "      <td>20048137</td>\n",
              "      <td>324900.00</td>\n",
              "      <td>2378.00</td>\n",
              "      <td>2</td>\n",
              "      <td>3</td>\n",
              "      <td>2022</td>\n",
              "      <td>2</td>\n",
              "      <td>0</td>\n",
              "      <td>0.1346</td>\n",
              "      <td>DEWBERRY 2ND Addition</td>\n",
              "    </tr>\n",
              "    <tr>\n",
              "      <th>3</th>\n",
              "      <td>10202 Deermont, Dallas, Texas 75243</td>\n",
              "      <td>20069122</td>\n",
              "      <td>400000.00</td>\n",
              "      <td>2400.00</td>\n",
              "      <td>2</td>\n",
              "      <td>4</td>\n",
              "      <td>1976</td>\n",
              "      <td>2</td>\n",
              "      <td>1</td>\n",
              "      <td>0.2250</td>\n",
              "      <td>Cimmaron Ridge 01</td>\n",
              "    </tr>\n",
              "    <tr>\n",
              "      <th>4</th>\n",
              "      <td>3212 Spruce, Royse City, Texas 75189</td>\n",
              "      <td>20079969</td>\n",
              "      <td>325000.00</td>\n",
              "      <td>2020.00</td>\n",
              "      <td>2</td>\n",
              "      <td>3</td>\n",
              "      <td>2007</td>\n",
              "      <td>2</td>\n",
              "      <td>0</td>\n",
              "      <td>0.1650</td>\n",
              "      <td>Woodland Creek Ph II</td>\n",
              "    </tr>\n",
              "    <tr>\n",
              "      <th>5</th>\n",
              "      <td>10548 Winding Passage, Fort Worth, Texas 76131</td>\n",
              "      <td>20083707</td>\n",
              "      <td>375000.00</td>\n",
              "      <td>2726.00</td>\n",
              "      <td>3</td>\n",
              "      <td>4</td>\n",
              "      <td>2010</td>\n",
              "      <td>2</td>\n",
              "      <td>0</td>\n",
              "      <td>0.1430</td>\n",
              "      <td>Fossil Hill Estates</td>\n",
              "    </tr>\n",
              "    <tr>\n",
              "      <th>6</th>\n",
              "      <td>4317 Oak Chase, Fort Worth, Texas 76244</td>\n",
              "      <td>20090924</td>\n",
              "      <td>425000.00</td>\n",
              "      <td>1984.00</td>\n",
              "      <td>2</td>\n",
              "      <td>3</td>\n",
              "      <td>2015</td>\n",
              "      <td>2</td>\n",
              "      <td>0</td>\n",
              "      <td>0.1380</td>\n",
              "      <td>Steadman Farms</td>\n",
              "    </tr>\n",
              "  </tbody>\n",
              "</table>\n",
              "</div>\n",
              "      <button class=\"colab-df-convert\" onclick=\"convertToInteractive('df-3edb5a96-10f1-40eb-b16b-42bb9fa226e8')\"\n",
              "              title=\"Convert this dataframe to an interactive table.\"\n",
              "              style=\"display:none;\">\n",
              "        \n",
              "  <svg xmlns=\"http://www.w3.org/2000/svg\" height=\"24px\"viewBox=\"0 0 24 24\"\n",
              "       width=\"24px\">\n",
              "    <path d=\"M0 0h24v24H0V0z\" fill=\"none\"/>\n",
              "    <path d=\"M18.56 5.44l.94 2.06.94-2.06 2.06-.94-2.06-.94-.94-2.06-.94 2.06-2.06.94zm-11 1L8.5 8.5l.94-2.06 2.06-.94-2.06-.94L8.5 2.5l-.94 2.06-2.06.94zm10 10l.94 2.06.94-2.06 2.06-.94-2.06-.94-.94-2.06-.94 2.06-2.06.94z\"/><path d=\"M17.41 7.96l-1.37-1.37c-.4-.4-.92-.59-1.43-.59-.52 0-1.04.2-1.43.59L10.3 9.45l-7.72 7.72c-.78.78-.78 2.05 0 2.83L4 21.41c.39.39.9.59 1.41.59.51 0 1.02-.2 1.41-.59l7.78-7.78 2.81-2.81c.8-.78.8-2.07 0-2.86zM5.41 20L4 18.59l7.72-7.72 1.47 1.35L5.41 20z\"/>\n",
              "  </svg>\n",
              "      </button>\n",
              "      \n",
              "  <style>\n",
              "    .colab-df-container {\n",
              "      display:flex;\n",
              "      flex-wrap:wrap;\n",
              "      gap: 12px;\n",
              "    }\n",
              "\n",
              "    .colab-df-convert {\n",
              "      background-color: #E8F0FE;\n",
              "      border: none;\n",
              "      border-radius: 50%;\n",
              "      cursor: pointer;\n",
              "      display: none;\n",
              "      fill: #1967D2;\n",
              "      height: 32px;\n",
              "      padding: 0 0 0 0;\n",
              "      width: 32px;\n",
              "    }\n",
              "\n",
              "    .colab-df-convert:hover {\n",
              "      background-color: #E2EBFA;\n",
              "      box-shadow: 0px 1px 2px rgba(60, 64, 67, 0.3), 0px 1px 3px 1px rgba(60, 64, 67, 0.15);\n",
              "      fill: #174EA6;\n",
              "    }\n",
              "\n",
              "    [theme=dark] .colab-df-convert {\n",
              "      background-color: #3B4455;\n",
              "      fill: #D2E3FC;\n",
              "    }\n",
              "\n",
              "    [theme=dark] .colab-df-convert:hover {\n",
              "      background-color: #434B5C;\n",
              "      box-shadow: 0px 1px 3px 1px rgba(0, 0, 0, 0.15);\n",
              "      filter: drop-shadow(0px 1px 2px rgba(0, 0, 0, 0.3));\n",
              "      fill: #FFFFFF;\n",
              "    }\n",
              "  </style>\n",
              "\n",
              "      <script>\n",
              "        const buttonEl =\n",
              "          document.querySelector('#df-3edb5a96-10f1-40eb-b16b-42bb9fa226e8 button.colab-df-convert');\n",
              "        buttonEl.style.display =\n",
              "          google.colab.kernel.accessAllowed ? 'block' : 'none';\n",
              "\n",
              "        async function convertToInteractive(key) {\n",
              "          const element = document.querySelector('#df-3edb5a96-10f1-40eb-b16b-42bb9fa226e8');\n",
              "          const dataTable =\n",
              "            await google.colab.kernel.invokeFunction('convertToInteractive',\n",
              "                                                     [key], {});\n",
              "          if (!dataTable) return;\n",
              "\n",
              "          const docLinkHtml = 'Like what you see? Visit the ' +\n",
              "            '<a target=\"_blank\" href=https://colab.research.google.com/notebooks/data_table.ipynb>data table notebook</a>'\n",
              "            + ' to learn more about interactive tables.';\n",
              "          element.innerHTML = '';\n",
              "          dataTable['output_type'] = 'display_data';\n",
              "          await google.colab.output.renderOutput(dataTable, element);\n",
              "          const docLink = document.createElement('div');\n",
              "          docLink.innerHTML = docLinkHtml;\n",
              "          element.appendChild(docLink);\n",
              "        }\n",
              "      </script>\n",
              "    </div>\n",
              "  </div>\n",
              "  "
            ]
          },
          "metadata": {},
          "execution_count": 89
        }
      ]
    },
    {
      "cell_type": "markdown",
      "source": [
        "# Lease\n"
      ],
      "metadata": {
        "id": "JjPmBa4_uPl9"
      }
    },
    {
      "cell_type": "code",
      "execution_count": 65,
      "metadata": {
        "id": "itgrCM-_Lglt"
      },
      "outputs": [],
      "source": [
        "def add(lo_left,lo_right,la_left,la_right):\n",
        "    a = 0.008 #调整经纬度改这里\n",
        "    lo_left -= a\n",
        "    lo_right += a\n",
        "    la_left -= a\n",
        "    la_right += a\n",
        "    return lo_left, lo_right, la_left, la_right"
      ]
    },
    {
      "cell_type": "code",
      "execution_count": 66,
      "metadata": {
        "id": "NtLir-mDWsiX"
      },
      "outputs": [],
      "source": [
        "def judgeType(item):\n",
        "  if(item['PropertyType'] == 'Residential Lease' and item['PropertySubType'] == 'Single Family Residence'):#改type在这里\n",
        "    return True"
      ]
    },
    {
      "cell_type": "code",
      "execution_count": 67,
      "metadata": {
        "id": "j-bVvyh4HrtB"
      },
      "outputs": [],
      "source": [
        "def lease_findifNull(research, lo_left,lo_right,la_left,la_right, bedroom):\n",
        "  #经纬度查找\n",
        "  bedroom = int(bedroom)\n",
        "  filter = {\n",
        "        \"BathroomsTotalInteger\": \"{}-{}\".format(bedroom - 2, bedroom + 1),\n",
        "        \"BedroomsTotal\": bedroom,\n",
        "        \"Longitude\": \"{}-{}\".format(lo_left, lo_right),\n",
        "        \"Latitude\": \"{}-{}\".format(la_left, la_right),\n",
        "        \"MlsStatus\" : \"SLD\",\n",
        "        \"CloseDate\" : \"2022-01-01-2022-05-31\"\n",
        "        }\n",
        "  result = research.search(resource='Property', resource_class='Property', search_filter=filter)\n",
        "  lis = []\n",
        "  count = 0\n",
        "  di ={}\n",
        "  df = pd.DataFrame()\n",
        "  for item in result:\n",
        "    if(judgeType(item)):\n",
        "            df = pd.concat([df, pd.DataFrame(item.values())], axis=1, ignore_index=True) #?\n",
        "            count += 1\n",
        "            di = item # 存表头\n",
        "  for key in di:\n",
        "    lis.append(key)\n",
        "  if(count >= 5): \n",
        "    df = df.T\n",
        "    df.columns = lis\n",
        "    return df\n",
        "  else:\n",
        "    lo_left, lo_right, la_left, la_right = add(lo_left,lo_right,la_left,la_right)\n",
        "    return lease_findifNull(research, lo_left,lo_right,la_left,la_right,bedroom)"
      ]
    },
    {
      "cell_type": "code",
      "execution_count": 68,
      "metadata": {
        "id": "BGJv_Nq_Hxuy"
      },
      "outputs": [],
      "source": [
        "def lease_findHouse(house_leftLa,house_rightLa,house_leftLo,house_rightLo,research,zip,column,bedroom, sub):\n",
        "  #sub，zip查找，未找到足够的自动转经纬度\n",
        "  filter = {\n",
        "        \"BathroomsTotalInteger\": \"{}-{}\".format(bedroom - 2, bedroom + 1),\n",
        "        \"BedroomsTotal\": bedroom,\n",
        "        \"PostalCode\" : zip,\n",
        "        \"MlsStatus\" : \"SLD\",\n",
        "        \"CloseDate\" : \"2022-01-01-2022-05-31\"\n",
        "        }\n",
        "  result = research.search(resource='Property', resource_class='Property', search_filter=filter)\n",
        "  count = 0\n",
        "  df = pd.DataFrame()\n",
        "  for item in result: \n",
        "    if(judgeType(item)):\n",
        "      if(sub in item['SubdivisionName']):\n",
        "         df = pd.concat([df, pd.DataFrame(item.values())], axis=1, ignore_index=True) #?\n",
        "         count += 1       \n",
        "  if(count >= 5):  \n",
        "    df = df.T\n",
        "    df.columns = column # \n",
        "    return df\n",
        "  else:\n",
        "    return lease_findifNull(research, house_leftLo,house_rightLo, house_leftLa, house_rightLa, bedroom)"
      ]
    },
    {
      "cell_type": "code",
      "execution_count": 69,
      "metadata": {
        "id": "FdyoCacQ9qP_"
      },
      "outputs": [],
      "source": [
        "def findfirst(result):\n",
        "  #判断是否有，不用管\n",
        "    count = 0\n",
        "    for item in result:\n",
        "        count += 1\n",
        "    if(count == 0):\n",
        "        return False\n",
        "    else:\n",
        "        return True    "
      ]
    },
    {
      "cell_type": "code",
      "execution_count": 133,
      "metadata": {
        "id": "8DMVMfa1evSb"
      },
      "outputs": [],
      "source": [
        "from pandas.core.frame import DataFrame\n",
        "def insertId(pulled_value, mls,rets_client):\n",
        "  #mls查找，按照先sub + zip，后geo\n",
        "  column = []\n",
        "  for key in pulled_value:\n",
        "    column.append(key)\n",
        "  print(\"\\nThis value exists in Website\")\n",
        "  zip = pulled_value.get('PostalCode')\n",
        "  latitude = pulled_value.get('Latitude')\n",
        "  longitude = pulled_value.get('Longitude')\n",
        "  bedroom = pulled_value.get('BedroomsTotal')\n",
        "  if(zip != \"\" and latitude != \"\" and longitude != \"\" and bedroom != \"\"):\n",
        "    if(int(bedroom) >= 3 and int(bedroom) <= 5):\n",
        "      house_leftLa = float(pulled_value.get('Latitude'))\n",
        "      house_rightLa = float(pulled_value.get('Latitude')) \n",
        "      house_leftLo = float(pulled_value.get('Longitude'))\n",
        "      house_rightLo = float(pulled_value.get('Longitude'))\n",
        "      sub = str(pulled_value.get('SubdivisionName').split()[0])\n",
        "      result1 = lease_findHouse(house_leftLa, house_rightLa, house_leftLo, house_rightLo, rets_client,int(zip) ,column,int(bedroom), sub)        \n",
        "      result1 = result1[['BathroomsFull','BathroomsHalf', 'BathroomsTotalDecimal', 'BathroomsTotalInteger','BedroomsTotal', 'BuildingAreaTotal', 'City', 'CloseDate', 'ClosePrice', 'CumulativeDaysOnMarket', \n",
        "   'DaysOnMarket', 'GarageSpaces', 'Latitude', 'ListingContractDate', 'ListingId', 'ListPrice', \n",
        "   'ListSource', 'LivingArea', 'Longitude', 'LotSizeAcres', 'MlsStatus', 'OwnerName', 'OwnerPhone', 'OwnerPhoneAlternative',\n",
        "   'ParcelNumber', 'ParcelNumber2', 'PoolYN', 'PostalCode', 'PreviousListPrice', 'PreviousStatus', 'PropertySubType',\n",
        "   'PropertyType', 'PublicRemarks', 'PurchaseContractDate', 'SchoolDistrict', 'StandardStatus', 'StatusChangeTimestamp',\n",
        "   'StreetDirPrefix', 'StreetDirSuffix', 'StreetName', 'StreetNumber', 'StreetNumberNumeric', 'StreetSuffix', 'SubdivisionName',\n",
        "   'USProperty_MUI', 'YearBuilt']]\n",
        "      price = []\n",
        "      cdom_signValue = []\n",
        "      df_id = pd.DataFrame()\n",
        "      for item in result1['ClosePrice']:\n",
        "        item = float(item)\n",
        "        price.append(item)\n",
        "      result1['ClosePrice'] = price\n",
        "      mean1 = result1['ClosePrice'].mean()\n",
        "      top1 = list(result1['ClosePrice'])\n",
        "      top1.sort(reverse = True)\n",
        "      top1_mean = sum(top1[0:3])/3\n",
        "      ###########################################################\n",
        "      min1 = list(result1['ClosePrice'])\n",
        "      min1.sort(reverse = False)\n",
        "      median = result1['ClosePrice'].median()\n",
        "      for item in result1['CumulativeDaysOnMarket']:\n",
        "        item = int(item)\n",
        "        cdom_signValue.append(item)\n",
        "      result1['CumulativeDaysOnMarket'] = cdom_signValue\n",
        "      cdom = result1['CumulativeDaysOnMarket'].mean() \n",
        "      df_id['Min','Median','Mean','Top 3 Mean','Max\tAvg.','CDOM'] = min1,median,mean1,top1_mean,top1,cdom\n",
        "      print(df_id)\n",
        "     #['Min',\t'Median',\t'Mean',\t'Top 3 Mean','Max\tAvg.', 'CDOM',\t'Section 8']\n",
        "\n",
        "     # print('The mean for {} is {}'.format(mls, mean1))\n",
        "     # print('The top 3 for {} are {}'.format(mls, top1[0:3]))\n",
        "     # print('The average for top 3 {} is {}'.format(mls, top1_mean))\n",
        "     # result1.to_csv('{}.csv'.format(mls))\n",
        "      return\n",
        "    else:\n",
        "      print(\"Bedroom number is not qualified\")\n",
        "      return"
      ]
    },
    {
      "cell_type": "code",
      "execution_count": 71,
      "metadata": {
        "id": "ljfKnnerAJjw"
      },
      "outputs": [],
      "source": [
        "def insertAdd(number, name, city, state, zip, address, rets_client):\n",
        "  #add查找，按照先sub + zip，后geo\n",
        "  pulled_value = {}\n",
        "  result = rets_client.search(resource = 'Property', resource_class='Property', dmql_query='(StreetNumber = {}),(StreetName = {}),(PostalCode = {})'.format(number,name,zip))\n",
        "  for item in result:\n",
        "    pulled_value = item\n",
        "  if(len(pulled_value) != 0):\n",
        "    column = []\n",
        "    for key in pulled_value:\n",
        "      column.append(key)\n",
        "    print(\"\\nThis value exists in Website\")\n",
        "    zip = pulled_value.get('PostalCode')\n",
        "    latitude = pulled_value.get('Latitude')\n",
        "    longitude = pulled_value.get('Longitude')\n",
        "    bedroom = pulled_value.get('BedroomsTotal')\n",
        "    if(zip != \"\" and latitude != \"\" and longitude != \"\" and bedroom != \"\"):\n",
        "      if(int(bedroom) >= 3 and int(bedroom) <= 5):\n",
        "        house_leftLa = float(pulled_value.get('Latitude'))\n",
        "        house_rightLa = float(pulled_value.get('Latitude')) \n",
        "        house_leftLo = float(pulled_value.get('Longitude'))\n",
        "        house_rightLo = float(pulled_value.get('Longitude'))\n",
        "        zip = int(pulled_value.get('PostalCode'))\n",
        "        sub = str(pulled_value.get('SubdivisionName').split()[0])\n",
        "        result1 = lease_findHouse(house_leftLa, house_rightLa, house_leftLo, house_rightLo, rets_client,zip,column,int(bedroom), sub)        \n",
        "        result1 = result1[['BathroomsFull','BathroomsHalf', 'BathroomsTotalDecimal', 'BathroomsTotalInteger','BedroomsTotal', 'BuildingAreaTotal', 'City', 'CloseDate', 'ClosePrice', 'CumulativeDaysOnMarket', \n",
        "   'DaysOnMarket', 'GarageSpaces', 'Latitude', 'ListingContractDate', 'ListingId', 'ListPrice', \n",
        "   'ListSource', 'LivingArea', 'Longitude', 'LotSizeAcres', 'MlsStatus', 'OwnerName', 'OwnerPhone', 'OwnerPhoneAlternative',\n",
        "   'ParcelNumber', 'ParcelNumber2', 'PoolYN', 'PostalCode', 'PreviousListPrice', 'PreviousStatus', 'PropertySubType',\n",
        "   'PropertyType', 'PublicRemarks', 'PurchaseContractDate', 'SchoolDistrict', 'StandardStatus', 'StatusChangeTimestamp',\n",
        "   'StreetDirPrefix', 'StreetDirSuffix', 'StreetName', 'StreetNumber', 'StreetNumberNumeric', 'StreetSuffix', 'SubdivisionName',\n",
        "   'USProperty_MUI', 'YearBuilt']]\n",
        "        price = []\n",
        "        for item in result1['ClosePrice']:\n",
        "          item = float(item)\n",
        "          price.append(item)\n",
        "        result1['ClosePrice'] = price\n",
        "        mean1 = result1['ClosePrice'].mean()\n",
        "        top1 = list(result1['ClosePrice'])\n",
        "        top1.sort(reverse = True)\n",
        "        top1_mean = sum(top1[0:3])/3\n",
        "        print('The mean for {}, {}, {} is {}'.format(number,name,zip, mean1))\n",
        "        print('The top 3 for {}, {}, {} are {}'.format(number,name,zip, top1[0:3]))\n",
        "        print('The average for top 3 {}, {}, {} is {}'.format(number,name,zip, top1_mean))\n",
        "        result1.to_csv('{} {} {}.csv'.format(number,name,zip))\n",
        "        return\n",
        "      else:\n",
        "        print(\"Bedroom number is not qualified\")\n",
        "        return\n",
        "    else:\n",
        "      print('check coordinates')\n",
        "      bedroom = 3\n",
        "      findAdd(rets_client, address, city, state, zip, bedroom)\n",
        "      return \n",
        "  else:\n",
        "    print('check coordinates')\n",
        "    bedroom = 3\n",
        "    findAdd(rets_client, address, city, state, zip, bedroom)\n",
        "    return "
      ]
    },
    {
      "cell_type": "code",
      "execution_count": 72,
      "metadata": {
        "id": "F7MCZWuKUJN-"
      },
      "outputs": [],
      "source": [
        "def findAdd(rets_client, address, city, state, zipcode, bedroom):  \n",
        "  #geo代码，在mls和address中引用\n",
        "  result = cg.address(address, city = city, state= state,zipcode = zipcode)\n",
        "  lo_left = result[0]['coordinates']['x']\n",
        "  lo_right = result[0]['coordinates']['x']\n",
        "  la_left = result[0]['coordinates']['y']\n",
        "  la_right = result[0]['coordinates']['y']\n",
        "  result = lease_findifNull(rets_client, lo_left, lo_right, la_left, la_right, bedroom)\n",
        "  \n",
        "  result = result[['BathroomsFull','BathroomsHalf', 'BathroomsTotalDecimal', 'BathroomsTotalInteger','BedroomsTotal', 'BuildingAreaTotal', 'City', 'CloseDate', 'ClosePrice', 'CumulativeDaysOnMarket', \n",
        "   'DaysOnMarket', 'GarageSpaces', 'Latitude', 'ListingContractDate', 'ListingId', 'ListPrice', \n",
        "   'ListSource', 'LivingArea', 'Longitude', 'LotSizeAcres', 'MlsStatus', 'OwnerName', 'OwnerPhone', 'OwnerPhoneAlternative',\n",
        "   'ParcelNumber', 'ParcelNumber2', 'PoolYN', 'PostalCode', 'PreviousListPrice', 'PreviousStatus', 'PropertySubType',\n",
        "   'PropertyType', 'PublicRemarks', 'PurchaseContractDate', 'SchoolDistrict', 'StandardStatus', 'StatusChangeTimestamp',\n",
        "   'StreetDirPrefix', 'StreetDirSuffix', 'StreetName', 'StreetNumber', 'StreetNumberNumeric', 'StreetSuffix', 'SubdivisionName',\n",
        "   'USProperty_MUI', 'YearBuilt']]\n",
        "  price = []\n",
        "  for item in result['ClosePrice']:\n",
        "    item = float(item)\n",
        "    price.append(item)\n",
        "  result['ClosePrice'] = price\n",
        "  mean = result['ClosePrice'].mean()\n",
        "  top = list(result['ClosePrice'])\n",
        "  top.sort(reverse = True)\n",
        "  print('The mean for {}, {}, {} is {}'.format(address, state, zip, mean))\n",
        "  print('The top 3 for {}, {}, {} are {}'.format(address, state, zip, top[0:3]))\n",
        "  return result.to_csv('{},{},{}.csv'.format(address, state, zip))"
      ]
    },
    {
      "cell_type": "code",
      "execution_count": 72,
      "metadata": {
        "id": "zLMk-stelwch"
      },
      "outputs": [],
      "source": [
        ""
      ]
    },
    {
      "cell_type": "code",
      "execution_count": 73,
      "metadata": {
        "id": "a5tr5Dr_smsa"
      },
      "outputs": [],
      "source": [
        "def judge(i):\n",
        "  #不用管，为了美观\n",
        "    if i % 10 == 1:\n",
        "        return 'st'\n",
        "    elif i % 10 == 2:\n",
        "        return 'nd'\n",
        "    elif i % 10 == 3:\n",
        "        return 'rd'\n",
        "    else:\n",
        "        return 'th'"
      ]
    },
    {
      "cell_type": "code",
      "source": [
        "def main():\n",
        "  login_url = 'https://ntrdd.mlsmatrix.com/rets/Login.ashx' \n",
        "  username = '0671181_NID'\n",
        "  password = 'Rt$tg6jx'\n",
        "  rets_client = Session(login_url, username, password)\n",
        "  rets_client.login()  \n",
        "\n",
        "  lis_mls = []\n",
        "  data = dfa\n",
        "  for item in data['ListingId']:\n",
        "    lis_mls.append(int(item))\n",
        "  for i in range(len(lis_mls)):\n",
        "    pulled_value = {}\n",
        "    result = rets_client.search(resource='Property', resource_class='Property', dmql_query='(ListingId = {})'.format(lis_mls[i]))\n",
        "    for items in result:\n",
        "      pulled_value = items\n",
        "    if(len(pulled_value) != 0):\n",
        "      insertId(pulled_value, lis_mls[i], rets_client) \n",
        "      if(i == len(lis_mls) - 1):\n",
        "        return\n"
      ],
      "metadata": {
        "id": "m2ODLfkLynt9"
      },
      "execution_count": 117,
      "outputs": []
    },
    {
      "cell_type": "markdown",
      "source": [
        "# result"
      ],
      "metadata": {
        "id": "V-g9W7avxYIh"
      }
    },
    {
      "cell_type": "code",
      "execution_count": null,
      "metadata": {
        "id": "_-lc3ZqLIJRX"
      },
      "outputs": [],
      "source": [
        "if __name__ == \"__main__\":\n",
        "    print(main()) \n",
        "    #5005 Bama Drive, Arlington, Texas 76017"
      ]
    },
    {
      "cell_type": "code",
      "execution_count": 74,
      "metadata": {
        "id": "a_RrPUgWH6yN"
      },
      "outputs": [],
      "source": [
        "def main():\n",
        "  login_url = 'https://ntrdd.mlsmatrix.com/rets/Login.ashx' \n",
        "  username = '0671181_NID'\n",
        "  password = 'Rt$tg6jx'\n",
        "  rets_client = Session(login_url, username, password)\n",
        "  rets_client.login()\n",
        "\n",
        "  data = df\n",
        "  code = []\n",
        "  name = []\n",
        "  number = []\n",
        "  street = []\n",
        "  city = []\n",
        "  state = []\n",
        "  for item in data['FullAdress']:\n",
        "    a = item.split(',')[0]\n",
        "    b = item.split(',')[2]\n",
        "    c = item.split(',')[1]\n",
        "    street.append(a)\n",
        "    city.append(c)\n",
        "    numbers = a.split()[0]\n",
        "    names = a.split()[1:(len(a.split()) - 1)]\n",
        "    codes = b.split()[1][0:5]\n",
        "    states = b.split()[0]\n",
        "    state.append(states)\n",
        "    code.append(codes)\n",
        "    name.append(names)\n",
        "    number.append(numbers)\n",
        "  finalN = []\n",
        "  for item in name:\n",
        "    string = \"\"\n",
        "    for items in item:\n",
        "      string += items\n",
        "      string += ' '\n",
        "    finalN.append(string[0:len(string) - 1])            \n",
        "  for i in range(len(code)):\n",
        "    insertAdd(number[i], finalN[i], city[i], state[i], code[i], street[i], rets_client)"
      ]
    }
  ]
}