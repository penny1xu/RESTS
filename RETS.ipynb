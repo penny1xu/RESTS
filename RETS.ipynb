{
  "nbformat": 4,
  "nbformat_minor": 0,
  "metadata": {
    "colab": {
      "name": "RETS.ipynb",
      "provenance": [],
      "collapsed_sections": [],
      "include_colab_link": true
    },
    "kernelspec": {
      "name": "python3",
      "display_name": "Python 3"
    },
    "language_info": {
      "name": "python"
    }
  },
  "cells": [
    {
      "cell_type": "markdown",
      "metadata": {
        "id": "view-in-github",
        "colab_type": "text"
      },
      "source": [
        "<a href=\"https://colab.research.google.com/github/penny1xu/RESTS/blob/main/RETS.ipynb\" target=\"_parent\"><img src=\"https://colab.research.google.com/assets/colab-badge.svg\" alt=\"Open In Colab\"/></a>"
      ]
    },
    {
      "cell_type": "code",
      "source": [
        "!pip install rets\n",
        "from google.colab import files\n",
        "import pandas as pd\n",
        "import csv\n",
        "import copy\n",
        "from itertools import repeat, product\n",
        "import torch"
      ],
      "metadata": {
        "colab": {
          "base_uri": "https://localhost:8080/"
        },
        "id": "D4fVn-byXKwU",
        "outputId": "0df81f71-060e-4697-aa89-220089df8451"
      },
      "execution_count": 9,
      "outputs": [
        {
          "output_type": "stream",
          "name": "stdout",
          "text": [
            "Requirement already satisfied: rets in /usr/local/lib/python3.7/dist-packages (1.0.0)\n",
            "Requirement already satisfied: future>=0.16 in /usr/local/lib/python3.7/dist-packages (from rets) (0.16.0)\n",
            "Requirement already satisfied: requests>=2.18.4 in /usr/local/lib/python3.7/dist-packages (from rets) (2.23.0)\n",
            "Requirement already satisfied: xmltodict>=0.11.0 in /usr/local/lib/python3.7/dist-packages (from rets) (0.13.0)\n",
            "Requirement already satisfied: six>=1.10 in /usr/local/lib/python3.7/dist-packages (from rets) (1.15.0)\n",
            "Requirement already satisfied: idna<3,>=2.5 in /usr/local/lib/python3.7/dist-packages (from requests>=2.18.4->rets) (2.10)\n",
            "Requirement already satisfied: urllib3!=1.25.0,!=1.25.1,<1.26,>=1.21.1 in /usr/local/lib/python3.7/dist-packages (from requests>=2.18.4->rets) (1.24.3)\n",
            "Requirement already satisfied: certifi>=2017.4.17 in /usr/local/lib/python3.7/dist-packages (from requests>=2.18.4->rets) (2021.10.8)\n",
            "Requirement already satisfied: chardet<4,>=3.0.2 in /usr/local/lib/python3.7/dist-packages (from requests>=2.18.4->rets) (3.0.4)\n"
          ]
        }
      ]
    },
    {
      "cell_type": "code",
      "source": [
        "from rets import Session\n",
        "login_url = 'https://ntrdd.mlsmatrix.com/rets/Login.ashx' \n",
        "username = '0671181_NID'\n",
        "password = 'Rt$tg6jx'\n",
        "rets_client = Session(login_url, username, password)\n",
        "rets_client.login()\n",
        "system_data = rets_client.get_system_metadata()\n",
        "#system_data\n",
        "##{'version': '1.11.76004', 'system_description': 'MLS-RETS', 'system_id': 'MLS-RETS'}\n",
        "#resources = rets_client.get_resource_metadata(resource='Agent')\n",
        "\n",
        "\n"
      ],
      "metadata": {
        "id": "xsR5x_W1W0Fq"
      },
      "execution_count": 14,
      "outputs": []
    },
    {
      "cell_type": "code",
      "source": [
        "# 样板 - 但是是调整横纵\n",
        "search_results = rets_client.search(resource='Property', resource_class='Property', limit=2, dmql_query='(OwnerName=Amy Lane, LLC)') #ListPrice=150000+\n",
        "for result in search_results:\n",
        "  print(result)\n",
        "\n",
        "(pd.DataFrame.from_dict(data=result, orient='index')\n",
        "   .to_csv('result_file.csv', header=False))"
      ],
      "metadata": {
        "id": "86nuugWOOtsY",
        "colab": {
          "base_uri": "https://localhost:8080/"
        },
        "outputId": "5c6c8593-7b1a-4e26-c7b5-cd1488a7fc35"
      },
      "execution_count": 17,
      "outputs": [
        {
          "output_type": "stream",
          "name": "stdout",
          "text": [
            "{'ListingKeyNumeric': '158735366', 'BathroomsFull': '2', 'BathroomsHalf': '0', 'BathroomsTotalInteger': '2', 'BedroomsTotal': '3', 'BuildingAreaSource': '', 'BuildingAreaTotal': '1273.00', 'BuyerAgencyCompensation': '2.5', 'BuyerAgencyCompensationType': '%', 'BuyerAgentDirectPhone': '214-263-8048', 'BuyerAgentEmail': 'isa_villatoro@yahoo.com', 'BuyerAgentFullName': 'Isabel Villatoro', 'BuyerAgentKeyNumeric': '38708974', 'BuyerAgentMlsId': '0640183', 'BuyerOfficeKeyNumeric': '15514091', 'BuyerOfficeMlsId': 'UREN01', 'BuyerOfficeName': 'United Real Estate', 'BuyerOfficePhone': '972-372-0590', 'CancellationDate': '', 'City': 'The Colony', 'CloseDate': '2021-09-16', 'ClosePrice': '260000.00', 'CoBuyerAgentDirectPhone': '', 'CoBuyerAgentEmail': '', 'CoBuyerAgentFullName': '', 'CoBuyerAgentKeyNumeric': '', 'CoBuyerAgentMlsId': '', 'CoBuyerOfficeKeyNumeric': '', 'CoBuyerOfficeMlsId': '', 'CoBuyerOfficeName': '', 'CoBuyerOfficePhone': '', 'CoListAgentDirectPhone': '', 'CoListAgentEmail': '', 'CoListAgentFullName': '', 'CoListAgentKeyNumeric': '', 'CoListAgentMlsId': '', 'CoListOfficeKeyNumeric': '', 'CoListOfficeMlsId': '', 'CoListOfficeName': '', 'CoListOfficePhone': '', 'Cooling': 'Ceiling Fan(s),Central Air,Electric', 'CountyOrParish': 'Denton', 'CumulativeDaysOnMarket': '3', 'DaysOnMarket': '3', 'Directions': 'From Hwy 121, North on Paige, Left on Knox', 'Heating': 'Central,Electric', 'InternetAddressDisplayYN': '1', 'InternetAutomatedValuationDisplayYN': '1', 'InternetConsumerCommentYN': '1', 'InternetEntireListingDisplayYN': '1', 'Latitude': '33.08889200', 'ListAgentDirectPhone': '972-839-1787', 'ListAgentEmail': 'contracts@brandpropertiesgroup.com', 'ListAgentFullName': 'Stacey E Sauer', 'ListAgentKeyNumeric': '15535360', 'ListAgentMlsId': '0466938', 'ListingAgreement': 'Exclusive Right To Sell', 'ListingContractDate': '2021-07-30', 'ListingId': '14630088', 'ListingService': '', 'ListOfficeKeyNumeric': '15507707', 'ListOfficeMlsId': 'KELW02', 'ListOfficeName': 'Keller Williams Realty-FM', 'ListOfficePhone': '972-874-1905', 'ListPrice': '250000.00', 'LivingArea': '1273.00', 'Longitude': '-96.87693500', 'MlsStatus': 'Closed', 'ModificationTimestamp': '2021-09-16T15:43:53.623', 'OffMarketDate': '2021-08-02', 'OriginalListPrice': '250000.00', 'OriginatingSystemName': 'North Texas Real Estate Information Systems', 'ParcelNumber': 'R10357', 'PhotosChangeTimestamp': '2021-07-30T12:26:10.890', 'PhotosCount': '22', 'PostalCode': '75056', 'PostalCodePlus4': '2106', 'PreviousListPrice': '', 'PriceChangeTimestamp': '', 'PrivateRemarks': 'See Transaction desk for documents & Offer Instructions.', 'PropertySubType': 'Single Family Residence', 'PropertyType': 'Residential', 'PublicRemarks': 'Pristine 1 story, 3 bed 2 bath in The Colony! This home features granite countertops, laminate and vinyl wood flooring throughout, large bckyrd, stainless steel vent mechanism, breakfast bar & more! Kitchen features granite countertops, electric stove & oven, pantry! Master bedroom is spacious and ready for decor with ensuite updated shower and tub with beautiful design, tile flooring & well-kept sink! Living room is nice and open with easy access to kitchen and backyard. Bedrooms are all nice sized with a shared bathroom shower and tub combo! 1 car garage and nicely landscaped! Home is located next to tons of restaurants in the growing part of The Colony with easy access to 121! Come check it out for yourself!', 'PurchaseContractDate': '2021-08-02', 'StandardStatus': 'Closed', 'StateOrProvince': 'Texas', 'StatusChangeTimestamp': '2021-09-16T15:43:53.623', 'StoriesTotal': '', 'StreetDirPrefix': '', 'StreetDirSuffix': '', 'StreetName': 'Knox', 'StreetNumber': '5332', 'StreetNumberNumeric': '5332', 'StreetSuffix': 'Drive', 'SyndicateTo': 'Homes.com,Members IDX Websites,NTREIS Translator,Realtor.com,Realtors Property Resource,Syndicate Listing', 'UnitNumber': '', 'WithdrawnDate': '', 'YearBuilt': '1974', 'PreviousStatus': 'Pending', 'SpecialListingConditions': 'Standard', 'AccessibilityFeatures': '', 'AccessibilityFeaturesYN': '0', 'AccessoryUnitSF': '', 'AccessoryUnitType': '', 'AccessoryUnitYN': '', 'AcresBottomLand': '', 'AcresCultivated': '', 'AcresIrrigated': '', 'AcresPasture': '', 'AerialPhotoAvailableYN': '', 'AGExemptionYN': '', 'AppFeePayableTo': '', 'AppFeePlus18YrsYN': '', 'AppliancesYN': '', 'Appliances': 'Dishwasher,Disposal,Electric Cooktop,Electric Oven,Vented Exhaust Fan', 'ApplicationFeeAmount': '', 'ApplicationFeeYN': '', 'AppraiserName': '', 'ArchitecturalStyle': 'Traditional', 'AssociationFee': '', 'AssociationFeeFrequency': '', 'AssociationFeeIncludes': '', 'AssociationType': 'None', 'AttachedGarageYN': '1', 'AuctionYN': '0', 'AvailabilityDate': '', 'AverageMonthlyLease': '', 'OnMarketDate': '', 'HorseAmenities': '', 'BasementYN': '', 'BathroomsTotalDecimal': '2.00', 'BuildingNumber': '', 'BuildingUse': '', 'BusinessName': '', 'BusinessType': '', 'BuyerFinancing': 'Conventional', 'BuyerTeamKey': '', 'BuyerTeamKeyNumeric': '', 'BuyerTeamName': '', 'CapitalizationRate': '', 'CarportSpaces': '0', 'CeilingHeight': '', 'CommercialFeatures': '', 'CommunityFeatures': '', 'CompensationPaid': '', 'ComplexName': '', 'ConsentforVisitorstoRecord': '', 'ConstructionMaterials': 'Frame', 'ContingencyInfo': '', 'Country': 'United States', 'CoveredSpaces': '1', 'CropRetireProgramYN': '', 'Crops': '', 'CurrentUse': '', 'DepositAmount': '', 'DepositPet': '', 'DevelopmentStatus': '', 'DOCBOX_GUID': '65962D90-B0A3-4837-BAB1-FF7DCDEE27B8', 'DocBox_ModificationTimestamp': '2021-08-06T15:31:06.263', 'DocBox_NumMlsDocuments': '9', 'DocBox_NumPrivateDocuments': '0', 'DocBox_NumPublicDocuments': '0', 'DockPermittedYN': '', 'DocumentManagerMLSCount': '', 'DocumentManagerPrivateCount': '', 'DocumentManagerPublicCount': '', 'DocumentManagerTotalCount': '', 'DocumentsAvailable': '', 'DualVariableCompensationYN': '0', 'Easements': '', 'ElementarySchool': 'Peters Colony', 'ElementarySchoolName': 'Peters Colony', 'EnergySavingFeatures': '', 'Exclusions': '', 'ExpirationDateOption': '2021-08-06', 'ExteriorFeatures': 'Covered Patio/Porch,Rain Gutters', 'FarmRanchFeatures': '', 'Fencing': 'Wood', 'FHA_VA_ApprovedComplexNumber': '', 'FireplaceFeatures': '', 'FireplacesTotal': '0', 'Flooring': 'Ceramic Tile,Laminate,Vinyl', 'FloorLocationNumber': '', 'FoundationDetails': 'Slab', 'FreightDoors': '', 'FrontageFeet': '', 'FrontageLength': '', 'FurnishedYN': '', 'GarageLength': '22', 'GarageSpaces': '1', 'GarageWidth': '11', 'GarageYN': '1', 'GreenEnergyEfficient': 'Appliances', 'GreenEnergyGeneration': '', 'GreenIndoorAirQuality': '', 'GreenLandscaping': '', 'GreenSustainability': '', 'GreenWaterConservation': '', 'GrossAnnualExpenses': '', 'GrossAnnualIncome': '', 'GrossIncomeMultiplier': '', 'HighSchool': 'The Colony', 'HighSchoolName': 'The Colony', 'HOAManagementCompany': '', 'HOAManagementCompanyPhone': '', 'HoldDate': '', 'TransactionIncludes': '', 'InsuranceExpense': '', 'InteriorFeatures': 'Cable TV Available,Decorative Lighting,High Speed Internet Available', 'IntermediateSchoolName': '', 'JuniorHighSchoolName': '', 'LakePumpYN': '', 'LandLeaseYN': '', 'LaundryFeatures': 'Electric Dryer Hookup,Full Size W/D Area,Washer Hookup', 'LeasableArea': '', 'LeaseConditions': '', 'LeaseExpirationDate': '', 'LeaseRateMax': '', 'LeaseRateMin': '', 'LeaseTerm': '', 'LeaseType': '', 'LenderName': '', 'ListAgentMLSProvider': 'Metrotex Association Of Realtors', 'ListingTerms': 'Cash,Conventional,FHA,VA Loan', 'ListMLSProvider': 'Metrotex Association Of Realtors', 'ListSource': '', 'ListSourceOriginal': '', 'ListSourceVendor': '', 'ListTeamKey': '', 'ListTeamKeyNumeric': '', 'ListTeamName': '', 'Loan1Amount': '', 'Loan1InterestRate': '', 'Loan1Years': '', 'LoanBalance': '', 'LoanInterestRate': '', 'LoanPayment': '', 'LoanPaymentType': '', 'LoanType': 'Treat As Clear', 'KeyboxNumber': '33427138', 'LockBoxType': 'Blue iBox', 'LotFeatures': 'Few Trees,Interior Lot,Lrg. Backyard Grass', 'LotNumber': '', 'LotSize': 'Less Than .5 Acre (not Zero)', 'LotSizeAcres': '0.1610', 'LotSizeArea': '0.1610', 'LotSizeDimensions': '', 'LotSizeSource': '', 'LotSizeSquareFeet': '7013.1600', 'LotSizeUnits': 'Acres', 'LotsSoldPackage': '', 'LotsSoldSeparate': '', 'MiddleOrJuniorSchool': 'Griffin', 'MiddleSchoolName': 'Griffin', 'MLSNumberSaleOrLease': '', 'MoniesRequired': '', 'MonthlyPetFee': '', 'MortgageCompany': '', 'MoveInDate': '', 'MultiParcelIDYN': '0', 'MultiZoningYN': '', 'MunicipalUtilityDistrictYN': '0', 'NetOperationIncome': '', 'NonRefundablePetFeeYN': '', 'NoticeSurveillanceDevicesPresent': '', 'NumberOfBarns': '', 'NumberOfBuildings': '', 'NumberOfDaysGuestsAllowed': '', 'NumberOfDiningAreas': '1', 'NumberOfLakes': '', 'NumberOfLeaseableSpaces': '', 'NumberOfLivingAreas': '1', 'NumberOfLots': '', 'NumberOfPetsAllowed': '', 'NumberOfResidences': '', 'NumberOfSeparateWaterMeters': '', 'NumberOfSpacesLeased': '', 'NumberOfStallsInBarn1': '', 'NumberOfStallsInBarn2': '', 'NumberOfStallsInBarn3': '', 'NumberOfTanksAndPonds': '', 'NumberOfUnitsTotal': '', 'NumberOfVehicles': '', 'NumberOfWells': '', 'OccupancyRate': '', 'OccupantName': '', 'OccupantPhoneAlternative': '', 'OccupantType': 'Vacant', 'OpenParkingSpaces': '0', 'OpenParkingYN': '', 'OperatingExpenseIncludes': '', 'OriginalMortgageDate': '', 'OriginatingSystemKey': '', 'OriginatingSystemTimestamp': '', 'OtherStructures': '', 'OwnerName': 'Amy lane', 'OwnerPays': '', 'OwnerPermissionToVideoYN': '', 'OwnerPhone': '', 'OwnerPhoneAlternative': '', 'ParcelNumber2': '', 'ParkingFeatures': 'Garage Faces Front', 'PetsAllowed': '', 'PlannedDevelopment': '', 'PlattedWaterfrontBoundary': '', 'PoolFeatures': '', 'PoolYN': '0', 'Possession': 'Other', 'PossibleUse': '', 'PrimarySchoolName': '', 'PrivateOfficeRemarks': '', 'PropertyAttachedYN': '0', 'RanchName': '', 'RangePriceYN': '', 'Restrictions': '', 'RETSUpdateTransactionYN': '', 'RoadAssessmentYN': '', 'RoadFrontageDistance': '', 'RoadFrontageType': '', 'RoadSurfaceType': '', 'Roof': 'Composition', 'SchoolDistrict': 'Lewisville ISD', 'SecondMortgageYN': '0', 'SecurityFeatures': '', 'SellerContributions': '1500', 'SeniorCommunityYN': '', 'SeniorHighSchoolName': '', 'Sewer': '', 'ShowingContactPhone': '800-746-9464', 'ShowingContactPhoneExt': '', 'ShowingContactType': 'ShowingTime - CSS', 'ShowingInstructions': 'Please turn off all lights & lock doors before returning key to lockbox', 'ShowingInstructionsSecured': '', 'ShowingRequirements': 'ShowingTime-CSS', 'SmartHomeFeaturesApporPassYN': '0', 'SoilType': 'Unknown', 'SpecialNotes': '', 'SpecialTaxingEntities': '', 'SQFTGross': '', 'StructuralStyle': 'Single Detached', 'SubAgencyCompensation': '0', 'SubAgencyCompensationType': '%', 'SubdividedYN': '', 'SubdivisionName': 'Colony 8', 'SurfaceRights': '', 'TaxBlock': '', 'TaxLegalDescription': '', 'Tenancy': '', 'TenantPays': '', 'ThirdPartyAssistanceProgramYN': '0', 'TitleCompanyClosing': '', 'TitleCompanyLocation': '3424 Long Prarie Rd, #100', 'TitleCompanyPhone': '972-956-8459', 'TitleCompanyPreferred': 'Alamo Title, Karen Hoff', 'Topography': '', 'TransactionType': 'For Sale', 'UnexemptTaxes': '', 'URLNonPublic1': '', 'URLNonPublic2': '', 'URLNonPublic3': '', 'URLNonPublic4': '', 'URLNonPublic5': '', 'USProperty_MUI': '410151216', 'Utilities': 'Alley,All Weather Road,City Sewer,City Water,Concrete,Curbs,Sidewalk', 'Vegetation': '', 'VirtualTourURLBranded': 'nbtour.showcasephotographers.com/b/lw2107271', 'VirtualTourURLUnbranded': 'www.propertypanorama.com/instaview/ntreis/14630088', 'WalkScore': '', 'WaterbodyName': '', 'WaterfrontFeatures': '', 'WaterfrontYN': '0', 'WillSubdivide': 'No', 'WillSubdivideYN': '', 'YearBuiltDetails': 'Preowned', 'ZoningDescription': '', 'GeocodeConfidence': 'High', 'PropertyKey': '48121|R10357|1|10754231', 'PropertyMatch': 'APN', 'BuyerOfficeManager': '', 'BuyerOfficeManagerKeyNumeric': '', 'BuyerOfficeManagerLicense': '', 'BuyerOfficeManagerMLSID': '', 'BuyerOfficeManagerPhone': '', 'CoBuyerOfficeManager': '', 'CoBuyerOfficeManagerKeyNumeric': '', 'CoBuyerOfficeManagerLicense': '', 'CoBuyerOfficeManagerMLSID': '', 'CoBuyerOfficeManagerPhone': '', 'CoListOfficeManager': '', 'CoListOfficeManagerKeyNumeric': '', 'CoListOfficeManagerLicense': '', 'CoListOfficeManagerMLSID': '', 'CoListOfficeManagerPhone': '', 'HorsePermittedYN': '', 'ListOfficeManager': 'Berek McEwen', 'ListOfficeManagerKeyNumeric': '', 'ListOfficeManagerLicense': '0532775', 'ListOfficeManagerMLSID': '', 'ListOfficeManagerPhone': '', 'ListPriceLow': '', 'ListPriceLowSystem': '', 'OtherEquipment': '', 'PatioAndPorchFeatures': 'Covered', 'WindowFeatures': 'Window Coverings', 'LockBoxLocation': '', 'PropertyAssociationFeeType': '', 'BarnsCount': '0', 'GreenVerificationCount': '0', 'LeaseTermDescription': '', 'OccupantPhone': '', 'LeasedPriceUnits': '', 'NumberOfParkingSpaces': '', 'ClosedRemarks': '', 'RATIO_ClosePrice_By_LotSizeAcres': '1614906.83230', 'RATIO_CurrentPrice_By_LotSizeAcres': '1614906.83230', 'RATIO_ListPrice_By_LotSizeAcres': '1552795.03106', 'ConstructionMaterialsWalls': '', 'AuctionHighPrice': '', 'ShowingAttendedYN': '', 'AccessCode': '', 'BuyerAgentTextingAllowedYN': '', 'CoBuyerAgentTextingAllowedYN': '', 'CoListAgentTextingAllowedYN': '', 'GarageHeight': '', 'ListAgentTextingAllowedYN': '', 'PropertyManagedBy': '', 'Levels': 'One', 'TaxLot': ''}\n"
          ]
        }
      ]
    },
    {
      "cell_type": "code",
      "source": [
        "small_res = rets_client.search('Property', 'Property', dmql_query={'Status': 'A\"}, limit=1)"
      ],
      "metadata": {
        "id": "qwqEnjCJynbY",
        "colab": {
          "base_uri": "https://localhost:8080/",
          "height": 134
        },
        "outputId": "eebaf3c1-a17e-423c-c6f2-ceebb371eeeb"
      },
      "execution_count": 29,
      "outputs": [
        {
          "output_type": "error",
          "ename": "SyntaxError",
          "evalue": "ignored",
          "traceback": [
            "\u001b[0;36m  File \u001b[0;32m\"<ipython-input-29-e61511249914>\"\u001b[0;36m, line \u001b[0;32m1\u001b[0m\n\u001b[0;31m    small_res = rets_client.search('Property', 'Property', dmql_query={'Status': 'A\"}, limit=1)\u001b[0m\n\u001b[0m                                                                                               ^\u001b[0m\n\u001b[0;31mSyntaxError\u001b[0m\u001b[0;31m:\u001b[0m EOL while scanning string literal\n"
          ]
        }
      ]
    },
    {
      "cell_type": "code",
      "source": [
        "search_results = rets_client.search(resource='Property', resource_class='Property', limit=1, dmql_query='(ListPrice=1500+)')\n",
        "for result in search_results:\n",
        "  print(result)\n",
        "\n"
      ],
      "metadata": {
        "colab": {
          "base_uri": "https://localhost:8080/"
        },
        "id": "MQqg0H7O-qCv",
        "outputId": "137d3a38-c12c-4c98-eebf-420b48b28302"
      },
      "execution_count": 22,
      "outputs": [
        {
          "output_type": "stream",
          "name": "stdout",
          "text": [
            "{'ListingKeyNumeric': '1000003', 'BathroomsFull': '', 'BathroomsHalf': '', 'BathroomsTotalInteger': '0', 'BedroomsTotal': '', 'BuildingAreaSource': '', 'BuildingAreaTotal': '', 'BuyerAgencyCompensation': '', 'BuyerAgencyCompensationType': '%', 'BuyerAgentDirectPhone': '', 'BuyerAgentEmail': '', 'BuyerAgentFullName': '', 'BuyerAgentKeyNumeric': '', 'BuyerAgentMlsId': '', 'BuyerOfficeKeyNumeric': '', 'BuyerOfficeMlsId': '', 'BuyerOfficeName': '', 'BuyerOfficePhone': '', 'CancellationDate': '', 'City': 'Euless', 'CloseDate': '', 'ClosePrice': '', 'CoBuyerAgentDirectPhone': '', 'CoBuyerAgentEmail': '', 'CoBuyerAgentFullName': '', 'CoBuyerAgentKeyNumeric': '', 'CoBuyerAgentMlsId': '', 'CoBuyerOfficeKeyNumeric': '', 'CoBuyerOfficeMlsId': '', 'CoBuyerOfficeName': '', 'CoBuyerOfficePhone': '', 'CoListAgentDirectPhone': '', 'CoListAgentEmail': '', 'CoListAgentFullName': '', 'CoListAgentKeyNumeric': '', 'CoListAgentMlsId': '', 'CoListOfficeKeyNumeric': '', 'CoListOfficeMlsId': '', 'CoListOfficeName': '', 'CoListOfficePhone': '', 'Cooling': '', 'CountyOrParish': 'Tarrant', 'CumulativeDaysOnMarket': '2265', 'DaysOnMarket': '2265', 'Directions': '', 'Heating': '', 'InternetAddressDisplayYN': '1', 'InternetAutomatedValuationDisplayYN': '1', 'InternetConsumerCommentYN': '1', 'InternetEntireListingDisplayYN': '1', 'Latitude': '32.81280800', 'ListAgentDirectPhone': '817-832-5886', 'ListAgentEmail': 'dluers@prudentialhillman.net', 'ListAgentFullName': 'Dennis Luers', 'ListAgentKeyNumeric': '15526807', 'ListAgentMlsId': '0410646', 'ListingAgreement': 'Exclusive Right To Sell', 'ListingContractDate': '1998-08-15', 'ListingId': '2703982', 'ListingService': '', 'ListOfficeKeyNumeric': '15506499', 'ListOfficeMlsId': 'HILL01GV', 'ListOfficeName': 'Prudential Lou Hillman REALTOR', 'ListOfficePhone': '817-481-2573', 'ListPrice': '1000000.00', 'LivingArea': '', 'Longitude': '-97.06288700', 'MlsStatus': 'Expired', 'ModificationTimestamp': '2020-03-02T00:20:16.570', 'OffMarketDate': '2004-10-27', 'OriginalListPrice': '734000.00', 'OriginatingSystemName': 'North Texas Real Estate Information Systems', 'ParcelNumber': '03791343', 'PhotosChangeTimestamp': '', 'PhotosCount': '0', 'PostalCode': '76039', 'PostalCodePlus4': '', 'PreviousListPrice': '734000.00', 'PriceChangeTimestamp': '2004-07-30T13:57:00.000', 'PrivateRemarks': '', 'PropertySubType': 'Unimproved Land', 'PropertyType': 'Commercial Sale', 'PublicRemarks': 'LARGE INDUSTRIAL SITE IN TARRANT COUNTY NO CITY LIMITS, SEE AGENT FOR SURVEY.', 'PurchaseContractDate': '', 'StandardStatus': 'Expired', 'StateOrProvince': 'Texas', 'StatusChangeTimestamp': '2020-03-02T00:20:16.570', 'StoriesTotal': '', 'StreetDirPrefix': '', 'StreetDirSuffix': '', 'StreetName': 'EULESS SOUTH MAIN', 'StreetNumber': '3400', 'StreetNumberNumeric': '3400', 'StreetSuffix': '', 'SyndicateTo': 'Realtors Property Resource,Syndicate Listing', 'UnitNumber': '', 'WithdrawnDate': '', 'YearBuilt': '', 'PreviousStatus': 'Withdrawn', 'SpecialListingConditions': '', 'AccessibilityFeatures': '', 'AccessibilityFeaturesYN': '', 'AccessoryUnitSF': '', 'AccessoryUnitType': '', 'AccessoryUnitYN': '', 'AcresBottomLand': '', 'AcresCultivated': '', 'AcresIrrigated': '', 'AcresPasture': '', 'AerialPhotoAvailableYN': '', 'AGExemptionYN': '', 'AppFeePayableTo': '', 'AppFeePlus18YrsYN': '', 'AppliancesYN': '', 'Appliances': '', 'ApplicationFeeAmount': '', 'ApplicationFeeYN': '', 'AppraiserName': '', 'ArchitecturalStyle': '', 'AssociationFee': '', 'AssociationFeeFrequency': '', 'AssociationFeeIncludes': '', 'AssociationType': '', 'AttachedGarageYN': '', 'AuctionYN': '0', 'AvailabilityDate': '', 'AverageMonthlyLease': '', 'OnMarketDate': '', 'HorseAmenities': '', 'BasementYN': '', 'BathroomsTotalDecimal': '0.00', 'BuildingNumber': '', 'BuildingUse': '', 'BusinessName': '', 'BusinessType': '', 'BuyerFinancing': '', 'BuyerTeamKey': '', 'BuyerTeamKeyNumeric': '', 'BuyerTeamName': '', 'CapitalizationRate': '', 'CarportSpaces': '', 'CeilingHeight': '', 'CommercialFeatures': '', 'CommunityFeatures': '', 'CompensationPaid': '', 'ComplexName': '', 'ConsentforVisitorstoRecord': '', 'ConstructionMaterials': '', 'ContingencyInfo': '', 'Country': '', 'CoveredSpaces': '', 'CropRetireProgramYN': '', 'Crops': '', 'CurrentUse': '', 'DepositAmount': '', 'DepositPet': '', 'DevelopmentStatus': '', 'DOCBOX_GUID': '', 'DocBox_ModificationTimestamp': '', 'DocBox_NumMlsDocuments': '', 'DocBox_NumPrivateDocuments': '', 'DocBox_NumPublicDocuments': '', 'DockPermittedYN': '', 'DocumentManagerMLSCount': '', 'DocumentManagerPrivateCount': '', 'DocumentManagerPublicCount': '', 'DocumentManagerTotalCount': '', 'DocumentsAvailable': '', 'DualVariableCompensationYN': '0', 'Easements': '', 'ElementarySchool': '', 'ElementarySchoolName': '', 'EnergySavingFeatures': '', 'Exclusions': '', 'ExpirationDateOption': '', 'ExteriorFeatures': '', 'FarmRanchFeatures': '', 'Fencing': '', 'FHA_VA_ApprovedComplexNumber': '', 'FireplaceFeatures': '', 'FireplacesTotal': '', 'Flooring': '', 'FloorLocationNumber': '', 'FoundationDetails': '', 'FreightDoors': '', 'FrontageFeet': '', 'FrontageLength': '', 'FurnishedYN': '', 'GarageLength': '', 'GarageSpaces': '', 'GarageWidth': '', 'GarageYN': '0', 'GreenEnergyEfficient': '', 'GreenEnergyGeneration': '', 'GreenIndoorAirQuality': '', 'GreenLandscaping': '', 'GreenSustainability': '', 'GreenWaterConservation': '', 'GrossAnnualExpenses': '', 'GrossAnnualIncome': '', 'GrossIncomeMultiplier': '', 'HighSchool': '', 'HighSchoolName': '', 'HOAManagementCompany': '', 'HOAManagementCompanyPhone': '', 'HoldDate': '', 'TransactionIncludes': '', 'InsuranceExpense': '', 'InteriorFeatures': '', 'IntermediateSchoolName': '', 'JuniorHighSchoolName': '', 'LakePumpYN': '', 'LandLeaseYN': '', 'LaundryFeatures': '', 'LeasableArea': '', 'LeaseConditions': '', 'LeaseExpirationDate': '', 'LeaseRateMax': '', 'LeaseRateMin': '', 'LeaseTerm': '', 'LeaseType': '', 'LenderName': '', 'ListAgentMLSProvider': 'Metrotex Association Of Realtors', 'ListingTerms': '', 'ListMLSProvider': 'Metrotex Association Of Realtors', 'ListSource': '', 'ListSourceOriginal': '', 'ListSourceVendor': '', 'ListTeamKey': '', 'ListTeamKeyNumeric': '', 'ListTeamName': '', 'Loan1Amount': '', 'Loan1InterestRate': '', 'Loan1Years': '', 'LoanBalance': '', 'LoanInterestRate': '0.00', 'LoanPayment': '', 'LoanPaymentType': '', 'LoanType': '', 'KeyboxNumber': '', 'LockBoxType': '', 'LotFeatures': 'Level', 'LotNumber': '', 'LotSize': '10 to < 50 Acres', 'LotSizeAcres': '22.2000', 'LotSizeArea': '22.2000', 'LotSizeDimensions': '404X931X1007X1140', 'LotSizeSource': '', 'LotSizeSquareFeet': '967032.0000', 'LotSizeUnits': 'Acres', 'LotsSoldPackage': '', 'LotsSoldSeparate': '', 'MiddleOrJuniorSchool': '', 'MiddleSchoolName': '', 'MLSNumberSaleOrLease': '', 'MoniesRequired': '', 'MonthlyPetFee': '', 'MortgageCompany': '', 'MoveInDate': '', 'MultiParcelIDYN': '', 'MultiZoningYN': '', 'MunicipalUtilityDistrictYN': '0', 'NetOperationIncome': '', 'NonRefundablePetFeeYN': '', 'NoticeSurveillanceDevicesPresent': '', 'NumberOfBarns': '', 'NumberOfBuildings': '', 'NumberOfDaysGuestsAllowed': '', 'NumberOfDiningAreas': '', 'NumberOfLakes': '', 'NumberOfLeaseableSpaces': '', 'NumberOfLivingAreas': '', 'NumberOfLots': '', 'NumberOfPetsAllowed': '', 'NumberOfResidences': '', 'NumberOfSeparateWaterMeters': '', 'NumberOfSpacesLeased': '', 'NumberOfStallsInBarn1': '', 'NumberOfStallsInBarn2': '', 'NumberOfStallsInBarn3': '', 'NumberOfTanksAndPonds': '', 'NumberOfUnitsTotal': '', 'NumberOfVehicles': '', 'NumberOfWells': '', 'OccupancyRate': '', 'OccupantName': '', 'OccupantPhoneAlternative': '', 'OccupantType': '', 'OpenParkingSpaces': '0', 'OpenParkingYN': '', 'OperatingExpenseIncludes': '', 'OriginalMortgageDate': '', 'OriginatingSystemKey': '143302', 'OriginatingSystemTimestamp': '2011-03-08T09:32:02.000', 'OtherStructures': '', 'OwnerName': 'T & M PROPERTIES LTD,', 'OwnerPays': '', 'OwnerPermissionToVideoYN': '', 'OwnerPhone': '', 'OwnerPhoneAlternative': '', 'ParcelNumber2': '', 'ParkingFeatures': '', 'PetsAllowed': '', 'PlannedDevelopment': '', 'PlattedWaterfrontBoundary': '', 'PoolFeatures': '', 'PoolYN': '', 'Possession': 'Negotiable', 'PossibleUse': '', 'PrimarySchoolName': '', 'PrivateOfficeRemarks': '', 'PropertyAttachedYN': '0', 'RanchName': '', 'RangePriceYN': '', 'Restrictions': '', 'RETSUpdateTransactionYN': '0', 'RoadAssessmentYN': '', 'RoadFrontageDistance': '', 'RoadFrontageType': '', 'RoadSurfaceType': '', 'Roof': '', 'SchoolDistrict': 'Hurst-Euless-Bedford ISD', 'SecondMortgageYN': '', 'SecurityFeatures': '', 'SellerContributions': '', 'SeniorCommunityYN': '', 'SeniorHighSchoolName': '', 'Sewer': '', 'ShowingContactPhone': '', 'ShowingContactPhoneExt': '', 'ShowingContactType': '', 'ShowingInstructions': '', 'ShowingInstructionsSecured': '', 'ShowingRequirements': 'Special', 'SmartHomeFeaturesApporPassYN': '', 'SoilType': '', 'SpecialNotes': '', 'SpecialTaxingEntities': '', 'SQFTGross': '', 'StructuralStyle': '', 'SubAgencyCompensation': '3', 'SubAgencyCompensationType': '%', 'SubdividedYN': '', 'SubdivisionName': 'CHILDRESS, JOHN HEIR', 'SurfaceRights': '', 'TaxBlock': '', 'TaxLegalDescription': 'CHILDRES SURVEY', 'Tenancy': '', 'TenantPays': '', 'ThirdPartyAssistanceProgramYN': '', 'TitleCompanyClosing': '', 'TitleCompanyLocation': '', 'TitleCompanyPhone': '', 'TitleCompanyPreferred': '', 'Topography': '', 'TransactionType': '', 'UnexemptTaxes': '1988', 'URLNonPublic1': '', 'URLNonPublic2': '', 'URLNonPublic3': '', 'URLNonPublic4': '', 'URLNonPublic5': '', 'USProperty_MUI': '401786437', 'Utilities': '', 'Vegetation': '', 'VirtualTourURLBranded': '', 'VirtualTourURLUnbranded': '', 'WalkScore': '', 'WaterbodyName': '', 'WaterfrontFeatures': '', 'WaterfrontYN': '', 'WillSubdivide': 'No', 'WillSubdivideYN': '', 'YearBuiltDetails': '', 'ZoningDescription': '', 'GeocodeConfidence': '', 'PropertyKey': '48439|03791343|1|142563465', 'PropertyMatch': 'APN', 'BuyerOfficeManager': '', 'BuyerOfficeManagerKeyNumeric': '', 'BuyerOfficeManagerLicense': '', 'BuyerOfficeManagerMLSID': '', 'BuyerOfficeManagerPhone': '', 'CoBuyerOfficeManager': '', 'CoBuyerOfficeManagerKeyNumeric': '', 'CoBuyerOfficeManagerLicense': '', 'CoBuyerOfficeManagerMLSID': '', 'CoBuyerOfficeManagerPhone': '', 'CoListOfficeManager': '', 'CoListOfficeManagerKeyNumeric': '', 'CoListOfficeManagerLicense': '', 'CoListOfficeManagerMLSID': '', 'CoListOfficeManagerPhone': '', 'HorsePermittedYN': '', 'ListOfficeManager': '', 'ListOfficeManagerKeyNumeric': '', 'ListOfficeManagerLicense': '', 'ListOfficeManagerMLSID': '', 'ListOfficeManagerPhone': '', 'ListPriceLow': '', 'ListPriceLowSystem': '1000000.00', 'OtherEquipment': '', 'PatioAndPorchFeatures': '', 'WindowFeatures': '', 'LockBoxLocation': '', 'PropertyAssociationFeeType': '', 'BarnsCount': '0', 'GreenVerificationCount': '0', 'LeaseTermDescription': '', 'OccupantPhone': '', 'LeasedPriceUnits': '', 'NumberOfParkingSpaces': '', 'ClosedRemarks': '', 'RATIO_ClosePrice_By_LotSizeAcres': '', 'RATIO_CurrentPrice_By_LotSizeAcres': '45045.04505', 'RATIO_ListPrice_By_LotSizeAcres': '45045.04505', 'ConstructionMaterialsWalls': '', 'AuctionHighPrice': '', 'ShowingAttendedYN': '', 'AccessCode': '', 'BuyerAgentTextingAllowedYN': '', 'CoBuyerAgentTextingAllowedYN': '', 'CoListAgentTextingAllowedYN': '', 'GarageHeight': '', 'ListAgentTextingAllowedYN': '', 'PropertyManagedBy': '', 'Levels': '', 'TaxLot': ''}\n"
          ]
        }
      ]
    },
    {
      "cell_type": "code",
      "source": [
        "#meata data resourece\n",
        "resources = rets_client.get_table_metadata(resource='Property', resource_class='Property')\n",
        "# create a data frame to print the list\n",
        "df_final = pd.DataFrame(resources)\n",
        "# to csv\n",
        "df_final.to_csv(\"final_report.csv\")\n",
        "\n",
        "#for key in resources[0]:\n",
        "  #dataf(key).append(resources[0][key])"
      ],
      "metadata": {
        "id": "_ET6Ji5rLzsn"
      },
      "execution_count": 10,
      "outputs": []
    },
    {
      "cell_type": "code",
      "source": [
        "filter = {\n",
        "        \"Status\": \"Active\",\n",
        "        \"Bedrooms\": {\n",
        "            \"$gte\": 4\n",
        "        },\n",
        "        \"Bathrooms\": {\n",
        "            \"$in\": [2, 3]\n",
        "        },\n",
        "        \"ListPrice\": {\n",
        "            \"$lte\": 150000\n",
        "        }\n",
        "    }\n",
        "search_results = rets_client.search('Property', 'Property', search_filter=filter)\n",
        "for result in search_results:\n",
        "  print(result)"
      ],
      "metadata": {
        "id": "ZY-Jr0yiS5ut",
        "colab": {
          "base_uri": "https://localhost:8080/",
          "height": 364
        },
        "outputId": "09a7f669-5637-4b70-f4ef-0e72ceedb7fd"
      },
      "execution_count": null,
      "outputs": [
        {
          "output_type": "error",
          "ename": "ValueError",
          "evalue": "ignored",
          "traceback": [
            "\u001b[0;31m---------------------------------------------------------------------------\u001b[0m",
            "\u001b[0;31mValueError\u001b[0m                                Traceback (most recent call last)",
            "\u001b[0;32m<ipython-input-25-dcc5c73bb082>\u001b[0m in \u001b[0;36m<module>\u001b[0;34m()\u001b[0m\n\u001b[1;32m     12\u001b[0m     }\n\u001b[1;32m     13\u001b[0m \u001b[0msearch_results\u001b[0m \u001b[0;34m=\u001b[0m \u001b[0mrets_client\u001b[0m\u001b[0;34m.\u001b[0m\u001b[0msearch\u001b[0m\u001b[0;34m(\u001b[0m\u001b[0;34m'Property'\u001b[0m\u001b[0;34m,\u001b[0m \u001b[0;34m'Property'\u001b[0m\u001b[0;34m,\u001b[0m \u001b[0msearch_filter\u001b[0m\u001b[0;34m=\u001b[0m\u001b[0mfilter\u001b[0m\u001b[0;34m)\u001b[0m\u001b[0;34m\u001b[0m\u001b[0;34m\u001b[0m\u001b[0m\n\u001b[0;32m---> 14\u001b[0;31m \u001b[0;32mfor\u001b[0m \u001b[0mresult\u001b[0m \u001b[0;32min\u001b[0m \u001b[0msearch_results\u001b[0m\u001b[0;34m:\u001b[0m\u001b[0;34m\u001b[0m\u001b[0;34m\u001b[0m\u001b[0m\n\u001b[0m\u001b[1;32m     15\u001b[0m   \u001b[0mprint\u001b[0m\u001b[0;34m(\u001b[0m\u001b[0mresult\u001b[0m\u001b[0;34m)\u001b[0m\u001b[0;34m\u001b[0m\u001b[0;34m\u001b[0m\u001b[0m\n",
            "\u001b[0;32m/usr/local/lib/python3.7/dist-packages/rets/session.py\u001b[0m in \u001b[0;36msearch\u001b[0;34m(self, resource, resource_class, search_filter, dmql_query, limit, offset, optional_parameters, auto_offset, query_type, standard_names, response_format)\u001b[0m\n\u001b[1;32m    379\u001b[0m             \u001b[0mdmql_query\u001b[0m \u001b[0;34m=\u001b[0m \u001b[0msearch_helper\u001b[0m\u001b[0;34m.\u001b[0m\u001b[0mdmql\u001b[0m\u001b[0;34m(\u001b[0m\u001b[0mquery\u001b[0m\u001b[0;34m=\u001b[0m\u001b[0mdmql_query\u001b[0m\u001b[0;34m)\u001b[0m\u001b[0;34m\u001b[0m\u001b[0;34m\u001b[0m\u001b[0m\n\u001b[1;32m    380\u001b[0m         \u001b[0;32melse\u001b[0m\u001b[0;34m:\u001b[0m\u001b[0;34m\u001b[0m\u001b[0;34m\u001b[0m\u001b[0m\n\u001b[0;32m--> 381\u001b[0;31m             \u001b[0mdmql_query\u001b[0m \u001b[0;34m=\u001b[0m \u001b[0msearch_helper\u001b[0m\u001b[0;34m.\u001b[0m\u001b[0mfilter_to_dmql\u001b[0m\u001b[0;34m(\u001b[0m\u001b[0mfilter_dict\u001b[0m\u001b[0;34m=\u001b[0m\u001b[0msearch_filter\u001b[0m\u001b[0;34m)\u001b[0m\u001b[0;34m\u001b[0m\u001b[0;34m\u001b[0m\u001b[0m\n\u001b[0m\u001b[1;32m    382\u001b[0m \u001b[0;34m\u001b[0m\u001b[0m\n\u001b[1;32m    383\u001b[0m         parameters = {\n",
            "\u001b[0;32m/usr/local/lib/python3.7/dist-packages/rets/utils/search.py\u001b[0m in \u001b[0;36mfilter_to_dmql\u001b[0;34m(filter_dict)\u001b[0m\n\u001b[1;32m    178\u001b[0m             \u001b[0;32mif\u001b[0m \u001b[0misinstance\u001b[0m\u001b[0;34m(\u001b[0m\u001b[0mvalue\u001b[0m\u001b[0;34m,\u001b[0m \u001b[0mdict\u001b[0m\u001b[0;34m)\u001b[0m\u001b[0;34m:\u001b[0m\u001b[0;34m\u001b[0m\u001b[0;34m\u001b[0m\u001b[0m\n\u001b[1;32m    179\u001b[0m                 \u001b[0;31m# Applying an operator. This will need to be recursive because of the or possibility\u001b[0m\u001b[0;34m\u001b[0m\u001b[0;34m\u001b[0m\u001b[0;34m\u001b[0m\u001b[0m\n\u001b[0;32m--> 180\u001b[0;31m                 \u001b[0mdmql_string\u001b[0m \u001b[0;34m+=\u001b[0m \u001b[0mevaluate_operators\u001b[0m\u001b[0;34m(\u001b[0m\u001b[0mkey_dict\u001b[0m\u001b[0;34m=\u001b[0m\u001b[0mvalue\u001b[0m\u001b[0;34m)\u001b[0m\u001b[0;34m\u001b[0m\u001b[0;34m\u001b[0m\u001b[0m\n\u001b[0m\u001b[1;32m    181\u001b[0m             \u001b[0;32melse\u001b[0m\u001b[0;34m:\u001b[0m\u001b[0;34m\u001b[0m\u001b[0;34m\u001b[0m\u001b[0m\n\u001b[1;32m    182\u001b[0m                 \u001b[0;31m# Simle equals statement\u001b[0m\u001b[0;34m\u001b[0m\u001b[0;34m\u001b[0m\u001b[0;34m\u001b[0m\u001b[0m\n",
            "\u001b[0;32m/usr/local/lib/python3.7/dist-packages/rets/utils/search.py\u001b[0m in \u001b[0;36mevaluate_operators\u001b[0;34m(key_dict)\u001b[0m\n\u001b[1;32m    131\u001b[0m                     \u001b[0mkey_dict\u001b[0m\u001b[0;34m[\u001b[0m\u001b[0;34m\"$in\"\u001b[0m\u001b[0;34m]\u001b[0m \u001b[0;34m=\u001b[0m \u001b[0;34m[\u001b[0m\u001b[0mevaluate_datetime\u001b[0m\u001b[0;34m(\u001b[0m\u001b[0mv\u001b[0m\u001b[0;34m)\u001b[0m \u001b[0;32mfor\u001b[0m \u001b[0mv\u001b[0m \u001b[0;32min\u001b[0m \u001b[0mkey_dict\u001b[0m\u001b[0;34m[\u001b[0m\u001b[0;34m\"$in\"\u001b[0m\u001b[0;34m]\u001b[0m\u001b[0;34m]\u001b[0m\u001b[0;34m\u001b[0m\u001b[0;34m\u001b[0m\u001b[0m\n\u001b[1;32m    132\u001b[0m                     \u001b[0;32mif\u001b[0m \u001b[0;32mnot\u001b[0m \u001b[0mall\u001b[0m\u001b[0;34m(\u001b[0m\u001b[0misinstance\u001b[0m\u001b[0;34m(\u001b[0m\u001b[0mv\u001b[0m\u001b[0;34m,\u001b[0m \u001b[0mstring_types\u001b[0m\u001b[0;34m)\u001b[0m \u001b[0;32mfor\u001b[0m \u001b[0mv\u001b[0m \u001b[0;32min\u001b[0m \u001b[0mkey_dict\u001b[0m\u001b[0;34m[\u001b[0m\u001b[0;34m\"$in\"\u001b[0m\u001b[0;34m]\u001b[0m\u001b[0;34m)\u001b[0m\u001b[0;34m:\u001b[0m\u001b[0;34m\u001b[0m\u001b[0;34m\u001b[0m\u001b[0m\n\u001b[0;32m--> 133\u001b[0;31m                         \u001b[0;32mraise\u001b[0m \u001b[0mValueError\u001b[0m\u001b[0;34m(\u001b[0m\u001b[0;34m\"$in expects a list of strings\"\u001b[0m\u001b[0;34m)\u001b[0m\u001b[0;34m\u001b[0m\u001b[0;34m\u001b[0m\u001b[0m\n\u001b[0m\u001b[1;32m    134\u001b[0m                     \u001b[0moptions\u001b[0m \u001b[0;34m=\u001b[0m \u001b[0;34m\",\"\u001b[0m\u001b[0;34m.\u001b[0m\u001b[0mjoin\u001b[0m\u001b[0;34m(\u001b[0m\u001b[0mkey_dict\u001b[0m\u001b[0;34m[\u001b[0m\u001b[0;34m\"$in\"\u001b[0m\u001b[0;34m]\u001b[0m\u001b[0;34m)\u001b[0m\u001b[0;34m\u001b[0m\u001b[0;34m\u001b[0m\u001b[0m\n\u001b[1;32m    135\u001b[0m                     \u001b[0mstring\u001b[0m \u001b[0;34m=\u001b[0m \u001b[0;34m\"{}\"\u001b[0m\u001b[0;34m.\u001b[0m\u001b[0mformat\u001b[0m\u001b[0;34m(\u001b[0m\u001b[0moptions\u001b[0m\u001b[0;34m)\u001b[0m\u001b[0;34m\u001b[0m\u001b[0;34m\u001b[0m\u001b[0m\n",
            "\u001b[0;31mValueError\u001b[0m: $in expects a list of strings"
          ]
        }
      ]
    },
    {
      "cell_type": "markdown",
      "source": [
        "https://pypi.org/project/rets/\n",
        "https://retsconnector.com/RETSConnectorWebHelp/44_Metadata.htm#Metadata_Refreshing_Metadata\n",
        "https://www.nar.realtor/retsorg.nsf/pages/developerstart\n",
        "https://www.nar.realtor/retsorg.nsf/pages/resources\n",
        "https://www.nar.realtor/retsorg.nsf/pages/docs\n",
        "https://www.nar.realtor/retsorg.nsf/RETS2_Service_final.pdf\n",
        "https://www.nar.realtor/retsorg.nsf/rets2payloads.pdf\n",
        "https://ntreis.net/download/getting-started-with-matrix-rets/?wpdmdl=7242&refresh=6251b5400a66e1649521984\n",
        "https://pages.stern.nyu.edu/~adamodar/New_Home_Page/datafile/histgr.html\n",
        "\n",
        "\n",
        "https://www.niche.com/about/data/\n",
        "https://www.dallasopendata.com/browse?sortBy=last_modified&utf8=%E2%9C%93\n",
        "https://dallaslibrary2.org/government/directories.php"
      ],
      "metadata": {
        "id": "S_iA2jmmEzro"
      }
    }
  ]
}