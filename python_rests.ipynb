{
  "nbformat": 4,
  "nbformat_minor": 0,
  "metadata": {
    "colab": {
      "name": "python_rests.ipynb",
      "provenance": [],
      "collapsed_sections": [],
      "include_colab_link": true
    },
    "kernelspec": {
      "name": "python3",
      "display_name": "Python 3"
    },
    "language_info": {
      "name": "python"
    }
  },
  "cells": [
    {
      "cell_type": "markdown",
      "metadata": {
        "id": "view-in-github",
        "colab_type": "text"
      },
      "source": [
        "<a href=\"https://colab.research.google.com/github/penny1xu/RESTS/blob/main/python_rests.ipynb\" target=\"_parent\"><img src=\"https://colab.research.google.com/assets/colab-badge.svg\" alt=\"Open In Colab\"/></a>"
      ]
    },
    {
      "cell_type": "markdown",
      "source": [
        "# data clean \n",
        "\n",
        "BathroomsFull\n",
        "BathroomsHalf\n",
        "BathroomsTotalDecimal\n",
        "BathroomsTotalInteger\n",
        "BedroomsTotal\n",
        "BuildingAreaTotal\n",
        "City\n",
        "CloseDate\n",
        "ClosePrice\n",
        "CumulativeDaysOnMarket\n",
        "DaysOnMarket\n",
        "GarageSpaces\n",
        "Latitude\n",
        "ListingContractDate\n",
        "ListingId\n",
        "ListPrice\n",
        "ListSource\n",
        "Longitude\n",
        "LotSizeAcres\n",
        "MlsStatus\n",
        "OwnerName\n",
        "OwnerPhone\n",
        "OwnerPhoneAlternative\n",
        "ParcelNumber\n",
        "ParcelNumber2\n",
        "PoolYN\n",
        "PostalCode\n",
        "PreviousListPrice\n",
        "PreviousStatus\n",
        "PropertySubType\n",
        "PropertyType\n",
        "PublicRemarks\n",
        "PurchaseContractDate\n",
        "SchoolDistrict\n",
        "StandardStatus\n",
        "StatusChangeTimestamp\n",
        "StreetDirPrefix\n",
        "StreetDirSuffix\n",
        "StreetName\n",
        "StreetNumber\n",
        "StreetNumberNumeric\n",
        "StreetSuffix\n",
        "SubdivisionName\n",
        "USProperty_MUI\n",
        "YearBuilt\n",
        "\n"
      ],
      "metadata": {
        "id": "2MhZlJu91tcY"
      }
    },
    {
      "cell_type": "code",
      "execution_count": 12,
      "metadata": {
        "id": "wPno-Grq1E7_",
        "colab": {
          "base_uri": "https://localhost:8080/"
        },
        "outputId": "63a967fa-d184-4e73-b2fb-79a5d4ee2374"
      },
      "outputs": [
        {
          "output_type": "stream",
          "name": "stdout",
          "text": [
            "Looking in indexes: https://pypi.org/simple, https://us-python.pkg.dev/colab-wheels/public/simple/\n",
            "Requirement already satisfied: censusgeocode in /usr/local/lib/python3.7/dist-packages (0.5.2)\n",
            "Requirement already satisfied: requests-toolbelt<1,>=0.9.0 in /usr/local/lib/python3.7/dist-packages (from censusgeocode) (0.9.1)\n",
            "Requirement already satisfied: requests[security]<3,>=2.27.0 in /usr/local/lib/python3.7/dist-packages (from censusgeocode) (2.27.1)\n",
            "Requirement already satisfied: certifi>=2017.4.17 in /usr/local/lib/python3.7/dist-packages (from requests[security]<3,>=2.27.0->censusgeocode) (2022.5.18.1)\n",
            "Requirement already satisfied: idna<4,>=2.5 in /usr/local/lib/python3.7/dist-packages (from requests[security]<3,>=2.27.0->censusgeocode) (2.10)\n",
            "Requirement already satisfied: urllib3<1.27,>=1.21.1 in /usr/local/lib/python3.7/dist-packages (from requests[security]<3,>=2.27.0->censusgeocode) (1.24.3)\n",
            "Requirement already satisfied: charset-normalizer~=2.0.0 in /usr/local/lib/python3.7/dist-packages (from requests[security]<3,>=2.27.0->censusgeocode) (2.0.12)\n",
            "Looking in indexes: https://pypi.org/simple, https://us-python.pkg.dev/colab-wheels/public/simple/\n",
            "Requirement already satisfied: rets in /usr/local/lib/python3.7/dist-packages (1.0.0)\n",
            "Requirement already satisfied: xmltodict>=0.11.0 in /usr/local/lib/python3.7/dist-packages (from rets) (0.13.0)\n",
            "Requirement already satisfied: future>=0.16 in /usr/local/lib/python3.7/dist-packages (from rets) (0.16.0)\n",
            "Requirement already satisfied: six>=1.10 in /usr/local/lib/python3.7/dist-packages (from rets) (1.15.0)\n",
            "Requirement already satisfied: requests>=2.18.4 in /usr/local/lib/python3.7/dist-packages (from rets) (2.27.1)\n",
            "Requirement already satisfied: urllib3<1.27,>=1.21.1 in /usr/local/lib/python3.7/dist-packages (from requests>=2.18.4->rets) (1.24.3)\n",
            "Requirement already satisfied: charset-normalizer~=2.0.0 in /usr/local/lib/python3.7/dist-packages (from requests>=2.18.4->rets) (2.0.12)\n",
            "Requirement already satisfied: idna<4,>=2.5 in /usr/local/lib/python3.7/dist-packages (from requests>=2.18.4->rets) (2.10)\n",
            "Requirement already satisfied: certifi>=2017.4.17 in /usr/local/lib/python3.7/dist-packages (from requests>=2.18.4->rets) (2022.5.18.1)\n"
          ]
        }
      ],
      "source": [
        "#import package\n",
        "!pip install censusgeocode\n",
        "!pip install rets\n",
        "import csv\n",
        "import pandas as pd\n",
        "import censusgeocode as cg\n",
        "import numpy as np\n",
        "import sys\n"
      ]
    },
    {
      "cell_type": "markdown",
      "source": [
        "# Data cleaning"
      ],
      "metadata": {
        "id": "Mjf7gspwBB_n"
      }
    },
    {
      "cell_type": "code",
      "source": [
        "import pandas as pd\n",
        "import censusgeocode as cg\n",
        "import numpy as np\n",
        "from rets import Session\n",
        "def findifNull(lo_left, lo_right, la_left, la_right, research, zip):\n",
        "    result = research.search(resource='Property', resource_class='Property', dmql_query='(MlsStatus = SLD), (CloseDate = 2022-01-01-2022-05-31), (Longitude = {}+), (Longitude = {}-), (Latitude = {}+), (Latitude = {}-), (PostalCode = {})'.format(lo_left, lo_right, la_left, la_right, zip))\n",
        "    count = 0\n",
        "    lis = []\n",
        "    di = {}\n",
        "    df = pd.DataFrame()\n",
        "    for item in result:\n",
        "        if(item['PropertyType'] == 'Residential' and item['PropertySubType'] == 'Single Family Residence'):\n",
        "            df = pd.concat([df, pd.DataFrame(item.values())], axis=1, ignore_index=True)\n",
        "            count += 1\n",
        "            di = item\n",
        "    for key in di:\n",
        "        lis.append(key)\n",
        "    if(count >= 5):\n",
        "        df = df.T\n",
        "        df.columns = lis\n",
        "        return df\n",
        "    else:\n",
        "        lo_left -= 0.001\n",
        "        lo_right += 0.001\n",
        "        la_left -= 0.001\n",
        "        la_right += 0.001\n",
        "        return findifNull(lo_left, lo_right, la_left, la_right, research, zip)\n",
        "def findHouse(house_leftLa, house_rightLa, house_leftLo, house_rightLo, house_leftSqt, house_rightSqt, research, column, zip, a, time1, time2):\n"
      ],
      "metadata": {
        "id": "-_eT3UA9VCis"
      },
      "execution_count": null,
      "outputs": []
    }
  ]
}