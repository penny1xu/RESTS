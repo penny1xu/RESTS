{
  "nbformat": 4,
  "nbformat_minor": 0,
  "metadata": {
    "colab": {
      "name": "python_rests.ipynb",
      "provenance": [],
      "collapsed_sections": [],
      "include_colab_link": true
    },
    "kernelspec": {
      "name": "python3",
      "display_name": "Python 3"
    },
    "language_info": {
      "name": "python"
    }
  },
  "cells": [
    {
      "cell_type": "markdown",
      "metadata": {
        "id": "view-in-github",
        "colab_type": "text"
      },
      "source": [
        "<a href=\"https://colab.research.google.com/github/penny1xu/RESTS/blob/main/python_rests.ipynb\" target=\"_parent\"><img src=\"https://colab.research.google.com/assets/colab-badge.svg\" alt=\"Open In Colab\"/></a>"
      ]
    },
    {
      "cell_type": "markdown",
      "source": [
        "# data clean \n",
        "\n",
        "BathroomsFull\n",
        "BathroomsHalf\n",
        "BathroomsTotalDecimal\n",
        "BathroomsTotalInteger\n",
        "BedroomsTotal\n",
        "BuildingAreaTotal\n",
        "City\n",
        "CloseDate\n",
        "ClosePrice\n",
        "CumulativeDaysOnMarket\n",
        "DaysOnMarket\n",
        "GarageSpaces\n",
        "Latitude\n",
        "ListingContractDate\n",
        "ListingId\n",
        "ListPrice\n",
        "ListSource\n",
        "Longitude\n",
        "LotSizeAcres\n",
        "MlsStatus\n",
        "OwnerName\n",
        "OwnerPhone\n",
        "OwnerPhoneAlternative\n",
        "ParcelNumber\n",
        "ParcelNumber2\n",
        "PoolYN\n",
        "PostalCode\n",
        "PreviousListPrice\n",
        "PreviousStatus\n",
        "PropertySubType\n",
        "PropertyType\n",
        "PublicRemarks\n",
        "PurchaseContractDate\n",
        "SchoolDistrict\n",
        "StandardStatus\n",
        "StatusChangeTimestamp\n",
        "StreetDirPrefix\n",
        "StreetDirSuffix\n",
        "StreetName\n",
        "StreetNumber\n",
        "StreetNumberNumeric\n",
        "StreetSuffix\n",
        "SubdivisionName\n",
        "USProperty_MUI\n",
        "YearBuilt\n",
        "\n"
      ],
      "metadata": {
        "id": "2MhZlJu91tcY"
      }
    },
    {
      "cell_type": "code",
      "execution_count": null,
      "metadata": {
        "id": "wPno-Grq1E7_"
      },
      "outputs": [],
      "source": [
        "#import package\n",
        "!pip install censusgeocode\n",
        "import csv\n",
        "import pandas as pd\n",
        "import censusgeocode as cg"
      ]
    },
    {
      "cell_type": "markdown",
      "source": [
        "# Data cleaning"
      ],
      "metadata": {
        "id": "Mjf7gspwBB_n"
      }
    },
    {
      "cell_type": "code",
      "source": [
        "data= pd.read_csv(\"final.csv\")\n",
        "# select the data columns we want \n",
        "data = data[['BathroomsFull','BathroomsHalf', 'BathroomsTotalDecimal', 'BathroomsTotalInteger','BedroomsTotal', 'BuildingAreaTotal', 'City', 'CloseDate', 'ClosePrice', 'CumulativeDaysOnMarket', \n",
        "   'DaysOnMarket', 'GarageSpaces', 'Latitude', 'ListingContractDate', 'ListingId', 'ListPrice', \n",
        "   'ListSource', 'Longitude', 'LotSizeAcres', 'MlsStatus', 'OwnerName', 'OwnerPhone', 'OwnerPhoneAlternative',\n",
        "   'ParcelNumber', 'ParcelNumber2', 'PoolYN', 'PostalCode', 'PreviousListPrice', 'PreviousStatus', 'PropertySubType',\n",
        "   'PropertyType', 'PublicRemarks', 'PurchaseContractDate', 'SchoolDistrict', 'StandardStatus', 'StatusChangeTimestamp',\n",
        "   'StreetDirPrefix', 'StreetDirSuffix', 'StreetName', 'StreetNumber', 'StreetNumberNumeric', 'StreetSuffix', 'SubdivisionName',\n",
        "   'USProperty_MUI', 'YearBuilt','LivingArea']]\n"
      ],
      "metadata": {
        "id": "y7h0MvQK2CHj"
      },
      "execution_count": null,
      "outputs": []
    },
    {
      "cell_type": "code",
      "source": [
        "# change data type\n",
        "zip = []\n",
        "lo = []\n",
        "la = []\n",
        "\n",
        "for item in data['PostalCode']:\n",
        "    item = str(item)\n",
        "    zip.append(item)\n",
        "for item in data['Longitude']:\n",
        "    item = float(item)\n",
        "    lo.append(item)\n",
        "for item in data['Latitude']:\n",
        "    item = float(item)\n",
        "    la.append(item)\n",
        "data['PostalCode'] = zip\n",
        "data['Longitude'] = lo\n",
        "data['Latitude'] = la"
      ],
      "metadata": {
        "id": "np0fFXO_WdfP"
      },
      "execution_count": 111,
      "outputs": []
    },
    {
      "cell_type": "code",
      "source": [
        "# choose columns status\n",
        "\n",
        "data.loc[data['PropertySubType'] == 'Single Family Residence' ]\n",
        "data.loc[data['PropertyType'] == 'Residential']"
      ],
      "metadata": {
        "id": "fh-rJqMcAsK6"
      },
      "execution_count": null,
      "outputs": []
    },
    {
      "cell_type": "markdown",
      "source": [
        "# Set Input"
      ],
      "metadata": {
        "id": "ypooUCBznBtZ"
      }
    },
    {
      "cell_type": "code",
      "source": [
        "# input data address\n",
        "print('Enter address')\n",
        "address = input()\n",
        "print('Enter city')\n",
        "city = input()\n",
        "print('Enter state')\n",
        "state = input()\n",
        "print('Enter zipcode')\n",
        "zip = input()\n"
      ],
      "metadata": {
        "colab": {
          "base_uri": "https://localhost:8080/"
        },
        "id": "20psz5iRmlCu",
        "outputId": "8c690d20-0946-4aa8-e319-857f7606f21a"
      },
      "execution_count": 96,
      "outputs": [
        {
          "name": "stdout",
          "output_type": "stream",
          "text": [
            "Enter address\n",
            "3700 mapleshade ln\n",
            "Enter city\n",
            "plano\n",
            "Enter state\n",
            "tx\n",
            "Enter zipcode\n",
            "75075\n"
          ]
        }
      ]
    },
    {
      "cell_type": "code",
      "source": [
        "# # limit zipcode range\n",
        "data = data.loc[data['PostalCode'] == zip ]"
      ],
      "metadata": {
        "id": "vk1J7kEc3i4j"
      },
      "execution_count": 105,
      "outputs": []
    },
    {
      "cell_type": "code",
      "source": [
        "# if there is no longitude \n",
        "#get Longitude and Latitude\n",
        "\n",
        "##cg = CensusGeocode(benchmark='Public_AR_Current', vintage='Current_Current')\n",
        "# example: 1620 Yarborough Drive, city = Sherman, State = TX , zipcode = 75092\n",
        "\n",
        "\n",
        "result = cg.address(address, city = city, state= state,zipcode = zip)\n",
        "lo = result[0]['coordinates']['x']\n",
        "la = result[0]['coordinates']['y']\n",
        "print(result[0]['coordinates'])"
      ],
      "metadata": {
        "colab": {
          "base_uri": "https://localhost:8080/"
        },
        "id": "Y4lllOlnsepG",
        "outputId": "20658ae0-3cf0-4037-f0aa-2fe82c9a12e8"
      },
      "execution_count": 98,
      "outputs": [
        {
          "output_type": "stream",
          "name": "stdout",
          "text": [
            "{'x': -96.76240415323872, 'y': 33.00313878557192}\n"
          ]
        }
      ]
    },
    {
      "cell_type": "code",
      "source": [
        "# limit longitude and latitude\n",
        "\n",
        "new_data = data[(data['Longitude'] > lo - 0.01) & (data['Longitude'] < lo + 0.01)&\n",
        "               (data['Latitude'] < la + 0.02)& (data['Latitude'] > la - 0.02)]"
      ],
      "metadata": {
        "id": "UhfTPEPc-wy8"
      },
      "execution_count": 103,
      "outputs": []
    },
    {
      "cell_type": "code",
      "source": [
        "# limit the days\n",
        "\n",
        "data = data[data['CumulativeDaysOnMarket'].isin(range(0,90))] "
      ],
      "metadata": {
        "id": "6Giqo43t2Oly"
      },
      "execution_count": null,
      "outputs": []
    },
    {
      "cell_type": "code",
      "source": [
        "# limit square feet\n",
        "\n",
        "if 'LivingArea' <= 1100:\n",
        "  data[(data['LivingArea'] > area - 100) & (data['LivingArea'] < area + 100)\n",
        "elif 'LivingArea' <= 2200:\n",
        "  data[(data['LivingArea'] > area -200 )& (data['LivingArea'] > area + 200)]\n",
        "else:\n",
        "  data[(data['LivingArea'] > area -300 )& (data['LivingArea'] > area + 300)]\n"
      ],
      "metadata": {
        "id": "iooiFyjx8oVr"
      },
      "execution_count": null,
      "outputs": []
    },
    {
      "cell_type": "code",
      "source": [
        "# check number of house = (5,6)个 ok， 不等于repet 上面步骤扩大范围"
      ],
      "metadata": {
        "id": "FV-sw_cH8rLX"
      },
      "execution_count": null,
      "outputs": []
    },
    {
      "cell_type": "code",
      "source": [
        "# get top 3 mean max min\n",
        "# return csv"
      ],
      "metadata": {
        "id": "JsZnOLAv85uA"
      },
      "execution_count": null,
      "outputs": []
    }
  ]
}