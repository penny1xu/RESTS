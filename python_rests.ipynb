{
  "nbformat": 4,
  "nbformat_minor": 0,
  "metadata": {
    "colab": {
      "name": "python_rests.ipynb",
      "provenance": [],
      "collapsed_sections": [],
      "include_colab_link": true
    },
    "kernelspec": {
      "name": "python3",
      "display_name": "Python 3"
    },
    "language_info": {
      "name": "python"
    }
  },
  "cells": [
    {
      "cell_type": "markdown",
      "metadata": {
        "id": "view-in-github",
        "colab_type": "text"
      },
      "source": [
        "<a href=\"https://colab.research.google.com/github/penny1xu/RESTS/blob/main/python_rests.ipynb\" target=\"_parent\"><img src=\"https://colab.research.google.com/assets/colab-badge.svg\" alt=\"Open In Colab\"/></a>"
      ]
    },
    {
      "cell_type": "markdown",
      "source": [
        "# data clean \n",
        "\n",
        "BathroomsFull\n",
        "BathroomsHalf\n",
        "BathroomsTotalDecimal\n",
        "BathroomsTotalInteger\n",
        "BedroomsTotal\n",
        "BuildingAreaTotal\n",
        "City\n",
        "CloseDate\n",
        "ClosePrice\n",
        "CumulativeDaysOnMarket\n",
        "DaysOnMarket\n",
        "GarageSpaces\n",
        "Latitude\n",
        "ListingContractDate\n",
        "ListingId\n",
        "ListPrice\n",
        "ListSource\n",
        "Longitude\n",
        "LotSizeAcres\n",
        "MlsStatus\n",
        "OwnerName\n",
        "OwnerPhone\n",
        "OwnerPhoneAlternative\n",
        "ParcelNumber\n",
        "ParcelNumber2\n",
        "PoolYN\n",
        "PostalCode\n",
        "PreviousListPrice\n",
        "PreviousStatus\n",
        "PropertySubType\n",
        "PropertyType\n",
        "PublicRemarks\n",
        "PurchaseContractDate\n",
        "SchoolDistrict\n",
        "StandardStatus\n",
        "StatusChangeTimestamp\n",
        "StreetDirPrefix\n",
        "StreetDirSuffix\n",
        "StreetName\n",
        "StreetNumber\n",
        "StreetNumberNumeric\n",
        "StreetSuffix\n",
        "SubdivisionName\n",
        "USProperty_MUI\n",
        "YearBuilt\n",
        "\n"
      ],
      "metadata": {
        "id": "2MhZlJu91tcY"
      }
    },
    {
      "cell_type": "code",
      "execution_count": 1,
      "metadata": {
        "id": "wPno-Grq1E7_",
        "colab": {
          "base_uri": "https://localhost:8080/"
        },
        "outputId": "7c2d4ec6-01e2-4dda-f3ad-db13ec1fdcc9"
      },
      "outputs": [
        {
          "output_type": "stream",
          "name": "stdout",
          "text": [
            "Looking in indexes: https://pypi.org/simple, https://us-python.pkg.dev/colab-wheels/public/simple/\n",
            "Collecting censusgeocode\n",
            "  Downloading censusgeocode-0.5.2-py3-none-any.whl (9.2 kB)\n",
            "Collecting requests[security]<3,>=2.27.0\n",
            "  Downloading requests-2.27.1-py2.py3-none-any.whl (63 kB)\n",
            "\u001b[K     |████████████████████████████████| 63 kB 1.6 MB/s \n",
            "\u001b[?25hCollecting requests-toolbelt<1,>=0.9.0\n",
            "  Downloading requests_toolbelt-0.9.1-py2.py3-none-any.whl (54 kB)\n",
            "\u001b[K     |████████████████████████████████| 54 kB 3.2 MB/s \n",
            "\u001b[?25hRequirement already satisfied: requests<3.0.0,>=2.0.1 in /usr/local/lib/python3.7/dist-packages (from requests-toolbelt<1,>=0.9.0->censusgeocode) (2.23.0)\n",
            "Requirement already satisfied: certifi>=2017.4.17 in /usr/local/lib/python3.7/dist-packages (from requests<3.0.0,>=2.0.1->requests-toolbelt<1,>=0.9.0->censusgeocode) (2022.5.18.1)\n",
            "Requirement already satisfied: urllib3!=1.25.0,!=1.25.1,<1.26,>=1.21.1 in /usr/local/lib/python3.7/dist-packages (from requests<3.0.0,>=2.0.1->requests-toolbelt<1,>=0.9.0->censusgeocode) (1.24.3)\n",
            "Requirement already satisfied: idna<3,>=2.5 in /usr/local/lib/python3.7/dist-packages (from requests<3.0.0,>=2.0.1->requests-toolbelt<1,>=0.9.0->censusgeocode) (2.10)\n",
            "Requirement already satisfied: chardet<4,>=3.0.2 in /usr/local/lib/python3.7/dist-packages (from requests<3.0.0,>=2.0.1->requests-toolbelt<1,>=0.9.0->censusgeocode) (3.0.4)\n",
            "Requirement already satisfied: charset-normalizer~=2.0.0 in /usr/local/lib/python3.7/dist-packages (from requests[security]<3,>=2.27.0->censusgeocode) (2.0.12)\n",
            "Installing collected packages: requests, requests-toolbelt, censusgeocode\n",
            "  Attempting uninstall: requests\n",
            "    Found existing installation: requests 2.23.0\n",
            "    Uninstalling requests-2.23.0:\n",
            "      Successfully uninstalled requests-2.23.0\n",
            "\u001b[31mERROR: pip's dependency resolver does not currently take into account all the packages that are installed. This behaviour is the source of the following dependency conflicts.\n",
            "google-colab 1.0.0 requires requests~=2.23.0, but you have requests 2.27.1 which is incompatible.\n",
            "datascience 0.10.6 requires folium==0.2.1, but you have folium 0.8.3 which is incompatible.\u001b[0m\n",
            "Successfully installed censusgeocode-0.5.2 requests-2.27.1 requests-toolbelt-0.9.1\n"
          ]
        }
      ],
      "source": [
        "#import package\n",
        "!pip install censusgeocode\n",
        "import csv\n",
        "import pandas as pd\n",
        "import censusgeocode as cg\n",
        "import numpy as np\n",
        "import sys\n"
      ]
    },
    {
      "cell_type": "markdown",
      "source": [
        "# Data cleaning"
      ],
      "metadata": {
        "id": "Mjf7gspwBB_n"
      }
    },
    {
      "cell_type": "code",
      "source": [
        "import pandas as pd\n",
        "import censusgeocode as cg\n",
        "data= pd.read_csv(\"final.csv\")\n",
        "# select the data columns we want \n",
        "data = data[['BathroomsFull','BathroomsHalf', 'BathroomsTotalDecimal', 'BathroomsTotalInteger','BedroomsTotal', 'BuildingAreaTotal', 'City', 'CloseDate', 'ClosePrice', 'CumulativeDaysOnMarket', \n",
        "   'DaysOnMarket', 'GarageSpaces', 'Latitude', 'ListingContractDate', 'ListingId', 'ListPrice', \n",
        "   'ListSource', 'LivingArea', 'Longitude', 'LotSizeAcres', 'MlsStatus', 'OwnerName', 'OwnerPhone', 'OwnerPhoneAlternative',\n",
        "   'ParcelNumber', 'ParcelNumber2', 'PoolYN', 'PostalCode', 'PreviousListPrice', 'PreviousStatus', 'PropertySubType',\n",
        "   'PropertyType', 'PublicRemarks', 'PurchaseContractDate', 'SchoolDistrict', 'StandardStatus', 'StatusChangeTimestamp',\n",
        "   'StreetDirPrefix', 'StreetDirSuffix', 'StreetName', 'StreetNumber', 'StreetNumberNumeric', 'StreetSuffix', 'SubdivisionName',\n",
        "   'USProperty_MUI', 'YearBuilt']]\n",
        "code = []\n",
        "long = []\n",
        "lat = []\n",
        "area = []\n",
        "price = []\n",
        "for item in data['PostalCode']:\n",
        "    item = str(item)\n",
        "    code.append(item)\n",
        "for item in data['Longitude']:\n",
        "    item = float(item)\n",
        "    long.append(item)\n",
        "for item in data['Latitude']:\n",
        "    item = float(item)\n",
        "    lat.append(item)\n",
        "for item in data['LivingArea']:\n",
        "    item = float(item)\n",
        "    area.append(item)\n",
        "for item in data['ClosePrice']:\n",
        "    item = float(item)\n",
        "    price.append(item)\n",
        "data['PostalCode'] = code\n",
        "data['Longitude'] = long\n",
        "data['Latitude'] = lat\n",
        "data['LivingArea'] = area\n",
        "data['ClosePrice'] = price\n",
        "def findHouse(house_leftLa, house_rightLa, house_leftLo, house_rightLo, house_leftSqt, house_rightSqt, data):\n",
        "    basic = house_leftSqt\n",
        "    result = data[(data['Longitude'] >= house_leftLo) & (data['Longitude'] <= house_rightLo) & (data['Latitude'] >= house_leftLa) & (data['Latitude'] <= house_rightLa) & (data['LivingArea'] >= house_leftSqt) & (data['LivingArea'] <= house_rightSqt)]\n",
        "    if(len(result['Longitude']) >= 5):\n",
        "        return result\n",
        "    else:\n",
        "        house_leftLa -= 0.01\n",
        "        house_rightLa += 0.01\n",
        "        house_leftLo -= 0.01\n",
        "        house_rightLo += 0.01\n",
        "        if(basic <= 1100):\n",
        "            house_leftSqt -= 100\n",
        "            house_rightSqt += 100\n",
        "        elif(basic <= 2200):\n",
        "            house_leftSqt -= 200\n",
        "            house_rightSqt += 200\n",
        "        else:\n",
        "            house_leftSqt -= 300\n",
        "            house_rightSqt += 300\n",
        "        return findHouse(house_leftLa, house_rightLa, house_leftLo, house_rightLo, house_leftSqt, house_rightSqt, data)  \n",
        "def findifNull(lo_left, lo_right, la_left, la_right, data):\n",
        "    new_data = data[(data['Longitude'] >= lo_left) & (data['Longitude'] <= lo_right)&(data['Latitude'] >= la_left)& (data['Latitude'] <=la_right)]\n",
        "    if(len(new_data['Longitude'])>=5):\n",
        "        return new_data\n",
        "    else:\n",
        "        lo_left -= 0.01\n",
        "        lo_right += 0.01\n",
        "        la_left -= 0.02\n",
        "        la_right += 0.02\n",
        "        return findifNull(lo_left, lo_right, la_left, la_right, data)\n",
        "def main(data):\n",
        "    print('Enter #MLS')\n",
        "    mls = input()\n",
        "    #14730621\n",
        "    if int(mls) in list(data['ListingId']):\n",
        "        print(\"\\nThis value exists in Dataframe\")\n",
        "  # get whole row value\n",
        "        pulled_value = data.loc[data['ListingId'] == int(mls)]\n",
        "  #get each value\n",
        "        records = pulled_value.to_dict('records')\n",
        "        zip = records[0].get('PostalCode')\n",
        "        print(records[0])\n",
        "        records = pulled_value.to_dict('records')\n",
        "        data = data[data['PostalCode'] == zip ]\n",
        "        house_leftLa = records[0].get('Latitude')\n",
        "        house_rightLa = records[0].get('Latitude') \n",
        "        house_leftLo = records[0].get('Longitude')\n",
        "        house_rightLo = records[0].get('Longitude')\n",
        "        house_leftSqt = records[0].get('LivingArea')\n",
        "        house_rightSqt = records[0].get('LivingArea')\n",
        "        result = findHouse(house_leftLa, house_rightLa, house_leftLo, house_rightLo, house_leftSqt, house_rightSqt, data)\n",
        "        mean = result['ClosePrice'].mean()\n",
        "        top = list(result['ClosePrice'])\n",
        "        top.sort(reverse = True)\n",
        "        return result.to_csv('result.csv'), mean, top[0:3]\n",
        "    else:\n",
        "        print('invalid ID, please insert specific value')\n",
        "        print('Enter address')\n",
        "        address = input()\n",
        "        #'2836 Meadowbrook Drive'\n",
        "        print('Enter city')\n",
        "        city = input()\n",
        "        #'Dallas'\n",
        "        print('Enter state')\n",
        "        state = input()\n",
        "        #'Texas'\n",
        "        print('Enter zipcode')\n",
        "        zip = input()\n",
        "        #'75227'\n",
        "        result = cg.address(address, city = city, state= state,zipcode = zip)\n",
        "        lo_left = result[0]['coordinates']['x']\n",
        "        lo_right = result[0]['coordinates']['x']\n",
        "        la_left = result[0]['coordinates']['y']\n",
        "        la_right = result[0]['coordinates']['y']\n",
        "        data = data[data['PostalCode'] == zip ]\n",
        "        result = findifNull(lo_left, lo_right, la_left, la_right, data)\n",
        "        mean = result['ClosePrice'].mean()\n",
        "        top = list(result['ClosePrice'])\n",
        "        top.sort(reverse = True)\n",
        "        return result.to_csv('result.csv'), mean, top[0:3]\n",
        "  # # limit zipcode range\n",
        "    \n",
        "if __name__ == \"__main__\":\n",
        "    print(main(data))"
      ],
      "metadata": {
        "colab": {
          "base_uri": "https://localhost:8080/"
        },
        "id": "tEleJ93ZLJza",
        "outputId": "9e9d7872-2fa8-43ec-bab1-35ba24592e00"
      },
      "execution_count": 2,
      "outputs": [
        {
          "output_type": "stream",
          "name": "stderr",
          "text": [
            "/usr/local/lib/python3.7/dist-packages/IPython/core/interactiveshell.py:2882: DtypeWarning: Columns (23,24,25,27,29,30,31,76,92,132,137,139,171,173,197,202,226,227,228,229,253,255,299,300,355,359,360,361,362,379,382,383) have mixed types.Specify dtype option on import or set low_memory=False.\n",
            "  exec(code_obj, self.user_global_ns, self.user_ns)\n"
          ]
        },
        {
          "output_type": "stream",
          "name": "stdout",
          "text": [
            "Enter #MLS\n",
            "20070854\n",
            "\n",
            "This value exists in Dataframe\n",
            "{'BathroomsFull': 4, 'BathroomsHalf': 1, 'BathroomsTotalDecimal': 4.1, 'BathroomsTotalInteger': 5, 'BedroomsTotal': 4, 'BuildingAreaTotal': nan, 'City': 'Southlake', 'CloseDate': nan, 'ClosePrice': nan, 'CumulativeDaysOnMarket': 0, 'DaysOnMarket': 0, 'GarageSpaces': 2.0, 'Latitude': 32.942335, 'ListingContractDate': '2022-05-31', 'ListingId': 20070854, 'ListPrice': 2500000.0, 'ListSource': nan, 'LivingArea': 4150.0, 'Longitude': -97.126316, 'LotSizeAcres': 0.076, 'MlsStatus': 'Active', 'OwnerName': 'Mike & Ditto Tamer', 'OwnerPhone': nan, 'OwnerPhoneAlternative': nan, 'ParcelNumber': '41281969', 'ParcelNumber2': nan, 'PoolYN': 1.0, 'PostalCode': '76092', 'PreviousListPrice': nan, 'PreviousStatus': nan, 'PropertySubType': 'Single Family Residence', 'PropertyType': 'Residential', 'PublicRemarks': 'Absolutely stunning one-of-a-kind FULLY FURNISHED modern home completely remodeled in 2021 to include a new roof. You will never see another home like this. Each room is completely unique and beautiful. Custom art work and custom office furniture is not included but is NEGOTIABLE. Custom lighting and hidden storage throughout the home. Pisher & Paykel appliances with a Sub-Zero wine fridge and an additional Riedel certified Miele dishwasher. Second laundry in fully cedar master closet. Custom magnetic and flush doors from Italy. Soft close cabinets, metal flush baseboards, and in-wall speakers throughout the home. Fourth bedroom or office is separate from the main house with its own entrance from the garage. Too many features to mention all. Must See!', 'PurchaseContractDate': nan, 'SchoolDistrict': 'Carroll ISD', 'StandardStatus': 'Active', 'StatusChangeTimestamp': '2022-05-31T09:38:01.257', 'StreetDirPrefix': nan, 'StreetDirSuffix': nan, 'StreetName': 'Main', 'StreetNumber': '1575', 'StreetNumberNumeric': 1575, 'StreetSuffix': 'Street', 'SubdivisionName': 'Southlake Town Square Brownsto', 'USProperty_MUI': 402381818.0, 'YearBuilt': 2006}\n",
            "(None, 1445625.0, [1955000.0, 1330000.0, 1260000.0])\n"
          ]
        }
      ]
    }
  ]
}