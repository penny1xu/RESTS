{
  "nbformat": 4,
  "nbformat_minor": 0,
  "metadata": {
    "colab": {
      "name": "python_rests.ipynb",
      "provenance": [],
      "collapsed_sections": [],
      "include_colab_link": true
    },
    "kernelspec": {
      "name": "python3",
      "display_name": "Python 3"
    },
    "language_info": {
      "name": "python"
    }
  },
  "cells": [
    {
      "cell_type": "markdown",
      "metadata": {
        "id": "view-in-github",
        "colab_type": "text"
      },
      "source": [
        "<a href=\"https://colab.research.google.com/github/penny1xu/RESTS/blob/main/python_rests.ipynb\" target=\"_parent\"><img src=\"https://colab.research.google.com/assets/colab-badge.svg\" alt=\"Open In Colab\"/></a>"
      ]
    },
    {
      "cell_type": "markdown",
      "source": [
        "# data clean \n",
        "\n",
        "BathroomsFull\n",
        "BathroomsHalf\n",
        "BathroomsTotalDecimal\n",
        "BathroomsTotalInteger\n",
        "BedroomsTotal\n",
        "BuildingAreaTotal\n",
        "City\n",
        "CloseDate\n",
        "ClosePrice\n",
        "CumulativeDaysOnMarket\n",
        "DaysOnMarket\n",
        "GarageSpaces\n",
        "Latitude\n",
        "ListingContractDate\n",
        "ListingId\n",
        "ListPrice\n",
        "ListSource\n",
        "Longitude\n",
        "LotSizeAcres\n",
        "MlsStatus\n",
        "OwnerName\n",
        "OwnerPhone\n",
        "OwnerPhoneAlternative\n",
        "ParcelNumber\n",
        "ParcelNumber2\n",
        "PoolYN\n",
        "PostalCode\n",
        "PreviousListPrice\n",
        "PreviousStatus\n",
        "PropertySubType\n",
        "PropertyType\n",
        "PublicRemarks\n",
        "PurchaseContractDate\n",
        "SchoolDistrict\n",
        "StandardStatus\n",
        "StatusChangeTimestamp\n",
        "StreetDirPrefix\n",
        "StreetDirSuffix\n",
        "StreetName\n",
        "StreetNumber\n",
        "StreetNumberNumeric\n",
        "StreetSuffix\n",
        "SubdivisionName\n",
        "USProperty_MUI\n",
        "YearBuilt\n",
        "\n"
      ],
      "metadata": {
        "id": "2MhZlJu91tcY"
      }
    },
    {
      "cell_type": "code",
      "execution_count": 51,
      "metadata": {
        "id": "wPno-Grq1E7_",
        "colab": {
          "base_uri": "https://localhost:8080/"
        },
        "outputId": "2acc1d52-fed7-4863-c249-e992fabee883"
      },
      "outputs": [
        {
          "output_type": "stream",
          "name": "stdout",
          "text": [
            "Looking in indexes: https://pypi.org/simple, https://us-python.pkg.dev/colab-wheels/public/simple/\n",
            "Requirement already satisfied: censusgeocode in /usr/local/lib/python3.7/dist-packages (0.5.2)\n",
            "Requirement already satisfied: requests-toolbelt<1,>=0.9.0 in /usr/local/lib/python3.7/dist-packages (from censusgeocode) (0.9.1)\n",
            "Requirement already satisfied: requests[security]<3,>=2.27.0 in /usr/local/lib/python3.7/dist-packages (from censusgeocode) (2.27.1)\n",
            "Requirement already satisfied: urllib3<1.27,>=1.21.1 in /usr/local/lib/python3.7/dist-packages (from requests[security]<3,>=2.27.0->censusgeocode) (1.24.3)\n",
            "Requirement already satisfied: idna<4,>=2.5 in /usr/local/lib/python3.7/dist-packages (from requests[security]<3,>=2.27.0->censusgeocode) (2.10)\n",
            "Requirement already satisfied: certifi>=2017.4.17 in /usr/local/lib/python3.7/dist-packages (from requests[security]<3,>=2.27.0->censusgeocode) (2022.5.18.1)\n",
            "Requirement already satisfied: charset-normalizer~=2.0.0 in /usr/local/lib/python3.7/dist-packages (from requests[security]<3,>=2.27.0->censusgeocode) (2.0.12)\n"
          ]
        }
      ],
      "source": [
        "#import package\n",
        "!pip install censusgeocode\n",
        "import csv\n",
        "import pandas as pd\n",
        "import censusgeocode as cg\n",
        "import numpy as np\n",
        "import sys\n"
      ]
    },
    {
      "cell_type": "markdown",
      "source": [
        "# Data cleaning"
      ],
      "metadata": {
        "id": "Mjf7gspwBB_n"
      }
    },
    {
      "cell_type": "code",
      "source": [
        "data= pd.read_csv(\"final.csv\")\n",
        "# select the data columns we want \n",
        "data = data[['BathroomsFull','BathroomsHalf', 'BathroomsTotalDecimal', 'BathroomsTotalInteger','BedroomsTotal', 'BuildingAreaTotal', 'City', 'CloseDate', 'ClosePrice', 'CumulativeDaysOnMarket', \n",
        "   'DaysOnMarket', 'GarageSpaces', 'Latitude', 'ListingContractDate', 'ListingId', 'ListPrice', \n",
        "   'ListSource', 'Longitude', 'LotSizeAcres', 'MlsStatus', 'OwnerName', 'OwnerPhone', 'OwnerPhoneAlternative',\n",
        "   'ParcelNumber', 'ParcelNumber2', 'PoolYN', 'PostalCode', 'PreviousListPrice', 'PreviousStatus', 'PropertySubType',\n",
        "   'PropertyType', 'PublicRemarks', 'PurchaseContractDate', 'SchoolDistrict', 'StandardStatus', 'StatusChangeTimestamp',\n",
        "   'StreetDirPrefix', 'StreetDirSuffix', 'StreetName', 'StreetNumber', 'StreetNumberNumeric', 'StreetSuffix', 'SubdivisionName',\n",
        "   'USProperty_MUI', 'YearBuilt','LivingArea']]\n"
      ],
      "metadata": {
        "colab": {
          "base_uri": "https://localhost:8080/"
        },
        "id": "y7h0MvQK2CHj",
        "outputId": "9f7a8f40-12df-4725-a9ce-d5134cc92c8a"
      },
      "execution_count": 60,
      "outputs": [
        {
          "output_type": "stream",
          "name": "stderr",
          "text": [
            "/usr/local/lib/python3.7/dist-packages/IPython/core/interactiveshell.py:2882: DtypeWarning: Columns (23,24,25,27,29,30,31,76,92,132,137,139,171,173,197,202,226,227,228,229,253,255,299,300,355,359,360,361,362,379,382,383) have mixed types.Specify dtype option on import or set low_memory=False.\n",
            "  exec(code_obj, self.user_global_ns, self.user_ns)\n"
          ]
        }
      ]
    },
    {
      "cell_type": "markdown",
      "source": [
        "# Set Input"
      ],
      "metadata": {
        "id": "ypooUCBznBtZ"
      }
    },
    {
      "cell_type": "code",
      "source": [
        "# change data type\n",
        "zip = []\n",
        "lo = []\n",
        "la = []\n",
        "sqt = []\n",
        "\n",
        "for item in data['PostalCode']:\n",
        "    item = str(item)\n",
        "    zip.append(item)\n",
        "for item in data['Longitude']:\n",
        "    item = float(item)\n",
        "    lo.append(item)\n",
        "for item in data['Latitude']:\n",
        "    item = float(item)\n",
        "    la.append(item)\n",
        "for item in data['LivingArea']:\n",
        "    item = float(item)\n",
        "    sqt.append(item)\n",
        "\n",
        "data['PostalCode'] = zip\n",
        "data['Longitude'] = lo\n",
        "data['Latitude'] = la\n",
        "data['LivingArea'] = sqt"
      ],
      "metadata": {
        "id": "np0fFXO_WdfP"
      },
      "execution_count": 61,
      "outputs": []
    },
    {
      "cell_type": "code",
      "source": [
        "# choose columns status\n",
        "\n",
        "data = data.loc[data['PropertySubType'] == 'Single Family Residence' ]\n",
        "data = data.loc[data['PropertyType'] == 'Residential']"
      ],
      "metadata": {
        "id": "fh-rJqMcAsK6"
      },
      "execution_count": 62,
      "outputs": []
    },
    {
      "cell_type": "markdown",
      "source": [
        "# filter the data"
      ],
      "metadata": {
        "id": "mju5V6fNOS8u"
      }
    },
    {
      "cell_type": "code",
      "source": [
        "# input data address\n",
        "print('Enter #MLS')\n",
        "mls = 14730621\n",
        "print('Enter address')\n",
        "address = '2836 Meadowbrook Drive'\n",
        "print('Enter city')\n",
        "city = 'Dallas'\n",
        "print('Enter state')\n",
        "state = 'Texas'\n",
        "print('Enter zipcode')\n",
        "zip = '75227'\n",
        "\n"
      ],
      "metadata": {
        "colab": {
          "base_uri": "https://localhost:8080/"
        },
        "id": "20psz5iRmlCu",
        "outputId": "51b2e7a9-2a7b-445d-92c5-3a0756516728"
      },
      "execution_count": 63,
      "outputs": [
        {
          "output_type": "stream",
          "name": "stdout",
          "text": [
            "Enter #MLS\n",
            "Enter address\n",
            "Enter city\n",
            "Enter state\n",
            "Enter zipcode\n"
          ]
        }
      ]
    },
    {
      "cell_type": "markdown",
      "source": [
        "# code part"
      ],
      "metadata": {
        "id": "S5rC1RLCuGZR"
      }
    },
    {
      "cell_type": "code",
      "source": [
        "def findHouse(house_leftLa, house_rightLa, house_leftLo, house_rightLo, house_leftSqt, house_rightSqt, data):\n",
        "    basic = house_leftSqt\n",
        "    result = data[(data['Longitude'] >= house_leftLo) & (data['Longitude'] <= house_rightLo) & (data['Latitude'] >= house_leftLa) & (data['Latitude'] <= house_rightLa) & (data['LivingArea'] >= house_leftSqt) & (data['LivingArea'] <= house_rightSqt)]\n",
        "    if(len(result['Longitude']) >= 6):\n",
        "        return result\n",
        "    else:\n",
        "        house_leftLa -= 0.05\n",
        "        house_rightLa += 0.05\n",
        "        house_leftLo -= 0.05\n",
        "        house_rightLo += 0.05\n",
        "        if(basic <= 1100):\n",
        "            house_leftSqt -= 100\n",
        "            house_rightSqt += 100\n",
        "        elif(basic <= 2200):\n",
        "            house_leftSqt -= 200\n",
        "            house_rightSqt += 200\n",
        "        else:\n",
        "            house_leftSqt -= 300\n",
        "            house_rightSqt += 300\n",
        "        return findHouse(house_leftLa, house_rightLa, house_leftLo, house_rightLo, house_leftSqt, house_rightSqt, data)  \n",
        "        \n",
        "\n",
        "#findHouse(house_leftLa, house_rightLa, house_leftLo, house_rightLo, house_leftSqt, house_rightSqt, data)"
      ],
      "metadata": {
        "id": "JsZnOLAv85uA"
      },
      "execution_count": 64,
      "outputs": []
    },
    {
      "cell_type": "code",
      "source": [
        "# find value in csv \n",
        "res_mls = data.isin([mls]).any().any()\n",
        "if res_mls :\n",
        "  print(\"\\nThis value exists in Dataframe\")\n",
        "  # get whole row value\n",
        "  pulled_value = data.loc[data['ListingId'] == mls]\n",
        "  #get each value\n",
        "  dict = pulled_value.to_dict('records')\n",
        "  #defined number\n",
        "  house_leftLa = dict[0].get('Latitude')\n",
        "  house_rightLa = dict[0].get('Latitude') \n",
        "  house_leftLo = dict[0].get('Longitude')\n",
        "  house_rightLo = dict[0].get('Longitude')\n",
        "  house_leftSqt = dict[0].get('LivingArea')\n",
        "  house_rightSqt = dict[0].get('LivingArea')\n",
        "\n",
        "  # get zip\n",
        "  data = data.loc[data['PostalCode'] == zip ]\n",
        "  findHouse(house_leftLa, house_rightLa, house_leftLo, house_rightLo, house_leftSqt, house_rightSqt, data)\n",
        "\n",
        "\n",
        "else :\n",
        "  print(\"\\nThis value does not exists in Dataframe\")\n",
        "  # # limit zipcode range\n",
        "  \n",
        "  # if there is no longitude \n",
        "  #get Longitude and Latitude\n",
        "\n",
        "  ##cg = CensusGeocode(benchmark='Public_AR_Current', vintage='Current_Current')\n",
        "  result = cg.address(address, city = city, state= state,zipcode = zip)\n",
        "  lo = result[0]['coordinates']['x']\n",
        "  la = result[0]['coordinates']['y']\n",
        "  print(result[0]['coordinates'])\n",
        "  data = data.loc[data['PostalCode'] == zip ]\n",
        "  new_data = data[(data['Longitude'] > lo - 0.01) & (data['Longitude'] < lo + 0.01)&\n",
        "               (data['Latitude'] < la + 0.02)& (data['Latitude'] > la - 0.02)]"
      ],
      "metadata": {
        "colab": {
          "base_uri": "https://localhost:8080/"
        },
        "id": "LYstF_OqZkJ-",
        "outputId": "8f3fa836-7769-44db-e583-29f48907a0bd"
      },
      "execution_count": 65,
      "outputs": [
        {
          "output_type": "stream",
          "name": "stdout",
          "text": [
            "\n",
            "This value exists in Dataframe\n"
          ]
        }
      ]
    },
    {
      "cell_type": "code",
      "source": [
        ""
      ],
      "metadata": {
        "id": "UhfTPEPc-wy8",
        "colab": {
          "base_uri": "https://localhost:8080/",
          "height": 134
        },
        "outputId": "e22e75f2-639e-4699-85a5-5681d7f42fdd"
      },
      "execution_count": 54,
      "outputs": [
        {
          "output_type": "error",
          "ename": "SyntaxError",
          "evalue": "ignored",
          "traceback": [
            "\u001b[0;36m  File \u001b[0;32m\"<ipython-input-54-9c0e077063db>\"\u001b[0;36m, line \u001b[0;32m1\u001b[0m\n\u001b[0;31m    else :\u001b[0m\n\u001b[0m       ^\u001b[0m\n\u001b[0;31mSyntaxError\u001b[0m\u001b[0;31m:\u001b[0m invalid syntax\n"
          ]
        }
      ]
    },
    {
      "cell_type": "code",
      "source": [
        "# limit the days\n",
        "data = data.loc[data['PostalCode'] == zip ]\n",
        "data = data[data['CumulativeDaysOnMarket'].isin(range(0,90))] "
      ],
      "metadata": {
        "id": "6Giqo43t2Oly"
      },
      "execution_count": null,
      "outputs": []
    },
    {
      "cell_type": "code",
      "source": [
        "# limit square feet\n",
        "\n",
        "if 'LivingArea' <= 1100:\n",
        "  data[(data['LivingArea'] > area - 100) & (data['LivingArea'] < area + 100)\n",
        "elif 'LivingArea' <= 2200:\n",
        "  data[(data['LivingArea'] > area -200 )& (data['LivingArea'] > area + 200)]\n",
        "else:\n",
        "  data[(data['LivingArea'] > area -300 )& (data['LivingArea'] > area + 300)]\n"
      ],
      "metadata": {
        "id": "iooiFyjx8oVr"
      },
      "execution_count": null,
      "outputs": []
    },
    {
      "cell_type": "code",
      "source": [
        "#defined number\n",
        "house_leftLa = dict[0].get('Latitude')\n",
        "house_rightLa = dict[0].get('Latitude') \n",
        "house_leftLo = dict[0].get('Longitude')\n",
        "house_rightLo = dict[0].get('Longitude')\n",
        "house_leftSqt = dict[0].get('LivingArea')\n",
        "house_rightSqt = dict[0].get('LivingArea')"
      ],
      "metadata": {
        "id": "FV-sw_cH8rLX"
      },
      "execution_count": 44,
      "outputs": []
    }
  ]
}