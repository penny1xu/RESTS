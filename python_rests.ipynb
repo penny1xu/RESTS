{
  "nbformat": 4,
  "nbformat_minor": 0,
  "metadata": {
    "colab": {
      "name": "python_rests.ipynb",
      "provenance": [],
      "collapsed_sections": [],
      "authorship_tag": "ABX9TyNx7X3DwlLGvmJWmuOxbDUF",
      "include_colab_link": true
    },
    "kernelspec": {
      "name": "python3",
      "display_name": "Python 3"
    },
    "language_info": {
      "name": "python"
    }
  },
  "cells": [
    {
      "cell_type": "markdown",
      "metadata": {
        "id": "view-in-github",
        "colab_type": "text"
      },
      "source": [
        "<a href=\"https://colab.research.google.com/github/penny1xu/RESTS/blob/main/python_rests.ipynb\" target=\"_parent\"><img src=\"https://colab.research.google.com/assets/colab-badge.svg\" alt=\"Open In Colab\"/></a>"
      ]
    },
    {
      "cell_type": "markdown",
      "source": [
        "# data clean \n",
        "\n",
        "BathroomsFull\n",
        "BathroomsHalf\n",
        "BathroomsTotalDecimal\n",
        "BathroomsTotalInteger\n",
        "BedroomsTotal\n",
        "BuildingAreaTotal\n",
        "City\n",
        "CloseDate\n",
        "ClosePrice\n",
        "CumulativeDaysOnMarket\n",
        "DaysOnMarket\n",
        "GarageSpaces\n",
        "Latitude\n",
        "ListingContractDate\n",
        "ListingId\n",
        "ListPrice\n",
        "ListSource\n",
        "Longitude\n",
        "LotSizeAcres\n",
        "MlsStatus\n",
        "OwnerName\n",
        "OwnerPhone\n",
        "OwnerPhoneAlternative\n",
        "ParcelNumber\n",
        "ParcelNumber2\n",
        "PoolYN\n",
        "PostalCode\n",
        "PreviousListPrice\n",
        "PreviousStatus\n",
        "PropertySubType\n",
        "PropertyType\n",
        "PublicRemarks\n",
        "PurchaseContractDate\n",
        "SchoolDistrict\n",
        "StandardStatus\n",
        "StatusChangeTimestamp\n",
        "StreetDirPrefix\n",
        "StreetDirSuffix\n",
        "StreetName\n",
        "StreetNumber\n",
        "StreetNumberNumeric\n",
        "StreetSuffix\n",
        "SubdivisionName\n",
        "USProperty_MUI\n",
        "YearBuilt\n",
        "\n"
      ],
      "metadata": {
        "id": "2MhZlJu91tcY"
      }
    },
    {
      "cell_type": "code",
      "execution_count": null,
      "metadata": {
        "id": "wPno-Grq1E7_"
      },
      "outputs": [],
      "source": [
        "#import package\n",
        "!pip install censusgeocode\n",
        "import csv\n",
        "import pandas as pd\n",
        "import censusgeocode as cg"
      ]
    },
    {
      "cell_type": "markdown",
      "source": [
        "# Data cleaning"
      ],
      "metadata": {
        "id": "Mjf7gspwBB_n"
      }
    },
    {
      "cell_type": "code",
      "source": [
        "data= pd.read_csv(\"final.csv\")\n",
        "# select the data columns we want \n",
        "data = data[['BathroomsFull','BathroomsHalf', 'BathroomsTotalDecimal', 'BathroomsTotalInteger','BedroomsTotal', 'BuildingAreaTotal', 'City', 'CloseDate', 'ClosePrice', 'CumulativeDaysOnMarket', \n",
        "   'DaysOnMarket', 'GarageSpaces', 'Latitude', 'ListingContractDate', 'ListingId', 'ListPrice', \n",
        "   'ListSource', 'Longitude', 'LotSizeAcres', 'MlsStatus', 'OwnerName', 'OwnerPhone', 'OwnerPhoneAlternative',\n",
        "   'ParcelNumber', 'ParcelNumber2', 'PoolYN', 'PostalCode', 'PreviousListPrice', 'PreviousStatus', 'PropertySubType',\n",
        "   'PropertyType', 'PublicRemarks', 'PurchaseContractDate', 'SchoolDistrict', 'StandardStatus', 'StatusChangeTimestamp',\n",
        "   'StreetDirPrefix', 'StreetDirSuffix', 'StreetName', 'StreetNumber', 'StreetNumberNumeric', 'StreetSuffix', 'SubdivisionName',\n",
        "   'USProperty_MUI', 'YearBuilt']]\n"
      ],
      "metadata": {
        "colab": {
          "base_uri": "https://localhost:8080/"
        },
        "id": "y7h0MvQK2CHj",
        "outputId": "8bcfe626-c628-492f-ca70-322c9ac560cf"
      },
      "execution_count": 58,
      "outputs": [
        {
          "output_type": "stream",
          "name": "stderr",
          "text": [
            "/usr/local/lib/python3.7/dist-packages/IPython/core/interactiveshell.py:2882: DtypeWarning: Columns (23,24,25,27,29,30,31,76,92,132,137,139,171,173,197,202,226,227,228,229,253,255,299,300,355,359,360,361,362,379,382,383) have mixed types.Specify dtype option on import or set low_memory=False.\n",
            "  exec(code_obj, self.user_global_ns, self.user_ns)\n"
          ]
        }
      ]
    },
    {
      "cell_type": "code",
      "source": [
        "# choose columns status\n",
        "\n",
        "data.loc[data['PropertySubType'] == 'Single Family Residence' ]\n",
        "data.loc[data['PropertyType'] == 'Residential']"
      ],
      "metadata": {
        "id": "fh-rJqMcAsK6"
      },
      "execution_count": null,
      "outputs": []
    },
    {
      "cell_type": "markdown",
      "source": [
        "# Set Input"
      ],
      "metadata": {
        "id": "ypooUCBznBtZ"
      }
    },
    {
      "cell_type": "code",
      "source": [
        "# input data address\n",
        "print('Enter address')\n",
        "address = input()\n",
        "print('Enter city')\n",
        "city = input()\n",
        "print('Enter state')\n",
        "state = input()\n",
        "print('Enter zipcode')\n",
        "zip = input()\n"
      ],
      "metadata": {
        "colab": {
          "base_uri": "https://localhost:8080/"
        },
        "id": "20psz5iRmlCu",
        "outputId": "871289cc-4b1e-4afb-a678-fac4a268dc7e"
      },
      "execution_count": 5,
      "outputs": [
        {
          "name": "stdout",
          "output_type": "stream",
          "text": [
            "Enter address\n",
            "3700 mapleshade ln\n",
            "Enter city\n",
            "plano\n",
            "Enter state\n",
            "tx\n",
            "Enter zipcode\n",
            "75075\n"
          ]
        }
      ]
    },
    {
      "cell_type": "code",
      "source": [
        "# # limit zipcode range\n",
        "data = data.loc[data['PostalCode'] == zip ]"
      ],
      "metadata": {
        "id": "vk1J7kEc3i4j"
      },
      "execution_count": 52,
      "outputs": []
    },
    {
      "cell_type": "code",
      "source": [
        "# if there is no longitude \n",
        "#get Longitude and Latitude\n",
        "\n",
        "##cg = CensusGeocode(benchmark='Public_AR_Current', vintage='Current_Current')\n",
        "# example: 1620 Yarborough Drive, city = Sherman, State = TX , zipcode = 75092\n",
        "\n",
        "result = cg.address(address, city = city, state= state,zipcode = zip)\n",
        "lo = result[0]['coordinates']['x']\n",
        "la = result[0]['coordinates']['y']\n",
        "print(result[0]['coordinates'])\n",
        "\n"
      ],
      "metadata": {
        "colab": {
          "base_uri": "https://localhost:8080/"
        },
        "id": "Y4lllOlnsepG",
        "outputId": "c5049895-613c-4b0e-9caa-4b6bd3161f50"
      },
      "execution_count": 59,
      "outputs": [
        {
          "output_type": "stream",
          "name": "stdout",
          "text": [
            "{'x': -96.76240415323872, 'y': 33.00313878557192}\n"
          ]
        }
      ]
    },
    {
      "cell_type": "code",
      "source": [
        "# limit longitude and latitude\n",
        "data_lo = data[(data['Longitude'] > lo - float(0.01)) & data['Longitude'] < lo + float(0.01)]\n",
        "\n",
        "data_la = data_lo[(data_lo['Latitude'] > la - float(0.02)) & data_lo['Latitude'] < la + float(0.02)] \n"
      ],
      "metadata": {
        "id": "UhfTPEPc-wy8"
      },
      "execution_count": 76,
      "outputs": []
    },
    {
      "cell_type": "code",
      "source": [
        "data_lo\n"
      ],
      "metadata": {
        "colab": {
          "base_uri": "https://localhost:8080/",
          "height": 143
        },
        "id": "s5vaYGUz_vYG",
        "outputId": "4672c17a-d0d6-4587-af79-1376630e3d24"
      },
      "execution_count": 78,
      "outputs": [
        {
          "output_type": "execute_result",
          "data": {
            "text/plain": [
              "Empty DataFrame\n",
              "Columns: [BathroomsFull, BathroomsHalf, BathroomsTotalDecimal, BathroomsTotalInteger, BedroomsTotal, BuildingAreaTotal, City, CloseDate, ClosePrice, CumulativeDaysOnMarket, DaysOnMarket, GarageSpaces, Latitude, ListingContractDate, ListingId, ListPrice, ListSource, Longitude, LotSizeAcres, MlsStatus, OwnerName, OwnerPhone, OwnerPhoneAlternative, ParcelNumber, ParcelNumber2, PoolYN, PostalCode, PreviousListPrice, PreviousStatus, PropertySubType, PropertyType, PublicRemarks, PurchaseContractDate, SchoolDistrict, StandardStatus, StatusChangeTimestamp, StreetDirPrefix, StreetDirSuffix, StreetName, StreetNumber, StreetNumberNumeric, StreetSuffix, SubdivisionName, USProperty_MUI, YearBuilt]\n",
              "Index: []\n",
              "\n",
              "[0 rows x 45 columns]"
            ],
            "text/html": [
              "\n",
              "  <div id=\"df-adf8599e-06c0-4a87-a330-ea1a93fabc22\">\n",
              "    <div class=\"colab-df-container\">\n",
              "      <div>\n",
              "<style scoped>\n",
              "    .dataframe tbody tr th:only-of-type {\n",
              "        vertical-align: middle;\n",
              "    }\n",
              "\n",
              "    .dataframe tbody tr th {\n",
              "        vertical-align: top;\n",
              "    }\n",
              "\n",
              "    .dataframe thead th {\n",
              "        text-align: right;\n",
              "    }\n",
              "</style>\n",
              "<table border=\"1\" class=\"dataframe\">\n",
              "  <thead>\n",
              "    <tr style=\"text-align: right;\">\n",
              "      <th></th>\n",
              "      <th>BathroomsFull</th>\n",
              "      <th>BathroomsHalf</th>\n",
              "      <th>BathroomsTotalDecimal</th>\n",
              "      <th>BathroomsTotalInteger</th>\n",
              "      <th>BedroomsTotal</th>\n",
              "      <th>BuildingAreaTotal</th>\n",
              "      <th>City</th>\n",
              "      <th>CloseDate</th>\n",
              "      <th>ClosePrice</th>\n",
              "      <th>CumulativeDaysOnMarket</th>\n",
              "      <th>...</th>\n",
              "      <th>StatusChangeTimestamp</th>\n",
              "      <th>StreetDirPrefix</th>\n",
              "      <th>StreetDirSuffix</th>\n",
              "      <th>StreetName</th>\n",
              "      <th>StreetNumber</th>\n",
              "      <th>StreetNumberNumeric</th>\n",
              "      <th>StreetSuffix</th>\n",
              "      <th>SubdivisionName</th>\n",
              "      <th>USProperty_MUI</th>\n",
              "      <th>YearBuilt</th>\n",
              "    </tr>\n",
              "  </thead>\n",
              "  <tbody>\n",
              "  </tbody>\n",
              "</table>\n",
              "<p>0 rows × 45 columns</p>\n",
              "</div>\n",
              "      <button class=\"colab-df-convert\" onclick=\"convertToInteractive('df-adf8599e-06c0-4a87-a330-ea1a93fabc22')\"\n",
              "              title=\"Convert this dataframe to an interactive table.\"\n",
              "              style=\"display:none;\">\n",
              "        \n",
              "  <svg xmlns=\"http://www.w3.org/2000/svg\" height=\"24px\"viewBox=\"0 0 24 24\"\n",
              "       width=\"24px\">\n",
              "    <path d=\"M0 0h24v24H0V0z\" fill=\"none\"/>\n",
              "    <path d=\"M18.56 5.44l.94 2.06.94-2.06 2.06-.94-2.06-.94-.94-2.06-.94 2.06-2.06.94zm-11 1L8.5 8.5l.94-2.06 2.06-.94-2.06-.94L8.5 2.5l-.94 2.06-2.06.94zm10 10l.94 2.06.94-2.06 2.06-.94-2.06-.94-.94-2.06-.94 2.06-2.06.94z\"/><path d=\"M17.41 7.96l-1.37-1.37c-.4-.4-.92-.59-1.43-.59-.52 0-1.04.2-1.43.59L10.3 9.45l-7.72 7.72c-.78.78-.78 2.05 0 2.83L4 21.41c.39.39.9.59 1.41.59.51 0 1.02-.2 1.41-.59l7.78-7.78 2.81-2.81c.8-.78.8-2.07 0-2.86zM5.41 20L4 18.59l7.72-7.72 1.47 1.35L5.41 20z\"/>\n",
              "  </svg>\n",
              "      </button>\n",
              "      \n",
              "  <style>\n",
              "    .colab-df-container {\n",
              "      display:flex;\n",
              "      flex-wrap:wrap;\n",
              "      gap: 12px;\n",
              "    }\n",
              "\n",
              "    .colab-df-convert {\n",
              "      background-color: #E8F0FE;\n",
              "      border: none;\n",
              "      border-radius: 50%;\n",
              "      cursor: pointer;\n",
              "      display: none;\n",
              "      fill: #1967D2;\n",
              "      height: 32px;\n",
              "      padding: 0 0 0 0;\n",
              "      width: 32px;\n",
              "    }\n",
              "\n",
              "    .colab-df-convert:hover {\n",
              "      background-color: #E2EBFA;\n",
              "      box-shadow: 0px 1px 2px rgba(60, 64, 67, 0.3), 0px 1px 3px 1px rgba(60, 64, 67, 0.15);\n",
              "      fill: #174EA6;\n",
              "    }\n",
              "\n",
              "    [theme=dark] .colab-df-convert {\n",
              "      background-color: #3B4455;\n",
              "      fill: #D2E3FC;\n",
              "    }\n",
              "\n",
              "    [theme=dark] .colab-df-convert:hover {\n",
              "      background-color: #434B5C;\n",
              "      box-shadow: 0px 1px 3px 1px rgba(0, 0, 0, 0.15);\n",
              "      filter: drop-shadow(0px 1px 2px rgba(0, 0, 0, 0.3));\n",
              "      fill: #FFFFFF;\n",
              "    }\n",
              "  </style>\n",
              "\n",
              "      <script>\n",
              "        const buttonEl =\n",
              "          document.querySelector('#df-adf8599e-06c0-4a87-a330-ea1a93fabc22 button.colab-df-convert');\n",
              "        buttonEl.style.display =\n",
              "          google.colab.kernel.accessAllowed ? 'block' : 'none';\n",
              "\n",
              "        async function convertToInteractive(key) {\n",
              "          const element = document.querySelector('#df-adf8599e-06c0-4a87-a330-ea1a93fabc22');\n",
              "          const dataTable =\n",
              "            await google.colab.kernel.invokeFunction('convertToInteractive',\n",
              "                                                     [key], {});\n",
              "          if (!dataTable) return;\n",
              "\n",
              "          const docLinkHtml = 'Like what you see? Visit the ' +\n",
              "            '<a target=\"_blank\" href=https://colab.research.google.com/notebooks/data_table.ipynb>data table notebook</a>'\n",
              "            + ' to learn more about interactive tables.';\n",
              "          element.innerHTML = '';\n",
              "          dataTable['output_type'] = 'display_data';\n",
              "          await google.colab.output.renderOutput(dataTable, element);\n",
              "          const docLink = document.createElement('div');\n",
              "          docLink.innerHTML = docLinkHtml;\n",
              "          element.appendChild(docLink);\n",
              "        }\n",
              "      </script>\n",
              "    </div>\n",
              "  </div>\n",
              "  "
            ]
          },
          "metadata": {},
          "execution_count": 78
        }
      ]
    },
    {
      "cell_type": "code",
      "source": [
        "# limit the days\n",
        "\n",
        "\n"
      ],
      "metadata": {
        "colab": {
          "base_uri": "https://localhost:8080/",
          "height": 207
        },
        "id": "6Giqo43t2Oly",
        "outputId": "cf595cc7-6c5d-4a04-8a30-d413ac1fce72"
      },
      "execution_count": 66,
      "outputs": [
        {
          "output_type": "error",
          "ename": "TypeError",
          "evalue": "ignored",
          "traceback": [
            "\u001b[0;31m---------------------------------------------------------------------------\u001b[0m",
            "\u001b[0;31mTypeError\u001b[0m                                 Traceback (most recent call last)",
            "\u001b[0;32m<ipython-input-66-53b9b84d12ec>\u001b[0m in \u001b[0;36m<module>\u001b[0;34m()\u001b[0m\n\u001b[1;32m      1\u001b[0m \u001b[0;34m\u001b[0m\u001b[0m\n\u001b[1;32m      2\u001b[0m \u001b[0;31m# limit Longitude and Latitude range\u001b[0m\u001b[0;34m\u001b[0m\u001b[0;34m\u001b[0m\u001b[0;34m\u001b[0m\u001b[0m\n\u001b[0;32m----> 3\u001b[0;31m \u001b[0mout\u001b[0m \u001b[0;34m=\u001b[0m \u001b[0mdata\u001b[0m\u001b[0;34m[\u001b[0m\u001b[0;34m'Latitude'\u001b[0m\u001b[0;34m]\u001b[0m\u001b[0;34m.\u001b[0m\u001b[0misin\u001b[0m\u001b[0;34m(\u001b[0m\u001b[0mrange\u001b[0m\u001b[0;34m(\u001b[0m\u001b[0mla\u001b[0m\u001b[0;34m-\u001b[0m\u001b[0;36m0.01\u001b[0m\u001b[0;34m,\u001b[0m\u001b[0mla\u001b[0m\u001b[0;34m+\u001b[0m\u001b[0;36m0.01\u001b[0m\u001b[0;34m)\u001b[0m\u001b[0;34m)\u001b[0m\u001b[0;34m\u001b[0m\u001b[0;34m\u001b[0m\u001b[0m\n\u001b[0m",
            "\u001b[0;31mTypeError\u001b[0m: 'float' object cannot be interpreted as an integer"
          ]
        }
      ]
    },
    {
      "cell_type": "code",
      "source": [
        "# limit square feet"
      ],
      "metadata": {
        "id": "iooiFyjx8oVr"
      },
      "execution_count": null,
      "outputs": []
    },
    {
      "cell_type": "code",
      "source": [
        "# check number of house = (5,6)个 ok， 不等于repet 上面步骤扩大范围"
      ],
      "metadata": {
        "id": "FV-sw_cH8rLX"
      },
      "execution_count": null,
      "outputs": []
    },
    {
      "cell_type": "code",
      "source": [
        "# get top 3 mean max min\n",
        "# return csv"
      ],
      "metadata": {
        "id": "JsZnOLAv85uA"
      },
      "execution_count": null,
      "outputs": []
    }
  ]
}