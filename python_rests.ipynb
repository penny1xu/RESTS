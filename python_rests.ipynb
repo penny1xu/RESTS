{
  "nbformat": 4,
  "nbformat_minor": 0,
  "metadata": {
    "colab": {
      "name": "python_rests.ipynb",
      "provenance": [],
      "collapsed_sections": [],
      "include_colab_link": true
    },
    "kernelspec": {
      "name": "python3",
      "display_name": "Python 3"
    },
    "language_info": {
      "name": "python"
    }
  },
  "cells": [
    {
      "cell_type": "markdown",
      "metadata": {
        "id": "view-in-github",
        "colab_type": "text"
      },
      "source": [
        "<a href=\"https://colab.research.google.com/github/penny1xu/RESTS/blob/main/python_rests.ipynb\" target=\"_parent\"><img src=\"https://colab.research.google.com/assets/colab-badge.svg\" alt=\"Open In Colab\"/></a>"
      ]
    },
    {
      "cell_type": "markdown",
      "source": [
        "# data clean \n",
        "\n",
        "BathroomsFull\n",
        "BathroomsHalf\n",
        "BathroomsTotalDecimal\n",
        "BathroomsTotalInteger\n",
        "BedroomsTotal\n",
        "BuildingAreaTotal\n",
        "City\n",
        "CloseDate\n",
        "ClosePrice\n",
        "CumulativeDaysOnMarket\n",
        "DaysOnMarket\n",
        "GarageSpaces\n",
        "Latitude\n",
        "ListingContractDate\n",
        "ListingId\n",
        "ListPrice\n",
        "ListSource\n",
        "Longitude\n",
        "LotSizeAcres\n",
        "MlsStatus\n",
        "OwnerName\n",
        "OwnerPhone\n",
        "OwnerPhoneAlternative\n",
        "ParcelNumber\n",
        "ParcelNumber2\n",
        "PoolYN\n",
        "PostalCode\n",
        "PreviousListPrice\n",
        "PreviousStatus\n",
        "PropertySubType\n",
        "PropertyType\n",
        "PublicRemarks\n",
        "PurchaseContractDate\n",
        "SchoolDistrict\n",
        "StandardStatus\n",
        "StatusChangeTimestamp\n",
        "StreetDirPrefix\n",
        "StreetDirSuffix\n",
        "StreetName\n",
        "StreetNumber\n",
        "StreetNumberNumeric\n",
        "StreetSuffix\n",
        "SubdivisionName\n",
        "USProperty_MUI\n",
        "YearBuilt\n",
        "\n"
      ],
      "metadata": {
        "id": "2MhZlJu91tcY"
      }
    },
    {
      "cell_type": "code",
      "execution_count": null,
      "metadata": {
        "id": "wPno-Grq1E7_"
      },
      "outputs": [],
      "source": [
        "#import package\n",
        "!pip install censusgeocode\n",
        "import csv\n",
        "import pandas as pd\n",
        "import censusgeocode as cg\n",
        "import numpy as np\n"
      ]
    },
    {
      "cell_type": "markdown",
      "source": [
        "# Data cleaning"
      ],
      "metadata": {
        "id": "Mjf7gspwBB_n"
      }
    },
    {
      "cell_type": "code",
      "source": [
        "data= pd.read_csv(\"final.csv\")\n",
        "# select the data columns we want \n",
        "data = data[['BathroomsFull','BathroomsHalf', 'BathroomsTotalDecimal', 'BathroomsTotalInteger','BedroomsTotal', 'BuildingAreaTotal', 'City', 'CloseDate', 'ClosePrice', 'CumulativeDaysOnMarket', \n",
        "   'DaysOnMarket', 'GarageSpaces', 'Latitude', 'ListingContractDate', 'ListingId', 'ListPrice', \n",
        "   'ListSource', 'Longitude', 'LotSizeAcres', 'MlsStatus', 'OwnerName', 'OwnerPhone', 'OwnerPhoneAlternative',\n",
        "   'ParcelNumber', 'ParcelNumber2', 'PoolYN', 'PostalCode', 'PreviousListPrice', 'PreviousStatus', 'PropertySubType',\n",
        "   'PropertyType', 'PublicRemarks', 'PurchaseContractDate', 'SchoolDistrict', 'StandardStatus', 'StatusChangeTimestamp',\n",
        "   'StreetDirPrefix', 'StreetDirSuffix', 'StreetName', 'StreetNumber', 'StreetNumberNumeric', 'StreetSuffix', 'SubdivisionName',\n",
        "   'USProperty_MUI', 'YearBuilt','LivingArea']]\n"
      ],
      "metadata": {
        "id": "y7h0MvQK2CHj"
      },
      "execution_count": null,
      "outputs": []
    },
    {
      "cell_type": "code",
      "source": [
        "# change data type\n",
        "zip = []\n",
        "lo = []\n",
        "la = []\n",
        "\n",
        "for item in data['PostalCode']:\n",
        "    item = str(item)\n",
        "    zip.append(item)\n",
        "for item in data['Longitude']:\n",
        "    item = float(item)\n",
        "    lo.append(item)\n",
        "for item in data['Latitude']:\n",
        "    item = float(item)\n",
        "    la.append(item)\n",
        "data['PostalCode'] = zip\n",
        "data['Longitude'] = lo\n",
        "data['Latitude'] = la"
      ],
      "metadata": {
        "id": "np0fFXO_WdfP"
      },
      "execution_count": 6,
      "outputs": []
    },
    {
      "cell_type": "code",
      "source": [
        "# choose columns status\n",
        "\n",
        "data = data.loc[data['PropertySubType'] == 'Single Family Residence' ]\n",
        "data = data.loc[data['PropertyType'] == 'Residential']"
      ],
      "metadata": {
        "id": "fh-rJqMcAsK6"
      },
      "execution_count": 7,
      "outputs": []
    },
    {
      "cell_type": "markdown",
      "source": [
        "# Set Input"
      ],
      "metadata": {
        "id": "ypooUCBznBtZ"
      }
    },
    {
      "cell_type": "code",
      "source": [
        "# input data address\n",
        "print('Enter #MLS')\n",
        "mls = 14730621\n",
        "print('Enter address')\n",
        "address = '2836 Meadowbrook Drive'\n",
        "print('Enter city')\n",
        "city = 'Dallas'\n",
        "print('Enter state')\n",
        "state = 'Texas'\n",
        "print('Enter zipcode')\n",
        "zip = '75227'\n",
        "\n"
      ],
      "metadata": {
        "colab": {
          "base_uri": "https://localhost:8080/"
        },
        "id": "20psz5iRmlCu",
        "outputId": "f5775509-0df4-4348-d93f-a7008cfbb61f"
      },
      "execution_count": 8,
      "outputs": [
        {
          "output_type": "stream",
          "name": "stdout",
          "text": [
            "Enter #MLS\n",
            "Enter address\n",
            "Enter city\n",
            "Enter state\n",
            "Enter zipcode\n"
          ]
        }
      ]
    },
    {
      "cell_type": "markdown",
      "source": [
        "# filter the data"
      ],
      "metadata": {
        "id": "mju5V6fNOS8u"
      }
    },
    {
      "cell_type": "code",
      "source": [
        "# find value in csv \n",
        "res_mls = data.isin([mls]).any().any()\n",
        "if res_mls :\n",
        "  print(\"\\nThis value exists in Dataframe\")\n",
        "  # get whole row value\n",
        "  pulled_value = data.loc[data['ListingId'] == mls]\n",
        "  #get each value\n",
        "  dict = pulled_value.to_dict('records')\n",
        "\n",
        "  # # limit zipcode range\n",
        "  data = data.loc[data['PostalCode'] == zip ]\n",
        " \n",
        "\n",
        "# get each line value\n",
        "\n",
        "print(result)\n",
        "#call the value from the dict\n",
        "  \n"
      ],
      "metadata": {
        "colab": {
          "base_uri": "https://localhost:8080/"
        },
        "id": "LYstF_OqZkJ-",
        "outputId": "fd153f00-8cbe-4802-96a8-4a7d3c5182f6"
      },
      "execution_count": 9,
      "outputs": [
        {
          "output_type": "stream",
          "name": "stdout",
          "text": [
            "\n",
            "This value exists in Dataframe\n"
          ]
        }
      ]
    },
    {
      "cell_type": "code",
      "source": [
        "print(pulled_value)"
      ],
      "metadata": {
        "colab": {
          "base_uri": "https://localhost:8080/"
        },
        "id": "rUTerzrI6XI7",
        "outputId": "763951cb-ff8a-4ff4-ad16-4f7e8ae17b36"
      },
      "execution_count": 10,
      "outputs": [
        {
          "output_type": "stream",
          "name": "stdout",
          "text": [
            "     BathroomsFull  BathroomsHalf  BathroomsTotalDecimal  \\\n",
            "554              3              0                    3.0   \n",
            "\n",
            "     BathroomsTotalInteger  BedroomsTotal  BuildingAreaTotal   City  \\\n",
            "554                      3              5             2632.0  Plano   \n",
            "\n",
            "      CloseDate  ClosePrice  CumulativeDaysOnMarket  ...  StreetDirPrefix  \\\n",
            "554  2022-01-26    637000.0                       6  ...              NaN   \n",
            "\n",
            "     StreetDirSuffix   StreetName StreetNumber  StreetNumberNumeric  \\\n",
            "554              NaN  Meadowbrook         2836                 2836   \n",
            "\n",
            "     StreetSuffix        SubdivisionName  USProperty_MUI  YearBuilt LivingArea  \n",
            "554         Drive  Prairie Creek Estates     411548787.0       1976     2632.0  \n",
            "\n",
            "[1 rows x 46 columns]\n"
          ]
        }
      ]
    },
    {
      "cell_type": "code",
      "source": [
        ""
      ],
      "metadata": {
        "colab": {
          "base_uri": "https://localhost:8080/"
        },
        "id": "C5feXSyWdxwR",
        "outputId": "d0038ce1-23a4-4ee1-a209-e5675669dda8"
      },
      "execution_count": 15,
      "outputs": [
        {
          "output_type": "stream",
          "name": "stdout",
          "text": [
            "5\n"
          ]
        }
      ]
    },
    {
      "cell_type": "code",
      "source": [
        "else :\n",
        "  print(\"\\nThis value does not exists in Dataframe\")\n",
        "  # # limit zipcode range\n",
        "  data = data.loc[data['PostalCode'] == zip ]\n",
        "  # if there is no longitude \n",
        "  #get Longitude and Latitude\n",
        "\n",
        "  ##cg = CensusGeocode(benchmark='Public_AR_Current', vintage='Current_Current')\n",
        "  result = cg.address(address, city = city, state= state,zipcode = zip)\n",
        "  lo = result[0]['coordinates']['x']\n",
        "  la = result[0]['coordinates']['y']\n",
        "  print(result[0]['coordinates'])\n",
        "  # limit longitude and latitude\n",
        "  if \n",
        "  new_data = data[(data['Longitude'] > lo - 0.01) & (data['Longitude'] < lo + 0.01)&\n",
        "               (data['Latitude'] < la + 0.02)& (data['Latitude'] > la - 0.02)]\n"
      ],
      "metadata": {
        "id": "UhfTPEPc-wy8"
      },
      "execution_count": 103,
      "outputs": []
    },
    {
      "cell_type": "code",
      "source": [
        "# limit the days\n",
        "\n",
        "data = data[data['CumulativeDaysOnMarket'].isin(range(0,90))] "
      ],
      "metadata": {
        "id": "6Giqo43t2Oly"
      },
      "execution_count": null,
      "outputs": []
    },
    {
      "cell_type": "code",
      "source": [
        "# limit square feet\n",
        "\n",
        "if 'LivingArea' <= 1100:\n",
        "  data[(data['LivingArea'] > area - 100) & (data['LivingArea'] < area + 100)\n",
        "elif 'LivingArea' <= 2200:\n",
        "  data[(data['LivingArea'] > area -200 )& (data['LivingArea'] > area + 200)]\n",
        "else:\n",
        "  data[(data['LivingArea'] > area -300 )& (data['LivingArea'] > area + 300)]\n"
      ],
      "metadata": {
        "id": "iooiFyjx8oVr"
      },
      "execution_count": null,
      "outputs": []
    },
    {
      "cell_type": "code",
      "source": [
        "#defined number\n",
        "bed = dict[0].get('BedroomsTotal')\n",
        "long = dict[0].get('Longitude')\n",
        "lat = dict[0].get('Latitude')\n",
        "sqt = dict[0].get('LivingArea')"
      ],
      "metadata": {
        "id": "FV-sw_cH8rLX"
      },
      "execution_count": null,
      "outputs": []
    },
    {
      "cell_type": "code",
      "source": [
        "# code part\n",
        "def findHouse ():\n",
        "   count = int(0)\n",
        "   leftLa = lat\n",
        "   rightLa = Lat\n",
        "   leftLo = long\n",
        "   rightLo = long\n",
        "   leftSqt = sqt\n",
        "   rightSqt = sqt\n",
        "   # create an Empty DataFrame object\n",
        "   house = pd.DataFrame()\n",
        "\n",
        "\n",
        "\n",
        "\n"
      ],
      "metadata": {
        "id": "JsZnOLAv85uA",
        "colab": {
          "base_uri": "https://localhost:8080/"
        },
        "outputId": "b052af48-ad37-4554-f7d6-cab9fd2db4c2"
      },
      "execution_count": 18,
      "outputs": [
        {
          "output_type": "stream",
          "name": "stdout",
          "text": [
            "hello world\n"
          ]
        }
      ]
    }
  ]
}