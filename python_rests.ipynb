{
  "nbformat": 4,
  "nbformat_minor": 0,
  "metadata": {
    "colab": {
      "name": "python_rests.ipynb",
      "provenance": [],
      "collapsed_sections": [],
      "include_colab_link": true
    },
    "kernelspec": {
      "name": "python3",
      "display_name": "Python 3"
    },
    "language_info": {
      "name": "python"
    }
  },
  "cells": [
    {
      "cell_type": "markdown",
      "metadata": {
        "id": "view-in-github",
        "colab_type": "text"
      },
      "source": [
        "<a href=\"https://colab.research.google.com/github/penny1xu/RESTS/blob/main/python_rests.ipynb\" target=\"_parent\"><img src=\"https://colab.research.google.com/assets/colab-badge.svg\" alt=\"Open In Colab\"/></a>"
      ]
    },
    {
      "cell_type": "markdown",
      "source": [
        "# data clean \n",
        "\n",
        "BathroomsFull\n",
        "BathroomsHalf\n",
        "BathroomsTotalDecimal\n",
        "BathroomsTotalInteger\n",
        "BedroomsTotal\n",
        "BuildingAreaTotal\n",
        "City\n",
        "CloseDate\n",
        "ClosePrice\n",
        "CumulativeDaysOnMarket\n",
        "DaysOnMarket\n",
        "GarageSpaces\n",
        "Latitude\n",
        "ListingContractDate\n",
        "ListingId\n",
        "ListPrice\n",
        "ListSource\n",
        "Longitude\n",
        "LotSizeAcres\n",
        "MlsStatus\n",
        "OwnerName\n",
        "OwnerPhone\n",
        "OwnerPhoneAlternative\n",
        "ParcelNumber\n",
        "ParcelNumber2\n",
        "PoolYN\n",
        "PostalCode\n",
        "PreviousListPrice\n",
        "PreviousStatus\n",
        "PropertySubType\n",
        "PropertyType\n",
        "PublicRemarks\n",
        "PurchaseContractDate\n",
        "SchoolDistrict\n",
        "StandardStatus\n",
        "StatusChangeTimestamp\n",
        "StreetDirPrefix\n",
        "StreetDirSuffix\n",
        "StreetName\n",
        "StreetNumber\n",
        "StreetNumberNumeric\n",
        "StreetSuffix\n",
        "SubdivisionName\n",
        "USProperty_MUI\n",
        "YearBuilt\n",
        "\n"
      ],
      "metadata": {
        "id": "2MhZlJu91tcY"
      }
    },
    {
      "cell_type": "code",
      "execution_count": 93,
      "metadata": {
        "id": "wPno-Grq1E7_",
        "colab": {
          "base_uri": "https://localhost:8080/"
        },
        "outputId": "11eef83d-f8ad-4faa-85f9-bb1699987310"
      },
      "outputs": [
        {
          "output_type": "stream",
          "name": "stdout",
          "text": [
            "Looking in indexes: https://pypi.org/simple, https://us-python.pkg.dev/colab-wheels/public/simple/\n",
            "Requirement already satisfied: censusgeocode in /usr/local/lib/python3.7/dist-packages (0.5.2)\n",
            "Requirement already satisfied: requests-toolbelt<1,>=0.9.0 in /usr/local/lib/python3.7/dist-packages (from censusgeocode) (0.9.1)\n",
            "Requirement already satisfied: requests[security]<3,>=2.27.0 in /usr/local/lib/python3.7/dist-packages (from censusgeocode) (2.27.1)\n",
            "Requirement already satisfied: idna<4,>=2.5 in /usr/local/lib/python3.7/dist-packages (from requests[security]<3,>=2.27.0->censusgeocode) (2.10)\n",
            "Requirement already satisfied: charset-normalizer~=2.0.0 in /usr/local/lib/python3.7/dist-packages (from requests[security]<3,>=2.27.0->censusgeocode) (2.0.12)\n",
            "Requirement already satisfied: urllib3<1.27,>=1.21.1 in /usr/local/lib/python3.7/dist-packages (from requests[security]<3,>=2.27.0->censusgeocode) (1.24.3)\n",
            "Requirement already satisfied: certifi>=2017.4.17 in /usr/local/lib/python3.7/dist-packages (from requests[security]<3,>=2.27.0->censusgeocode) (2022.5.18.1)\n"
          ]
        }
      ],
      "source": [
        "#import package\n",
        "!pip install censusgeocode\n",
        "import csv\n",
        "import pandas as pd\n",
        "import censusgeocode as cg"
      ]
    },
    {
      "cell_type": "markdown",
      "source": [
        "# Data cleaning"
      ],
      "metadata": {
        "id": "Mjf7gspwBB_n"
      }
    },
    {
      "cell_type": "code",
      "source": [
        "data= pd.read_csv(\"final.csv\")\n",
        "# select the data columns we want \n",
        "data = data[['BathroomsFull','BathroomsHalf', 'BathroomsTotalDecimal', 'BathroomsTotalInteger','BedroomsTotal', 'BuildingAreaTotal', 'City', 'CloseDate', 'ClosePrice', 'CumulativeDaysOnMarket', \n",
        "   'DaysOnMarket', 'GarageSpaces', 'Latitude', 'ListingContractDate', 'ListingId', 'ListPrice', \n",
        "   'ListSource', 'Longitude', 'LotSizeAcres', 'MlsStatus', 'OwnerName', 'OwnerPhone', 'OwnerPhoneAlternative',\n",
        "   'ParcelNumber', 'ParcelNumber2', 'PoolYN', 'PostalCode', 'PreviousListPrice', 'PreviousStatus', 'PropertySubType',\n",
        "   'PropertyType', 'PublicRemarks', 'PurchaseContractDate', 'SchoolDistrict', 'StandardStatus', 'StatusChangeTimestamp',\n",
        "   'StreetDirPrefix', 'StreetDirSuffix', 'StreetName', 'StreetNumber', 'StreetNumberNumeric', 'StreetSuffix', 'SubdivisionName',\n",
        "   'USProperty_MUI', 'YearBuilt','LivingArea']]\n"
      ],
      "metadata": {
        "colab": {
          "base_uri": "https://localhost:8080/"
        },
        "id": "y7h0MvQK2CHj",
        "outputId": "e1ea34c7-11f1-484e-926a-1a22cb6946d5"
      },
      "execution_count": 94,
      "outputs": [
        {
          "output_type": "stream",
          "name": "stderr",
          "text": [
            "/usr/local/lib/python3.7/dist-packages/IPython/core/interactiveshell.py:2882: DtypeWarning: Columns (23,24,25,27,29,30,31,76,92,132,137,139,171,173,197,202,226,227,228,229,253,255,299,300,355,359,360,361,362,379,382,383) have mixed types.Specify dtype option on import or set low_memory=False.\n",
            "  exec(code_obj, self.user_global_ns, self.user_ns)\n"
          ]
        }
      ]
    },
    {
      "cell_type": "code",
      "source": [
        "# choose columns status\n",
        "\n",
        "data.loc[data['PropertySubType'] == 'Single Family Residence' ]\n",
        "data.loc[data['PropertyType'] == 'Residential']"
      ],
      "metadata": {
        "id": "fh-rJqMcAsK6"
      },
      "execution_count": null,
      "outputs": []
    },
    {
      "cell_type": "markdown",
      "source": [
        "# Set Input"
      ],
      "metadata": {
        "id": "ypooUCBznBtZ"
      }
    },
    {
      "cell_type": "code",
      "source": [
        "# input data address\n",
        "print('Enter address')\n",
        "address = input()\n",
        "print('Enter city')\n",
        "city = input()\n",
        "print('Enter state')\n",
        "state = input()\n",
        "print('Enter zipcode')\n",
        "zip = input()\n"
      ],
      "metadata": {
        "colab": {
          "base_uri": "https://localhost:8080/"
        },
        "id": "20psz5iRmlCu",
        "outputId": "8c690d20-0946-4aa8-e319-857f7606f21a"
      },
      "execution_count": 96,
      "outputs": [
        {
          "name": "stdout",
          "output_type": "stream",
          "text": [
            "Enter address\n",
            "3700 mapleshade ln\n",
            "Enter city\n",
            "plano\n",
            "Enter state\n",
            "tx\n",
            "Enter zipcode\n",
            "75075\n"
          ]
        }
      ]
    },
    {
      "cell_type": "code",
      "source": [
        "# # limit zipcode range\n",
        "data = data.loc[data['PostalCode'] == zip ]"
      ],
      "metadata": {
        "id": "vk1J7kEc3i4j"
      },
      "execution_count": 105,
      "outputs": []
    },
    {
      "cell_type": "code",
      "source": [
        "# if there is no longitude \n",
        "#get Longitude and Latitude\n",
        "\n",
        "##cg = CensusGeocode(benchmark='Public_AR_Current', vintage='Current_Current')\n",
        "# example: 1620 Yarborough Drive, city = Sherman, State = TX , zipcode = 75092\n",
        "\n",
        "result = cg.address(address, city = city, state= state,zipcode = zip)\n",
        "lo = result[0]['coordinates']['x']\n",
        "la = result[0]['coordinates']['y']\n",
        "print(result[0]['coordinates'])\n",
        "\n"
      ],
      "metadata": {
        "colab": {
          "base_uri": "https://localhost:8080/"
        },
        "id": "Y4lllOlnsepG",
        "outputId": "20658ae0-3cf0-4037-f0aa-2fe82c9a12e8"
      },
      "execution_count": 98,
      "outputs": [
        {
          "output_type": "stream",
          "name": "stdout",
          "text": [
            "{'x': -96.76240415323872, 'y': 33.00313878557192}\n"
          ]
        }
      ]
    },
    {
      "cell_type": "code",
      "source": [
        "# limit longitude and latitude\n",
        "new_data = data[(data['Longitude'] > lo - 0.01) & (data['Longitude'] < lo + 0.01)&\n",
        "               (data['Latitude'] < la + 0.02)& (data['Latitude'] > la - 0.02)]"
      ],
      "metadata": {
        "id": "UhfTPEPc-wy8"
      },
      "execution_count": 103,
      "outputs": []
    },
    {
      "cell_type": "code",
      "source": [
        "new_data"
      ],
      "metadata": {
        "colab": {
          "base_uri": "https://localhost:8080/",
          "height": 191
        },
        "id": "COFgPCKJK0AY",
        "outputId": "1d863538-8762-4cb2-a1d8-f4c4408e889b"
      },
      "execution_count": 104,
      "outputs": [
        {
          "output_type": "execute_result",
          "data": {
            "text/plain": [
              "      BathroomsFull  BathroomsHalf  BathroomsTotalDecimal  \\\n",
              "3757              2              1                    2.1   \n",
              "\n",
              "      BathroomsTotalInteger  BedroomsTotal  BuildingAreaTotal   City  \\\n",
              "3757                      3              3                NaN  Plano   \n",
              "\n",
              "     CloseDate  ClosePrice  CumulativeDaysOnMarket  ...  StreetDirPrefix  \\\n",
              "3757       NaN         NaN                      35  ...              NaN   \n",
              "\n",
              "      StreetDirSuffix  StreetName StreetNumber  StreetNumberNumeric  \\\n",
              "3757              NaN   Creekbend         3024                 3024   \n",
              "\n",
              "      StreetSuffix             SubdivisionName  USProperty_MUI  YearBuilt  \\\n",
              "3757         Drive  Dallas North Estates #12-4     411542729.0       1972   \n",
              "\n",
              "     LivingArea  \n",
              "3757     2414.0  \n",
              "\n",
              "[1 rows x 46 columns]"
            ],
            "text/html": [
              "\n",
              "  <div id=\"df-edeaa8a1-ce58-454b-a5fe-3a27df498ca8\">\n",
              "    <div class=\"colab-df-container\">\n",
              "      <div>\n",
              "<style scoped>\n",
              "    .dataframe tbody tr th:only-of-type {\n",
              "        vertical-align: middle;\n",
              "    }\n",
              "\n",
              "    .dataframe tbody tr th {\n",
              "        vertical-align: top;\n",
              "    }\n",
              "\n",
              "    .dataframe thead th {\n",
              "        text-align: right;\n",
              "    }\n",
              "</style>\n",
              "<table border=\"1\" class=\"dataframe\">\n",
              "  <thead>\n",
              "    <tr style=\"text-align: right;\">\n",
              "      <th></th>\n",
              "      <th>BathroomsFull</th>\n",
              "      <th>BathroomsHalf</th>\n",
              "      <th>BathroomsTotalDecimal</th>\n",
              "      <th>BathroomsTotalInteger</th>\n",
              "      <th>BedroomsTotal</th>\n",
              "      <th>BuildingAreaTotal</th>\n",
              "      <th>City</th>\n",
              "      <th>CloseDate</th>\n",
              "      <th>ClosePrice</th>\n",
              "      <th>CumulativeDaysOnMarket</th>\n",
              "      <th>...</th>\n",
              "      <th>StreetDirPrefix</th>\n",
              "      <th>StreetDirSuffix</th>\n",
              "      <th>StreetName</th>\n",
              "      <th>StreetNumber</th>\n",
              "      <th>StreetNumberNumeric</th>\n",
              "      <th>StreetSuffix</th>\n",
              "      <th>SubdivisionName</th>\n",
              "      <th>USProperty_MUI</th>\n",
              "      <th>YearBuilt</th>\n",
              "      <th>LivingArea</th>\n",
              "    </tr>\n",
              "  </thead>\n",
              "  <tbody>\n",
              "    <tr>\n",
              "      <th>3757</th>\n",
              "      <td>2</td>\n",
              "      <td>1</td>\n",
              "      <td>2.1</td>\n",
              "      <td>3</td>\n",
              "      <td>3</td>\n",
              "      <td>NaN</td>\n",
              "      <td>Plano</td>\n",
              "      <td>NaN</td>\n",
              "      <td>NaN</td>\n",
              "      <td>35</td>\n",
              "      <td>...</td>\n",
              "      <td>NaN</td>\n",
              "      <td>NaN</td>\n",
              "      <td>Creekbend</td>\n",
              "      <td>3024</td>\n",
              "      <td>3024</td>\n",
              "      <td>Drive</td>\n",
              "      <td>Dallas North Estates #12-4</td>\n",
              "      <td>411542729.0</td>\n",
              "      <td>1972</td>\n",
              "      <td>2414.0</td>\n",
              "    </tr>\n",
              "  </tbody>\n",
              "</table>\n",
              "<p>1 rows × 46 columns</p>\n",
              "</div>\n",
              "      <button class=\"colab-df-convert\" onclick=\"convertToInteractive('df-edeaa8a1-ce58-454b-a5fe-3a27df498ca8')\"\n",
              "              title=\"Convert this dataframe to an interactive table.\"\n",
              "              style=\"display:none;\">\n",
              "        \n",
              "  <svg xmlns=\"http://www.w3.org/2000/svg\" height=\"24px\"viewBox=\"0 0 24 24\"\n",
              "       width=\"24px\">\n",
              "    <path d=\"M0 0h24v24H0V0z\" fill=\"none\"/>\n",
              "    <path d=\"M18.56 5.44l.94 2.06.94-2.06 2.06-.94-2.06-.94-.94-2.06-.94 2.06-2.06.94zm-11 1L8.5 8.5l.94-2.06 2.06-.94-2.06-.94L8.5 2.5l-.94 2.06-2.06.94zm10 10l.94 2.06.94-2.06 2.06-.94-2.06-.94-.94-2.06-.94 2.06-2.06.94z\"/><path d=\"M17.41 7.96l-1.37-1.37c-.4-.4-.92-.59-1.43-.59-.52 0-1.04.2-1.43.59L10.3 9.45l-7.72 7.72c-.78.78-.78 2.05 0 2.83L4 21.41c.39.39.9.59 1.41.59.51 0 1.02-.2 1.41-.59l7.78-7.78 2.81-2.81c.8-.78.8-2.07 0-2.86zM5.41 20L4 18.59l7.72-7.72 1.47 1.35L5.41 20z\"/>\n",
              "  </svg>\n",
              "      </button>\n",
              "      \n",
              "  <style>\n",
              "    .colab-df-container {\n",
              "      display:flex;\n",
              "      flex-wrap:wrap;\n",
              "      gap: 12px;\n",
              "    }\n",
              "\n",
              "    .colab-df-convert {\n",
              "      background-color: #E8F0FE;\n",
              "      border: none;\n",
              "      border-radius: 50%;\n",
              "      cursor: pointer;\n",
              "      display: none;\n",
              "      fill: #1967D2;\n",
              "      height: 32px;\n",
              "      padding: 0 0 0 0;\n",
              "      width: 32px;\n",
              "    }\n",
              "\n",
              "    .colab-df-convert:hover {\n",
              "      background-color: #E2EBFA;\n",
              "      box-shadow: 0px 1px 2px rgba(60, 64, 67, 0.3), 0px 1px 3px 1px rgba(60, 64, 67, 0.15);\n",
              "      fill: #174EA6;\n",
              "    }\n",
              "\n",
              "    [theme=dark] .colab-df-convert {\n",
              "      background-color: #3B4455;\n",
              "      fill: #D2E3FC;\n",
              "    }\n",
              "\n",
              "    [theme=dark] .colab-df-convert:hover {\n",
              "      background-color: #434B5C;\n",
              "      box-shadow: 0px 1px 3px 1px rgba(0, 0, 0, 0.15);\n",
              "      filter: drop-shadow(0px 1px 2px rgba(0, 0, 0, 0.3));\n",
              "      fill: #FFFFFF;\n",
              "    }\n",
              "  </style>\n",
              "\n",
              "      <script>\n",
              "        const buttonEl =\n",
              "          document.querySelector('#df-edeaa8a1-ce58-454b-a5fe-3a27df498ca8 button.colab-df-convert');\n",
              "        buttonEl.style.display =\n",
              "          google.colab.kernel.accessAllowed ? 'block' : 'none';\n",
              "\n",
              "        async function convertToInteractive(key) {\n",
              "          const element = document.querySelector('#df-edeaa8a1-ce58-454b-a5fe-3a27df498ca8');\n",
              "          const dataTable =\n",
              "            await google.colab.kernel.invokeFunction('convertToInteractive',\n",
              "                                                     [key], {});\n",
              "          if (!dataTable) return;\n",
              "\n",
              "          const docLinkHtml = 'Like what you see? Visit the ' +\n",
              "            '<a target=\"_blank\" href=https://colab.research.google.com/notebooks/data_table.ipynb>data table notebook</a>'\n",
              "            + ' to learn more about interactive tables.';\n",
              "          element.innerHTML = '';\n",
              "          dataTable['output_type'] = 'display_data';\n",
              "          await google.colab.output.renderOutput(dataTable, element);\n",
              "          const docLink = document.createElement('div');\n",
              "          docLink.innerHTML = docLinkHtml;\n",
              "          element.appendChild(docLink);\n",
              "        }\n",
              "      </script>\n",
              "    </div>\n",
              "  </div>\n",
              "  "
            ]
          },
          "metadata": {},
          "execution_count": 104
        }
      ]
    },
    {
      "cell_type": "code",
      "source": [
        "# limit the days\n",
        "data = data[data['CumulativeDaysOnMarket'].isin(range(0,90))] \n"
      ],
      "metadata": {
        "id": "6Giqo43t2Oly"
      },
      "execution_count": null,
      "outputs": []
    },
    {
      "cell_type": "code",
      "source": [
        "# limit square feet\n",
        "\n",
        "if 'LivingArea' <= 1100:\n",
        "  data[(data['LivingArea'] > area - 100) & (data['LivingArea'] < area + 100)\n",
        "elif 'LivingArea' <= 2200:\n",
        "  data[(data['LivingArea'] > area -200 )& (data['LivingArea'] > area + 200)]\n",
        "else:\n",
        "  data[(data['LivingArea'] > area -300 )& (data['LivingArea'] > area + 300)]\n"
      ],
      "metadata": {
        "id": "iooiFyjx8oVr"
      },
      "execution_count": null,
      "outputs": []
    },
    {
      "cell_type": "code",
      "source": [
        "# check number of house = (5,6)个 ok， 不等于repet 上面步骤扩大范围"
      ],
      "metadata": {
        "id": "FV-sw_cH8rLX"
      },
      "execution_count": null,
      "outputs": []
    },
    {
      "cell_type": "code",
      "source": [
        "# get top 3 mean max min\n",
        "# return csv"
      ],
      "metadata": {
        "id": "JsZnOLAv85uA"
      },
      "execution_count": null,
      "outputs": []
    }
  ]
}