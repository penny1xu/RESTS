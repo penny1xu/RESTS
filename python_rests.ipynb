{
  "nbformat": 4,
  "nbformat_minor": 0,
  "metadata": {
    "colab": {
      "name": "python_rests.ipynb",
      "provenance": [],
      "collapsed_sections": [],
      "include_colab_link": true
    },
    "kernelspec": {
      "name": "python3",
      "display_name": "Python 3"
    },
    "language_info": {
      "name": "python"
    }
  },
  "cells": [
    {
      "cell_type": "markdown",
      "metadata": {
        "id": "view-in-github",
        "colab_type": "text"
      },
      "source": [
        "<a href=\"https://colab.research.google.com/github/penny1xu/RESTS/blob/main/python_rests.ipynb\" target=\"_parent\"><img src=\"https://colab.research.google.com/assets/colab-badge.svg\" alt=\"Open In Colab\"/></a>"
      ]
    },
    {
      "cell_type": "markdown",
      "source": [
        "# data clean \n",
        "\n",
        "BathroomsFull\n",
        "BathroomsHalf\n",
        "BathroomsTotalDecimal\n",
        "BathroomsTotalInteger\n",
        "BedroomsTotal\n",
        "BuildingAreaTotal\n",
        "City\n",
        "CloseDate\n",
        "ClosePrice\n",
        "CumulativeDaysOnMarket\n",
        "DaysOnMarket\n",
        "GarageSpaces\n",
        "Latitude\n",
        "ListingContractDate\n",
        "ListingId\n",
        "ListPrice\n",
        "ListSource\n",
        "Longitude\n",
        "LotSizeAcres\n",
        "MlsStatus\n",
        "OwnerName\n",
        "OwnerPhone\n",
        "OwnerPhoneAlternative\n",
        "ParcelNumber\n",
        "ParcelNumber2\n",
        "PoolYN\n",
        "PostalCode\n",
        "PreviousListPrice\n",
        "PreviousStatus\n",
        "PropertySubType\n",
        "PropertyType\n",
        "PublicRemarks\n",
        "PurchaseContractDate\n",
        "SchoolDistrict\n",
        "StandardStatus\n",
        "StatusChangeTimestamp\n",
        "StreetDirPrefix\n",
        "StreetDirSuffix\n",
        "StreetName\n",
        "StreetNumber\n",
        "StreetNumberNumeric\n",
        "StreetSuffix\n",
        "SubdivisionName\n",
        "USProperty_MUI\n",
        "YearBuilt\n",
        "\n"
      ],
      "metadata": {
        "id": "2MhZlJu91tcY"
      }
    },
    {
      "cell_type": "code",
      "execution_count": null,
      "metadata": {
        "id": "wPno-Grq1E7_"
      },
      "outputs": [],
      "source": [
        "#import package\n",
        "!pip install censusgeocode\n",
        "import csv\n",
        "import pandas as pd\n",
        "import censusgeocode as cg\n",
        "import numpy as np\n"
      ]
    },
    {
      "cell_type": "markdown",
      "source": [
        "# Data cleaning"
      ],
      "metadata": {
        "id": "Mjf7gspwBB_n"
      }
    },
    {
      "cell_type": "code",
      "source": [
        "data= pd.read_csv(\"final.csv\")\n",
        "# select the data columns we want \n",
        "data = data[['BathroomsFull','BathroomsHalf', 'BathroomsTotalDecimal', 'BathroomsTotalInteger','BedroomsTotal', 'BuildingAreaTotal', 'City', 'CloseDate', 'ClosePrice', 'CumulativeDaysOnMarket', \n",
        "   'DaysOnMarket', 'GarageSpaces', 'Latitude', 'ListingContractDate', 'ListingId', 'ListPrice', \n",
        "   'ListSource', 'Longitude', 'LotSizeAcres', 'MlsStatus', 'OwnerName', 'OwnerPhone', 'OwnerPhoneAlternative',\n",
        "   'ParcelNumber', 'ParcelNumber2', 'PoolYN', 'PostalCode', 'PreviousListPrice', 'PreviousStatus', 'PropertySubType',\n",
        "   'PropertyType', 'PublicRemarks', 'PurchaseContractDate', 'SchoolDistrict', 'StandardStatus', 'StatusChangeTimestamp',\n",
        "   'StreetDirPrefix', 'StreetDirSuffix', 'StreetName', 'StreetNumber', 'StreetNumberNumeric', 'StreetSuffix', 'SubdivisionName',\n",
        "   'USProperty_MUI', 'YearBuilt','LivingArea']]\n"
      ],
      "metadata": {
        "id": "y7h0MvQK2CHj"
      },
      "execution_count": null,
      "outputs": []
    },
    {
      "cell_type": "code",
      "source": [
        "# change data type\n",
        "zip = []\n",
        "lo = []\n",
        "la = []\n",
        "\n",
        "for item in data['PostalCode']:\n",
        "    item = str(item)\n",
        "    zip.append(item)\n",
        "for item in data['Longitude']:\n",
        "    item = float(item)\n",
        "    lo.append(item)\n",
        "for item in data['Latitude']:\n",
        "    item = float(item)\n",
        "    la.append(item)\n",
        "data['PostalCode'] = zip\n",
        "data['Longitude'] = lo\n",
        "data['Latitude'] = la"
      ],
      "metadata": {
        "id": "np0fFXO_WdfP"
      },
      "execution_count": 6,
      "outputs": []
    },
    {
      "cell_type": "code",
      "source": [
        "# choose columns status\n",
        "\n",
        "data = data.loc[data['PropertySubType'] == 'Single Family Residence' ]\n",
        "data = data.loc[data['PropertyType'] == 'Residential']"
      ],
      "metadata": {
        "id": "fh-rJqMcAsK6"
      },
      "execution_count": 7,
      "outputs": []
    },
    {
      "cell_type": "markdown",
      "source": [
        "# Set Input"
      ],
      "metadata": {
        "id": "ypooUCBznBtZ"
      }
    },
    {
      "cell_type": "code",
      "source": [
        "# input data address\n",
        "print('Enter #MLS')\n",
        "mls = 14730621\n",
        "print('Enter address')\n",
        "address = '2836 Meadowbrook Drive'\n",
        "print('Enter city')\n",
        "city = 'Dallas'\n",
        "print('Enter state')\n",
        "state = 'Texas'\n",
        "print('Enter zipcode')\n",
        "zip = '75227'\n",
        "\n"
      ],
      "metadata": {
        "colab": {
          "base_uri": "https://localhost:8080/"
        },
        "id": "20psz5iRmlCu",
        "outputId": "51b54560-b82c-4824-8133-67895d40615a"
      },
      "execution_count": 51,
      "outputs": [
        {
          "output_type": "stream",
          "name": "stdout",
          "text": [
            "Enter #MLS\n",
            "Enter address\n",
            "Enter city\n",
            "Enter state\n",
            "Enter zipcode\n"
          ]
        }
      ]
    },
    {
      "cell_type": "markdown",
      "source": [
        "# filter the data"
      ],
      "metadata": {
        "id": "mju5V6fNOS8u"
      }
    },
    {
      "cell_type": "code",
      "source": [
        "# find value in csv \n",
        "res_mls = data.isin([mls]).any().any()\n",
        "if res_mls :\n",
        "  print(\"\\nThis value exists in Dataframe\")\n",
        "  # get whole row value\n",
        "  pulled_value = data.loc[data['ListingId'] == mls]\n",
        "  #get each value\n",
        "  dict = pulled_value.to_dict('records')\n",
        "\n",
        "  # # limit zipcode range\n",
        "  data = data.loc[data['PostalCode'] == zip ]\n",
        " \n",
        "\n",
        "# get each line value\n",
        "\n",
        "#call the value from the dict\n",
        "  \n"
      ],
      "metadata": {
        "id": "LYstF_OqZkJ-"
      },
      "execution_count": 53,
      "outputs": []
    },
    {
      "cell_type": "code",
      "source": [
        "else :\n",
        "  print(\"\\nThis value does not exists in Dataframe\")\n",
        "  # # limit zipcode range\n",
        "  data = data.loc[data['PostalCode'] == zip ]\n",
        "  # if there is no longitude \n",
        "  #get Longitude and Latitude\n",
        "\n",
        "  ##cg = CensusGeocode(benchmark='Public_AR_Current', vintage='Current_Current')\n",
        "  result = cg.address(address, city = city, state= state,zipcode = zip)\n",
        "  lo = result[0]['coordinates']['x']\n",
        "  la = result[0]['coordinates']['y']\n",
        "  print(result[0]['coordinates'])\n",
        "  # limit longitude and latitude\n",
        "  if \n",
        "  new_data = data[(data['Longitude'] > lo - 0.01) & (data['Longitude'] < lo + 0.01)&\n",
        "               (data['Latitude'] < la + 0.02)& (data['Latitude'] > la - 0.02)]\n"
      ],
      "metadata": {
        "id": "UhfTPEPc-wy8",
        "colab": {
          "base_uri": "https://localhost:8080/",
          "height": 134
        },
        "outputId": "e22e75f2-639e-4699-85a5-5681d7f42fdd"
      },
      "execution_count": 54,
      "outputs": [
        {
          "output_type": "error",
          "ename": "SyntaxError",
          "evalue": "ignored",
          "traceback": [
            "\u001b[0;36m  File \u001b[0;32m\"<ipython-input-54-9c0e077063db>\"\u001b[0;36m, line \u001b[0;32m1\u001b[0m\n\u001b[0;31m    else :\u001b[0m\n\u001b[0m       ^\u001b[0m\n\u001b[0;31mSyntaxError\u001b[0m\u001b[0;31m:\u001b[0m invalid syntax\n"
          ]
        }
      ]
    },
    {
      "cell_type": "code",
      "source": [
        "# limit the days\n",
        "\n",
        "data = data[data['CumulativeDaysOnMarket'].isin(range(0,90))] "
      ],
      "metadata": {
        "id": "6Giqo43t2Oly"
      },
      "execution_count": null,
      "outputs": []
    },
    {
      "cell_type": "code",
      "source": [
        "# limit square feet\n",
        "\n",
        "if 'LivingArea' <= 1100:\n",
        "  data[(data['LivingArea'] > area - 100) & (data['LivingArea'] < area + 100)\n",
        "elif 'LivingArea' <= 2200:\n",
        "  data[(data['LivingArea'] > area -200 )& (data['LivingArea'] > area + 200)]\n",
        "else:\n",
        "  data[(data['LivingArea'] > area -300 )& (data['LivingArea'] > area + 300)]\n"
      ],
      "metadata": {
        "id": "iooiFyjx8oVr"
      },
      "execution_count": null,
      "outputs": []
    },
    {
      "cell_type": "code",
      "source": [
        "#defined number\n",
        "house_leftLa = dict[0].get('Latitude')\n",
        "house_rightLa = dict[0].get('Latitude') \n",
        "house_leftLo = dict[0].get('Longitude')\n",
        "house_rightLo = dict[0].get('Longitude')\n",
        "house_leftSqt = dict[0].get('LivingArea')\n",
        "house_rightSqt = dict[0].get('LivingArea')"
      ],
      "metadata": {
        "id": "FV-sw_cH8rLX"
      },
      "execution_count": 43,
      "outputs": []
    },
    {
      "cell_type": "markdown",
      "source": [
        "# code part"
      ],
      "metadata": {
        "id": "S5rC1RLCuGZR"
      }
    },
    {
      "cell_type": "code",
      "source": [
        "from numpy.ma.core import append\n",
        "def sortByLongAndLat (houses,rightSqt,rightLa,leftLa,leftLo,rightLo):\n",
        "  result = pd.houses()\n",
        "  for house in houses :\n",
        "    if house_leftLo >= leftLo && house_rightLo <= rightLo && house_leftLa >= leftLa && house_rightLa <= rightLa:\n",
        "      result.append(house)\n",
        "  return result\n",
        "\n",
        "\n"
      ],
      "metadata": {
        "colab": {
          "base_uri": "https://localhost:8080/",
          "height": 134
        },
        "id": "zcO6tnp-rdSn",
        "outputId": "ab746f96-7bd0-49e8-abd9-e5e4ab079a84"
      },
      "execution_count": 50,
      "outputs": [
        {
          "output_type": "error",
          "ename": "SyntaxError",
          "evalue": "ignored",
          "traceback": [
            "\u001b[0;36m  File \u001b[0;32m\"<ipython-input-50-3c6252f9c028>\"\u001b[0;36m, line \u001b[0;32m5\u001b[0m\n\u001b[0;31m    if house_leftLo >= leftLo && house_rightLo <= rightLo && house_leftLa >= leftLa && house_rightLa <= rightLa:\u001b[0m\n\u001b[0m                               ^\u001b[0m\n\u001b[0;31mSyntaxError\u001b[0m\u001b[0;31m:\u001b[0m invalid syntax\n"
          ]
        }
      ]
    },
    {
      "cell_type": "code",
      "source": [
        "\n",
        "def findHouse ():\n",
        "   count = int(0)\n",
        "   leftLa = house_leftLa\n",
        "   rightLa = house_rightLa \n",
        "   leftLo = house_leftLo\n",
        "   rightLo = house_rightLo\n",
        "   leftSqt = house_leftSqt\n",
        "   rightSqt = house_rightSqt\n",
        "   zip = dict[0].get('PostalCode')\n",
        "   # create an Empty DataFrame object\n",
        "   result = pd.houses()\n",
        "   selectedHouse = data.loc[data['PostalCode'] == zip ]\n",
        "\n",
        "\n",
        "# if the total value return less than 5\n",
        "   while count <= 5 {\n",
        "       \n",
        "       \n",
        "   }\n",
        "\n",
        "    \n",
        "\n",
        "\n",
        "\n",
        "\n"
      ],
      "metadata": {
        "id": "JsZnOLAv85uA"
      },
      "execution_count": 41,
      "outputs": []
    },
    {
      "cell_type": "code",
      "source": [
        ""
      ],
      "metadata": {
        "id": "TzZNJGvE1f8S"
      },
      "execution_count": null,
      "outputs": []
    }
  ]
}