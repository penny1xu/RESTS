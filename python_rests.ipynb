{
  "nbformat": 4,
  "nbformat_minor": 0,
  "metadata": {
    "colab": {
      "name": "python_rests.ipynb",
      "provenance": [],
      "collapsed_sections": [],
      "include_colab_link": true
    },
    "kernelspec": {
      "name": "python3",
      "display_name": "Python 3"
    },
    "language_info": {
      "name": "python"
    }
  },
  "cells": [
    {
      "cell_type": "markdown",
      "metadata": {
        "id": "view-in-github",
        "colab_type": "text"
      },
      "source": [
        "<a href=\"https://colab.research.google.com/github/penny1xu/RESTS/blob/main/python_rests.ipynb\" target=\"_parent\"><img src=\"https://colab.research.google.com/assets/colab-badge.svg\" alt=\"Open In Colab\"/></a>"
      ]
    },
    {
      "cell_type": "markdown",
      "source": [
        "# data clean \n",
        "\n",
        "BathroomsFull\n",
        "BathroomsHalf\n",
        "BathroomsTotalDecimal\n",
        "BathroomsTotalInteger\n",
        "BedroomsTotal\n",
        "BuildingAreaTotal\n",
        "City\n",
        "CloseDate\n",
        "ClosePrice\n",
        "CumulativeDaysOnMarket\n",
        "DaysOnMarket\n",
        "GarageSpaces\n",
        "Latitude\n",
        "ListingContractDate\n",
        "ListingId\n",
        "ListPrice\n",
        "ListSource\n",
        "Longitude\n",
        "LotSizeAcres\n",
        "MlsStatus\n",
        "OwnerName\n",
        "OwnerPhone\n",
        "OwnerPhoneAlternative\n",
        "ParcelNumber\n",
        "ParcelNumber2\n",
        "PoolYN\n",
        "PostalCode\n",
        "PreviousListPrice\n",
        "PreviousStatus\n",
        "PropertySubType\n",
        "PropertyType\n",
        "PublicRemarks\n",
        "PurchaseContractDate\n",
        "SchoolDistrict\n",
        "StandardStatus\n",
        "StatusChangeTimestamp\n",
        "StreetDirPrefix\n",
        "StreetDirSuffix\n",
        "StreetName\n",
        "StreetNumber\n",
        "StreetNumberNumeric\n",
        "StreetSuffix\n",
        "SubdivisionName\n",
        "USProperty_MUI\n",
        "YearBuilt\n",
        "\n"
      ],
      "metadata": {
        "id": "2MhZlJu91tcY"
      }
    },
    {
      "cell_type": "code",
      "execution_count": 2,
      "metadata": {
        "id": "wPno-Grq1E7_",
        "colab": {
          "base_uri": "https://localhost:8080/"
        },
        "outputId": "7da95efd-e7ae-404e-a3f4-449ea6a72011"
      },
      "outputs": [
        {
          "output_type": "stream",
          "name": "stdout",
          "text": [
            "Looking in indexes: https://pypi.org/simple, https://us-python.pkg.dev/colab-wheels/public/simple/\n",
            "Collecting censusgeocode\n",
            "  Downloading censusgeocode-0.5.2-py3-none-any.whl (9.2 kB)\n",
            "Collecting requests[security]<3,>=2.27.0\n",
            "  Downloading requests-2.27.1-py2.py3-none-any.whl (63 kB)\n",
            "\u001b[K     |████████████████████████████████| 63 kB 992 kB/s \n",
            "\u001b[?25hCollecting requests-toolbelt<1,>=0.9.0\n",
            "  Downloading requests_toolbelt-0.9.1-py2.py3-none-any.whl (54 kB)\n",
            "\u001b[K     |████████████████████████████████| 54 kB 2.0 MB/s \n",
            "\u001b[?25hRequirement already satisfied: requests<3.0.0,>=2.0.1 in /usr/local/lib/python3.7/dist-packages (from requests-toolbelt<1,>=0.9.0->censusgeocode) (2.23.0)\n",
            "Requirement already satisfied: idna<3,>=2.5 in /usr/local/lib/python3.7/dist-packages (from requests<3.0.0,>=2.0.1->requests-toolbelt<1,>=0.9.0->censusgeocode) (2.10)\n",
            "Requirement already satisfied: certifi>=2017.4.17 in /usr/local/lib/python3.7/dist-packages (from requests<3.0.0,>=2.0.1->requests-toolbelt<1,>=0.9.0->censusgeocode) (2022.5.18.1)\n",
            "Requirement already satisfied: chardet<4,>=3.0.2 in /usr/local/lib/python3.7/dist-packages (from requests<3.0.0,>=2.0.1->requests-toolbelt<1,>=0.9.0->censusgeocode) (3.0.4)\n",
            "Requirement already satisfied: urllib3!=1.25.0,!=1.25.1,<1.26,>=1.21.1 in /usr/local/lib/python3.7/dist-packages (from requests<3.0.0,>=2.0.1->requests-toolbelt<1,>=0.9.0->censusgeocode) (1.24.3)\n",
            "Requirement already satisfied: charset-normalizer~=2.0.0 in /usr/local/lib/python3.7/dist-packages (from requests[security]<3,>=2.27.0->censusgeocode) (2.0.12)\n",
            "Installing collected packages: requests, requests-toolbelt, censusgeocode\n",
            "  Attempting uninstall: requests\n",
            "    Found existing installation: requests 2.23.0\n",
            "    Uninstalling requests-2.23.0:\n",
            "      Successfully uninstalled requests-2.23.0\n",
            "\u001b[31mERROR: pip's dependency resolver does not currently take into account all the packages that are installed. This behaviour is the source of the following dependency conflicts.\n",
            "google-colab 1.0.0 requires requests~=2.23.0, but you have requests 2.27.1 which is incompatible.\n",
            "datascience 0.10.6 requires folium==0.2.1, but you have folium 0.8.3 which is incompatible.\u001b[0m\n",
            "Successfully installed censusgeocode-0.5.2 requests-2.27.1 requests-toolbelt-0.9.1\n"
          ]
        }
      ],
      "source": [
        "#import package\n",
        "!pip install censusgeocode\n",
        "import csv\n",
        "import pandas as pd\n",
        "import censusgeocode as cg"
      ]
    },
    {
      "cell_type": "markdown",
      "source": [
        "# Data cleaning"
      ],
      "metadata": {
        "id": "Mjf7gspwBB_n"
      }
    },
    {
      "cell_type": "code",
      "source": [
        "data= pd.read_csv(\"final.csv\")\n",
        "# select the data columns we want \n",
        "data = data[['BathroomsFull','BathroomsHalf', 'BathroomsTotalDecimal', 'BathroomsTotalInteger','BedroomsTotal', 'BuildingAreaTotal', 'City', 'CloseDate', 'ClosePrice', 'CumulativeDaysOnMarket', \n",
        "   'DaysOnMarket', 'GarageSpaces', 'Latitude', 'ListingContractDate', 'ListingId', 'ListPrice', \n",
        "   'ListSource', 'Longitude', 'LotSizeAcres', 'MlsStatus', 'OwnerName', 'OwnerPhone', 'OwnerPhoneAlternative',\n",
        "   'ParcelNumber', 'ParcelNumber2', 'PoolYN', 'PostalCode', 'PreviousListPrice', 'PreviousStatus', 'PropertySubType',\n",
        "   'PropertyType', 'PublicRemarks', 'PurchaseContractDate', 'SchoolDistrict', 'StandardStatus', 'StatusChangeTimestamp',\n",
        "   'StreetDirPrefix', 'StreetDirSuffix', 'StreetName', 'StreetNumber', 'StreetNumberNumeric', 'StreetSuffix', 'SubdivisionName',\n",
        "   'USProperty_MUI', 'YearBuilt','LivingArea']]\n"
      ],
      "metadata": {
        "id": "y7h0MvQK2CHj"
      },
      "execution_count": 26,
      "outputs": []
    },
    {
      "cell_type": "code",
      "source": [
        "# change data type\n",
        "zip = []\n",
        "lo = []\n",
        "la = []\n",
        "\n",
        "for item in data['PostalCode']:\n",
        "    item = str(item)\n",
        "    zip.append(item)\n",
        "for item in data['Longitude']:\n",
        "    item = float(item)\n",
        "    lo.append(item)\n",
        "for item in data['Latitude']:\n",
        "    item = float(item)\n",
        "    la.append(item)\n",
        "data['PostalCode'] = zip\n",
        "data['Longitude'] = lo\n",
        "data['Latitude'] = la"
      ],
      "metadata": {
        "id": "np0fFXO_WdfP"
      },
      "execution_count": 27,
      "outputs": []
    },
    {
      "cell_type": "code",
      "source": [
        "# choose columns status\n",
        "\n",
        "data.loc[data['PropertySubType'] == 'Single Family Residence' ]\n",
        "data.loc[data['PropertyType'] == 'Residential']"
      ],
      "metadata": {
        "id": "fh-rJqMcAsK6"
      },
      "execution_count": null,
      "outputs": []
    },
    {
      "cell_type": "markdown",
      "source": [
        "# Set Input"
      ],
      "metadata": {
        "id": "ypooUCBznBtZ"
      }
    },
    {
      "cell_type": "code",
      "source": [
        "# input data address\n",
        "print('Enter #MLS')\n",
        "mls = 14730621\n",
        "print('Enter address')\n",
        "address = '2836 Meadowbrook Drive'\n",
        "print('Enter city')\n",
        "city = 'Dallas'\n",
        "print('Enter state')\n",
        "state = 'Texas'\n",
        "print('Enter zipcode')\n",
        "zip = '75227'\n",
        "\n"
      ],
      "metadata": {
        "colab": {
          "base_uri": "https://localhost:8080/"
        },
        "id": "20psz5iRmlCu",
        "outputId": "2e174cde-871f-4144-b7e1-9f7240de2cfd"
      },
      "execution_count": 32,
      "outputs": [
        {
          "output_type": "stream",
          "name": "stdout",
          "text": [
            "Enter #MLS\n",
            "Enter address\n",
            "Enter city\n",
            "Enter state\n",
            "Enter zipcode\n"
          ]
        }
      ]
    },
    {
      "cell_type": "code",
      "source": [
        "# find value in csv \n",
        "res_mls = data.isin([mls]).any().any()\n",
        "if res_mls :\n",
        "  print(\"\\nThis value exists in Dataframe\")\n",
        "  # get whole row value\n",
        "  pull_value = data.loc[data['ListingId'] == mls]\n",
        "  print(pull_value)\n",
        "\n",
        "else :\n",
        "  print(\"\\nThis value does not exists in Dataframe\")"
      ],
      "metadata": {
        "colab": {
          "base_uri": "https://localhost:8080/"
        },
        "id": "LYstF_OqZkJ-",
        "outputId": "dacbbcb2-b022-46bf-a50c-8e389f56fd60"
      },
      "execution_count": 40,
      "outputs": [
        {
          "output_type": "stream",
          "name": "stdout",
          "text": [
            "\n",
            "This value exists in Dataframe\n",
            "   BathroomsFull  BathroomsHalf  BathroomsTotalDecimal  BathroomsTotalInteger  \\\n",
            "1              3              0                    3.0                      3   \n",
            "\n",
            "   BedroomsTotal  BuildingAreaTotal   City CloseDate  ClosePrice  \\\n",
            "1              5             2632.0  Plano   1/26/22    637000.0   \n",
            "\n",
            "   CumulativeDaysOnMarket  ...  StreetDirPrefix  StreetDirSuffix   StreetName  \\\n",
            "1                       6  ...              NaN              NaN  Meadowbrook   \n",
            "\n",
            "  StreetNumber  StreetNumberNumeric  StreetSuffix        SubdivisionName  \\\n",
            "1         2836                 2836         Drive  Prairie Creek Estates   \n",
            "\n",
            "   USProperty_MUI  YearBuilt LivingArea  \n",
            "1       411548787       1976       2632  \n",
            "\n",
            "[1 rows x 46 columns]\n"
          ]
        }
      ]
    },
    {
      "cell_type": "code",
      "source": [
        "# # limit zipcode range\n",
        "data = data.loc[data['PostalCode'] == zip ]"
      ],
      "metadata": {
        "id": "vk1J7kEc3i4j"
      },
      "execution_count": 105,
      "outputs": []
    },
    {
      "cell_type": "code",
      "source": [
        "# if there is no longitude \n",
        "#get Longitude and Latitude\n",
        "\n",
        "##cg = CensusGeocode(benchmark='Public_AR_Current', vintage='Current_Current')\n",
        "# example: 1620 Yarborough Drive, city = Sherman, State = TX , zipcode = 75092\n",
        "\n",
        "\n",
        "result = cg.address(address, city = city, state= state,zipcode = zip)\n",
        "lo = result[0]['coordinates']['x']\n",
        "la = result[0]['coordinates']['y']\n",
        "print(result[0]['coordinates'])"
      ],
      "metadata": {
        "colab": {
          "base_uri": "https://localhost:8080/"
        },
        "id": "Y4lllOlnsepG",
        "outputId": "20658ae0-3cf0-4037-f0aa-2fe82c9a12e8"
      },
      "execution_count": 98,
      "outputs": [
        {
          "output_type": "stream",
          "name": "stdout",
          "text": [
            "{'x': -96.76240415323872, 'y': 33.00313878557192}\n"
          ]
        }
      ]
    },
    {
      "cell_type": "code",
      "source": [
        "# limit longitude and latitude\n",
        "\n",
        "new_data = data[(data['Longitude'] > lo - 0.01) & (data['Longitude'] < lo + 0.01)&\n",
        "               (data['Latitude'] < la + 0.02)& (data['Latitude'] > la - 0.02)]"
      ],
      "metadata": {
        "id": "UhfTPEPc-wy8"
      },
      "execution_count": 103,
      "outputs": []
    },
    {
      "cell_type": "code",
      "source": [
        "# limit the days\n",
        "\n",
        "data = data[data['CumulativeDaysOnMarket'].isin(range(0,90))] "
      ],
      "metadata": {
        "id": "6Giqo43t2Oly"
      },
      "execution_count": null,
      "outputs": []
    },
    {
      "cell_type": "code",
      "source": [
        "# limit square feet\n",
        "\n",
        "if 'LivingArea' <= 1100:\n",
        "  data[(data['LivingArea'] > area - 100) & (data['LivingArea'] < area + 100)\n",
        "elif 'LivingArea' <= 2200:\n",
        "  data[(data['LivingArea'] > area -200 )& (data['LivingArea'] > area + 200)]\n",
        "else:\n",
        "  data[(data['LivingArea'] > area -300 )& (data['LivingArea'] > area + 300)]\n"
      ],
      "metadata": {
        "id": "iooiFyjx8oVr"
      },
      "execution_count": null,
      "outputs": []
    },
    {
      "cell_type": "code",
      "source": [
        "# check number of house = (5,6)个 ok， 不等于repet 上面步骤扩大范围"
      ],
      "metadata": {
        "id": "FV-sw_cH8rLX"
      },
      "execution_count": null,
      "outputs": []
    },
    {
      "cell_type": "code",
      "source": [
        "# get top 3 mean max min\n",
        "# return csv"
      ],
      "metadata": {
        "id": "JsZnOLAv85uA"
      },
      "execution_count": null,
      "outputs": []
    }
  ]
}