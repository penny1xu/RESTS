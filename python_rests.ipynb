{
  "nbformat": 4,
  "nbformat_minor": 0,
  "metadata": {
    "colab": {
      "name": "python_rests.ipynb",
      "provenance": [],
      "collapsed_sections": [],
      "include_colab_link": true
    },
    "kernelspec": {
      "name": "python3",
      "display_name": "Python 3"
    },
    "language_info": {
      "name": "python"
    }
  },
  "cells": [
    {
      "cell_type": "markdown",
      "metadata": {
        "id": "view-in-github",
        "colab_type": "text"
      },
      "source": [
        "<a href=\"https://colab.research.google.com/github/penny1xu/RESTS/blob/main/python_rests.ipynb\" target=\"_parent\"><img src=\"https://colab.research.google.com/assets/colab-badge.svg\" alt=\"Open In Colab\"/></a>"
      ]
    },
    {
      "cell_type": "markdown",
      "source": [
        "# data clean \n",
        "\n",
        "BathroomsFull\n",
        "BathroomsHalf\n",
        "BathroomsTotalDecimal\n",
        "BathroomsTotalInteger\n",
        "BedroomsTotal\n",
        "BuildingAreaTotal\n",
        "City\n",
        "CloseDate\n",
        "ClosePrice\n",
        "CumulativeDaysOnMarket\n",
        "DaysOnMarket\n",
        "GarageSpaces\n",
        "Latitude\n",
        "ListingContractDate\n",
        "ListingId\n",
        "ListPrice\n",
        "ListSource\n",
        "Longitude\n",
        "LotSizeAcres\n",
        "MlsStatus\n",
        "OwnerName\n",
        "OwnerPhone\n",
        "OwnerPhoneAlternative\n",
        "ParcelNumber\n",
        "ParcelNumber2\n",
        "PoolYN\n",
        "PostalCode\n",
        "PreviousListPrice\n",
        "PreviousStatus\n",
        "PropertySubType\n",
        "PropertyType\n",
        "PublicRemarks\n",
        "PurchaseContractDate\n",
        "SchoolDistrict\n",
        "StandardStatus\n",
        "StatusChangeTimestamp\n",
        "StreetDirPrefix\n",
        "StreetDirSuffix\n",
        "StreetName\n",
        "StreetNumber\n",
        "StreetNumberNumeric\n",
        "StreetSuffix\n",
        "SubdivisionName\n",
        "USProperty_MUI\n",
        "YearBuilt\n",
        "\n"
      ],
      "metadata": {
        "id": "2MhZlJu91tcY"
      }
    },
    {
      "cell_type": "code",
      "execution_count": 3,
      "metadata": {
        "id": "wPno-Grq1E7_",
        "colab": {
          "base_uri": "https://localhost:8080/"
        },
        "outputId": "5f575854-cad5-48ba-e9e8-78298b121ed7"
      },
      "outputs": [
        {
          "output_type": "stream",
          "name": "stdout",
          "text": [
            "Looking in indexes: https://pypi.org/simple, https://us-python.pkg.dev/colab-wheels/public/simple/\n",
            "Collecting censusgeocode\n",
            "  Downloading censusgeocode-0.5.2-py3-none-any.whl (9.2 kB)\n",
            "Collecting requests[security]<3,>=2.27.0\n",
            "  Downloading requests-2.27.1-py2.py3-none-any.whl (63 kB)\n",
            "\u001b[K     |████████████████████████████████| 63 kB 1.3 MB/s \n",
            "\u001b[?25hCollecting requests-toolbelt<1,>=0.9.0\n",
            "  Downloading requests_toolbelt-0.9.1-py2.py3-none-any.whl (54 kB)\n",
            "\u001b[K     |████████████████████████████████| 54 kB 2.7 MB/s \n",
            "\u001b[?25hRequirement already satisfied: requests<3.0.0,>=2.0.1 in /usr/local/lib/python3.7/dist-packages (from requests-toolbelt<1,>=0.9.0->censusgeocode) (2.23.0)\n",
            "Requirement already satisfied: idna<3,>=2.5 in /usr/local/lib/python3.7/dist-packages (from requests<3.0.0,>=2.0.1->requests-toolbelt<1,>=0.9.0->censusgeocode) (2.10)\n",
            "Requirement already satisfied: certifi>=2017.4.17 in /usr/local/lib/python3.7/dist-packages (from requests<3.0.0,>=2.0.1->requests-toolbelt<1,>=0.9.0->censusgeocode) (2022.5.18.1)\n",
            "Requirement already satisfied: urllib3!=1.25.0,!=1.25.1,<1.26,>=1.21.1 in /usr/local/lib/python3.7/dist-packages (from requests<3.0.0,>=2.0.1->requests-toolbelt<1,>=0.9.0->censusgeocode) (1.24.3)\n",
            "Requirement already satisfied: chardet<4,>=3.0.2 in /usr/local/lib/python3.7/dist-packages (from requests<3.0.0,>=2.0.1->requests-toolbelt<1,>=0.9.0->censusgeocode) (3.0.4)\n",
            "Requirement already satisfied: charset-normalizer~=2.0.0 in /usr/local/lib/python3.7/dist-packages (from requests[security]<3,>=2.27.0->censusgeocode) (2.0.12)\n",
            "Installing collected packages: requests, requests-toolbelt, censusgeocode\n",
            "  Attempting uninstall: requests\n",
            "    Found existing installation: requests 2.23.0\n",
            "    Uninstalling requests-2.23.0:\n",
            "      Successfully uninstalled requests-2.23.0\n",
            "\u001b[31mERROR: pip's dependency resolver does not currently take into account all the packages that are installed. This behaviour is the source of the following dependency conflicts.\n",
            "google-colab 1.0.0 requires requests~=2.23.0, but you have requests 2.27.1 which is incompatible.\n",
            "datascience 0.10.6 requires folium==0.2.1, but you have folium 0.8.3 which is incompatible.\u001b[0m\n",
            "Successfully installed censusgeocode-0.5.2 requests-2.27.1 requests-toolbelt-0.9.1\n"
          ]
        }
      ],
      "source": [
        "#import package\n",
        "!pip install censusgeocode\n",
        "import csv\n",
        "import pandas as pd\n",
        "import censusgeocode as cg\n",
        "import numpy as np\n",
        "import sys\n"
      ]
    },
    {
      "cell_type": "markdown",
      "source": [
        "# Data cleaning"
      ],
      "metadata": {
        "id": "Mjf7gspwBB_n"
      }
    },
    {
      "cell_type": "code",
      "source": [
        "import pandas as pd\n",
        "import censusgeocode as cg\n",
        "data= pd.read_csv(\"final.csv\")\n",
        "# select the data columns we want \n",
        "data = data[['BathroomsFull','BathroomsHalf', 'BathroomsTotalDecimal', 'BathroomsTotalInteger','BedroomsTotal', 'BuildingAreaTotal', 'City', 'CloseDate', 'ClosePrice', 'CumulativeDaysOnMarket', \n",
        "   'DaysOnMarket', 'GarageSpaces', 'Latitude', 'ListingContractDate', 'ListingId', 'ListPrice', \n",
        "   'ListSource', 'LivingArea', 'Longitude', 'LotSizeAcres', 'MlsStatus', 'OwnerName', 'OwnerPhone', 'OwnerPhoneAlternative',\n",
        "   'ParcelNumber', 'ParcelNumber2', 'PoolYN', 'PostalCode', 'PreviousListPrice', 'PreviousStatus', 'PropertySubType',\n",
        "   'PropertyType', 'PublicRemarks', 'PurchaseContractDate', 'SchoolDistrict', 'StandardStatus', 'StatusChangeTimestamp',\n",
        "   'StreetDirPrefix', 'StreetDirSuffix', 'StreetName', 'StreetNumber', 'StreetNumberNumeric', 'StreetSuffix', 'SubdivisionName',\n",
        "   'USProperty_MUI', 'YearBuilt']]\n",
        "code = []\n",
        "long = []\n",
        "lat = []\n",
        "area = []\n",
        "price = []\n",
        "for item in data['PostalCode']:\n",
        "    item = str(item)\n",
        "    code.append(item)\n",
        "for item in data['Longitude']:\n",
        "    item = float(item)\n",
        "    long.append(item)\n",
        "for item in data['Latitude']:\n",
        "    item = float(item)\n",
        "    lat.append(item)\n",
        "for item in data['LivingArea']:\n",
        "    item = float(item)\n",
        "    area.append(item)\n",
        "for item in data['ClosePrice']:\n",
        "    item = float(item)\n",
        "    price.append(item)\n",
        "data['PostalCode'] = code\n",
        "data['Longitude'] = long\n",
        "data['Latitude'] = lat\n",
        "data['LivingArea'] = area\n",
        "data['ClosePrice'] = price\n",
        "def findHouse(house_leftLa, house_rightLa, house_leftLo, house_rightLo, house_leftSqt, house_rightSqt, data):\n",
        "    basic = house_leftSqt\n",
        "    result = data[(data['Longitude'] >= house_leftLo) & (data['Longitude'] <= house_rightLo) & (data['Latitude'] >= house_leftLa) & (data['Latitude'] <= house_rightLa) & (data['LivingArea'] >= house_leftSqt) & (data['LivingArea'] <= house_rightSqt)]\n",
        "    if(len(result['Longitude']) >= 5):\n",
        "        return result\n",
        "    else:\n",
        "        house_leftLa -= 0.01\n",
        "        house_rightLa += 0.01\n",
        "        house_leftLo -= 0.01\n",
        "        house_rightLo += 0.01\n",
        "        if(basic <= 1100):\n",
        "            house_leftSqt -= 100\n",
        "            house_rightSqt += 100\n",
        "        elif(basic <= 2200):\n",
        "            house_leftSqt -= 200\n",
        "            house_rightSqt += 200\n",
        "        else:\n",
        "            house_leftSqt -= 300\n",
        "            house_rightSqt += 300\n",
        "        return findHouse(house_leftLa, house_rightLa, house_leftLo, house_rightLo, house_leftSqt, house_rightSqt, data)  \n",
        "def findifNull(lo_left, lo_right, la_left, la_right, data):\n",
        "    new_data = data[(data['Longitude'] >= lo_left) & (data['Longitude'] <= lo_right)&(data['Latitude'] >= la_left)& (data['Latitude'] <=la_right)]\n",
        "    if(len(new_data['Longitude'])>=5):\n",
        "        return new_data\n",
        "    else:\n",
        "        lo_left -= 0.01\n",
        "        lo_right += 0.01\n",
        "        la_left -= 0.02\n",
        "        la_right += 0.02\n",
        "        return findifNull(lo_left, lo_right, la_left, la_right, data)\n",
        "def main(data):\n",
        "    print('Enter #MLS')\n",
        "    mls = input()\n",
        "    #14730621\n",
        "    if int(mls) in list(data['ListingId']):\n",
        "        print(\"\\nThis value exists in Dataframe\")\n",
        "  # get whole row value\n",
        "        pulled_value = data.loc[data['ListingId'] == int(mls)]\n",
        "  #get each value\n",
        "        records = pulled_value.to_dict('records')\n",
        "        zip = records[0].get('PostalCode')\n",
        "        print(records[0])\n",
        "        records = pulled_value.to_dict('records')\n",
        "        data = data[data['PostalCode'] == zip ]\n",
        "        house_leftLa = records[0].get('Latitude')\n",
        "        house_rightLa = records[0].get('Latitude') \n",
        "        house_leftLo = records[0].get('Longitude')\n",
        "        house_rightLo = records[0].get('Longitude')\n",
        "        house_leftSqt = records[0].get('LivingArea')\n",
        "        house_rightSqt = records[0].get('LivingArea')\n",
        "        result = findHouse(house_leftLa, house_rightLa, house_leftLo, house_rightLo, house_leftSqt, house_rightSqt, data)\n",
        "        mean = result['ClosePrice'].mean()\n",
        "        top = list(result['ClosePrice'])\n",
        "        top.sort(reverse = True)\n",
        "        return result.to_csv('result.csv'), mean, top[0:3]\n",
        "    else:\n",
        "        print('invalid ID, please insert specific value')\n",
        "        print('Enter address')\n",
        "        address = input()\n",
        "        #'2836 Meadowbrook Drive'\n",
        "        print('Enter city')\n",
        "        city = input()\n",
        "        #'Dallas'\n",
        "        print('Enter state')\n",
        "        state = input()\n",
        "        #'Texas'\n",
        "        print('Enter zipcode')\n",
        "        zip = input()\n",
        "        #'75227'\n",
        "        result = cg.address(address, city = city, state= state,zipcode = zip)\n",
        "        lo_left = result[0]['coordinates']['x']\n",
        "        lo_right = result[0]['coordinates']['x']\n",
        "        la_left = result[0]['coordinates']['y']\n",
        "        la_right = result[0]['coordinates']['y']\n",
        "        data = data[data['PostalCode'] == zip ]\n",
        "        result = findifNull(lo_left, lo_right, la_left, la_right, data)\n",
        "        mean = result['ClosePrice'].mean()\n",
        "        top = list(result['ClosePrice'])\n",
        "        top.sort(reverse = True)\n",
        "        return result.to_csv('result.csv'), mean, top[0:3]\n",
        "  # # limit zipcode range\n",
        "    \n",
        "if __name__ == \"__main__\":\n",
        "    print(main(data))"
      ],
      "metadata": {
        "colab": {
          "base_uri": "https://localhost:8080/"
        },
        "id": "tEleJ93ZLJza",
        "outputId": "043b5b13-58ff-4acf-9c43-31a63ff823c9"
      },
      "execution_count": 7,
      "outputs": [
        {
          "output_type": "stream",
          "name": "stderr",
          "text": [
            "/usr/local/lib/python3.7/dist-packages/IPython/core/interactiveshell.py:2882: DtypeWarning: Columns (23,24,25,27,29,30,31,76,92,132,137,139,171,173,197,202,226,227,228,229,253,255,299,300,355,359,360,361,362,379,382,383) have mixed types.Specify dtype option on import or set low_memory=False.\n",
            "  exec(code_obj, self.user_global_ns, self.user_ns)\n"
          ]
        },
        {
          "output_type": "stream",
          "name": "stdout",
          "text": [
            "Enter #MLS\n",
            "14704524\n",
            "\n",
            "This value exists in Dataframe\n",
            "{'BathroomsFull': 3, 'BathroomsHalf': 0, 'BathroomsTotalDecimal': 3.0, 'BathroomsTotalInteger': 3, 'BedroomsTotal': 4, 'BuildingAreaTotal': 2658.0, 'City': 'Plano', 'CloseDate': '2022-01-12', 'ClosePrice': 521123.0, 'CumulativeDaysOnMarket': 28, 'DaysOnMarket': 28, 'GarageSpaces': 3.0, 'Latitude': 33.078978, 'ListingContractDate': '2021-12-02', 'ListingId': 14704524, 'ListPrice': 485000.0, 'ListSource': nan, 'LivingArea': 2658.0, 'Longitude': -96.791238, 'LotSizeAcres': 0.17, 'MlsStatus': 'Closed', 'OwnerName': 'Of Record', 'OwnerPhone': nan, 'OwnerPhoneAlternative': nan, 'ParcelNumber': 'R222600C01701', 'ParcelNumber2': nan, 'PoolYN': 0.0, 'PostalCode': '75024', 'PreviousListPrice': nan, 'PreviousStatus': 'Pending', 'PropertySubType': 'Single Family Residence', 'PropertyType': 'Residential', 'PublicRemarks': 'Deadline for offers 12-30, 10a. Featuring a highly sought-after 1st floor guest bed & full bath! The location is perfect for shopping and access to highways! Home features new: paint, lighting, hand-scraped wood flooring on the 1st floor, deep cleaned lightly used carpets upstairs. This 4 bed, 3 bath home offers tall ceilings, 2 dining areas, 3 living areas 1 with bar & gas FP. Downstairs Master Bed offers WI closet, dual sinks, newly remodeled shower with separate garden tub. The 2 additional bedrooms upstairs share a full bath. There is a pergola & extended flagstone patio with extra tall BOB fence 2019, AC 2021-2 stage downstairs, ductwork 2021, WH 2021, Foundation 2021, Roof 2019. Buyer pays for new survey.', 'PurchaseContractDate': '2021-12-30', 'SchoolDistrict': 'Plano ISD', 'StandardStatus': 'Closed', 'StatusChangeTimestamp': '2022-01-12T17:08:07.363', 'StreetDirPrefix': nan, 'StreetDirSuffix': nan, 'StreetName': 'Home', 'StreetNumber': 4669, 'StreetNumberNumeric': 4669, 'StreetSuffix': 'Place', 'SubdivisionName': 'Quincy Place II Add', 'USProperty_MUI': 411683854.0, 'YearBuilt': 1987}\n",
            "(None, 541780.75, [620000.0, 521123.0, 520000.0])\n"
          ]
        }
      ]
    }
  ]
}