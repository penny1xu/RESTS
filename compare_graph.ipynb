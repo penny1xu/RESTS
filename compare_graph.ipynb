{
  "nbformat": 4,
  "nbformat_minor": 0,
  "metadata": {
    "colab": {
      "name": "compare_graph.ipynb",
      "provenance": [],
      "collapsed_sections": [],
      "authorship_tag": "ABX9TyOoVnPcJdldRn+01MhLzZZe",
      "include_colab_link": true
    },
    "kernelspec": {
      "name": "python3",
      "display_name": "Python 3"
    },
    "language_info": {
      "name": "python"
    }
  },
  "cells": [
    {
      "cell_type": "markdown",
      "metadata": {
        "id": "view-in-github",
        "colab_type": "text"
      },
      "source": [
        "<a href=\"https://colab.research.google.com/github/penny1xu/RESTS/blob/main/compare_graph.ipynb\" target=\"_parent\"><img src=\"https://colab.research.google.com/assets/colab-badge.svg\" alt=\"Open In Colab\"/></a>"
      ]
    },
    {
      "cell_type": "code",
      "source": [
        "!pip install censusgeocode\n",
        "!pip install rets\n",
        "import csv\n",
        "import censusgeocode as cg\n",
        "import numpy as np\n",
        "from rets import Session\n",
        "import datetime\n",
        "import time\n",
        "from datetime import datetime,timedelta\n",
        "!pip install pytz\n",
        "import matplotlib.pyplot as plt\n",
        "import pytz\n"
      ],
      "metadata": {
        "id": "kIJkU0NHShgV"
      },
      "execution_count": null,
      "outputs": []
    },
    {
      "cell_type": "code",
      "execution_count": 4,
      "metadata": {
        "colab": {
          "base_uri": "https://localhost:8080/"
        },
        "id": "2wE8rlnZif2K",
        "outputId": "2631560d-cb65-43e4-a340-8fb9bef10a40"
      },
      "outputs": [
        {
          "output_type": "execute_result",
          "data": {
            "text/plain": [
              "True"
            ]
          },
          "metadata": {},
          "execution_count": 4
        }
      ],
      "source": [
        "login_url = 'https://ntrdd.mlsmatrix.com/rets/Login.ashx' \n",
        "username = '0671181_NID'\n",
        "password = 'Rt$tg6jx'\n",
        "rets_client = Session(login_url, username, password)\n",
        "rets_client.login()\n"
      ]
    },
    {
      "cell_type": "code",
      "source": [
        "import time\n",
        "from datetime import datetime, timedelta\n",
        "tz_IN = pytz.timezone('US/Central')\n",
        "today = datetime.now(tz_IN)\n",
        "today_before_1year = today - timedelta(days=365)\n",
        "dt_string = today_before_1year.strftime(\"%Y-%m-%d\")\n",
        "\n",
        "dt_string\n"
      ],
      "metadata": {
        "colab": {
          "base_uri": "https://localhost:8080/",
          "height": 36
        },
        "id": "vTWMST-2jZVt",
        "outputId": "1588d3e6-9236-4870-9b2e-0709d99052b9"
      },
      "execution_count": 172,
      "outputs": [
        {
          "output_type": "execute_result",
          "data": {
            "text/plain": [
              "'2021-06-16'"
            ],
            "application/vnd.google.colaboratory.intrinsic+json": {
              "type": "string"
            }
          },
          "metadata": {},
          "execution_count": 172
        }
      ]
    },
    {
      "cell_type": "code",
      "source": [
        "import datetime\n",
        "data = '2021-07-13'\n",
        "date = date.split(\"-\")\n",
        "d = datetime.date(int(date[0]),int(date[1]),int(date[2])).isocalendar()[1]\n",
        "print(d)\n"
      ],
      "metadata": {
        "colab": {
          "base_uri": "https://localhost:8080/"
        },
        "id": "JhmolpUJNtCR",
        "outputId": "80edf4a0-7469-40a3-eafd-2e149abb9f22"
      },
      "execution_count": 144,
      "outputs": [
        {
          "output_type": "stream",
          "name": "stdout",
          "text": [
            "28\n"
          ]
        }
      ]
    },
    {
      "cell_type": "code",
      "source": [
        "# pull all the data which is satisfy the condition\n",
        "import pandas as pd\n",
        "import datetime\n",
        "\n",
        "new_list = rets_client.search(resource = 'Property', resource_class='Property',limit = 100, dmql_query='(ListingContractDate = 2022-01-01+)')\n",
        "lis = []\n",
        "di ={}\n",
        "df = pd.DataFrame()\n",
        "for item in new_list:\n",
        "  if(item['PropertyType'] == 'Residential' and item['PropertySubType'] == 'Single Family Residence'):\n",
        "    df = pd.concat([df, pd.DataFrame(item.values())], axis=1, ignore_index=True) \n",
        "    di = item \n",
        "for key in di:\n",
        "  lis.append(key)\n",
        "df = df.T\n",
        "df.columns = lis\n",
        "new = len(df.index)\n",
        "\n",
        "# get each date and sign to different week\n",
        "df['ListingContractDate'] = pd.to_datetime(df['ListingContractDate'], errors='coerce')\n",
        "df['week_number_of_year'] = df['ListingContractDate'].dt.week\n",
        "# pull together different weeks' data\n",
        "df['week_number_of_year'].value_counts()\n",
        "print(df['week_number_of_year'].value_counts())\n",
        "\n",
        "#df.to_csv('data.csv')\n"
      ],
      "metadata": {
        "colab": {
          "base_uri": "https://localhost:8080/"
        },
        "id": "bk5G2umlQxQ0",
        "outputId": "5cc94e49-c56e-4747-8cc4-3b319fd70738"
      },
      "execution_count": 179,
      "outputs": [
        {
          "output_type": "stream",
          "name": "stdout",
          "text": [
            "1     20\n",
            "2     10\n",
            "4      8\n",
            "3      6\n",
            "8      5\n",
            "6      5\n",
            "5      4\n",
            "7      3\n",
            "9      3\n",
            "13     2\n",
            "52     2\n",
            "10     1\n",
            "11     1\n",
            "12     1\n",
            "17     1\n",
            "19     1\n",
            "14     1\n",
            "Name: week_number_of_year, dtype: int64\n"
          ]
        },
        {
          "output_type": "stream",
          "name": "stderr",
          "text": [
            "/usr/local/lib/python3.7/dist-packages/ipykernel_launcher.py:21: FutureWarning: Series.dt.weekofyear and Series.dt.week have been deprecated.  Please use Series.dt.isocalendar().week instead.\n"
          ]
        }
      ]
    },
    {
      "cell_type": "code",
      "source": [
        "cls_list = rets_client.search(resource = 'Property', resource_class='Property',dmql_query='(CloseDate = 2022-01-01+)')\n",
        "lis = []\n",
        "di ={}\n",
        "df = pd.DataFrame()\n",
        "for item in cls_list:\n",
        "  if(item['PropertyType'] == 'Residential' and item['PropertySubType'] == 'Single Family Residence'):\n",
        "    df = pd.concat([df, pd.DataFrame(item.values())], axis=1, ignore_index=True) \n",
        "    di = item \n",
        "for key in di:\n",
        "  lis.append(key)\n",
        "df = df.T\n",
        "df.columns = lis\n",
        "close = len(df.index)\n",
        "\n",
        "# get each date and sign to different week\n",
        "df['CloseDate'] = pd.to_datetime(df['CloseDate'], errors='coerce')\n",
        "df['week_number_of_year'] = df['CloseDate'].dt.week\n",
        "# pull together different weeks' data\n",
        "df['week_number_of_year'].value_counts()\n",
        "print(df['week_number_of_year'].value_counts())\n",
        "\n",
        "#df.to_csv('data.csv')\n",
        "\n"
      ],
      "metadata": {
        "id": "XCDxrB5ITjzH"
      },
      "execution_count": null,
      "outputs": []
    },
    {
      "cell_type": "code",
      "source": [
        "import matplotlib.pyplot as plt\n",
        "\n",
        "xAxis = ['New Listing','Closed']\n",
        "yAxis = [new,close]\n",
        "New_Colors = ['green','blue']\n",
        "\n",
        "plt.barh(xAxis,yAxis,color=New_Colors)\n",
        "plt.title('bargraph')\n",
        "plt.ylabel('Residential House Number')\n",
        "\n",
        "for index, value in enumerate(yAxis):\n",
        "    plt.text(value, index,str(value))\n",
        "\n",
        "plt.show()\n"
      ],
      "metadata": {
        "colab": {
          "base_uri": "https://localhost:8080/",
          "height": 281
        },
        "id": "olk7acTHWg_i",
        "outputId": "d9adaa60-8c5c-47db-d553-834f78235c85"
      },
      "execution_count": 121,
      "outputs": [
        {
          "output_type": "display_data",
          "data": {
            "text/plain": [
              "<Figure size 432x288 with 1 Axes>"
            ],
            "image/png": "[encoded data removed]"
          },
          "metadata": {
            "needs_background": "light"
          }
        }
      ]
    }
  ]
}