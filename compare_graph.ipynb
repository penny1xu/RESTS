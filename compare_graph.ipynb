{
  "nbformat": 4,
  "nbformat_minor": 0,
  "metadata": {
    "colab": {
      "name": "compare_graph.ipynb",
      "provenance": [],
      "collapsed_sections": [],
      "include_colab_link": true
    },
    "kernelspec": {
      "name": "python3",
      "display_name": "Python 3"
    },
    "language_info": {
      "name": "python"
    }
  },
  "cells": [
    {
      "cell_type": "markdown",
      "metadata": {
        "id": "view-in-github",
        "colab_type": "text"
      },
      "source": [
        "<a href=\"https://colab.research.google.com/github/penny1xu/RESTS/blob/main/compare_graph.ipynb\" target=\"_parent\"><img src=\"https://colab.research.google.com/assets/colab-badge.svg\" alt=\"Open In Colab\"/></a>"
      ]
    },
    {
      "cell_type": "code",
      "source": [
        "!pip install censusgeocode\n",
        "!pip install rets\n",
        "import csv\n",
        "import censusgeocode as cg\n",
        "import numpy as np\n",
        "from rets import Session\n",
        "import datetime\n",
        "import time\n",
        "from datetime import datetime,timedelta\n",
        "!pip install pytz\n",
        "import matplotlib.pyplot as plt\n",
        "import pytz\n"
      ],
      "metadata": {
        "id": "kIJkU0NHShgV",
        "colab": {
          "base_uri": "https://localhost:8080/"
        },
        "outputId": "b7edbaaa-f3be-4d7d-df5a-5f6ae5b41e41"
      },
      "execution_count": 14,
      "outputs": [
        {
          "output_type": "stream",
          "name": "stdout",
          "text": [
            "Looking in indexes: https://pypi.org/simple, https://us-python.pkg.dev/colab-wheels/public/simple/\n",
            "Requirement already satisfied: censusgeocode in /usr/local/lib/python3.7/dist-packages (0.5.2)\n",
            "Requirement already satisfied: requests-toolbelt<1,>=0.9.0 in /usr/local/lib/python3.7/dist-packages (from censusgeocode) (0.9.1)\n",
            "Requirement already satisfied: requests[security]<3,>=2.27.0 in /usr/local/lib/python3.7/dist-packages (from censusgeocode) (2.28.0)\n",
            "Requirement already satisfied: certifi>=2017.4.17 in /usr/local/lib/python3.7/dist-packages (from requests[security]<3,>=2.27.0->censusgeocode) (2022.5.18.1)\n",
            "Requirement already satisfied: charset-normalizer~=2.0.0 in /usr/local/lib/python3.7/dist-packages (from requests[security]<3,>=2.27.0->censusgeocode) (2.0.12)\n",
            "Requirement already satisfied: urllib3<1.27,>=1.21.1 in /usr/local/lib/python3.7/dist-packages (from requests[security]<3,>=2.27.0->censusgeocode) (1.24.3)\n",
            "Requirement already satisfied: idna<4,>=2.5 in /usr/local/lib/python3.7/dist-packages (from requests[security]<3,>=2.27.0->censusgeocode) (2.10)\n",
            "Looking in indexes: https://pypi.org/simple, https://us-python.pkg.dev/colab-wheels/public/simple/\n",
            "Requirement already satisfied: rets in /usr/local/lib/python3.7/dist-packages (1.0.0)\n",
            "Requirement already satisfied: xmltodict>=0.11.0 in /usr/local/lib/python3.7/dist-packages (from rets) (0.13.0)\n",
            "Requirement already satisfied: six>=1.10 in /usr/local/lib/python3.7/dist-packages (from rets) (1.15.0)\n",
            "Requirement already satisfied: requests>=2.18.4 in /usr/local/lib/python3.7/dist-packages (from rets) (2.28.0)\n",
            "Requirement already satisfied: future>=0.16 in /usr/local/lib/python3.7/dist-packages (from rets) (0.16.0)\n",
            "Requirement already satisfied: idna<4,>=2.5 in /usr/local/lib/python3.7/dist-packages (from requests>=2.18.4->rets) (2.10)\n",
            "Requirement already satisfied: charset-normalizer~=2.0.0 in /usr/local/lib/python3.7/dist-packages (from requests>=2.18.4->rets) (2.0.12)\n",
            "Requirement already satisfied: certifi>=2017.4.17 in /usr/local/lib/python3.7/dist-packages (from requests>=2.18.4->rets) (2022.5.18.1)\n",
            "Requirement already satisfied: urllib3<1.27,>=1.21.1 in /usr/local/lib/python3.7/dist-packages (from requests>=2.18.4->rets) (1.24.3)\n",
            "Looking in indexes: https://pypi.org/simple, https://us-python.pkg.dev/colab-wheels/public/simple/\n",
            "Requirement already satisfied: pytz in /usr/local/lib/python3.7/dist-packages (2022.1)\n"
          ]
        }
      ]
    },
    {
      "cell_type": "code",
      "execution_count": 15,
      "metadata": {
        "colab": {
          "base_uri": "https://localhost:8080/"
        },
        "id": "2wE8rlnZif2K",
        "outputId": "960c680e-6ac4-4be2-8eb9-5e629f232815"
      },
      "outputs": [
        {
          "output_type": "execute_result",
          "data": {
            "text/plain": [
              "True"
            ]
          },
          "metadata": {},
          "execution_count": 15
        }
      ],
      "source": [
        "login_url = 'https://ntrdd.mlsmatrix.com/rets/Login.ashx' \n",
        "username = '0671181_NID'\n",
        "password = 'Rt$tg6jx'\n",
        "rets_client = Session(login_url, username, password)\n",
        "rets_client.login()\n"
      ]
    },
    {
      "cell_type": "code",
      "source": [
        "import time\n",
        "from datetime import datetime, timedelta\n",
        "\n",
        "def getfirstweek(day, today):\n",
        "    day1 = today - timedelta(days=day)\n",
        "    value = day1.weekday()\n",
        "    get = (value + 1) % 7\n",
        "    \n",
        "    day2 = today - timedelta(days = day - (7 - get))\n",
        "    day -= (8 - get)\n",
        "    dt1_string = day1.strftime(\"%Y-%m-%d\")\n",
        "    dt2_string = day2.strftime(\"%Y-%m-%d\")\n",
        "    result = dt1_string + \"-\" +  dt2_string\n",
        "    print(result)\n",
        "    return day, result\n",
        "login_url = 'https://ntrdd.mlsmatrix.com/rets/Login.ashx' \n",
        "username = '0671181_NID'\n",
        "password = 'Rt$tg6jx'\n",
        "rets_client = Session(login_url, username, password)\n",
        "rets_client.login()\n",
        "day = 365\n",
        "tz_IN = pytz.timezone('US/Central')\n",
        "today = datetime.now(tz_IN)\n",
        "day, result = getfirstweek(day, today)\n",
        "print(day)\n",
        "week = []\n",
        "close = []\n",
        "listing = []\n",
        "new_list1 = rets_client.search(resource = 'Property', resource_class='Property', dmql_query='(ListingContractDate = {})'.format(result))\n",
        "new_list2 = rets_client.search(resource = 'Property', resource_class='Property', dmql_query='(CloseDate = {})'.format(result))\n",
        "week.append('week1')\n",
        "count1 = 0\n",
        "count2 = 0\n",
        "for item in new_list1:\n",
        "    count1 += 1\n",
        "for item in new_list2:\n",
        "    count2 += 1\n",
        "listing.append(count1)\n",
        "close.append(count2)\n",
        "listing, close"
      ],
      "metadata": {
        "colab": {
          "base_uri": "https://localhost:8080/"
        },
        "id": "VrKKDkVoBnvP",
        "outputId": "322e6646-39d0-4b3a-d75c-5c039ff1ce42"
      },
      "execution_count": 16,
      "outputs": [
        {
          "output_type": "stream",
          "name": "stdout",
          "text": [
            "2021-06-16-2021-06-20\n",
            "360\n"
          ]
        },
        {
          "output_type": "execute_result",
          "data": {
            "text/plain": [
              "([3967], [2551])"
            ]
          },
          "metadata": {},
          "execution_count": 16
        }
      ]
    },
    {
      "cell_type": "code",
      "source": [
        "def findvalue(today, day, listing, close):\n",
        "    day1 = today - timedelta(days = day)\n",
        "    day2 = today - timedelta(days= (day - 6))\n",
        "    dt1_string = day1.strftime(\"%Y-%m-%d\")\n",
        "    dt2_string = day2.strftime(\"%Y-%m-%d\")\n",
        "    result = dt1_string + \"-\" +  dt2_string\n",
        "    new_list1 = rets_client.search(resource = 'Property', resource_class='Property', dmql_query='(ListingContractDate = {})'.format(result))\n",
        "    new_list2 = rets_client.search(resource = 'Property', resource_class='Property', dmql_query='(CloseDate = {})'.format(result))\n",
        "    count1 = 0\n",
        "    count2 = 0\n",
        "    for item in new_list1:\n",
        "        count1 += 1\n",
        "    for item in new_list2:\n",
        "        count2 += 1\n",
        "    listing.append(count1)\n",
        "    close.append(count2)\n",
        "    return\n",
        "value = day % 7\n",
        "number = 2\n",
        "for i in range(day, value + 6, -7):\n",
        "    week.append('week{}'.format(number))\n",
        "    findvalue(today, i, listing, close)\n",
        "    print('week{} is finished'.format(number))\n",
        "    number += 1\n",
        "week.append('week{}'.format(number))\n",
        "day1 = (today - timedelta(days = 3)).strftime(\"%Y-%m-%d\")\n",
        "day2 = today.strftime(\"%Y-%m-%d\")\n",
        "result = day1 + \"-\" +  day2\n",
        "new_list1 = rets_client.search(resource = 'Property', resource_class='Property', dmql_query='(ListingContractDate = {})'.format(result))\n",
        "new_list2 = rets_client.search(resource = 'Property', resource_class='Property', dmql_query='(CloseDate = {})'.format(result))\n",
        "count1 = 0\n",
        "count2 = 0\n",
        "for item in new_list1:\n",
        "    count1 += 1\n",
        "for item in new_list2:\n",
        "    count2 += 1\n",
        "listing.append(count1)\n",
        "close.append(count2)\n",
        "print(close)\n",
        "print(listing)\n",
        "print(week)"
      ],
      "metadata": {
        "colab": {
          "base_uri": "https://localhost:8080/"
        },
        "id": "_C6KRYfTBn4F",
        "outputId": "10cf629f-2fa0-48b4-ee20-d7638dd6ed19"
      },
      "execution_count": null,
      "outputs": [
        {
          "output_type": "stream",
          "name": "stdout",
          "text": [
            "week2 is finished\n",
            "week3 is finished\n",
            "week4 is finished\n",
            "week5 is finished\n",
            "week6 is finished\n",
            "week7 is finished\n",
            "week8 is finished\n",
            "week9 is finished\n",
            "week10 is finished\n"
          ]
        }
      ]
    },
    {
      "cell_type": "code",
      "source": [
        "from plotnine import *\n",
        "import pandas as pd\n",
        "import matplotlib.pyplot as plt \n",
        "df = pd.DataFrame()\n",
        "weeks = []\n",
        "value = []\n",
        "typ = []\n",
        "df['week'] = week\n",
        "df['close'] = close\n",
        "df['listing'] = listing\n",
        "fig = df.plot(x=\"week\", y=[\"close\", \"listing\"], kind=\"bar\", figsize=(200, 100), fontsize=160)\n",
        "fig.legend(loc=2,fontsize=160)\n",
        "for bar in fig.patches:\n",
        "    fig.annotate(format(bar.get_height(), '.2f'),\n",
        "                   (bar.get_x() + bar.get_width() / 2,\n",
        "                    bar.get_height()), ha='center', va='center',\n",
        "                   size=15, xytext=(0, 8),\n",
        "                   textcoords='offset points')\n",
        "fig = fig.figure\n",
        "fig.savefig('result')"
      ],
      "metadata": {
        "id": "GZd4SXB-Bn_E"
      },
      "execution_count": null,
      "outputs": []
    },
    {
      "cell_type": "markdown",
      "source": [
        "# another way to  think about"
      ],
      "metadata": {
        "id": "cNdwa7TEF9t5"
      }
    },
    {
      "cell_type": "code",
      "source": [
        "import time\n",
        "from datetime import datetime, timedelta\n",
        "tz_IN = pytz.timezone('US/Central')\n",
        "today = datetime.now(tz_IN)\n",
        "today_before_1year = today - timedelta(days=365)\n",
        "dt_string = today_before_1year.strftime(\"%Y-%m-%d\")\n",
        "\n",
        "\n"
      ],
      "metadata": {
        "id": "vTWMST-2jZVt"
      },
      "execution_count": null,
      "outputs": []
    },
    {
      "cell_type": "code",
      "source": [
        "import datetime\n",
        "data = '2021-07-13'\n",
        "date = date.split(\"-\")\n",
        "d = datetime.date(int(date[0]),int(date[1]),int(date[2])).isocalendar()[1]\n",
        "print(d)\n"
      ],
      "metadata": {
        "id": "JhmolpUJNtCR"
      },
      "execution_count": null,
      "outputs": []
    },
    {
      "cell_type": "code",
      "source": [
        "# pull all the data which is satisfy the condition\n",
        "import pandas as pd\n",
        "import datetime\n",
        "\n",
        "new_list = rets_client.search(resource = 'Property', resource_class='Property',limit = 100, dmql_query='(ListingContractDate = 2022-01-01+)')\n",
        "lis = []\n",
        "di ={}\n",
        "df = pd.DataFrame()\n",
        "for item in new_list:\n",
        "  if(item['PropertyType'] == 'Residential' and item['PropertySubType'] == 'Single Family Residence'):\n",
        "    df = pd.concat([df, pd.DataFrame(item.values())], axis=1, ignore_index=True) \n",
        "    di = item \n",
        "for key in di:\n",
        "  lis.append(key)\n",
        "df = df.T\n",
        "df.columns = lis\n",
        "new = len(df.index)\n",
        "\n",
        "# get each date and sign to different week\n",
        "df['ListingContractDate'] = pd.to_datetime(df['ListingContractDate'], errors='coerce')\n",
        "df['week_number_of_year'] = df['ListingContractDate'].dt.week\n",
        "# pull together different weeks' data\n",
        "df['week_number_of_year'].value_counts()\n",
        "print(df['week_number_of_year'].value_counts())\n",
        "\n",
        "#df.to_csv('data.csv')\n"
      ],
      "metadata": {
        "id": "bk5G2umlQxQ0"
      },
      "execution_count": null,
      "outputs": []
    },
    {
      "cell_type": "code",
      "source": [
        "cls_list = rets_client.search(resource = 'Property', resource_class='Property',dmql_query='(CloseDate = 2022-01-01+)')\n",
        "lis = []\n",
        "di ={}\n",
        "df = pd.DataFrame()\n",
        "for item in cls_list:\n",
        "  if(item['PropertyType'] == 'Residential' and item['PropertySubType'] == 'Single Family Residence'):\n",
        "    df = pd.concat([df, pd.DataFrame(item.values())], axis=1, ignore_index=True) \n",
        "    di = item \n",
        "for key in di:\n",
        "  lis.append(key)\n",
        "df = df.T\n",
        "df.columns = lis\n",
        "close = len(df.index)\n",
        "\n",
        "# get each date and sign to different week\n",
        "df['CloseDate'] = pd.to_datetime(df['CloseDate'], errors='coerce')\n",
        "df['week_number_of_year'] = df['CloseDate'].dt.week\n",
        "# pull together different weeks' data\n",
        "df['week_number_of_year'].value_counts()\n",
        "print(df['week_number_of_year'].value_counts())\n",
        "\n",
        "#df.to_csv('data.csv')\n",
        "\n"
      ],
      "metadata": {
        "id": "XCDxrB5ITjzH"
      },
      "execution_count": null,
      "outputs": []
    },
    {
      "cell_type": "code",
      "source": [
        "import matplotlib.pyplot as plt\n",
        "\n",
        "# Define Data\n",
        "weekends = ['Team 1','Team 2','Team 3','Team 4','Team 5']\n",
        "newListing = [5, 10, 15, 20, 25]\n",
        "closeDate = [15, 20, 30, 16, 13]\n",
        "\n",
        "x_axis = np.arange(len(weekends))\n",
        "\n",
        "# Multi bar Chart\n",
        "\n",
        "plt.bar(x_axis -0.2, newListing, width=0.4, label = 'New Listing')\n",
        "plt.bar(x_axis +0.2, closeDate, width=0.4, label = 'Close Date')\n",
        "\n",
        "# Xticks\n",
        "\n",
        "plt.xticks(x_axis, weekends)\n",
        "\n",
        "# Add legend\n",
        "\n",
        "plt.legend()\n",
        "\n",
        "# Display\n",
        "\n",
        "plt.show()"
      ],
      "metadata": {
        "id": "olk7acTHWg_i"
      },
      "execution_count": null,
      "outputs": []
    }
  ]
}