{
  "nbformat": 4,
  "nbformat_minor": 0,
  "metadata": {
    "colab": {
      "name": "pull_one_hr.ipynb",
      "provenance": [],
      "collapsed_sections": [],
      "authorship_tag": "ABX9TyNeFO8WXiIugZAaRAJ7FEf/",
      "include_colab_link": true
    },
    "kernelspec": {
      "name": "python3",
      "display_name": "Python 3"
    },
    "language_info": {
      "name": "python"
    }
  },
  "cells": [
    {
      "cell_type": "markdown",
      "metadata": {
        "id": "view-in-github",
        "colab_type": "text"
      },
      "source": [
        "<a href=\"https://colab.research.google.com/github/penny1xu/RESTS/blob/main/pull_one_hr.ipynb\" target=\"_parent\"><img src=\"https://colab.research.google.com/assets/colab-badge.svg\" alt=\"Open In Colab\"/></a>"
      ]
    },
    {
      "cell_type": "code",
      "execution_count": null,
      "metadata": {
        "id": "XntjFdmK22Vf"
      },
      "outputs": [],
      "source": [
        "!pip install censusgeocode\n",
        "!pip install rets\n",
        "import csv\n",
        "import pandas as pd\n",
        "import censusgeocode as cg\n",
        "import numpy as np\n",
        "import sys\n",
        "from rets import Session\n",
        "import datetime\n",
        "from datetime import datetime,timedelta\n",
        "!pip install pytz\n",
        "import pytz\n",
        "\n"
      ]
    },
    {
      "cell_type": "code",
      "source": [
        "login_url = 'https://ntrdd.mlsmatrix.com/rets/Login.ashx' \n",
        "username = '0671181_NID'\n",
        "password = 'Rt$tg6jx'\n",
        "rets_client = Session(login_url, username, password)\n",
        "rets_client.login()\n",
        "\n",
        "#filter = {\n",
        "       # \"MlsStatus\": \"SLD\",\n",
        "       # \"ModificationTimestamp\": {\"$gte\": dt_string}\n",
        "        #}\n",
        "#result = rets_client.search(resource='Property', resource_class='Property', limit = 10,search_filter=filter)\n",
        "\n",
        "\n",
        "\n"
      ],
      "metadata": {
        "colab": {
          "base_uri": "https://localhost:8080/"
        },
        "id": "i1Z7__NzSL98",
        "outputId": "866f0eae-ce78-4e05-d70e-cf801010dc5c"
      },
      "execution_count": 303,
      "outputs": [
        {
          "output_type": "execute_result",
          "data": {
            "text/plain": [
              "True"
            ]
          },
          "metadata": {},
          "execution_count": 303
        }
      ]
    },
    {
      "cell_type": "code",
      "source": [
        "#Relist - Back on Market\n",
        "\n",
        "tz_IN = pytz.timezone('US/Central')\n",
        "ini_time_for_now = datetime.now(tz_IN)\n",
        "today_before_1hours = ini_time_for_now - timedelta(hours = 2)\n",
        "dt_string = today_before_1hours.strftime(\"%Y-%m-%dT%H:%M:%S.000\")\n",
        "\n",
        "relist_result = rets_client.search(resource = 'Property', resource_class='Property', dmql_query='(PriceChangeTimestamp = {}+),(MlsStatus = Act)'.format(dt_string))\n",
        "lis = []\n",
        "df = pd.DataFrame()\n",
        "for item in relist_result:\n",
        "    if(item['PropertyType'] == 'Residential' and item['PropertySubType'] == 'Single Family Residence'):\n",
        "      df = df.append(item, ignore_index=True)\n",
        "df = pd.DataFrame(df)\n",
        "df['地址'] = df['StreetNumber'] + \" \" + df['StreetName'] + \" DR,\" + df['City'] + \", \" +df['StateOrProvince'] + \" \" + df['PostalCode']\n",
        "df = df[['BathroomsFull','BathroomsHalf', 'BathroomsTotalDecimal', 'BathroomsTotalInteger','BedroomsTotal', 'BuildingAreaTotal', 'City', 'CloseDate', 'ClosePrice', 'CumulativeDaysOnMarket', \n",
        "   'DaysOnMarket', 'GarageSpaces', 'Latitude', 'ListingContractDate', 'ListingId', 'ListPrice', \n",
        "   'ListSource', 'LivingArea', 'Longitude', 'LotSizeAcres', 'MlsStatus', 'OwnerName', 'OwnerPhone', 'OwnerPhoneAlternative',\n",
        "   'ParcelNumber', 'ParcelNumber2', 'PoolYN', 'PostalCode', 'PreviousListPrice', 'PreviousStatus', 'PropertySubType',\n",
        "   'PropertyType', 'PublicRemarks', 'PurchaseContractDate', 'SchoolDistrict', 'StandardStatus', 'StatusChangeTimestamp',\n",
        "   'StreetDirPrefix', 'StreetDirSuffix', 'StreetName', 'StreetNumber', 'StreetNumberNumeric', 'StreetSuffix', 'SubdivisionName',\n",
        "   'USProperty_MUI', 'YearBuilt','地址']]\n",
        "df.to_csv('BOM.csv')"
      ],
      "metadata": {
        "id": "5zVeGNDZchXb"
      },
      "execution_count": 342,
      "outputs": []
    },
    {
      "cell_type": "code",
      "source": [
        "#low_price\n",
        "lowerPrice_result = rets_client.search(resource = 'Property', resource_class='Property', dmql_query='(PriceChangeTimestamp = {}+),(MlsStatus = Act)'.format(dt_string))\n",
        "lis = []\n",
        "di ={}\n",
        "df = pd.DataFrame()\n",
        "\n",
        "for item in lowerPrice_result:\n",
        "  if(item['PropertyType'] == 'Residential' and item['PropertySubType'] == 'Single Family Residence' and item['PreviousListPrice'] > item['ListPrice']):\n",
        "    df = pd.concat([df, pd.DataFrame(item.values())], axis=1, ignore_index=True) \n",
        "    di = item \n",
        "for key in di:\n",
        "  lis.append(key)\n",
        "df = df.T\n",
        "df.columns = lis\n",
        "\n",
        "pre_lis = []\n",
        "aft_lis = []\n",
        "\n",
        "df.dropna(subset=['PreviousListPrice'], inplace=True)\n",
        "\n",
        "\n",
        "for item in df['ListPrice']:\n",
        "  item = int(round(float(item),0))\n",
        "  aft_lis.append(item)\n",
        "\n",
        "for item in df['PreviousListPrice']:\n",
        "  item = int(round(float(item),0))\n",
        "  pre_lis.append(item)\n",
        "  #print(type(item))\n",
        "\n",
        "df['PreviousListPrice'] = pre_lis\n",
        "df['ListPrice'] = aft_lis\n",
        "df['percent'] = (df['PreviousListPrice'] - df['ListPrice'])/ df['ListPrice']\n",
        "\n",
        "df['地址'] = df['StreetNumber'] + \" \" + df['StreetName'] + \" DR,\" + df['City'] + \", \" +df['StateOrProvince'] + \" \" + df['PostalCode']\n",
        "\n",
        "df = df[['BathroomsFull','BathroomsHalf', 'BathroomsTotalDecimal', 'BathroomsTotalInteger','BedroomsTotal', 'BuildingAreaTotal', 'City', 'CloseDate', 'ClosePrice', 'CumulativeDaysOnMarket', \n",
        "   'DaysOnMarket', 'GarageSpaces', 'Latitude', 'ListingContractDate', 'ListingId', 'ListPrice', \n",
        "   'ListSource', 'LivingArea', 'Longitude', 'LotSizeAcres', 'MlsStatus', 'OwnerName', 'OwnerPhone', 'OwnerPhoneAlternative',\n",
        "   'ParcelNumber', 'ParcelNumber2', 'PoolYN', 'PostalCode', 'PreviousListPrice', 'PreviousStatus', 'PropertySubType',\n",
        "   'PropertyType', 'PublicRemarks', 'PurchaseContractDate', 'SchoolDistrict', 'StandardStatus', 'StatusChangeTimestamp',\n",
        "   'StreetDirPrefix', 'StreetDirSuffix', 'StreetName', 'StreetNumber', 'StreetNumberNumeric', 'StreetSuffix', 'SubdivisionName',\n",
        "   'USProperty_MUI', 'YearBuilt','地址','percent']]\n",
        "#df.to_csv('low_price.csv')\n",
        "print(len(df.index))\n",
        "\n",
        "\n",
        "\n"
      ],
      "metadata": {
        "colab": {
          "base_uri": "https://localhost:8080/"
        },
        "id": "OlzDWiR1MvV0",
        "outputId": "d96846d9-b87d-4eea-8f4d-91410ae18872"
      },
      "execution_count": 344,
      "outputs": [
        {
          "output_type": "stream",
          "name": "stdout",
          "text": [
            "11\n"
          ]
        }
      ]
    }
  ]
}