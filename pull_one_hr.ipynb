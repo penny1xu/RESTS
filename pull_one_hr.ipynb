{
  "nbformat": 4,
  "nbformat_minor": 0,
  "metadata": {
    "colab": {
      "name": "pull_one_hr.ipynb",
      "provenance": [],
      "collapsed_sections": [],
      "authorship_tag": "ABX9TyMOQsT2tuoV+V8KfZlg75As",
      "include_colab_link": true
    },
    "kernelspec": {
      "name": "python3",
      "display_name": "Python 3"
    },
    "language_info": {
      "name": "python"
    }
  },
  "cells": [
    {
      "cell_type": "markdown",
      "metadata": {
        "id": "view-in-github",
        "colab_type": "text"
      },
      "source": [
        "<a href=\"https://colab.research.google.com/github/penny1xu/RESTS/blob/main/pull_one_hr.ipynb\" target=\"_parent\"><img src=\"https://colab.research.google.com/assets/colab-badge.svg\" alt=\"Open In Colab\"/></a>"
      ]
    },
    {
      "cell_type": "code",
      "execution_count": 84,
      "metadata": {
        "colab": {
          "base_uri": "https://localhost:8080/"
        },
        "id": "XntjFdmK22Vf",
        "outputId": "627642a8-d54c-444c-85c7-0c194db65b2c"
      },
      "outputs": [
        {
          "output_type": "stream",
          "name": "stdout",
          "text": [
            "Looking in indexes: https://pypi.org/simple, https://us-python.pkg.dev/colab-wheels/public/simple/\n",
            "Requirement already satisfied: censusgeocode in /usr/local/lib/python3.7/dist-packages (0.5.2)\n",
            "Requirement already satisfied: requests-toolbelt<1,>=0.9.0 in /usr/local/lib/python3.7/dist-packages (from censusgeocode) (0.9.1)\n",
            "Requirement already satisfied: requests[security]<3,>=2.27.0 in /usr/local/lib/python3.7/dist-packages (from censusgeocode) (2.28.0)\n",
            "Requirement already satisfied: certifi>=2017.4.17 in /usr/local/lib/python3.7/dist-packages (from requests[security]<3,>=2.27.0->censusgeocode) (2022.5.18.1)\n",
            "Requirement already satisfied: urllib3<1.27,>=1.21.1 in /usr/local/lib/python3.7/dist-packages (from requests[security]<3,>=2.27.0->censusgeocode) (1.24.3)\n",
            "Requirement already satisfied: idna<4,>=2.5 in /usr/local/lib/python3.7/dist-packages (from requests[security]<3,>=2.27.0->censusgeocode) (2.10)\n",
            "Requirement already satisfied: charset-normalizer~=2.0.0 in /usr/local/lib/python3.7/dist-packages (from requests[security]<3,>=2.27.0->censusgeocode) (2.0.12)\n",
            "Looking in indexes: https://pypi.org/simple, https://us-python.pkg.dev/colab-wheels/public/simple/\n",
            "Requirement already satisfied: rets in /usr/local/lib/python3.7/dist-packages (1.0.0)\n",
            "Requirement already satisfied: six>=1.10 in /usr/local/lib/python3.7/dist-packages (from rets) (1.15.0)\n",
            "Requirement already satisfied: future>=0.16 in /usr/local/lib/python3.7/dist-packages (from rets) (0.16.0)\n",
            "Requirement already satisfied: requests>=2.18.4 in /usr/local/lib/python3.7/dist-packages (from rets) (2.28.0)\n",
            "Requirement already satisfied: xmltodict>=0.11.0 in /usr/local/lib/python3.7/dist-packages (from rets) (0.13.0)\n",
            "Requirement already satisfied: charset-normalizer~=2.0.0 in /usr/local/lib/python3.7/dist-packages (from requests>=2.18.4->rets) (2.0.12)\n",
            "Requirement already satisfied: urllib3<1.27,>=1.21.1 in /usr/local/lib/python3.7/dist-packages (from requests>=2.18.4->rets) (1.24.3)\n",
            "Requirement already satisfied: idna<4,>=2.5 in /usr/local/lib/python3.7/dist-packages (from requests>=2.18.4->rets) (2.10)\n",
            "Requirement already satisfied: certifi>=2017.4.17 in /usr/local/lib/python3.7/dist-packages (from requests>=2.18.4->rets) (2022.5.18.1)\n",
            "Looking in indexes: https://pypi.org/simple, https://us-python.pkg.dev/colab-wheels/public/simple/\n",
            "Requirement already satisfied: pytz in /usr/local/lib/python3.7/dist-packages (2022.1)\n"
          ]
        }
      ],
      "source": [
        "!pip install censusgeocode\n",
        "!pip install rets\n",
        "import csv\n",
        "import pandas as pd\n",
        "import censusgeocode as cg\n",
        "import numpy as np\n",
        "import sys\n",
        "from rets import Session\n",
        "import datetime\n",
        "from datetime import datetime,timedelta\n",
        "!pip install pytz\n",
        "import pytz\n",
        "\n"
      ]
    },
    {
      "cell_type": "code",
      "source": [
        "login_url = 'https://ntrdd.mlsmatrix.com/rets/Login.ashx' \n",
        "username = '0671181_NID'\n",
        "password = 'Rt$tg6jx'\n",
        "rets_client = Session(login_url, username, password)\n",
        "rets_client.login()\n",
        "\n",
        "tz_IN = pytz.timezone('US/Central')\n",
        "ini_time_for_now = datetime.now(tz_IN)\n",
        "today_before_1hours = ini_time_for_now - timedelta(hours = 1)\n",
        "dt_string = today_before_1hours.strftime(\"%Y-%m-%dT%H:%M:%S.000\")\n",
        "\n",
        "\n",
        "#filter = {\n",
        "       # \"MlsStatus\": \"SLD\",\n",
        "       # \"ModificationTimestamp\": {\"$gte\": dt_string}\n",
        "        #}\n",
        "#result = rets_client.search(resource='Property', resource_class='Property', limit = 10,search_filter=filter)\n",
        "\n",
        "result = rets_client.search(resource = 'Property', resource_class='Property',limit = 20, dmql_query='(ModificationTimestamp = {}+)'.format(dt_string))\n",
        "for item in result:\n",
        "    print(item['ModificationTimestamp'])"
      ],
      "metadata": {
        "colab": {
          "base_uri": "https://localhost:8080/"
        },
        "id": "j0d6flVK31LH",
        "outputId": "8a11c6e2-9d12-49a6-d9d1-54461703d7b7"
      },
      "execution_count": 95,
      "outputs": [
        {
          "output_type": "stream",
          "name": "stdout",
          "text": [
            "2022-06-14T16:07:54.670\n",
            "2022-06-14T16:07:11.213\n",
            "2022-06-14T16:28:04.550\n",
            "2022-06-14T16:34:19.360\n",
            "2022-06-14T16:13:33.493\n",
            "2022-06-14T16:36:03.957\n",
            "2022-06-14T16:29:46.360\n",
            "2022-06-14T16:04:01.030\n",
            "2022-06-14T15:49:44.650\n",
            "2022-06-14T16:29:51.540\n",
            "2022-06-14T16:46:17.353\n",
            "2022-06-14T16:25:22.970\n",
            "2022-06-14T16:21:37.107\n",
            "2022-06-14T15:52:46.457\n",
            "2022-06-14T16:03:50.460\n",
            "2022-06-14T15:47:59.870\n",
            "2022-06-14T15:48:47.703\n",
            "2022-06-14T15:52:34.883\n",
            "2022-06-14T16:20:19.687\n",
            "2022-06-14T15:59:22.370\n"
          ]
        }
      ]
    },
    {
      "cell_type": "code",
      "source": [
        ""
      ],
      "metadata": {
        "colab": {
          "base_uri": "https://localhost:8080/",
          "height": 36
        },
        "id": "YZyuB708JjI3",
        "outputId": "aec58acf-c990-4035-d986-7524b8df36c4"
      },
      "execution_count": 87,
      "outputs": [
        {
          "output_type": "execute_result",
          "data": {
            "text/plain": [
              "'2022-06-14T15:43:47.000'"
            ],
            "application/vnd.google.colaboratory.intrinsic+json": {
              "type": "string"
            }
          },
          "metadata": {},
          "execution_count": 87
        }
      ]
    }
  ]
}