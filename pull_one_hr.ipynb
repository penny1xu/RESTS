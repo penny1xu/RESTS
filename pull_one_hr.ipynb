{
  "nbformat": 4,
  "nbformat_minor": 0,
  "metadata": {
    "colab": {
      "name": "pull_one_hr.ipynb",
      "provenance": [],
      "collapsed_sections": [],
      "authorship_tag": "ABX9TyPQ5XghCKEsfkPkAQLKfLKz",
      "include_colab_link": true
    },
    "kernelspec": {
      "name": "python3",
      "display_name": "Python 3"
    },
    "language_info": {
      "name": "python"
    }
  },
  "cells": [
    {
      "cell_type": "markdown",
      "metadata": {
        "id": "view-in-github",
        "colab_type": "text"
      },
      "source": [
        "<a href=\"https://colab.research.google.com/github/penny1xu/RESTS/blob/main/pull_one_hr.ipynb\" target=\"_parent\"><img src=\"https://colab.research.google.com/assets/colab-badge.svg\" alt=\"Open In Colab\"/></a>"
      ]
    },
    {
      "cell_type": "code",
      "execution_count": 84,
      "metadata": {
        "colab": {
          "base_uri": "https://localhost:8080/"
        },
        "id": "XntjFdmK22Vf",
        "outputId": "627642a8-d54c-444c-85c7-0c194db65b2c"
      },
      "outputs": [
        {
          "output_type": "stream",
          "name": "stdout",
          "text": [
            "Looking in indexes: https://pypi.org/simple, https://us-python.pkg.dev/colab-wheels/public/simple/\n",
            "Requirement already satisfied: censusgeocode in /usr/local/lib/python3.7/dist-packages (0.5.2)\n",
            "Requirement already satisfied: requests-toolbelt<1,>=0.9.0 in /usr/local/lib/python3.7/dist-packages (from censusgeocode) (0.9.1)\n",
            "Requirement already satisfied: requests[security]<3,>=2.27.0 in /usr/local/lib/python3.7/dist-packages (from censusgeocode) (2.28.0)\n",
            "Requirement already satisfied: certifi>=2017.4.17 in /usr/local/lib/python3.7/dist-packages (from requests[security]<3,>=2.27.0->censusgeocode) (2022.5.18.1)\n",
            "Requirement already satisfied: urllib3<1.27,>=1.21.1 in /usr/local/lib/python3.7/dist-packages (from requests[security]<3,>=2.27.0->censusgeocode) (1.24.3)\n",
            "Requirement already satisfied: idna<4,>=2.5 in /usr/local/lib/python3.7/dist-packages (from requests[security]<3,>=2.27.0->censusgeocode) (2.10)\n",
            "Requirement already satisfied: charset-normalizer~=2.0.0 in /usr/local/lib/python3.7/dist-packages (from requests[security]<3,>=2.27.0->censusgeocode) (2.0.12)\n",
            "Looking in indexes: https://pypi.org/simple, https://us-python.pkg.dev/colab-wheels/public/simple/\n",
            "Requirement already satisfied: rets in /usr/local/lib/python3.7/dist-packages (1.0.0)\n",
            "Requirement already satisfied: six>=1.10 in /usr/local/lib/python3.7/dist-packages (from rets) (1.15.0)\n",
            "Requirement already satisfied: future>=0.16 in /usr/local/lib/python3.7/dist-packages (from rets) (0.16.0)\n",
            "Requirement already satisfied: requests>=2.18.4 in /usr/local/lib/python3.7/dist-packages (from rets) (2.28.0)\n",
            "Requirement already satisfied: xmltodict>=0.11.0 in /usr/local/lib/python3.7/dist-packages (from rets) (0.13.0)\n",
            "Requirement already satisfied: charset-normalizer~=2.0.0 in /usr/local/lib/python3.7/dist-packages (from requests>=2.18.4->rets) (2.0.12)\n",
            "Requirement already satisfied: urllib3<1.27,>=1.21.1 in /usr/local/lib/python3.7/dist-packages (from requests>=2.18.4->rets) (1.24.3)\n",
            "Requirement already satisfied: idna<4,>=2.5 in /usr/local/lib/python3.7/dist-packages (from requests>=2.18.4->rets) (2.10)\n",
            "Requirement already satisfied: certifi>=2017.4.17 in /usr/local/lib/python3.7/dist-packages (from requests>=2.18.4->rets) (2022.5.18.1)\n",
            "Looking in indexes: https://pypi.org/simple, https://us-python.pkg.dev/colab-wheels/public/simple/\n",
            "Requirement already satisfied: pytz in /usr/local/lib/python3.7/dist-packages (2022.1)\n"
          ]
        }
      ],
      "source": [
        "!pip install censusgeocode\n",
        "!pip install rets\n",
        "import csv\n",
        "import pandas as pd\n",
        "import censusgeocode as cg\n",
        "import numpy as np\n",
        "import sys\n",
        "from rets import Session\n",
        "import datetime\n",
        "from datetime import datetime,timedelta\n",
        "!pip install pytz\n",
        "import pytz\n",
        "\n"
      ]
    },
    {
      "cell_type": "code",
      "source": [
        "login_url = 'https://ntrdd.mlsmatrix.com/rets/Login.ashx' \n",
        "username = '0671181_NID'\n",
        "password = 'Rt$tg6jx'\n",
        "rets_client = Session(login_url, username, password)\n",
        "rets_client.login()\n",
        "\n",
        "#filter = {\n",
        "       # \"MlsStatus\": \"SLD\",\n",
        "       # \"ModificationTimestamp\": {\"$gte\": dt_string}\n",
        "        #}\n",
        "#result = rets_client.search(resource='Property', resource_class='Property', limit = 10,search_filter=filter)\n",
        "\n",
        "\n",
        "\n"
      ],
      "metadata": {
        "id": "i1Z7__NzSL98"
      },
      "execution_count": 117,
      "outputs": []
    },
    {
      "cell_type": "code",
      "source": [
        "# low price\n",
        "tz_IN = pytz.timezone('US/Central')\n",
        "ini_time_for_now = datetime.now(tz_IN)\n",
        "today_before_1hours = ini_time_for_now - timedelta(hours = 1)\n",
        "dt_string = today_before_1hours.strftime(\"%Y-%m-%dT%H:%M:%S.000\")\n",
        "\n",
        "\n",
        "lowerPrice_result = rets_client.search(resource = 'Property', resource_class='Property', dmql_query='(ModificationTimestamp = {}+),(MlsStatus = Act)'.format(dt_string))\n",
        "\n",
        "\n",
        "for item in lowerPrice_result:\n",
        "  if(item['PropertyType'] == 'Residential' and item['PropertySubType'] == 'Single Family Residence' and item['PreviousListPrice']>item['ListPrice']):\n",
        "    df = pd.concat([df, pd.DataFrame(item.values())], axis=1, ignore_index=True)\n",
        "column = []\n",
        "for key in lowerPrice_result:\n",
        "    column.append(key)\n",
        "    df.columns = column\n",
        "    # add a column: (PreviousListPrice - ListPrice) / ListPrice\n",
        "\n",
        "df\n"
      ],
      "metadata": {
        "id": "lE_W0iLZRPV_"
      },
      "execution_count": null,
      "outputs": []
    },
    {
      "cell_type": "code",
      "source": [
        "#Relist - Back on Market\n",
        "\n",
        "tz_IN = pytz.timezone('US/Central')\n",
        "ini_time_for_now = datetime.now(tz_IN)\n",
        "today_before_1hours = ini_time_for_now - timedelta(hours = 1)\n",
        "dt_string = today_before_1hours.strftime(\"%Y-%m-%dT%H:%M:%S.000\")\n",
        "\n",
        "relist_result = rets_client.search(resource = 'Property', resource_class='Property', dmql_query='(ModificationTimestamp = {}+),(MlsStatus = Act)'.format(dt_string))\n",
        "\n",
        "df = pd.DataFrame()\n",
        "for item in relist_result:\n",
        "    if(item['PropertyType'] == 'Residential' and item['PropertySubType'] == 'Single Family Residence' and (item['PreviousStatus'] == \"AOC\" or item['PreviousStatus'] == \"Expired\" or item['PreviousStatus'] == \"Active Option Contract\")):\n",
        "      for item in relist_result:\n",
        "        \n",
        "      \n"
      ],
      "metadata": {
        "colab": {
          "base_uri": "https://localhost:8080/"
        },
        "id": "5zVeGNDZchXb",
        "outputId": "36e4b794-9e18-4f5e-8dd6-d60a4bfa5617"
      },
      "execution_count": 210,
      "outputs": [
        {
          "output_type": "execute_result",
          "data": {
            "text/plain": [
              "['TaxLot']"
            ]
          },
          "metadata": {},
          "execution_count": 210
        }
      ]
    }
  ]
}