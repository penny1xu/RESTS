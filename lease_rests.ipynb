{
  "cells": [
    {
      "cell_type": "markdown",
      "metadata": {
        "id": "view-in-github",
        "colab_type": "text"
      },
      "source": [
        "<a href=\"https://colab.research.google.com/github/penny1xu/RESTS/blob/main/lease_rests.ipynb\" target=\"_parent\"><img src=\"https://colab.research.google.com/assets/colab-badge.svg\" alt=\"Open In Colab\"/></a>"
      ]
    },
    {
      "cell_type": "code",
      "execution_count": null,
      "metadata": {
        "id": "MJff6UchHVNB",
        "colab": {
          "base_uri": "https://localhost:8080/"
        },
        "outputId": "0dddad41-9917-48d2-a611-3ad527416086"
      },
      "outputs": [
        {
          "output_type": "stream",
          "name": "stdout",
          "text": [
            "Looking in indexes: https://pypi.org/simple, https://us-python.pkg.dev/colab-wheels/public/simple/\n",
            "Collecting censusgeocode\n",
            "  Downloading censusgeocode-0.5.2-py3-none-any.whl (9.2 kB)\n",
            "Collecting requests-toolbelt<1,>=0.9.0\n",
            "  Downloading requests_toolbelt-0.9.1-py2.py3-none-any.whl (54 kB)\n",
            "\u001b[K     |████████████████████████████████| 54 kB 1.4 MB/s \n",
            "\u001b[?25hCollecting requests[security]<3,>=2.27.0\n",
            "  Downloading requests-2.28.0-py3-none-any.whl (62 kB)\n",
            "\u001b[K     |████████████████████████████████| 62 kB 796 kB/s \n",
            "\u001b[?25hRequirement already satisfied: requests<3.0.0,>=2.0.1 in /usr/local/lib/python3.7/dist-packages (from requests-toolbelt<1,>=0.9.0->censusgeocode) (2.23.0)\n",
            "Requirement already satisfied: idna<3,>=2.5 in /usr/local/lib/python3.7/dist-packages (from requests<3.0.0,>=2.0.1->requests-toolbelt<1,>=0.9.0->censusgeocode) (2.10)\n",
            "Requirement already satisfied: certifi>=2017.4.17 in /usr/local/lib/python3.7/dist-packages (from requests<3.0.0,>=2.0.1->requests-toolbelt<1,>=0.9.0->censusgeocode) (2022.5.18.1)\n",
            "Requirement already satisfied: chardet<4,>=3.0.2 in /usr/local/lib/python3.7/dist-packages (from requests<3.0.0,>=2.0.1->requests-toolbelt<1,>=0.9.0->censusgeocode) (3.0.4)\n",
            "Requirement already satisfied: urllib3!=1.25.0,!=1.25.1,<1.26,>=1.21.1 in /usr/local/lib/python3.7/dist-packages (from requests<3.0.0,>=2.0.1->requests-toolbelt<1,>=0.9.0->censusgeocode) (1.24.3)\n",
            "Requirement already satisfied: charset-normalizer~=2.0.0 in /usr/local/lib/python3.7/dist-packages (from requests[security]<3,>=2.27.0->censusgeocode) (2.0.12)\n",
            "Installing collected packages: requests, requests-toolbelt, censusgeocode\n",
            "  Attempting uninstall: requests\n",
            "    Found existing installation: requests 2.23.0\n",
            "    Uninstalling requests-2.23.0:\n",
            "      Successfully uninstalled requests-2.23.0\n",
            "\u001b[31mERROR: pip's dependency resolver does not currently take into account all the packages that are installed. This behaviour is the source of the following dependency conflicts.\n",
            "google-colab 1.0.0 requires requests~=2.23.0, but you have requests 2.28.0 which is incompatible.\n",
            "datascience 0.10.6 requires folium==0.2.1, but you have folium 0.8.3 which is incompatible.\u001b[0m\n",
            "Successfully installed censusgeocode-0.5.2 requests-2.28.0 requests-toolbelt-0.9.1\n",
            "Looking in indexes: https://pypi.org/simple, https://us-python.pkg.dev/colab-wheels/public/simple/\n",
            "Collecting rets\n",
            "  Downloading rets-1.0.0-py2.py3-none-any.whl (22 kB)\n",
            "Requirement already satisfied: requests>=2.18.4 in /usr/local/lib/python3.7/dist-packages (from rets) (2.28.0)\n",
            "Collecting xmltodict>=0.11.0\n",
            "  Downloading xmltodict-0.13.0-py2.py3-none-any.whl (10.0 kB)\n",
            "Requirement already satisfied: six>=1.10 in /usr/local/lib/python3.7/dist-packages (from rets) (1.15.0)\n",
            "Requirement already satisfied: future>=0.16 in /usr/local/lib/python3.7/dist-packages (from rets) (0.16.0)\n",
            "Requirement already satisfied: charset-normalizer~=2.0.0 in /usr/local/lib/python3.7/dist-packages (from requests>=2.18.4->rets) (2.0.12)\n",
            "Requirement already satisfied: certifi>=2017.4.17 in /usr/local/lib/python3.7/dist-packages (from requests>=2.18.4->rets) (2022.5.18.1)\n",
            "Requirement already satisfied: idna<4,>=2.5 in /usr/local/lib/python3.7/dist-packages (from requests>=2.18.4->rets) (2.10)\n",
            "Requirement already satisfied: urllib3<1.27,>=1.21.1 in /usr/local/lib/python3.7/dist-packages (from requests>=2.18.4->rets) (1.24.3)\n",
            "Installing collected packages: xmltodict, rets\n",
            "Successfully installed rets-1.0.0 xmltodict-0.13.0\n"
          ]
        }
      ],
      "source": [
        "!pip install censusgeocode\n",
        "!pip install rets\n",
        "import csv\n",
        "import pandas as pd\n",
        "import censusgeocode as cg\n",
        "import numpy as np\n",
        "import sys\n",
        "from rets import Session"
      ]
    },
    {
      "cell_type": "markdown",
      "metadata": {
        "id": "WjWpgj_i_17w"
      },
      "source": [
        ""
      ]
    },
    {
      "cell_type": "code",
      "execution_count": null,
      "metadata": {
        "id": "j-bVvyh4HrtB"
      },
      "outputs": [],
      "source": [
        "def lease_findifNull(research, lo_left,lo_right,la_left,la_right, zip, bedroom):\n",
        "  result = research.search(resource='Property', resource_class='Property', dmql_query='(MlsStatus = SLD), (CloseDate = 2022-01-01-2022-06-30), (Longitude = {}+), (Longitude = {}-), (Latitude = {}+), (Latitude = {}-), (PostalCode = {}),(BedroomsTotal = {}), (BathroomsTotalInteger ={}+),(BathroomsTotalInteger ={}-)'.format(lo_left, lo_right, la_left, la_right, zip, bedroom, bedroom-2, bedroom + 1))\n",
        "  lis = []\n",
        "  count = 0\n",
        "  di ={}\n",
        "  df = pd.DataFrame()\n",
        "  for item in result:\n",
        "    if(item['PropertyType'] == 'Residential Lease' and item['PropertySubType'] == 'Single Family Residence'):\n",
        "            df = pd.concat([df, pd.DataFrame(item.values())], axis=1, ignore_index=True) #?\n",
        "            count += 1\n",
        "            di = item # 存表头\n",
        "  for key in di:\n",
        "    lis.append(key)\n",
        "  if(count >= 5): \n",
        "    df = df.T\n",
        "    df.columns = lis\n",
        "    return df\n",
        "  else:\n",
        "    lo_left -= 0.008\n",
        "    lo_right += 0.008\n",
        "    la_left -= 0.008\n",
        "    la_right += 0.008\n",
        "\n",
        "    return lease_findifNull(research, lo_left,lo_right,la_left,la_right,zip,bedroom)"
      ]
    },
    {
      "cell_type": "markdown",
      "metadata": {
        "id": "HwWI8C2-Wb3X"
      },
      "source": [
        ""
      ]
    },
    {
      "cell_type": "code",
      "execution_count": null,
      "metadata": {
        "id": "BGJv_Nq_Hxuy"
      },
      "outputs": [],
      "source": [
        "def lease_findHouse(house_leftLa,house_rightLa,house_leftLo,house_rightLo,research,zip,column,bedroom, a):\n",
        "  result = research.search(resource = 'Property', resource_class='Property', dmql_query='(BathroomsTotalInteger = {}+), (BathroomsTotalInteger = {}-), (MlsStatus = SLD), (CloseDate = 2022-01-01-2022-06-30), (Longitude = {}+), (Longitude = {}-), (Latitude = {}+), (Latitude = {}-), (PostalCode = {}), (BedroomsTotal = {})'.format(bedroom - 2, bedroom + 1, house_leftLo, house_rightLo, house_leftLa, house_rightLa, zip, bedroom))\n",
        "  count = 0\n",
        "  df = pd.DataFrame()\n",
        "  for item in result: \n",
        "    if(item['PropertyType'] == 'Residential Lease' and item['PropertySubType'] == 'Single Family Residence'):\n",
        "            df = pd.concat([df, pd.DataFrame(item.values())], axis=1, ignore_index=True) #?\n",
        "            count += 1         \n",
        "  if(count >= 5):  \n",
        "    df = df.T\n",
        "    df.columns = column # \n",
        "    return df\n",
        "  else:\n",
        "    house_leftLo -= 0.008\n",
        "    house_rightLo += 0.008\n",
        "    house_leftLa -= 0.008\n",
        "    house_rightLa += 0.008\n",
        "    a += 1\n",
        "    if(a >= 12):\n",
        "      house_leftLo += 0.096\n",
        "      house_rightLo -= 0.096\n",
        "      house_leftLa += 0.096\n",
        "      house_rightLa -= 0.096  #\n",
        "      #for item in result: \n",
        "        #if(item['PropertyType'] == 'Residential Lease' and item['PropertySubType'] == 'Single Family Residence'):\n",
        "            #df = pd.concat([df, pd.DataFrame(item.values())], axis=1, ignore_index=True)\n",
        "      #df = df.T\n",
        "      #df.columns = column #\n",
        "      return nullZiphouse(house_leftLa,house_rightLa,house_leftLo,house_rightLo,research,column,bedroom)\n",
        "      \n",
        "    return lease_findHouse(house_leftLa,house_rightLa,house_leftLo,house_rightLo,research,zip,column,bedroom, a)"
      ]
    },
    {
      "cell_type": "code",
      "source": [
        "def nullZiphouse(house_leftLa,house_rightLa,house_leftLo,house_rightLo,research,column,bedroom):\n",
        "  result = research.search(resource = 'Property', resource_class='Property', dmql_query='(BathroomsTotalInteger = {}+), (BathroomsTotalInteger = {}-), (MlsStatus = SLD), (CloseDate = 2022-01-01-2022-06-30), (Longitude = {}+), (Longitude = {}-), (Latitude = {}+), (Latitude = {}-), (BedroomsTotal = {})'.format(bedroom - 2, bedroom + 1, house_leftLo, house_rightLo, house_leftLa, house_rightLa, bedroom))\n",
        "  count = 0\n",
        "  df = pd.DataFrame()\n",
        "  for item in result: \n",
        "    if(item['PropertyType'] == 'Residential Lease' and item['PropertySubType'] == 'Single Family Residence'):\n",
        "            df = pd.concat([df, pd.DataFrame(item.values())], axis=1, ignore_index=True) #?\n",
        "            count += 1         \n",
        "  if(count >= 5):  \n",
        "    df = df.T\n",
        "    df.columns = column # \n",
        "    return df\n",
        "  else:\n",
        "    house_leftLo -= 0.008\n",
        "    house_rightLo += 0.008\n",
        "    house_leftLa -= 0.008\n",
        "    house_rightLa += 0.008\n",
        "    return nullZiphouse(house_leftLa, house_rightLa, house_leftLo, house_rightLo, research, column, bedroom)"
      ],
      "metadata": {
        "id": "CNayE_8sU43n"
      },
      "execution_count": null,
      "outputs": []
    },
    {
      "cell_type": "code",
      "execution_count": null,
      "metadata": {
        "id": "F0mcCQkANisJ"
      },
      "outputs": [],
      "source": [
        ""
      ]
    },
    {
      "cell_type": "code",
      "execution_count": null,
      "metadata": {
        "id": "FdyoCacQ9qP_"
      },
      "outputs": [],
      "source": [
        "def findfirst(result):\n",
        "    count = 0\n",
        "    for item in result:\n",
        "        count += 1\n",
        "    if(count == 0):\n",
        "        return False\n",
        "    else:\n",
        "        return True    "
      ]
    },
    {
      "cell_type": "code",
      "execution_count": null,
      "metadata": {
        "id": "8DMVMfa1evSb"
      },
      "outputs": [],
      "source": [
        "def insertId(pulled_value, mls,rets_client):\n",
        "  column = []\n",
        "  for key in pulled_value:\n",
        "    column.append(key)\n",
        "  print(\"\\nThis value exists in Website\")\n",
        "  zip = pulled_value.get('PostalCode')\n",
        "  latitude = pulled_value.get('Latitude')\n",
        "  longitude = pulled_value.get('Longitude')\n",
        "  bedroom = pulled_value.get('BedroomsTotal')\n",
        "  if(zip != \"\" and latitude != \"\" and longitude != \"\" and bedroom != \"\"):\n",
        "    if(int(bedroom) >= 3 and int(bedroom) <= 5):\n",
        "      house_leftLa = float(pulled_value.get('Latitude'))\n",
        "      house_rightLa = float(pulled_value.get('Latitude')) \n",
        "      house_leftLo = float(pulled_value.get('Longitude'))\n",
        "      house_rightLo = float(pulled_value.get('Longitude'))\n",
        "      result1 = lease_findHouse(house_leftLa, house_rightLa, house_leftLo, house_rightLo, rets_client,int(zip) ,column,int(bedroom), 0)        \n",
        "      result1 = result1[['BathroomsFull','BathroomsHalf', 'BathroomsTotalDecimal', 'BathroomsTotalInteger','BedroomsTotal', 'BuildingAreaTotal', 'City', 'CloseDate', 'ClosePrice', 'CumulativeDaysOnMarket', \n",
        "   'DaysOnMarket', 'GarageSpaces', 'Latitude', 'ListingContractDate', 'ListingId', 'ListPrice', \n",
        "   'ListSource', 'LivingArea', 'Longitude', 'LotSizeAcres', 'MlsStatus', 'OwnerName', 'OwnerPhone', 'OwnerPhoneAlternative',\n",
        "   'ParcelNumber', 'ParcelNumber2', 'PoolYN', 'PostalCode', 'PreviousListPrice', 'PreviousStatus', 'PropertySubType',\n",
        "   'PropertyType', 'PublicRemarks', 'PurchaseContractDate', 'SchoolDistrict', 'StandardStatus', 'StatusChangeTimestamp',\n",
        "   'StreetDirPrefix', 'StreetDirSuffix', 'StreetName', 'StreetNumber', 'StreetNumberNumeric', 'StreetSuffix', 'SubdivisionName',\n",
        "   'USProperty_MUI', 'YearBuilt']]\n",
        "      price = []\n",
        "      for item in result1['ClosePrice']:\n",
        "        item = float(item)\n",
        "        price.append(item)\n",
        "      result1['ClosePrice'] = price\n",
        "      mean1 = result1['ClosePrice'].mean()\n",
        "      top1 = list(result1['ClosePrice'])\n",
        "      top1.sort(reverse = True)\n",
        "      top1_mean = sum(top1[0:3])/3\n",
        "      print('The mean for {} is {}'.format(mls, mean1))\n",
        "      print('The top 3 for {} are {}'.format(mls, top1[0:3]))\n",
        "      print('The average for top 3 {} is {}'.format(mls, top1_mean))\n",
        "      result1.to_csv('{}.csv'.format(mls))\n",
        "      return\n",
        "    else:\n",
        "      print(\"Bedroom number is not qualified\")\n",
        "      return"
      ]
    },
    {
      "cell_type": "code",
      "execution_count": null,
      "metadata": {
        "id": "F7MCZWuKUJN-"
      },
      "outputs": [],
      "source": [
        "def findAdd(rets_client, address, city, state, zipcode, bedroom):  \n",
        "  result = cg.address(address, city = city, state= state,zipcode = zipcode)\n",
        "  lo_left = result[0]['coordinates']['x']\n",
        "  lo_right = result[0]['coordinates']['x']\n",
        "  la_left = result[0]['coordinates']['y']\n",
        "  la_right = result[0]['coordinates']['y']\n",
        "  result = lease_findifNull(rets_client, lo_left, lo_right, la_left, la_right, int(zipcode), bedroom)\n",
        "  \n",
        "  result = result[['BathroomsFull','BathroomsHalf', 'BathroomsTotalDecimal', 'BathroomsTotalInteger','BedroomsTotal', 'BuildingAreaTotal', 'City', 'CloseDate', 'ClosePrice', 'CumulativeDaysOnMarket', \n",
        "   'DaysOnMarket', 'GarageSpaces', 'Latitude', 'ListingContractDate', 'ListingId', 'ListPrice', \n",
        "   'ListSource', 'LivingArea', 'Longitude', 'LotSizeAcres', 'MlsStatus', 'OwnerName', 'OwnerPhone', 'OwnerPhoneAlternative',\n",
        "   'ParcelNumber', 'ParcelNumber2', 'PoolYN', 'PostalCode', 'PreviousListPrice', 'PreviousStatus', 'PropertySubType',\n",
        "   'PropertyType', 'PublicRemarks', 'PurchaseContractDate', 'SchoolDistrict', 'StandardStatus', 'StatusChangeTimestamp',\n",
        "   'StreetDirPrefix', 'StreetDirSuffix', 'StreetName', 'StreetNumber', 'StreetNumberNumeric', 'StreetSuffix', 'SubdivisionName',\n",
        "   'USProperty_MUI', 'YearBuilt']]\n",
        "  price = []\n",
        "  for item in result['ClosePrice']:\n",
        "    item = float(item)\n",
        "    price.append(item)\n",
        "  result['ClosePrice'] = price\n",
        "  mean = result['ClosePrice'].mean()\n",
        "  top = list(result['ClosePrice'])\n",
        "  top.sort(reverse = True)\n",
        "  print('The mean for {}, {}, {} is {}'.format(address, state, zip, mean))\n",
        "  print('The top 3 for {}, {}, {} are {}'.format(address, state, zip, top[0:3]))\n",
        "  return result.to_csv('{},{},{}.csv'.format(address, state, zip))"
      ]
    },
    {
      "cell_type": "code",
      "execution_count": null,
      "metadata": {
        "id": "zLMk-stelwch"
      },
      "outputs": [],
      "source": [
        "def get(i,finalN,number,code,rets_client,street,city,state):\n",
        "  pulled_value = {}\n",
        "  result = rets_client.search(resource = 'Property', resource_class='Property', dmql_query='(StreetNumber = {}),(StreetName = {}),(PostalCode = {})'.format(number[i],finalN[i],code[i]))\n",
        "  for item in result:\n",
        "    pulled_value = item\n",
        "  if(len(pulled_value) != 0):\n",
        "    column = []\n",
        "    for key in pulled_value:\n",
        "      column.append(key)\n",
        "    print(\"\\nThis value exists in Website\")\n",
        "    zip = pulled_value.get('PostalCode')\n",
        "    latitude = pulled_value.get('Latitude')\n",
        "    longitude = pulled_value.get('Longitude')\n",
        "    bedroom = pulled_value.get('BedroomsTotal')\n",
        "    if(zip != \"\" and latitude != \"\" and longitude != \"\" and bedroom != \"\"):\n",
        "      if(int(bedroom) >= 3 and int(bedroom) <= 5):\n",
        "        house_leftLa = float(pulled_value.get('Latitude'))\n",
        "        house_rightLa = float(pulled_value.get('Latitude')) \n",
        "        house_leftLo = float(pulled_value.get('Longitude'))\n",
        "        house_rightLo = float(pulled_value.get('Longitude'))\n",
        "        zip = int(pulled_value.get('PostalCode'))\n",
        "        result1 = lease_findHouse(house_leftLa, house_rightLa, house_leftLo, house_rightLo, rets_client,zip,column,int(bedroom), 0)        \n",
        "        result1 = result1[['BathroomsFull','BathroomsHalf', 'BathroomsTotalDecimal', 'BathroomsTotalInteger','BedroomsTotal', 'BuildingAreaTotal', 'City', 'CloseDate', 'ClosePrice', 'CumulativeDaysOnMarket', \n",
        "   'DaysOnMarket', 'GarageSpaces', 'Latitude', 'ListingContractDate', 'ListingId', 'ListPrice', \n",
        "   'ListSource', 'LivingArea', 'Longitude', 'LotSizeAcres', 'MlsStatus', 'OwnerName', 'OwnerPhone', 'OwnerPhoneAlternative',\n",
        "   'ParcelNumber', 'ParcelNumber2', 'PoolYN', 'PostalCode', 'PreviousListPrice', 'PreviousStatus', 'PropertySubType',\n",
        "   'PropertyType', 'PublicRemarks', 'PurchaseContractDate', 'SchoolDistrict', 'StandardStatus', 'StatusChangeTimestamp',\n",
        "   'StreetDirPrefix', 'StreetDirSuffix', 'StreetName', 'StreetNumber', 'StreetNumberNumeric', 'StreetSuffix', 'SubdivisionName',\n",
        "   'USProperty_MUI', 'YearBuilt']]\n",
        "        price = []\n",
        "        for item in result1['ClosePrice']:\n",
        "          item = float(item)\n",
        "          price.append(item)\n",
        "        result1['ClosePrice'] = price\n",
        "        mean1 = result1['ClosePrice'].mean()\n",
        "        top1 = list(result1['ClosePrice'])\n",
        "        top1.sort(reverse = True)\n",
        "        top1_mean = sum(top1[0:3])/3\n",
        "        print('The mean for {}, {}, {} is {}'.format(number[i],finalN[i],code[i], mean1))\n",
        "        print('The top 3 for {}, {}, {} are {}'.format(number[i],finalN[i],code[i], top1[0:3]))\n",
        "        print('The average for top 3 {}, {}, {} is {}'.format(number[i],finalN[i],code[i], top1_mean))\n",
        "        result1.to_csv('{} {} {}.csv'.format(number[i],finalN[i],code[i]))\n",
        "        return\n",
        "      else:\n",
        "        print(\"Bedroom number is not qualified\")\n",
        "        return\n",
        "    else:\n",
        "      print('check coordinates')\n",
        "      bedroom = 3\n",
        "      findAdd(rets_client, street[i], city[i], state[i], code[i], bedroom)\n",
        "      return \n",
        "  else:\n",
        "    print('check coordinates')\n",
        "    bedroom = 3\n",
        "    findAdd(rets_client, street[i], city[i], state[i], code[i], bedroom)\n",
        "    return \n"
      ]
    },
    {
      "cell_type": "code",
      "execution_count": null,
      "metadata": {
        "id": "a5tr5Dr_smsa"
      },
      "outputs": [],
      "source": [
        "def judge(i):\n",
        "    if i % 10 == 1:\n",
        "        return 'st'\n",
        "    elif i % 10 == 2:\n",
        "        return 'nd'\n",
        "    elif i % 10 == 3:\n",
        "        return 'rd'\n",
        "    else:\n",
        "        return 'th'"
      ]
    },
    {
      "cell_type": "code",
      "execution_count": null,
      "metadata": {
        "id": "a_RrPUgWH6yN"
      },
      "outputs": [],
      "source": [
        "def main():\n",
        "  login_url = 'https://ntrdd.mlsmatrix.com/rets/Login.ashx' \n",
        "  username = '0671181_NID'\n",
        "  password = 'Rt$tg6jx'\n",
        "  rets_client = Session(login_url, username, password)\n",
        "  rets_client.login()\n",
        "  while True:\n",
        "        print('You want to insert values or a csv, please either insert csv or value!')\n",
        "        choice = input()\n",
        "        if choice == 'csv':\n",
        "            while True:\n",
        "                print('select which csv you want to use')\n",
        "                csv = input()\n",
        "                try:\n",
        "                    data = pd.read_csv('{}.csv'.format(csv))        \n",
        "                    code = []\n",
        "                    name = []\n",
        "                    number = []\n",
        "                    street = []\n",
        "                    city = []\n",
        "                    state = []\n",
        "                    for item in data['地址']:\n",
        "                        a = item.split(',')[0]\n",
        "                        b = item.split(',')[2]\n",
        "                        c = item.split(',')[1]\n",
        "                        street.append(a)\n",
        "                        city.append(c)\n",
        "                        numbers = a.split()[0]\n",
        "                        names = a.split()[1:(len(a.split()) - 1)]\n",
        "                        codes = b.split()[1][0:5]\n",
        "                        states = b.split()[0]\n",
        "                        state.append(states)\n",
        "                        code.append(codes)\n",
        "                        name.append(names)\n",
        "                        number.append(numbers)\n",
        "                    finalN = []\n",
        "                    for item in name:\n",
        "                        string = \"\"\n",
        "                        for items in item:\n",
        "                            string += items\n",
        "                            string += ' '\n",
        "                        finalN.append(string[0:len(string) - 1])            \n",
        "                    for i in range(len(code)):\n",
        "                        get(i,finalN,number,code,rets_client,street,city,state)\n",
        "                        \n",
        "                    return \"finished\"\n",
        "                except FileNotFoundError:\n",
        "                    print(\"Oops! There is no file!  Try again...\")\n",
        "        elif(choice == 'value'):\n",
        "            while True:\n",
        "                print('How many mls you want to check?')\n",
        "                number = input()\n",
        "                try:\n",
        "                    Id_list = []\n",
        "                    for i in range(int(number)):\n",
        "                        print('Enter the {}{} #MLS'.format(i+1, judge(i+1)))\n",
        "                        mls = input()\n",
        "                        Id_list.append(mls)\n",
        "           #14730621\n",
        "                    for i in range(len(Id_list)):\n",
        "                        pulled_value = {}\n",
        "                        result = rets_client.search(resource='Property', resource_class='Property', dmql_query='(ListingId = {})'.format(Id_list[i]))\n",
        "                        for items in result:\n",
        "                            pulled_value = items\n",
        "                        if(len(pulled_value) != 0):\n",
        "                            insertId(pulled_value, Id_list[i], rets_client) \n",
        "                            if(i == int(number) - 1):\n",
        "                                return\n",
        "                        else:\n",
        "\n",
        "                            print('Id {} not exists, please insert specific value'.format(Id_list[i]))\n",
        "                            print(\"If you don't know the address, please insert skip\")\n",
        "                            deci = input()\n",
        "                            if(deci == 'skip'):\n",
        "                                if(i == int(number) - 1):\n",
        "                                    return\n",
        "                                continue\n",
        "                                \n",
        "                            else:\n",
        "                                print('Enter address')\n",
        "                                address = input()\n",
        "        #'8615 Barclay Street'\n",
        "                            \n",
        "                                print('Enter city')\n",
        "                                city = input()\n",
        "        #'Dallas'\n",
        "                                print('Enter state')\n",
        "                                state = input()\n",
        "        #'Texas'\n",
        "                                print('Enter zipcode')\n",
        "                                zip = input()\n",
        "        #'75227'\n",
        "                                print('How many bedrooms?')\n",
        "                                bedroom = input()\n",
        "\n",
        "                                try:\n",
        "                                  findAdd(rets_client, address, city, state, zip, int(bedroom))\n",
        "                                  if(i == int(number) - 1):\n",
        "                                      return\n",
        "                                except IndexError:\n",
        "                                    print(\"invalid input, please next value!\")   \n",
        "\n",
        "                          \n",
        "                except ValueError:\n",
        "                    print(\"invalid input, try again!\")\n",
        "        else:\n",
        "            print(\"invalid input, try again!\")"
      ]
    },
    {
      "cell_type": "code",
      "execution_count": null,
      "metadata": {
        "colab": {
          "base_uri": "https://localhost:8080/"
        },
        "id": "_-lc3ZqLIJRX",
        "outputId": "c5288a6b-2096-4af6-d6ea-69eff16bbabf"
      },
      "outputs": [
        {
          "output_type": "stream",
          "name": "stdout",
          "text": [
            "You want to insert values or a csv, please either insert csv or value!\n",
            "csv\n",
            "select which csv you want to use\n",
            "test1\n",
            "\n",
            "This value exists in Website\n",
            "check coordinates\n",
            "The mean for 103 Robin Ln, TX, <class 'zip'> is 2126.6666666666665\n",
            "The top 3 for 103 Robin Ln, TX, <class 'zip'> are [2495.0, 2350.0, 2350.0]\n",
            "\n",
            "This value exists in Website\n",
            "The mean for 926, Lemontree, 76017 is 1901.4285714285713\n",
            "The top 3 for 926, Lemontree, 76017 are [2000.0, 2000.0, 1960.0]\n",
            "The average for top 3 926, Lemontree, 76017 is 1986.6666666666667\n",
            "\n",
            "This value exists in Website\n",
            "The mean for 3808, Summer Hill, 75180 is 1735.8333333333333\n",
            "The top 3 for 3808, Summer Hill, 75180 are [1950.0, 1800.0, 1795.0]\n",
            "The average for top 3 3808, Summer Hill, 75180 is 1848.3333333333333\n",
            "\n",
            "This value exists in Website\n",
            "The mean for 4006, Rolling Rock, 75126 is 2199.0\n",
            "The top 3 for 4006, Rolling Rock, 75126 are [2553.0, 2400.0, 2275.0]\n",
            "The average for top 3 4006, Rolling Rock, 75126 is 2409.3333333333335\n",
            "\n",
            "This value exists in Website\n",
            "The mean for 6707, Poppy, 76137 is 1982.3684210526317\n",
            "The top 3 for 6707, Poppy, 76137 are [2500.0, 2400.0, 2300.0]\n",
            "The average for top 3 6707, Poppy, 76137 is 2400.0\n",
            "\n",
            "This value exists in Website\n",
            "The mean for 10416, Phantom Hill, 76140 is 1874.5384615384614\n",
            "The top 3 for 10416, Phantom Hill, 76140 are [2095.0, 2050.0, 1995.0]\n",
            "The average for top 3 10416, Phantom Hill, 76140 is 2046.6666666666667\n",
            "\n",
            "This value exists in Website\n",
            "The mean for 11108, Ferndale, 75238 is 3717.0\n",
            "The top 3 for 11108, Ferndale, 75238 are [6500.0, 5500.0, 4500.0]\n",
            "The average for top 3 11108, Ferndale, 75238 is 5500.0\n",
            "check coordinates\n",
            "The mean for 4033 Morgan Dr, TX, <class 'zip'> is 1669.3333333333333\n",
            "The top 3 for 4033 Morgan Dr, TX, <class 'zip'> are [2000.0, 1950.0, 1795.0]\n",
            "\n",
            "This value exists in Website\n",
            "The mean for 3517, Cobblestone, 76140 is 1917.5\n",
            "The top 3 for 3517, Cobblestone, 76140 are [2395.0, 1975.0, 1795.0]\n",
            "The average for top 3 3517, Cobblestone, 76140 is 2055.0\n",
            "finished\n"
          ]
        }
      ],
      "source": [
        "if __name__ == \"__main__\":\n",
        "    print(main()) \n",
        "    #5005 Bama Drive, Arlington, Texas 76017"
      ]
    },
    {
      "cell_type": "code",
      "execution_count": null,
      "metadata": {
        "id": "JrbP47kmVRY9"
      },
      "outputs": [],
      "source": [
        ""
      ]
    },
    {
      "cell_type": "code",
      "execution_count": null,
      "metadata": {
        "id": "H03LHn44G9AS"
      },
      "outputs": [],
      "source": [
        "login_url = 'https://ntrdd.mlsmatrix.com/rets/Login.ashx' \n",
        "username = '0671181_NID'\n",
        "password = 'Rt$tg6jx'\n",
        "rets_client = Session(login_url, username, password)\n",
        "rets_client.login()\n",
        "\n",
        "\n",
        "result = rets_client.search(resource = 'Property', resource_class='Property', dmql_query='(BathroomsTotalInteger = {}+), (BathroomsTotalInteger = {}-), (MlsStatus = SLD), (CloseDate = 2022-01-01-2022-06-30), (Longitude = {}+), (Longitude = {}-), (Latitude = {}+), (Latitude = {}-), (PostalCode = {}), (BedroomsTotal = {})'.format(0, 100, -98.71837, -94.71837, 30.8928, 34.8928, 75238, 3))\n",
        "for item in result:\n",
        "  if(item['PropertyType'] == 'Residential Lease' and item['PropertySubType'] == 'Single Family Residence'):\n",
        "    print(item)"
      ]
    },
    {
      "cell_type": "code",
      "execution_count": null,
      "metadata": {
        "id": "8hdvFAW0bEeX"
      },
      "outputs": [],
      "source": [
        "df = pd.read_csv('test.csv')\n",
        "df.rename(columns={ df.columns[0]: \"地址\" }, inplace = True)\n",
        "df.to_csv('test1.csv')"
      ]
    }
  ],
  "metadata": {
    "colab": {
      "collapsed_sections": [],
      "name": "lease_rests.ipynb",
      "provenance": [],
      "include_colab_link": true
    },
    "kernelspec": {
      "display_name": "Python 3",
      "name": "python3"
    },
    "language_info": {
      "name": "python"
    }
  },
  "nbformat": 4,
  "nbformat_minor": 0
}