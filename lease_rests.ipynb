{
  "nbformat": 4,
  "nbformat_minor": 0,
  "metadata": {
    "colab": {
      "name": "lease_rests.ipynb",
      "provenance": [],
      "collapsed_sections": [],
      "authorship_tag": "ABX9TyOhdCYlGc2JlVoSJgUrl4K4",
      "include_colab_link": true
    },
    "kernelspec": {
      "name": "python3",
      "display_name": "Python 3"
    },
    "language_info": {
      "name": "python"
    }
  },
  "cells": [
    {
      "cell_type": "markdown",
      "metadata": {
        "id": "view-in-github",
        "colab_type": "text"
      },
      "source": [
        "<a href=\"https://colab.research.google.com/github/penny1xu/RESTS/blob/main/lease_rests.ipynb\" target=\"_parent\"><img src=\"https://colab.research.google.com/assets/colab-badge.svg\" alt=\"Open In Colab\"/></a>"
      ]
    },
    {
      "cell_type": "code",
      "execution_count": 17,
      "metadata": {
        "colab": {
          "base_uri": "https://localhost:8080/"
        },
        "id": "MJff6UchHVNB",
        "outputId": "102ef3e6-b124-47d9-ff9c-69030610a9dd"
      },
      "outputs": [
        {
          "output_type": "stream",
          "name": "stdout",
          "text": [
            "Looking in indexes: https://pypi.org/simple, https://us-python.pkg.dev/colab-wheels/public/simple/\n",
            "Requirement already satisfied: censusgeocode in /usr/local/lib/python3.7/dist-packages (0.5.2)\n",
            "Requirement already satisfied: requests[security]<3,>=2.27.0 in /usr/local/lib/python3.7/dist-packages (from censusgeocode) (2.28.0)\n",
            "Requirement already satisfied: requests-toolbelt<1,>=0.9.0 in /usr/local/lib/python3.7/dist-packages (from censusgeocode) (0.9.1)\n",
            "Requirement already satisfied: urllib3<1.27,>=1.21.1 in /usr/local/lib/python3.7/dist-packages (from requests[security]<3,>=2.27.0->censusgeocode) (1.24.3)\n",
            "Requirement already satisfied: certifi>=2017.4.17 in /usr/local/lib/python3.7/dist-packages (from requests[security]<3,>=2.27.0->censusgeocode) (2022.5.18.1)\n",
            "Requirement already satisfied: charset-normalizer~=2.0.0 in /usr/local/lib/python3.7/dist-packages (from requests[security]<3,>=2.27.0->censusgeocode) (2.0.12)\n",
            "Requirement already satisfied: idna<4,>=2.5 in /usr/local/lib/python3.7/dist-packages (from requests[security]<3,>=2.27.0->censusgeocode) (2.10)\n",
            "Looking in indexes: https://pypi.org/simple, https://us-python.pkg.dev/colab-wheels/public/simple/\n",
            "Requirement already satisfied: rets in /usr/local/lib/python3.7/dist-packages (1.0.0)\n",
            "Requirement already satisfied: requests>=2.18.4 in /usr/local/lib/python3.7/dist-packages (from rets) (2.28.0)\n",
            "Requirement already satisfied: future>=0.16 in /usr/local/lib/python3.7/dist-packages (from rets) (0.16.0)\n",
            "Requirement already satisfied: xmltodict>=0.11.0 in /usr/local/lib/python3.7/dist-packages (from rets) (0.13.0)\n",
            "Requirement already satisfied: six>=1.10 in /usr/local/lib/python3.7/dist-packages (from rets) (1.15.0)\n",
            "Requirement already satisfied: certifi>=2017.4.17 in /usr/local/lib/python3.7/dist-packages (from requests>=2.18.4->rets) (2022.5.18.1)\n",
            "Requirement already satisfied: charset-normalizer~=2.0.0 in /usr/local/lib/python3.7/dist-packages (from requests>=2.18.4->rets) (2.0.12)\n",
            "Requirement already satisfied: idna<4,>=2.5 in /usr/local/lib/python3.7/dist-packages (from requests>=2.18.4->rets) (2.10)\n",
            "Requirement already satisfied: urllib3<1.27,>=1.21.1 in /usr/local/lib/python3.7/dist-packages (from requests>=2.18.4->rets) (1.24.3)\n"
          ]
        }
      ],
      "source": [
        "!pip install censusgeocode\n",
        "!pip install rets\n",
        "import csv\n",
        "import pandas as pd\n",
        "import censusgeocode as cg\n",
        "import numpy as np\n",
        "import sys\n",
        "from rets import Session"
      ]
    },
    {
      "cell_type": "code",
      "source": [
        "def lease_findifNull(lo_left,lo_right,la_left,la_right,research,zip):\n",
        "  result = research.search(resource='Property', resource_class='Property', dmql_query='(MlsStatus = SLD), (CloseDate = 2022-01-01-2022-05-31), (Longitude = {}+), (Longitude = {}-), (Latitude = {}+), (Latitude = {}-), (PostalCode = {})'.format(lo_left, lo_right, la_left, la_right, zip))\n",
        "  lis = []\n",
        "  count = 0\n",
        "  di ={}\n",
        "  df = pd.DataFrame()\n",
        "  for item in result:\n",
        "    if(item['PropertyType'] == 'Residential Lease' and item['PropertySubType'] == 'Single Family Residence'):\n",
        "            df = pd.concat([df, pd.DataFrame(item.values())], axis=1, ignore_index=True) #?\n",
        "            count += 1\n",
        "            di = item\n",
        "  for key in di:\n",
        "    lis.append(key)\n",
        "  if(count >= 5): #not posible larger than 5 at the first time\n",
        "    df = df.T\n",
        "    df.columns = lis\n",
        "    return df\n",
        "  else:\n",
        "    lo_left -= 0.008\n",
        "    lo_right += 0.008\n",
        "    la_left -= 0.008\n",
        "    la_right += 0.008\n",
        "    return lease_findifNull(lo_left, lo_right, la_left, la_right, research, zip)\n"
      ],
      "metadata": {
        "id": "j-bVvyh4HrtB"
      },
      "execution_count": 27,
      "outputs": []
    },
    {
      "cell_type": "code",
      "source": [
        "def lease_findHouse(house_leftLa,house_rightLa,house_leftLo,house_rightLo,house_leftSqt,house_rightSqt,research,zip,a):\n",
        "  result = research.search(resource = 'Property', resource_class='Property', dmql_query='(MlsStatus = SLD), (CloseDate = 2022-01-01-2022-05-31), (Longitude = {}+), (Longitude = {}-), (Latitude = {}+), (Latitude = {}-), (PostalCode = {}),(LivingArea = {}+),(LivingArea{}-)'.format(house_leftLo, house_rightLo, house_leftLa, house_rightLa, zip,house_leftSqt,house_rightSqt))\n",
        "  basic = house_leftSqt\n",
        "  count = 0\n",
        "  di={}\n",
        "  lis =[]\n",
        "  df = pd.DataFrame()\n",
        "  for item in result:\n",
        "    if(item['PropertyType'] == 'Residential Lease' and item['PropertySubType'] == 'Single Family Residence'):\n",
        "            df = pd.concat([df, pd.DataFrame(item.values())], axis=1, ignore_index=True) #?\n",
        "            count += 1\n",
        "            di = item # 没这行\n",
        "    for key in di: #没这行\n",
        "      lis.append(key) #没这行\n",
        "    if(count >= 5):  \n",
        "      df = df.T\n",
        "      df.columns = lis # =column\n",
        "    return df\n",
        "  else:\n",
        "    house_leftLo -= 0.008\n",
        "    house_rightLo += 0.008\n",
        "    house_leftLa -= 0.008\n",
        "    house_rightLa += 0.008\n",
        "\n",
        "    #living area\n",
        "    if(a == 0):\n",
        "      if(basic <= 1000):\n",
        "        house_leftSqt -=100\n",
        "        house_rightSqt +=100\n",
        "      elif(basic <= 2200):\n",
        "        house_leftSqt -=200\n",
        "        house_rightSqt +=200\n",
        "      else:\n",
        "        house_leftSqt -=300\n",
        "        house_rightSqt +=300\n",
        "      a += 1\n",
        "\n",
        "  return lease_findHouse(house_leftLa,house_rightLa,house_leftLo,house_rightLo,house_leftSqt,house_rightSqt,research,zip,a)"
      ],
      "metadata": {
        "id": "BGJv_Nq_Hxuy"
      },
      "execution_count": 15,
      "outputs": []
    },
    {
      "cell_type": "code",
      "source": [
        "def insertId(pulled_value, mls, rets_client):\n",
        "  column = []\n",
        "  for key in pulled_value:\n",
        "    column.append(key)\n",
        "  print(\"\\nThis value exists in Website\")\n",
        "  zip = pulled_value.get('PostalCode')\n",
        "  house_leftLa = float(pulled_value.get('Latitude'))\n",
        "  house_rightLa = float(pulled_value.get('Latitude')) \n",
        "  house_leftLo = float(pulled_value.get('Longitude'))\n",
        "  house_rightLo = float(pulled_value.get('Longitude'))\n",
        "  house_leftSqt = float(pulled_value.get('LivingArea'))\n",
        "  house_rightSqt = float(pulled_value.get('LivingArea'))\n",
        "  house_bed = pulled_value.get(\"BedroomsTotal\")\n",
        "  house_bath = pulled_value.get(\"BathroomsTotalInteger\")\n",
        "\n",
        "  result1 = lease_findHouse(house_leftLa, house_rightLa, house_leftLo, house_rightLo, house_leftSqt, house_rightSqt, rets_client, column, zip)        \n",
        "  result1 = result1[['BathroomsFull','BathroomsHalf', 'BathroomsTotalDecimal', 'BathroomsTotalInteger','BedroomsTotal', 'BuildingAreaTotal', 'City', 'CloseDate', 'ClosePrice', 'CumulativeDaysOnMarket', \n",
        "  'DaysOnMarket', 'GarageSpaces', 'Latitude', 'ListingContractDate', 'ListingId', 'ListPrice', \n",
        "  'ListSource', 'LivingArea', 'Longitude', 'LotSizeAcres', 'MlsStatus', 'OwnerName', 'OwnerPhone', 'OwnerPhoneAlternative',\n",
        "  'ParcelNumber', 'ParcelNumber2', 'PoolYN', 'PostalCode', 'PreviousListPrice', 'PreviousStatus', 'PropertySubType',\n",
        "  'PropertyType', 'PublicRemarks', 'PurchaseContractDate', 'SchoolDistrict', 'StandardStatus', 'StatusChangeTimestamp',\n",
        "  'StreetDirPrefix', 'StreetDirSuffix', 'StreetName', 'StreetNumber', 'StreetNumberNumeric', 'StreetSuffix', 'SubdivisionName',\n",
        "  'USProperty_MUI', 'YearBuilt']]\n",
        "  price=[]\n",
        "  for item in result1['ClosePrice']:\n",
        "    item = float(item)\n",
        "    price.append(item)\n",
        "    result1['ClosePrice'] = price\n",
        "    mean1 = result1['ClosePrice'].mean()\n",
        "    top1 = list(result1['ClosePrice'])\n",
        "    top1.sort(reverse = True)\n",
        "    print('The mean for {} is {}'.format(mls, mean1))\n",
        "    print('The top 3 for {} are {}'.format(mls, top1))\n",
        "    return result1.to_csv('{}.csv'.format(mls))"
      ],
      "metadata": {
        "id": "8DMVMfa1evSb"
      },
      "execution_count": 25,
      "outputs": []
    },
    {
      "cell_type": "code",
      "source": [
        "def findAdd(address, city, state, zip, rets_client):\n",
        "  result = cg.address(address, city = city, state= state,zipcode = zip)\n",
        "  lo_left = result[0]['coordinates']['x']\n",
        "  lo_right = result[0]['coordinates']['x']\n",
        "  la_left = result[0]['coordinates']['y']\n",
        "  la_right = result[0]['coordinates']['y']\n",
        "  result = lease_findifNull(lo_left, lo_right, la_left, la_right, rets_client, zip)\n",
        "  result = result[['BathroomsFull','BathroomsHalf', 'BathroomsTotalDecimal', 'BathroomsTotalInteger','BedroomsTotal', 'BuildingAreaTotal', 'City', 'CloseDate', 'ClosePrice', 'CumulativeDaysOnMarket', \n",
        "  'DaysOnMarket', 'GarageSpaces', 'Latitude', 'ListingContractDate', 'ListingId', 'ListPrice', \n",
        "  'ListSource', 'LivingArea', 'Longitude', 'LotSizeAcres', 'MlsStatus', 'OwnerName', 'OwnerPhone', 'OwnerPhoneAlternative',\n",
        "  'ParcelNumber', 'ParcelNumber2', 'PoolYN', 'PostalCode', 'PreviousListPrice', 'PreviousStatus', 'PropertySubType',\n",
        "  'PropertyType', 'PublicRemarks', 'PurchaseContractDate', 'SchoolDistrict', 'StandardStatus', 'StatusChangeTimestamp',\n",
        "  'StreetDirPrefix', 'StreetDirSuffix', 'StreetName', 'StreetNumber', 'StreetNumberNumeric', 'StreetSuffix', 'SubdivisionName',\n",
        "  'USProperty_MUI', 'YearBuilt']]\n",
        "\n",
        "  price = []\n",
        "  for item in result['ClosePrice']:\n",
        "    item = float(item)\n",
        "    price.append(item)\n",
        "    result['ClosePrice'] = price\n",
        "    mean = result['ClosePrice'].mean()\n",
        "    top = list(result['ClosePrice'])\n",
        "    top.sort(reverse = True)\n",
        "    top_mean = sum(top)/ len(top) # new added\n",
        "    print('The Avg for {}, {}, {} is {}'.format(address, state, zip, mean))\n",
        "    print('The top 3 for {}, {}, {} are {}'.format(address, state, zip, top))\n",
        "    print('The top 3 Avg for {}, {}, {} is {}').format(address, state, zip, top_mean) #new added\n",
        "    return result.to_csv('{},{},{}.csv'.format(address, state, zip))\n",
        "\n",
        "\n",
        "    "
      ],
      "metadata": {
        "id": "F7MCZWuKUJN-"
      },
      "execution_count": 29,
      "outputs": []
    },
    {
      "cell_type": "code",
      "source": [
        "def get(i,finalN,number,code,rets_client):\n",
        "  pulled_value = {}\n",
        "  result = rets_client.search(resource = 'Property', resource_class='Property', dmql_query='(StreetNumber = {}),(StreetName = {}),(PostalCode = {})'.format(number[i],finalN[i],code[i]))"
      ],
      "metadata": {
        "id": "zLMk-stelwch"
      },
      "execution_count": null,
      "outputs": []
    },
    {
      "cell_type": "code",
      "source": [
        "def main():\n",
        "  login_url = 'https://ntrdd.mlsmatrix.com/rets/Login.ashx' \n",
        "  username = '0671181_NID'\n",
        "  password = 'Rt$tg6jx'\n",
        "  rets_client = Session(login_url, username, password)\n",
        "  rets_client.login()\n",
        "\n",
        "  print(\"enter mls:\")\n",
        "  mls = input()\n",
        "  for i in mls:\n",
        "    result = rets_client.search(resource='Property', resource_class='Property', dmql_query='(ListingId = {})'.format(mls))\n",
        "    return"
      ],
      "metadata": {
        "id": "a_RrPUgWH6yN"
      },
      "execution_count": 22,
      "outputs": []
    },
    {
      "cell_type": "code",
      "source": [
        "if __name__ == \"__main__\":\n",
        "    print(main())"
      ],
      "metadata": {
        "colab": {
          "base_uri": "https://localhost:8080/"
        },
        "id": "_-lc3ZqLIJRX",
        "outputId": "43e1681f-b4ce-4a6b-9654-f044a3f0a902"
      },
      "execution_count": 23,
      "outputs": [
        {
          "output_type": "stream",
          "name": "stdout",
          "text": [
            "enter mls:\n",
            "14730621\n",
            "None\n"
          ]
        }
      ]
    }
  ]
}