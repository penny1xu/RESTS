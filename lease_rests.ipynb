{
  "nbformat": 4,
  "nbformat_minor": 0,
  "metadata": {
    "colab": {
      "name": "lease_rests.ipynb",
      "provenance": [],
      "authorship_tag": "ABX9TyO6MvstLMUwQoWKoxb0Fh49",
      "include_colab_link": true
    },
    "kernelspec": {
      "name": "python3",
      "display_name": "Python 3"
    },
    "language_info": {
      "name": "python"
    }
  },
  "cells": [
    {
      "cell_type": "markdown",
      "metadata": {
        "id": "view-in-github",
        "colab_type": "text"
      },
      "source": [
        "<a href=\"https://colab.research.google.com/github/penny1xu/RESTS/blob/main/lease_rests.ipynb\" target=\"_parent\"><img src=\"https://colab.research.google.com/assets/colab-badge.svg\" alt=\"Open In Colab\"/></a>"
      ]
    },
    {
      "cell_type": "code",
      "execution_count": null,
      "metadata": {
        "id": "MJff6UchHVNB"
      },
      "outputs": [],
      "source": [
        "!pip install censusgeocode\n",
        "!pip install rets\n",
        "import csv\n",
        "import pandas as pd\n",
        "import censusgeocode as cg\n",
        "import numpy as np\n",
        "import sys\n",
        "from rets import Session"
      ]
    },
    {
      "cell_type": "code",
      "source": [
        "def lease_findifNull(lo_left,lo_right,la_left,la_right,research,zip):\n",
        "  result = research.search(resource='Property', resource_class='Property', dmql_query='(MlsStatus = SLD), (CloseDate = 2022-01-01-2022-05-31), (Longitude = {}+), (Longitude = {}-), (Latitude = {}+), (Latitude = {}-), (PostalCode = {})'.format(lo_left, lo_right, la_left, la_right, zip))\n",
        "  lis = []\n",
        "  count = 0\n",
        "  di ={}\n",
        "  df = pd.DataFrame()\n",
        "  for item in result:\n",
        "    if(item['PropertyType'] == 'Residential Lease' and item['PropertySubType'] == 'Single Family Residence'):\n",
        "            df = pd.concat([df, pd.DataFrame(item.values())], axis=1, ignore_index=True) #?\n",
        "            count += 1\n",
        "            di = item\n",
        "  for key in di:\n",
        "    lis.append(key)\n",
        "  if(count >= 5): #not posible larger than 5 at the first time\n",
        "    df.columns = lis\n",
        "  return df\n"
      ],
      "metadata": {
        "id": "j-bVvyh4HrtB"
      },
      "execution_count": 6,
      "outputs": []
    },
    {
      "cell_type": "code",
      "source": [
        "def lease_findHouse():\n",
        "  return"
      ],
      "metadata": {
        "id": "BGJv_Nq_Hxuy"
      },
      "execution_count": null,
      "outputs": []
    },
    {
      "cell_type": "code",
      "source": [
        "def main():\n",
        "  "
      ],
      "metadata": {
        "id": "a_RrPUgWH6yN"
      },
      "execution_count": null,
      "outputs": []
    },
    {
      "cell_type": "code",
      "source": [
        "if __name__ == \"__main__\":\n",
        "    print(main())"
      ],
      "metadata": {
        "id": "_-lc3ZqLIJRX"
      },
      "execution_count": null,
      "outputs": []
    }
  ]
}