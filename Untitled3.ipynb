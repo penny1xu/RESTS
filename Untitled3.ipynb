{
  "nbformat": 4,
  "nbformat_minor": 0,
  "metadata": {
    "colab": {
      "name": "Untitled3.ipynb",
      "provenance": [],
      "authorship_tag": "ABX9TyN2FVncOWbCTix/toRQy+Ee",
      "include_colab_link": true
    },
    "kernelspec": {
      "name": "python3",
      "display_name": "Python 3"
    },
    "language_info": {
      "name": "python"
    }
  },
  "cells": [
    {
      "cell_type": "markdown",
      "metadata": {
        "id": "view-in-github",
        "colab_type": "text"
      },
      "source": [
        "<a href=\"https://colab.research.google.com/github/penny1xu/RESTS/blob/main/Untitled3.ipynb\" target=\"_parent\"><img src=\"https://colab.research.google.com/assets/colab-badge.svg\" alt=\"Open In Colab\"/></a>"
      ]
    },
    {
      "cell_type": "code",
      "execution_count": null,
      "metadata": {
        "id": "XwZDiN4-5oxW"
      },
      "outputs": [],
      "source": [
        "!pip install pyodbc\n",
        "import pyodbc as odbc\n",
        "!sudo apt-get install unixodbc-dev\n",
        "!pip install chart_studio\n"
      ]
    },
    {
      "cell_type": "code",
      "source": [
        "# Connection variables\n",
        "server = 'DESKTOP-80TUSU5'\n",
        "database = 'RES_DB'\n",
        "username = 'user123'\n",
        "password = 'Sunique123'\n",
        " \n",
        "# Connection string\n",
        "cnxn = po.connect('DRIVER={ODBC Driver 17 for SQL Server};SERVER=' +\n",
        "        server+';DATABASE='+database+';UID='+username+';PWD=' + password)\n",
        "cursor = cnxn.cursor()\n",
        " \n",
        "# Fetch data into a cursor\n",
        "cursor.execute(\"SELECT TOP (10) PersonID, FullName, PhoneNumber, \\\n",
        "    EmailAddress FROM WideWorldImporters.Application.People ORDER BY PersonID DESC;\")\n",
        " \n",
        "# iterate the cursor\n",
        "row = cursor.fetchone()\n",
        "while row:\n",
        "    # Print the row\n",
        "    print(str(row[0]) + \", \" + str(row[1] or '') + \", \" + str(row[2] or '') + \", \" + str(row[3] or ''))\n",
        "    row = cursor.fetchone()\n",
        " \n",
        "# Close the cursor and delete it\n",
        "cursor.close()\n",
        "del cursor\n",
        " \n",
        "# Close the database connection\n",
        "cnxn.close()"
      ],
      "metadata": {
        "colab": {
          "base_uri": "https://localhost:8080/",
          "height": 244
        },
        "id": "nm1H0-CmI6or",
        "outputId": "62dd8c2f-4315-43e8-faa5-c1e90ad39834"
      },
      "execution_count": 44,
      "outputs": [
        {
          "output_type": "error",
          "ename": "OperationalError",
          "evalue": "ignored",
          "traceback": [
            "\u001b[0;31m---------------------------------------------------------------------------\u001b[0m",
            "\u001b[0;31mOperationalError\u001b[0m                          Traceback (most recent call last)",
            "\u001b[0;32m<ipython-input-44-38d56db7786e>\u001b[0m in \u001b[0;36m<module>\u001b[0;34m()\u001b[0m\n\u001b[1;32m      8\u001b[0m \u001b[0;31m# Connection string\u001b[0m\u001b[0;34m\u001b[0m\u001b[0;34m\u001b[0m\u001b[0;34m\u001b[0m\u001b[0m\n\u001b[1;32m      9\u001b[0m cnxn = po.connect('DRIVER={ODBC Driver 17 for SQL Server};SERVER=' +\n\u001b[0;32m---> 10\u001b[0;31m         server+';DATABASE='+database+';UID='+username+';PWD=' + password)\n\u001b[0m\u001b[1;32m     11\u001b[0m \u001b[0mcursor\u001b[0m \u001b[0;34m=\u001b[0m \u001b[0mcnxn\u001b[0m\u001b[0;34m.\u001b[0m\u001b[0mcursor\u001b[0m\u001b[0;34m(\u001b[0m\u001b[0;34m)\u001b[0m\u001b[0;34m\u001b[0m\u001b[0;34m\u001b[0m\u001b[0m\n\u001b[1;32m     12\u001b[0m \u001b[0;34m\u001b[0m\u001b[0m\n",
            "\u001b[0;31mOperationalError\u001b[0m: ('HYT00', '[HYT00] [unixODBC][Microsoft][ODBC Driver 17 for SQL Server]Login timeout expired (0) (SQLDriverConnect)')"
          ]
        }
      ]
    },
    {
      "cell_type": "code",
      "source": [
        "DRIVER_NAME = 'SQL SERVER'\n",
        "SERVER_NAME = 'DESKTOP-80TUSU5'\n",
        "DATABASE_NAME = 'RES_DB'\n",
        "\n",
        "connection_string = f\"\"\"\n",
        "  DRIVER = {{{DRIVER_NAME}}};\n",
        "  SERVER = {SERVER_NAME};\n",
        "  DATABASE = {DATABASE_NAME};\n",
        "  Trust_Connection = yes;\n",
        "  uid = <user123>\n",
        "  pwd = <Sunique123>\n",
        "  \n",
        "\"\"\"\n",
        "  conn = odbc.connect(connection_string)\n",
        "  print(conn)\n"
      ],
      "metadata": {
        "colab": {
          "base_uri": "https://localhost:8080/",
          "height": 134
        },
        "id": "LY_5oWyADAi2",
        "outputId": "1cd1908a-6f7d-489a-bcbf-31e397dacbbb"
      },
      "execution_count": 50,
      "outputs": [
        {
          "output_type": "error",
          "ename": "IndentationError",
          "evalue": "ignored",
          "traceback": [
            "\u001b[0;36m  File \u001b[0;32m\"<ipython-input-50-e74128cdc367>\"\u001b[0;36m, line \u001b[0;32m14\u001b[0m\n\u001b[0;31m    conn = odbc.connect(connection_string)\u001b[0m\n\u001b[0m    ^\u001b[0m\n\u001b[0;31mIndentationError\u001b[0m\u001b[0;31m:\u001b[0m unexpected indent\n"
          ]
        }
      ]
    }
  ]
}