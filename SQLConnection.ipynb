{
  "nbformat": 4,
  "nbformat_minor": 0,
  "metadata": {
    "colab": {
      "name": "SQLConnection.ipynb",
      "provenance": [],
      "collapsed_sections": [],
      "include_colab_link": true
    },
    "kernelspec": {
      "name": "python3",
      "display_name": "Python 3"
    },
    "language_info": {
      "name": "python"
    }
  },
  "cells": [
    {
      "cell_type": "markdown",
      "metadata": {
        "id": "view-in-github",
        "colab_type": "text"
      },
      "source": [
        "<a href=\"https://colab.research.google.com/github/penny1xu/RESTS/blob/main/SQLConnection.ipynb\" target=\"_parent\"><img src=\"https://colab.research.google.com/assets/colab-badge.svg\" alt=\"Open In Colab\"/></a>"
      ]
    },
    {
      "cell_type": "code",
      "execution_count": null,
      "metadata": {
        "id": "6Ee0pSxlF9sN"
      },
      "outputs": [],
      "source": [
        "%%sh\n",
        "curl https://packages.microsoft.com/keys/microsoft.asc | apt-key add -\n",
        "curl https://packages.microsoft.com/config/ubuntu/16.04/prod.list > /etc/apt/sources.list.d/mssql-release.list\n",
        "sudo apt-get update\n",
        "sudo ACCEPT_EULA=Y apt-get -q -y install msodbcsql17"
      ]
    },
    {
      "cell_type": "markdown",
      "source": [
        "https://suniquellc-my.sharepoint.com/:x:/r/personal/silver_sun_suniquellc_com/_layouts/15/Doc.aspx?sourcedoc=%7B4F2CF781-48C4-4002-90B9-BCB87CF0DDD8%7D&file=%E6%89%80%E6%9C%89%E9%A1%B9%E7%9B%AE%EF%BC%88%E5%AE%8C%E5%96%84%E7%89%88%EF%BC%89.xlsx&action=edit&mobileredirect=true&wdPreviousSession=0751acbe-56e9-44fd-a5d5-10e0157c2968&wdOrigin=TEAMS-ELECTRON.null_ns.undefined&cid=1b897e5e-d3da-4af4-a39e-78d741d70d7b"
      ],
      "metadata": {
        "id": "_kw6VpoxKz-q"
      }
    },
    {
      "cell_type": "code",
      "source": [
        "!sudo apt-get install unixodbc-dev\n",
        "!pip install pyodbc"
      ],
      "metadata": {
        "id": "3Gocfus7GI1D"
      },
      "execution_count": null,
      "outputs": []
    },
    {
      "cell_type": "code",
      "source": [
        "import pyodbc \n",
        "import pandas as pd \n",
        "conn = pyodbc.connect(DRIVER = '{ODBC Driver 17 for SQL Server}',\n",
        "                      SERVER = '76.184.235.171,1433',\n",
        "                      DATABASE = 'RES_DB',\n",
        "                      UID = 'user123',\n",
        "                      PWD = 'Sunique123')\n",
        "\n",
        "cursor = conn.cursor()\n",
        "cursor.execute(\"SELECT * FROM [RES_DB].[dbo].[Inventory] WHERE [IsSold] = 1\")\n",
        "rows = cursor.fetchall()\n",
        "for row in rows:\n",
        "    print(row[1])\n",
        "cursor.close()\n",
        "\n"
      ],
      "metadata": {
        "colab": {
          "base_uri": "https://localhost:8080/"
        },
        "id": "Jm3i83mFGBT5",
        "outputId": "afaf6913-3c35-40ad-c25f-acbf9047e918"
      },
      "execution_count": null,
      "outputs": [
        {
          "output_type": "stream",
          "name": "stdout",
          "text": [
            "206 E Ridgewood Drive, Garland, Texas 75041\n",
            "310 Colonel Drive, Garland, Texas 75043\n",
            "403 Chancellorsville Drive, Mesquite, TX 75149-4857\n",
            "723 Caladium Drive, Mesquite, Texas 75149\n",
            "813 Gregory Ave, Bedford, TX 76022(NW WS)\n",
            "836 Russell Ln, Bedford, TX 76022(NW WS)\n",
            "158 Eastwood Place, Lewisville, TX 75067-4315\n",
            "1320 Lanemar Drive, Mesquite, TX 75149-2372\n",
            "1815 Mimosa Avenue, Plano, Texas 75074\n",
            "2104 Holt Road, Arlington, Texas 76006\n",
            "2219 Crockett Drive, Carrollton, TX 75006-7753\n",
            "2222 Springhill Drive, Dallas, Texas 75228\n",
            "2225 Ridgedale Dr, Carrollton, TX 75006\n",
            "3505 Ruby Drive, Mesquite, TX 75150-2134(MH WS)\n",
            "4010 Mayflower Drive, Garland, TX 75043-3240\n",
            "4368 N Colony Blvd, Colony(NW WS)\n",
            "4820 Graham Court, The Colony, Texas 75056\n",
            "4834 Bedford Drive, Mesquite (MH WS)\n",
            "5742 Sterling Green Trail, Arlington, Texas 76017\n",
            "6345 Beetle Drive, Watauga, Texas 76148\n",
            "7008 Galloway Ct, The Colony(NW WS)\n",
            "10311 Woodlot Drive, Dallas, Texas 75217\n",
            "11250 Dalron Drive, Dallas, Texas 75218\n",
            "2543 Jonesboro Avenue, Dallas, Texas 75228\n",
            "10317 Andover Dr, Dallas, TX 75228\n",
            "11731 Killkirk Ln, Dallas, TX 75228\n",
            "3129 San Lucas Ave, Dallas, TX 75228\n",
            "5136 Sherman Drive, The Colony, Texas 75056\n",
            "2405 Briarwood Ln, Carrollton, TX 75006\n",
            "5216 Fisher Drive, The Colony, Texas 75056\n",
            "5000 Brandenburg Lane, The Colony, Texas 75056\n",
            "3431 Caracas Dr, Mesquite, TX 75150\n",
            "3840 Silverstone Drive, Plano, Texas 75023\n",
            "736 W Grubb Dr, Mesquite, TX 75149\n",
            "1121 Rockledge Dr,Garland, TX 75043\n",
            "12019 Squire Dr,Balch Springs, TX 75180\n",
            "1230 Ficklin Cir,Corsicana, TX 75110\n",
            "1333 Kingston Dr,Lewisville, TX 75067\n",
            "1516 Lucas Ter,Plano, TX 75074\n",
            "1605 Tampico Dr,Plano, TX 75075\n",
            "1720 Cascade St,Mesquite, TX 75149\n",
            "2227 Norma Dr,Mesquite, TX 75149\n",
            "2579 Wicker Ave, Farmers Branch, TX 75234\n",
            "417 N Lancaster Ave,Dallas, TX 75203\n",
            "435 River Oaks Ln,Richardson, TX 75081\n",
            "601 Dawn Dr,Garland, TX 75040\n",
            "809 Ontario Dr,Garland,TX75040\n",
            "3722 Yellowstone St,Irving, TX 75062\n"
          ]
        }
      ]
    }
  ]
}