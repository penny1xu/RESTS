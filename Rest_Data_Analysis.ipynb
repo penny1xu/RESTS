{
  "nbformat": 4,
  "nbformat_minor": 0,
  "metadata": {
    "colab": {
      "name": "Rest_Data Analysis.ipynb",
      "provenance": [],
      "authorship_tag": "ABX9TyMno9C/5X3jlvfSGLM59YEf",
      "include_colab_link": true
    },
    "kernelspec": {
      "name": "python3",
      "display_name": "Python 3"
    },
    "language_info": {
      "name": "python"
    }
  },
  "cells": [
    {
      "cell_type": "markdown",
      "metadata": {
        "id": "view-in-github",
        "colab_type": "text"
      },
      "source": [
        "<a href=\"https://colab.research.google.com/github/penny1xu/RESTS/blob/main/Rest_Data_Analysis.ipynb\" target=\"_parent\"><img src=\"https://colab.research.google.com/assets/colab-badge.svg\" alt=\"Open In Colab\"/></a>"
      ]
    },
    {
      "cell_type": "code",
      "execution_count": 6,
      "metadata": {
        "id": "Wqm8yuuyJcnm"
      },
      "outputs": [],
      "source": [
        "import csv\n",
        "import pandas as pd\n",
        "import numpy  as np"
      ]
    },
    {
      "cell_type": "code",
      "source": [
        "#read file\n",
        "file = open('combine.csv')\n",
        "type(file)\n",
        "csvreader = csv.reader(file)"
      ],
      "metadata": {
        "id": "6ckxiCZUKTzx"
      },
      "execution_count": 7,
      "outputs": []
    },
    {
      "cell_type": "code",
      "source": [
        "#check the header\n",
        "header = []\n",
        "header = next(csvreader)\n",
        "header"
      ],
      "metadata": {
        "id": "wd0NfTSSKyFw"
      },
      "execution_count": null,
      "outputs": []
    },
    {
      "cell_type": "code",
      "source": [
        "# data cleaning \n",
        "data = pd.DataFrame(csvreader)\n",
        "data.replace(' ', np.NaN)\n",
        "pct_null = data.isnull().sum() / len(data)\n",
        "missing_features = pct_null[pct_null > 0.80].index\n",
        "data.drop(missing_features, axis=1, inplace=True)"
      ],
      "metadata": {
        "id": "ko5LoPXxLLvU"
      },
      "execution_count": 11,
      "outputs": []
    },
    {
      "cell_type": "code",
      "source": [
        ""
      ],
      "metadata": {
        "colab": {
          "base_uri": "https://localhost:8080/"
        },
        "id": "S2fRky09A8PO",
        "outputId": "9fbd85d4-3a7a-410f-d975-424bef44e0a1"
      },
      "execution_count": 10,
      "outputs": [
        {
          "output_type": "execute_result",
          "data": {
            "text/plain": [
              "28594"
            ]
          },
          "metadata": {},
          "execution_count": 10
        }
      ]
    },
    {
      "cell_type": "code",
      "source": [
        "import pandas as pd\n",
        "import numpy as np\n",
        "df = pd.read_csv('combine.csv')\n",
        "df = df.fillna(0)\n",
        "post = df['Postal Code']\n",
        "sub = df['Subdivision Name']\n",
        "pr = df['Close Price']\n",
        "for i in range(len(sub)):\n",
        "    if(sub[i] == 0):\n",
        "        post[i] = post[i] + 'Unknown'\n",
        "    else:\n",
        "        post[i] = post[i] + sub[i].split()[0]\n",
        "\n",
        "df['Postal Code'] = post\n",
        "for i in range(len(pr)):\n",
        "    if(pr[i] == 'Close Price'):\n",
        "        df = df.drop([i])\n",
        "    elif(pr[i] == 0):\n",
        "        df = df.drop([i])\n",
        "\n",
        "\n",
        "prs = df['Close Price']\n",
        "final = []\n",
        "be = df['Bathrooms Total Interger']\n",
        "bt = df['Bedrooms Total']\n",
        "a = []\n",
        "b = []\n",
        "for item in be:\n",
        "    item = int(item)\n",
        "    a.append(item)\n",
        "for item in bt:\n",
        "    item = int(item)\n",
        "    b.append(item)\n",
        "df['Bathrooms Total Interger'] = b\n",
        "df['Bedrooms Total'] = a\n",
        "for item in prs:\n",
        "    item = int(item)\n",
        "    final.append(item)\n",
        "df['Close Price'] = final\n",
        "df = df.loc[df['Bathrooms Total Interger'] <= 4]\n",
        "df = df.loc[df['Bedrooms Total'] <= 4]\n",
        "df_a = df.groupby(['Postal Code','Bathrooms Total Interger', 'Bedrooms Total'])['Close Price'].agg(['count', 'mean'])\n",
        "df_a\n",
        "df_a.to_csv('price3.csv')"
      ],
      "metadata": {
        "colab": {
          "base_uri": "https://localhost:8080/"
        },
        "id": "iaiq6cHJjpjN",
        "outputId": "f21d9894-48b7-40d4-e790-1f5a3a81936d"
      },
      "execution_count": 13,
      "outputs": [
        {
          "output_type": "stream",
          "name": "stderr",
          "text": [
            "/usr/local/lib/python3.7/dist-packages/IPython/core/interactiveshell.py:2882: DtypeWarning: Columns (2,6,7,8,9,10,11,13,20,23,27,29,31,35,48,49,51,55,56,57,59,60,61,62,63,76,80,81,82,83,84,86,95,96,97,98,101,102,103,105,111,115,117,123,124,125,129,130,131,133,136,138,140,141,144,152,153,154,157,158,159,161,163,172,177,178,192,193,194,199,200,202,203,209,212,216,219,238,240,245,248,251) have mixed types.Specify dtype option on import or set low_memory=False.\n",
            "  exec(code_obj, self.user_global_ns, self.user_ns)\n"
          ]
        }
      ]
    }
  ]
}