{
  "nbformat": 4,
  "nbformat_minor": 0,
  "metadata": {
    "colab": {
      "name": "Rest_Data Analysis.ipynb",
      "provenance": [],
      "collapsed_sections": [],
      "include_colab_link": true
    },
    "kernelspec": {
      "name": "python3",
      "display_name": "Python 3"
    },
    "language_info": {
      "name": "python"
    }
  },
  "cells": [
    {
      "cell_type": "markdown",
      "metadata": {
        "id": "view-in-github",
        "colab_type": "text"
      },
      "source": [
        "<a href=\"https://colab.research.google.com/github/penny1xu/RESTS/blob/main/Rest_Data_Analysis.ipynb\" target=\"_parent\"><img src=\"https://colab.research.google.com/assets/colab-badge.svg\" alt=\"Open In Colab\"/></a>"
      ]
    },
    {
      "cell_type": "code",
      "execution_count": null,
      "metadata": {
        "id": "Wqm8yuuyJcnm"
      },
      "outputs": [],
      "source": [
        "!pip install censusgeocode\n",
        "!pip install rets\n",
        "import csv\n",
        "import pandas as pd\n",
        "import censusgeocode as cg\n",
        "import numpy as np\n",
        "import sys\n",
        "from rets import Session"
      ]
    },
    {
      "cell_type": "markdown",
      "source": [
        "# filter"
      ],
      "metadata": {
        "id": "zqXeCEv4UotM"
      }
    },
    {
      "cell_type": "code",
      "source": [
        "import datetime\n",
        "two_days_ago = datetime.date.today() - datetime.timedelta(days=2)\n",
        "#Parameters\n",
        "filter = {\n",
        "        \"MlsStatus\": \"SLD\",\n",
        "        \"ListingContractDate\": {\"$lte\": two_days_ago},\n",
        "        \"BedroomsTotal\":\"3\",\n",
        "        \"BathroomsFull\":\"2\"\n",
        "        }\n",
        "#One line\n",
        "#all = rets_client.search(resource='Property', resource_class='property', limit=10, dmql_query='(ListPrice=150000+),(BedroomsTotal=3),(BathroomsFull=2)',offset=10000) #ListPrice=150000+\n",
        "\n",
        "all = rets_client.search(resource='Property', resource_class='Property', search_filter=filter)\n",
        "#for result in all:\n",
        "#  print(result)\n",
        "df = pd.DataFrame(all)\n",
        "'''\n",
        "i.e. https://pypi.org/project/rets/\n",
        "       logical operators in above document\n",
        " filter = {\n",
        "        \"Status\": \"Active\",\n",
        "        \"Bedrooms\": {\n",
        "            \"$lte\": 4\n",
        "        },\n",
        "        \"Bathrooms\": {\n",
        "            \"$in\": [2, 3]\n",
        "        },\n",
        "        \"ListPrice\": {\n",
        "            \"$lte\": 150000\n",
        "        }\n",
        "    }\n",
        "'''"
      ],
      "metadata": {
        "id": "xv5J4WEjUnlZ",
        "colab": {
          "base_uri": "https://localhost:8080/",
          "height": 262
        },
        "outputId": "63dff535-54f4-4580-f15d-04df16123c9c"
      },
      "execution_count": null,
      "outputs": [
        {
          "output_type": "error",
          "ename": "NameError",
          "evalue": "ignored",
          "traceback": [
            "\u001b[0;31m---------------------------------------------------------------------------\u001b[0m",
            "\u001b[0;31mNameError\u001b[0m                                 Traceback (most recent call last)",
            "\u001b[0;32m<ipython-input-2-c98b9af18fb4>\u001b[0m in \u001b[0;36m<module>\u001b[0;34m()\u001b[0m\n\u001b[1;32m     11\u001b[0m \u001b[0;31m#all = rets_client.search(resource='Property', resource_class='property', limit=10, dmql_query='(ListPrice=150000+),(BedroomsTotal=3),(BathroomsFull=2)',offset=10000) #ListPrice=150000+\u001b[0m\u001b[0;34m\u001b[0m\u001b[0;34m\u001b[0m\u001b[0;34m\u001b[0m\u001b[0m\n\u001b[1;32m     12\u001b[0m \u001b[0;34m\u001b[0m\u001b[0m\n\u001b[0;32m---> 13\u001b[0;31m \u001b[0mall\u001b[0m \u001b[0;34m=\u001b[0m \u001b[0mrets_client\u001b[0m\u001b[0;34m.\u001b[0m\u001b[0msearch\u001b[0m\u001b[0;34m(\u001b[0m\u001b[0mresource\u001b[0m\u001b[0;34m=\u001b[0m\u001b[0;34m'Property'\u001b[0m\u001b[0;34m,\u001b[0m \u001b[0mresource_class\u001b[0m\u001b[0;34m=\u001b[0m\u001b[0;34m'Property'\u001b[0m\u001b[0;34m,\u001b[0m \u001b[0msearch_filter\u001b[0m\u001b[0;34m=\u001b[0m\u001b[0mfilter\u001b[0m\u001b[0;34m)\u001b[0m\u001b[0;34m\u001b[0m\u001b[0;34m\u001b[0m\u001b[0m\n\u001b[0m\u001b[1;32m     14\u001b[0m \u001b[0;31m#for result in all:\u001b[0m\u001b[0;34m\u001b[0m\u001b[0;34m\u001b[0m\u001b[0;34m\u001b[0m\u001b[0m\n\u001b[1;32m     15\u001b[0m \u001b[0;31m#  print(result)\u001b[0m\u001b[0;34m\u001b[0m\u001b[0;34m\u001b[0m\u001b[0;34m\u001b[0m\u001b[0m\n",
            "\u001b[0;31mNameError\u001b[0m: name 'rets_client' is not defined"
          ]
        }
      ]
    },
    {
      "cell_type": "code",
      "source": [
        "def add(lo_left,lo_right,la_left,la_right):\n",
        "    lo_left -= 0.008\n",
        "    lo_right += 0.008\n",
        "    la_left -= 0.008\n",
        "    la_right += 0.008\n",
        "    return"
      ],
      "metadata": {
        "id": "fy3b-XbWh5RP"
      },
      "execution_count": null,
      "outputs": []
    },
    {
      "cell_type": "code",
      "source": [
        "def judgeType(item):\n",
        "  if(item['PropertyType'] == 'Residential' and item['PropertySubType'] == 'Single Family Residence'):\n",
        "    return True"
      ],
      "metadata": {
        "id": "bq_PKEJih5Wc"
      },
      "execution_count": null,
      "outputs": []
    },
    {
      "cell_type": "code",
      "source": [
        "def lease_findifNull(research, lo_left,lo_right,la_left,la_right): \n",
        "  #经纬度查找\n",
        "  bedroom = int(bedroom)\n",
        "  filter = {\n",
        "        \"Longitude\": \"{}-{}\".format(lo_left, lo_right),\n",
        "        \"Latitude\": \"{}-{}\".format(la_left, la_right),\n",
        "        \"MlsStatus\" : \"SLD\",\n",
        "        \"CloseDate\" : \"2022-01-01-2022-05-31\"\n",
        "        }\n",
        "  result = research.search(resource='Property', resource_class='Property', search_filter=filter)\n",
        "  lis = []\n",
        "  count = 0\n",
        "  di ={}\n",
        "  df = pd.DataFrame()\n",
        "  for item in result:\n",
        "    if(judgeType(item)):\n",
        "            df = pd.concat([df, pd.DataFrame(item.values())], axis=1, ignore_index=True) #?\n",
        "            count += 1\n",
        "            di = item # 存表头\n",
        "  for key in di:\n",
        "    lis.append(key)\n",
        "  if(count >= 5): \n",
        "    df = df.T\n",
        "    df.columns = lis\n",
        "    return df\n",
        "  else:\n",
        "    lo_left, lo_right, la_left, la_right = add(lo_left,lo_right,la_left,la_right)\n",
        "    return lease_findifNull(research, lo_left,lo_right,la_left,la_right)"
      ],
      "metadata": {
        "id": "Nyl0_nT-QVt6"
      },
      "execution_count": null,
      "outputs": []
    },
    {
      "cell_type": "code",
      "source": [
        "def lease_findHouse(house_leftLa,house_rightLa,house_leftLo,house_rightLo,research,zip,column, sub): # 扩大房子:1. sqr_left, sqr_right\n",
        "  #sub，zip查找，未找到足够的自动转经纬度\n",
        "  filter = {\n",
        "        \"PostalCode\" : zip,\n",
        "        \"MlsStatus\" : \"SLD\",\n",
        "        \"CloseDate\" : \"2022-01-01-2022-05-31\" \n",
        "        }\n",
        "  result = research.search(resource='Property', resource_class='Property', search_filter=filter)\n",
        "  count = 0\n",
        "  df = pd.DataFrame()\n",
        "  for item in result: \n",
        "    if(judgeType(item)):\n",
        "      if(sub in item['SubdivisionName']):\n",
        "         df = pd.concat([df, pd.DataFrame(item.values())], axis=1, ignore_index=True) #?\n",
        "         count += 1       \n",
        "  if(count >= 5):  \n",
        "    df = df.T\n",
        "    df.columns = column # \n",
        "    return df\n",
        "  else:\n",
        "    return lease_findifNull(research, house_leftLo,house_rightLo, house_leftLa, house_rightLa)"
      ],
      "metadata": {
        "id": "hsg5WPcIQVxp"
      },
      "execution_count": null,
      "outputs": []
    },
    {
      "cell_type": "code",
      "source": [
        "def findfirst(result):\n",
        "  #判断是否有，不用管\n",
        "    count = 0\n",
        "    for item in result:\n",
        "        count += 1\n",
        "    if(count == 0):\n",
        "        return False\n",
        "    else:\n",
        "        return True    "
      ],
      "metadata": {
        "id": "0o9cDWq8QV2B"
      },
      "execution_count": null,
      "outputs": []
    },
    {
      "cell_type": "code",
      "source": [
        "def insertId(pulled_value, mls,rets_client): # pull the house_sqrt\n",
        "  #mls查找，按照先sub + zip，后geo\n",
        "  column = []\n",
        "  for key in pulled_value:\n",
        "    column.append(key)\n",
        "  print(\"\\nThis value exists in Website\")\n",
        "  zip = pulled_value.get('PostalCode')\n",
        "  latitude = pulled_value.get('Latitude')\n",
        "  longitude = pulled_value.get('Longitude')\n",
        "  if(zip != \"\" and latitude != \"\" and longitude != \"\"):\n",
        "      house_leftLa = float(pulled_value.get('Latitude'))\n",
        "      house_rightLa = float(pulled_value.get('Latitude')) \n",
        "      house_leftLo = float(pulled_value.get('Longitude'))\n",
        "      house_rightLo = float(pulled_value.get('Longitude'))\n",
        "      sub = str(pulled_value.get('SubdivisionName').split()[0])\n",
        "      result1 = lease_findHouse(house_leftLa, house_rightLa, house_leftLo, house_rightLo, rets_client,int(zip) ,column, sub)        \n",
        "      result1 = result1[['BathroomsFull','BathroomsHalf', 'BathroomsTotalDecimal', 'BathroomsTotalInteger','BedroomsTotal', 'BuildingAreaTotal', 'City', 'CloseDate', 'ClosePrice', 'CumulativeDaysOnMarket', \n",
        "   'DaysOnMarket', 'GarageSpaces', 'Latitude', 'ListingContractDate', 'ListingId', 'ListPrice', \n",
        "   'ListSource', 'LivingArea', 'Longitude', 'LotSizeAcres', 'MlsStatus', 'OwnerName', 'OwnerPhone', 'OwnerPhoneAlternative',\n",
        "   'ParcelNumber', 'ParcelNumber2', 'PoolYN', 'PostalCode', 'PreviousListPrice', 'PreviousStatus', 'PropertySubType',\n",
        "   'PropertyType', 'PublicRemarks', 'PurchaseContractDate', 'SchoolDistrict', 'StandardStatus', 'StatusChangeTimestamp',\n",
        "   'StreetDirPrefix', 'StreetDirSuffix', 'StreetName', 'StreetNumber', 'StreetNumberNumeric', 'StreetSuffix', 'SubdivisionName',\n",
        "   'USProperty_MUI', 'YearBuilt']]\n",
        "      price = []\n",
        "      for item in result1['ClosePrice']:\n",
        "        item = float(item)\n",
        "        price.append(item)\n",
        "      result1['ClosePrice'] = price\n",
        "      mean1 = result1['ClosePrice'].mean()\n",
        "      top1 = list(result1['ClosePrice'])\n",
        "      top1.sort(reverse = True)\n",
        "      top1_mean = sum(top1[0:3])/3\n",
        "      print('The mean for {} is {}'.format(mls, mean1))\n",
        "      print('The top 3 for {} are {}'.format(mls, top1[0:3]))\n",
        "      print('The average for top 3 {} is {}'.format(mls, top1_mean))\n",
        "      result1.to_csv('{}.csv'.format(mls))\n",
        "      return"
      ],
      "metadata": {
        "id": "pSCUSVlKRHJF"
      },
      "execution_count": null,
      "outputs": []
    },
    {
      "cell_type": "code",
      "source": [
        "def insertAdd(number, name, city, state, zip, address, rets_client): #pull house_sqrt\n",
        "  #add查找，按照先sub + zip，后geo\n",
        "  pulled_value = {}\n",
        "  result = rets_client.search(resource = 'Property', resource_class='Property', dmql_query='(StreetNumber = {}),(StreetName = {}),(PostalCode = {})'.format(number,name,zip))\n",
        "  for item in result:\n",
        "    pulled_value = item\n",
        "  if(len(pulled_value) != 0):\n",
        "    column = []\n",
        "    for key in pulled_value:\n",
        "      column.append(key)\n",
        "    print(\"\\nThis value exists in Website\")\n",
        "    zip = pulled_value.get('PostalCode')\n",
        "    latitude = pulled_value.get('Latitude')\n",
        "    longitude = pulled_value.get('Longitude')\n",
        "    bedroom = pulled_value.get('BedroomsTotal')\n",
        "    if(zip != \"\" and latitude != \"\" and longitude != \"\"):\n",
        "        house_leftLa = float(pulled_value.get('Latitude'))\n",
        "        house_rightLa = float(pulled_value.get('Latitude')) \n",
        "        house_leftLo = float(pulled_value.get('Longitude'))\n",
        "        house_rightLo = float(pulled_value.get('Longitude'))\n",
        "        zip = int(pulled_value.get('PostalCode'))\n",
        "        sub = str(pulled_value.get('SubdivisionName').split()[0])\n",
        "        result1 = lease_findHouse(house_leftLa, house_rightLa, house_leftLo, house_rightLo, rets_client,zip,column, sub)        \n",
        "        result1 = result1[['BathroomsFull','BathroomsHalf', 'BathroomsTotalDecimal', 'BathroomsTotalInteger','BedroomsTotal', 'BuildingAreaTotal', 'City', 'CloseDate', 'ClosePrice', 'CumulativeDaysOnMarket', \n",
        "   'DaysOnMarket', 'GarageSpaces', 'Latitude', 'ListingContractDate', 'ListingId', 'ListPrice', \n",
        "   'ListSource', 'LivingArea', 'Longitude', 'LotSizeAcres', 'MlsStatus', 'OwnerName', 'OwnerPhone', 'OwnerPhoneAlternative',\n",
        "   'ParcelNumber', 'ParcelNumber2', 'PoolYN', 'PostalCode', 'PreviousListPrice', 'PreviousStatus', 'PropertySubType',\n",
        "   'PropertyType', 'PublicRemarks', 'PurchaseContractDate', 'SchoolDistrict', 'StandardStatus', 'StatusChangeTimestamp',\n",
        "   'StreetDirPrefix', 'StreetDirSuffix', 'StreetName', 'StreetNumber', 'StreetNumberNumeric', 'StreetSuffix', 'SubdivisionName',\n",
        "   'USProperty_MUI', 'YearBuilt']]\n",
        "        price = []\n",
        "        for item in result1['ClosePrice']:\n",
        "          item = float(item)\n",
        "          price.append(item)\n",
        "        result1['ClosePrice'] = price\n",
        "        mean1 = result1['ClosePrice'].mean()\n",
        "        top1 = list(result1['ClosePrice'])\n",
        "        top1.sort(reverse = True)\n",
        "        top1_mean = sum(top1[0:3])/3\n",
        "        print('The mean for {}, {}, {} is {}'.format(number,name,zip, mean1))\n",
        "        print('The top 3 for {}, {}, {} are {}'.format(number,name,zip, top1[0:3]))\n",
        "        print('The average for top 3 {}, {}, {} is {}'.format(number,name,zip, top1_mean))\n",
        "        result1.to_csv('{} {} {}.csv'.format(number,name,zip))\n",
        "        return\n",
        "  else:\n",
        "    print('check coordinates')\n",
        "    findAdd(rets_client, address, city, state, zip)\n",
        "    return "
      ],
      "metadata": {
        "id": "xfgDPKuURdb8"
      },
      "execution_count": null,
      "outputs": []
    },
    {
      "cell_type": "code",
      "source": [
        "def findAdd(rets_client, address, city, state, zipcode):  \n",
        "  #geo代码，在mls和address中引用\n",
        "  result = cg.address(address, city = city, state= state,zipcode = zipcode)\n",
        "  lo_left = result[0]['coordinates']['x']\n",
        "  lo_right = result[0]['coordinates']['x']\n",
        "  la_left = result[0]['coordinates']['y']\n",
        "  la_right = result[0]['coordinates']['y']\n",
        "  result = lease_findifNull(rets_client, lo_left, lo_right, la_left, la_right)\n",
        "  result = result[['BathroomsFull','BathroomsHalf', 'BathroomsTotalDecimal', 'BathroomsTotalInteger','BedroomsTotal', 'BuildingAreaTotal', 'City', 'CloseDate', 'ClosePrice', 'CumulativeDaysOnMarket', \n",
        "   'DaysOnMarket', 'GarageSpaces', 'Latitude', 'ListingContractDate', 'ListingId', 'ListPrice', \n",
        "   'ListSource', 'LivingArea', 'Longitude', 'LotSizeAcres', 'MlsStatus', 'OwnerName', 'OwnerPhone', 'OwnerPhoneAlternative',\n",
        "   'ParcelNumber', 'ParcelNumber2', 'PoolYN', 'PostalCode', 'PreviousListPrice', 'PreviousStatus', 'PropertySubType',\n",
        "   'PropertyType', 'PublicRemarks', 'PurchaseContractDate', 'SchoolDistrict', 'StandardStatus', 'StatusChangeTimestamp',\n",
        "   'StreetDirPrefix', 'StreetDirSuffix', 'StreetName', 'StreetNumber', 'StreetNumberNumeric', 'StreetSuffix', 'SubdivisionName',\n",
        "   'USProperty_MUI', 'YearBuilt']]\n",
        "  price = []\n",
        "  for item in result['ClosePrice']:\n",
        "    item = float(item)\n",
        "    price.append(item)\n",
        "  result['ClosePrice'] = price\n",
        "  mean = result['ClosePrice'].mean()\n",
        "  top = list(result['ClosePrice'])\n",
        "  top.sort(reverse = True)\n",
        "  print('The mean for {}, {}, {} is {}'.format(address, state, zip, mean))\n",
        "  print('The top 3 for {}, {}, {} are {}'.format(address, state, zip, top[0:3]))\n",
        "  return result.to_csv('{},{},{}.csv'.format(address, state, zip))"
      ],
      "metadata": {
        "id": "14jG22mCSHId"
      },
      "execution_count": null,
      "outputs": []
    },
    {
      "cell_type": "code",
      "source": [
        "def judge(i):\n",
        "  #不用管，为了美观\n",
        "    if i % 10 == 1:\n",
        "        return 'st'\n",
        "    elif i % 10 == 2:\n",
        "        return 'nd'\n",
        "    elif i % 10 == 3:\n",
        "        return 'rd'\n",
        "    else:\n",
        "        return 'th'"
      ],
      "metadata": {
        "id": "4wREmS0gSfGS"
      },
      "execution_count": null,
      "outputs": []
    },
    {
      "cell_type": "code",
      "source": [
        "def main():\n",
        "  login_url = 'https://ntrdd.mlsmatrix.com/rets/Login.ashx' \n",
        "  username = '0671181_NID'\n",
        "  password = 'Rt$tg6jx'\n",
        "  rets_client = Session(login_url, username, password)\n",
        "  rets_client.login()\n",
        "  while True:\n",
        "        print('please insert values, csv_address or csv_mls: ')\n",
        "        choice = input()\n",
        "        if choice == 'csv_address':\n",
        "            while True:\n",
        "                print('select which csv you want to use')\n",
        "                csv = input()\n",
        "                try:\n",
        "                    data = pd.read_csv('{}.csv'.format(csv))        \n",
        "                    code = []\n",
        "                    name = []\n",
        "                    number = []\n",
        "                    street = []\n",
        "                    city = []\n",
        "                    state = []\n",
        "                    for item in data['地址']:\n",
        "                        a = item.split(',')[0]\n",
        "                        b = item.split(',')[2]\n",
        "                        c = item.split(',')[1]\n",
        "                        street.append(a)\n",
        "                        city.append(c)\n",
        "                        numbers = a.split()[0]\n",
        "                        names = a.split()[1:(len(a.split()) - 1)]\n",
        "                        codes = b.split()[1][0:5]\n",
        "                        states = b.split()[0]\n",
        "                        state.append(states)\n",
        "                        code.append(codes)\n",
        "                        name.append(names)\n",
        "                        number.append(numbers)\n",
        "                    finalN = []\n",
        "                    for item in name:\n",
        "                        string = \"\"\n",
        "                        for items in item:\n",
        "                            string += items\n",
        "                            string += ' '\n",
        "                        finalN.append(string[0:len(string) - 1])            \n",
        "                    for i in range(len(code)):\n",
        "                        insertAdd(number[i], finalN[i], city[i], state[i], code[i], street[i], rets_client)\n",
        "                        \n",
        "                    return \"finished\"\n",
        "                except FileNotFoundError:\n",
        "                    print(\"Oops! There is no file!  Try again...\")\n",
        "\n",
        "        elif(choice =='csv_mls'):\n",
        "          while True:\n",
        "            print(\"Which csv do you want to use? (make sure you have listingId)\")\n",
        "            csv = input()\n",
        "            try:\n",
        "              lis_mls = []\n",
        "              data = pd.read_csv('{}.csv'.format(csv)) \n",
        "              for item in data['ListingId']:\n",
        "                lis_mls.append(int(item))\n",
        "              for i in range(len(lis_mls)):\n",
        "                pulled_value = {}\n",
        "                result = rets_client.search(resource='Property', resource_class='Property', dmql_query='(ListingId = {})'.format(lis_mls[i]))\n",
        "                for items in result:\n",
        "                  pulled_value = items\n",
        "                if(len(pulled_value) != 0):\n",
        "                  insertId(pulled_value, lis_mls[i], rets_client) \n",
        "                  if(i == len(lis_mls) - 1):\n",
        "                    return #end here\n",
        "\n",
        "            except FileNotFoundError:\n",
        "              print(\"Oops! There is no file!  Try again...\")\n",
        "\n",
        "        elif(choice == 'value'):\n",
        "            while True:\n",
        "                print('How many mls you want to check?')\n",
        "                number = input()\n",
        "                try:\n",
        "                    Id_list = []\n",
        "                    for i in range(int(number)):\n",
        "                        print('Enter the {}{} #MLS'.format(i+1, judge(i+1)))\n",
        "                        mls = input()\n",
        "                        Id_list.append(mls)\n",
        "           #14730621\n",
        "                    for i in range(len(Id_list)):\n",
        "                        pulled_value = {}\n",
        "                        result = rets_client.search(resource='Property', resource_class='Property', dmql_query='(ListingId = {})'.format(Id_list[i]))\n",
        "                        for items in result:\n",
        "                            pulled_value = items\n",
        "                        if(len(pulled_value) != 0):\n",
        "                            insertId(pulled_value, Id_list[i], rets_client) \n",
        "                            if(i == int(number) - 1):\n",
        "                                return\n",
        "                        else:\n",
        "\n",
        "                            print('Id {} not exists, please insert specific value'.format(Id_list[i]))\n",
        "                            print(\"If you don't know the address, please insert skip\")\n",
        "                            deci = input()\n",
        "                            if(deci == 'skip'):\n",
        "                                if(i == int(number) - 1):\n",
        "                                    return\n",
        "                                continue\n",
        "                                \n",
        "                            else:\n",
        "                                print('Enter street number')\n",
        "                                number = input()\n",
        "        #'8615 Barclay Street'\n",
        "                                print('Enter street name')\n",
        "                                name = input()\n",
        "                                print('Enter city')\n",
        "                                city = input()\n",
        "        #'Dallas'\n",
        "                                print('Enter state')\n",
        "                                state = input()\n",
        "        #'Texas'\n",
        "                                print('Enter zipcode')\n",
        "                                zip = input()\n",
        "        #'75227'\n",
        "                                string = \"\"\n",
        "                                for i in range(len(name.split()) - 1):\n",
        "                                  string += name.split()[i] + \" \"\n",
        "                                string = string[0:len(string) - 1]\n",
        "                                address = number + ' ' + name\n",
        "                                try:\n",
        "                                  insertAdd(number, string, city, state, zip, address, rets_client)\n",
        "                                  if(i == int(number) - 1):\n",
        "                                      return\n",
        "                                except IndexError:\n",
        "                                    print(\"invalid input, please next value!\")   \n",
        "\n",
        "                          \n",
        "                except ValueError:\n",
        "                    print(\"invalid input, try again!\")\n",
        "        else:\n",
        "            print(\"invalid input, try again!\")"
      ],
      "metadata": {
        "id": "3CS-eCtuShNR"
      },
      "execution_count": null,
      "outputs": []
    },
    {
      "cell_type": "code",
      "source": [
        "if __name__ == \"__main__\":\n",
        "    print(main()) \n",
        "    #5005 Bama Drive, Arlington, Texas 76017"
      ],
      "metadata": {
        "id": "2nyVRxhd-mxz",
        "colab": {
          "base_uri": "https://localhost:8080/"
        },
        "outputId": "732beb94-7ff9-4410-fbb2-18e5758aa478"
      },
      "execution_count": null,
      "outputs": [
        {
          "output_type": "stream",
          "name": "stdout",
          "text": [
            "please insert values, csv_address or csv_mls: \n",
            "value\n",
            "How many mls you want to check?\n",
            "1\n",
            "Enter the 1st #MLS\n",
            "14730621\n",
            "\n",
            "This value exists in Website\n",
            "The mean for 14730621 is 524800.0\n",
            "The top 3 for 14730621 are [637000.0, 540000.0, 500000.0]\n",
            "The average for top 3 14730621 is 559000.0\n",
            "None\n"
          ]
        }
      ]
    }
  ]
}