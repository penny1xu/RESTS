{
  "nbformat": 4,
  "nbformat_minor": 0,
  "metadata": {
    "colab": {
      "name": "Rest_Data Analysis.ipynb",
      "provenance": [],
      "authorship_tag": "ABX9TyPqayClvROWRP6TejKPpqJs",
      "include_colab_link": true
    },
    "kernelspec": {
      "name": "python3",
      "display_name": "Python 3"
    },
    "language_info": {
      "name": "python"
    }
  },
  "cells": [
    {
      "cell_type": "markdown",
      "metadata": {
        "id": "view-in-github",
        "colab_type": "text"
      },
      "source": [
        "<a href=\"https://colab.research.google.com/github/penny1xu/RESTS/blob/main/Rest_Data_Analysis.ipynb\" target=\"_parent\"><img src=\"https://colab.research.google.com/assets/colab-badge.svg\" alt=\"Open In Colab\"/></a>"
      ]
    },
    {
      "cell_type": "code",
      "execution_count": 1,
      "metadata": {
        "id": "Wqm8yuuyJcnm"
      },
      "outputs": [],
      "source": [
        "import csv"
      ]
    },
    {
      "cell_type": "code",
      "source": [
        "file = open('combine.csv')\n",
        "type(file)\n",
        "csvreader = csv.reader(file)"
      ],
      "metadata": {
        "id": "6ckxiCZUKTzx"
      },
      "execution_count": 4,
      "outputs": []
    },
    {
      "cell_type": "code",
      "source": [
        "header = []\n",
        "header = next(csvreader)\n",
        "header"
      ],
      "metadata": {
        "id": "wd0NfTSSKyFw"
      },
      "execution_count": null,
      "outputs": []
    }
  ]
}