{
  "nbformat": 4,
  "nbformat_minor": 0,
  "metadata": {
    "colab": {
      "name": "Rest_Data Analysis.ipynb",
      "provenance": [],
      "authorship_tag": "ABX9TyPblGxwE2UzNASnp5yWDhnY",
      "include_colab_link": true
    },
    "kernelspec": {
      "name": "python3",
      "display_name": "Python 3"
    },
    "language_info": {
      "name": "python"
    }
  },
  "cells": [
    {
      "cell_type": "markdown",
      "metadata": {
        "id": "view-in-github",
        "colab_type": "text"
      },
      "source": [
        "<a href=\"https://colab.research.google.com/github/penny1xu/RESTS/blob/main/Rest_Data_Analysis.ipynb\" target=\"_parent\"><img src=\"https://colab.research.google.com/assets/colab-badge.svg\" alt=\"Open In Colab\"/></a>"
      ]
    },
    {
      "cell_type": "code",
      "execution_count": 24,
      "metadata": {
        "id": "Wqm8yuuyJcnm"
      },
      "outputs": [],
      "source": [
        "import csv\n",
        "import pandas as pd\n",
        "import numpy  as np"
      ]
    },
    {
      "cell_type": "code",
      "source": [
        "#read file\n",
        "file = open('combine.csv')\n",
        "type(file)\n",
        "csvreader = csv.reader(file)"
      ],
      "metadata": {
        "id": "6ckxiCZUKTzx"
      },
      "execution_count": 5,
      "outputs": []
    },
    {
      "cell_type": "code",
      "source": [
        "#check the header\n",
        "header = []\n",
        "header = next(csvreader)\n",
        "header"
      ],
      "metadata": {
        "id": "wd0NfTSSKyFw"
      },
      "execution_count": null,
      "outputs": []
    },
    {
      "cell_type": "code",
      "source": [
        "# data cleaning \n",
        "data = pd.DataFrame(csvreader)\n",
        "data.replace(' ', np.NaN)\n",
        "pct_null = data.isnull().sum() / len(data)\n",
        "missing_features = pct_null[pct_null > 0.80].index\n",
        "data.drop(missing_features, axis=1, inplace=True)"
      ],
      "metadata": {
        "id": "ko5LoPXxLLvU"
      },
      "execution_count": 28,
      "outputs": []
    },
    {
      "cell_type": "code",
      "source": [
        "import pandas as pd\n",
        "import numpy as np\n",
        "df = pd.read_csv('combine.csv')\n",
        "post = df['Postal Code']\n",
        "sub = df['Subdivision Name']\n",
        "#for i in range(len(sub)):\n",
        "    #post[i] = post[i] + ' ' + sub[i].split()[0]\n",
        "    \n",
        "#post\n",
        "\n",
        "df.fillna(0)\n",
        "pr = df['Close Price']\n",
        "\n",
        "for i in range(len(pr)):\n",
        "    if(pr[i] == 'Close Price'):\n",
        "        print(i)\n",
        "        df = df.drop([i])\n",
        "\n",
        "prs = df['Close Price']\n",
        "final = []\n",
        "for item in prs:\n",
        "    item = int(item)\n",
        "    final.append(item)\n",
        "df['Close Price'] = final\n",
        "df_a = df.groupby(['Bathrooms Total Interger', 'Bedrooms Total'])['Close Price'].mean()\n",
        "df_a"
      ],
      "metadata": {
        "colab": {
          "base_uri": "https://localhost:8080/"
        },
        "id": "iaiq6cHJjpjN",
        "outputId": "b7e7cefe-7317-491a-a19c-54a34558e9a6"
      },
      "execution_count": 4,
      "outputs": [
        {
          "output_type": "stream",
          "name": "stderr",
          "text": [
            "/usr/local/lib/python3.7/dist-packages/IPython/core/interactiveshell.py:2882: DtypeWarning: Columns (2,6,7,8,9,10,11,13,20,23,27,29,31,35,48,49,51,55,56,57,59,60,61,62,63,76,80,81,82,83,84,86,95,96,97,98,101,102,103,105,111,115,117,123,124,125,129,130,131,133,136,138,140,141,144,152,153,154,157,158,159,161,163,172,177,178,192,193,194,199,200,202,203,209,212,216,219,238,240,245,248,251) have mixed types.Specify dtype option on import or set low_memory=False.\n",
            "  exec(code_obj, self.user_global_ns, self.user_ns)\n"
          ]
        },
        {
          "output_type": "stream",
          "name": "stdout",
          "text": [
            "3789\n",
            "6776\n",
            "9525\n",
            "13521\n",
            "16851\n",
            "19796\n",
            "24415\n"
          ]
        },
        {
          "output_type": "execute_result",
          "data": {
            "text/plain": [
              "Bathrooms Total Interger  Bedrooms Total\n",
              "0.0                       0.0               233110.000000\n",
              "                          3.0               225000.000000\n",
              "                          4.0                 2350.000000\n",
              "1.0                       0.0                 1198.000000\n",
              "                          1.0                67279.428571\n",
              "                                                ...      \n",
              "7                         4                   7225.000000\n",
              "                          5                 400000.000000\n",
              "                          6                  20000.000000\n",
              "8                         5                   8500.000000\n",
              "                          8                   3500.000000\n",
              "Name: Close Price, Length: 83, dtype: float64"
            ]
          },
          "metadata": {},
          "execution_count": 4
        }
      ]
    }
  ]
}