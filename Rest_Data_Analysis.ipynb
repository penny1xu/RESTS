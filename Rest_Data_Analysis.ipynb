{
  "nbformat": 4,
  "nbformat_minor": 0,
  "metadata": {
    "colab": {
      "name": "Rest_Data Analysis.ipynb",
      "provenance": [],
      "authorship_tag": "ABX9TyPwTU1es9/iP81ZTm2nLrA4",
      "include_colab_link": true
    },
    "kernelspec": {
      "name": "python3",
      "display_name": "Python 3"
    },
    "language_info": {
      "name": "python"
    }
  },
  "cells": [
    {
      "cell_type": "markdown",
      "metadata": {
        "id": "view-in-github",
        "colab_type": "text"
      },
      "source": [
        "<a href=\"https://colab.research.google.com/github/penny1xu/RESTS/blob/main/Rest_Data_Analysis.ipynb\" target=\"_parent\"><img src=\"https://colab.research.google.com/assets/colab-badge.svg\" alt=\"Open In Colab\"/></a>"
      ]
    },
    {
      "cell_type": "code",
      "execution_count": 24,
      "metadata": {
        "id": "Wqm8yuuyJcnm"
      },
      "outputs": [],
      "source": [
        "import csv\n",
        "import pandas as pd\n",
        "import numpy  as np"
      ]
    },
    {
      "cell_type": "code",
      "source": [
        "#read file\n",
        "file = open('combine.csv')\n",
        "type(file)\n",
        "csvreader = csv.reader(file)"
      ],
      "metadata": {
        "id": "6ckxiCZUKTzx"
      },
      "execution_count": 5,
      "outputs": []
    },
    {
      "cell_type": "code",
      "source": [
        "#check the header\n",
        "header = []\n",
        "header = next(csvreader)\n",
        "header"
      ],
      "metadata": {
        "id": "wd0NfTSSKyFw"
      },
      "execution_count": null,
      "outputs": []
    },
    {
      "cell_type": "code",
      "source": [
        "# data cleaning \n",
        "data = pd.DataFrame(csvreader)\n",
        "data.replace(' ', np.NaN)\n",
        "pct_null = data.isnull().sum() / len(data)\n",
        "missing_features = pct_null[pct_null > 0.80].index\n",
        "data.drop(missing_features, axis=1, inplace=True)"
      ],
      "metadata": {
        "id": "ko5LoPXxLLvU"
      },
      "execution_count": 28,
      "outputs": []
    },
    {
      "cell_type": "code",
      "source": [
        "print(data)"
      ],
      "metadata": {
        "colab": {
          "base_uri": "https://localhost:8080/"
        },
        "id": "iaiq6cHJjpjN",
        "outputId": "1f562582-a442-4f0c-d60a-7c583bbe4d30"
      },
      "execution_count": 29,
      "outputs": [
        {
          "output_type": "stream",
          "name": "stdout",
          "text": [
            "Empty DataFrame\n",
            "Columns: []\n",
            "Index: []\n"
          ]
        }
      ]
    }
  ]
}