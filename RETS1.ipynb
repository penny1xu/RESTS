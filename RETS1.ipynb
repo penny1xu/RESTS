{
  "nbformat": 4,
  "nbformat_minor": 0,
  "metadata": {
    "colab": {
      "name": "RETS1.ipynb",
      "provenance": [],
      "collapsed_sections": [],
      "toc_visible": true,
      "authorship_tag": "ABX9TyN0Vi0rcVVsRhNsKojm97Hx",
      "include_colab_link": true
    },
    "kernelspec": {
      "name": "python3",
      "display_name": "Python 3"
    },
    "language_info": {
      "name": "python"
    }
  },
  "cells": [
    {
      "cell_type": "markdown",
      "metadata": {
        "id": "view-in-github",
        "colab_type": "text"
      },
      "source": [
        "<a href=\"https://colab.research.google.com/github/penny1xu/RESTS/blob/main/RETS1.ipynb\" target=\"_parent\"><img src=\"https://colab.research.google.com/assets/colab-badge.svg\" alt=\"Open In Colab\"/></a>"
      ]
    },
    {
      "cell_type": "code",
      "execution_count": null,
      "metadata": {
        "id": "kwADGTO9aB0U"
      },
      "outputs": [],
      "source": [
        "!pip install rets\n",
        "from google.colab import files\n",
        "import pandas as pd\n",
        "import csv\n",
        "import copy\n",
        "from itertools import repeat, product\n",
        "import torch\n"
      ]
    },
    {
      "cell_type": "code",
      "source": [
        "from rets import Session\n",
        "login_url = 'https://ntrdd.mlsmatrix.com/rets/Login.ashx' \n",
        "username = '0671181_NID'\n",
        "password = 'Rt$tg6jx'\n",
        "rets_client = Session(login_url, username, password)\n",
        "rets_client.login()\n",
        "system_data = rets_client.get_system_metadata()\n",
        "#system_data\n",
        "##{'version': '1.11.76004', 'system_description': 'MLS-RETS', 'system_id': 'MLS-RETS'}\n",
        "#resources = rets_client.get_resource_metadata(resource='Agent')\n",
        "\n"
      ],
      "metadata": {
        "colab": {
          "base_uri": "https://localhost:8080/",
          "height": 214
        },
        "id": "N4p0ZniqaIRZ",
        "outputId": "41937fd4-43ef-42fa-8929-fb24dc74918b"
      },
      "execution_count": null,
      "outputs": [
        {
          "output_type": "stream",
          "name": "stderr",
          "text": [
            "/usr/local/lib/python3.7/dist-packages/IPython/core/interactiveshell.py:2882: DtypeWarning: Columns (2,6,7,8,9,10,11,13,20,23,27,29,31,35,48,49,51,55,56,57,59,60,61,62,63,76,80,81,82,83,84,86,95,96,97,98,101,102,103,105,111,115,117,123,124,125,129,130,131,133,136,138,140,141,144,152,153,154,157,158,159,161,163,172,177,178,192,193,194,199,200,202,203,209,212,216,219,238,240,245,248,251) have mixed types.Specify dtype option on import or set low_memory=False.\n",
            "  exec(code_obj, self.user_global_ns, self.user_ns)\n"
          ]
        },
        {
          "output_type": "execute_result",
          "data": {
            "text/plain": [
              "Empty DataFrame\n",
              "Columns: [Appliances, Architectural Style, Association Fee, Association Fee Frequency, Association Fee Includes, Association Type, Attached Garage YN, Bathrooms Full, Bathrooms Half, Bathrooms Total Decimal, Bathrooms Total Interger, Bedrooms Total, Building Area Source, Building Area Total, Building Use, Buyer Agency Compensation, Buyer Agency Compensation Type, Buyer Agent Direct Phone, Buyer Agent Email, Buyer Agent Full Name, Buyer Agent Key Numeric, Buyer Agent Mls Id, Buyer Financing, Buyer Office Key Numeric, Buyer Office Mls Id, Buyer Office Name, Buyer Office Phone, Carport Spaces, Ceiling Height, City, Close Date, Close Price, Co List Agent Direct Phone, Co List Agent Email, Co List Agent Full Name, Co List Agent Key Numeric, Co List Agent Mls Id, Commercial Features, Community Features, Compensation Paid, Complex Name, Consentfor Visitorsto Record, Construction Materials, Construction Materials Walls, Contingency Info, Cooling, Country, County Or Parish, Covered Spaces, Cumulative Days On Market, Current Use, Days On Market, Development Status, Directions, Doc Box Modification Timestamp, Doc Box Num Mls Documents, Doc Box Num Private Documents, Doc Box Num Public Documents, DOCBOX GUID, Dock Permitted YN, Document Manager MLS Count, Document Manager Private Count, Document Manager Public Count, Document Manager Total Count, Documents Available, Easements, Elementary School, Elementary School Name, Energy Saving Features, Exclusions, Expiration Date Option, Exterior Features, Farm Ranch Features, Fencing, FHA VA Approved Complex Number, Fireplace Features, Fireplaces Total, Flooring, Foundation Details, Freight Doors, Garage Length, Garage Spaces, Garage Width, Garage YN, Geocode Confidence, Green Energy Efficient, Green Verification Count, Green Water Conservation, Heating, High School, High School Name, HOA Management Company, HOA Management Company Phone, Interior Features, Intermediate School Name, Internet Address Display YN, Internet Automated Valuation Dis, Internet Consumer Comment YN, Internet Entire Listing Display , Junior High School Name, ...]\n",
              "Index: []\n",
              "\n",
              "[0 rows x 254 columns]"
            ],
            "text/html": [
              "\n",
              "  <div id=\"df-20e6d20f-c70f-41f8-b766-978d3f9d83ed\">\n",
              "    <div class=\"colab-df-container\">\n",
              "      <div>\n",
              "<style scoped>\n",
              "    .dataframe tbody tr th:only-of-type {\n",
              "        vertical-align: middle;\n",
              "    }\n",
              "\n",
              "    .dataframe tbody tr th {\n",
              "        vertical-align: top;\n",
              "    }\n",
              "\n",
              "    .dataframe thead th {\n",
              "        text-align: right;\n",
              "    }\n",
              "</style>\n",
              "<table border=\"1\" class=\"dataframe\">\n",
              "  <thead>\n",
              "    <tr style=\"text-align: right;\">\n",
              "      <th></th>\n",
              "      <th>Appliances</th>\n",
              "      <th>Architectural Style</th>\n",
              "      <th>Association Fee</th>\n",
              "      <th>Association Fee Frequency</th>\n",
              "      <th>Association Fee Includes</th>\n",
              "      <th>Association Type</th>\n",
              "      <th>Attached Garage YN</th>\n",
              "      <th>Bathrooms Full</th>\n",
              "      <th>Bathrooms Half</th>\n",
              "      <th>Bathrooms Total Decimal</th>\n",
              "      <th>...</th>\n",
              "      <th>Virtual Tour URL Unbranded</th>\n",
              "      <th>Walk Score</th>\n",
              "      <th>Waterbody Name</th>\n",
              "      <th>Waterfront Features</th>\n",
              "      <th>Waterfront YN</th>\n",
              "      <th>Will Subdivide</th>\n",
              "      <th>Window Features</th>\n",
              "      <th>Year Built</th>\n",
              "      <th>Year Built Details</th>\n",
              "      <th>Zoning Description</th>\n",
              "    </tr>\n",
              "  </thead>\n",
              "  <tbody>\n",
              "  </tbody>\n",
              "</table>\n",
              "<p>0 rows × 254 columns</p>\n",
              "</div>\n",
              "      <button class=\"colab-df-convert\" onclick=\"convertToInteractive('df-20e6d20f-c70f-41f8-b766-978d3f9d83ed')\"\n",
              "              title=\"Convert this dataframe to an interactive table.\"\n",
              "              style=\"display:none;\">\n",
              "        \n",
              "  <svg xmlns=\"http://www.w3.org/2000/svg\" height=\"24px\"viewBox=\"0 0 24 24\"\n",
              "       width=\"24px\">\n",
              "    <path d=\"M0 0h24v24H0V0z\" fill=\"none\"/>\n",
              "    <path d=\"M18.56 5.44l.94 2.06.94-2.06 2.06-.94-2.06-.94-.94-2.06-.94 2.06-2.06.94zm-11 1L8.5 8.5l.94-2.06 2.06-.94-2.06-.94L8.5 2.5l-.94 2.06-2.06.94zm10 10l.94 2.06.94-2.06 2.06-.94-2.06-.94-.94-2.06-.94 2.06-2.06.94z\"/><path d=\"M17.41 7.96l-1.37-1.37c-.4-.4-.92-.59-1.43-.59-.52 0-1.04.2-1.43.59L10.3 9.45l-7.72 7.72c-.78.78-.78 2.05 0 2.83L4 21.41c.39.39.9.59 1.41.59.51 0 1.02-.2 1.41-.59l7.78-7.78 2.81-2.81c.8-.78.8-2.07 0-2.86zM5.41 20L4 18.59l7.72-7.72 1.47 1.35L5.41 20z\"/>\n",
              "  </svg>\n",
              "      </button>\n",
              "      \n",
              "  <style>\n",
              "    .colab-df-container {\n",
              "      display:flex;\n",
              "      flex-wrap:wrap;\n",
              "      gap: 12px;\n",
              "    }\n",
              "\n",
              "    .colab-df-convert {\n",
              "      background-color: #E8F0FE;\n",
              "      border: none;\n",
              "      border-radius: 50%;\n",
              "      cursor: pointer;\n",
              "      display: none;\n",
              "      fill: #1967D2;\n",
              "      height: 32px;\n",
              "      padding: 0 0 0 0;\n",
              "      width: 32px;\n",
              "    }\n",
              "\n",
              "    .colab-df-convert:hover {\n",
              "      background-color: #E2EBFA;\n",
              "      box-shadow: 0px 1px 2px rgba(60, 64, 67, 0.3), 0px 1px 3px 1px rgba(60, 64, 67, 0.15);\n",
              "      fill: #174EA6;\n",
              "    }\n",
              "\n",
              "    [theme=dark] .colab-df-convert {\n",
              "      background-color: #3B4455;\n",
              "      fill: #D2E3FC;\n",
              "    }\n",
              "\n",
              "    [theme=dark] .colab-df-convert:hover {\n",
              "      background-color: #434B5C;\n",
              "      box-shadow: 0px 1px 3px 1px rgba(0, 0, 0, 0.15);\n",
              "      filter: drop-shadow(0px 1px 2px rgba(0, 0, 0, 0.3));\n",
              "      fill: #FFFFFF;\n",
              "    }\n",
              "  </style>\n",
              "\n",
              "      <script>\n",
              "        const buttonEl =\n",
              "          document.querySelector('#df-20e6d20f-c70f-41f8-b766-978d3f9d83ed button.colab-df-convert');\n",
              "        buttonEl.style.display =\n",
              "          google.colab.kernel.accessAllowed ? 'block' : 'none';\n",
              "\n",
              "        async function convertToInteractive(key) {\n",
              "          const element = document.querySelector('#df-20e6d20f-c70f-41f8-b766-978d3f9d83ed');\n",
              "          const dataTable =\n",
              "            await google.colab.kernel.invokeFunction('convertToInteractive',\n",
              "                                                     [key], {});\n",
              "          if (!dataTable) return;\n",
              "\n",
              "          const docLinkHtml = 'Like what you see? Visit the ' +\n",
              "            '<a target=\"_blank\" href=https://colab.research.google.com/notebooks/data_table.ipynb>data table notebook</a>'\n",
              "            + ' to learn more about interactive tables.';\n",
              "          element.innerHTML = '';\n",
              "          dataTable['output_type'] = 'display_data';\n",
              "          await google.colab.output.renderOutput(dataTable, element);\n",
              "          const docLink = document.createElement('div');\n",
              "          docLink.innerHTML = docLinkHtml;\n",
              "          element.appendChild(docLink);\n",
              "        }\n",
              "      </script>\n",
              "    </div>\n",
              "  </div>\n",
              "  "
            ]
          },
          "metadata": {},
          "execution_count": 10
        }
      ]
    },
    {
      "cell_type": "code",
      "source": [
        "search_results = rets_client.search(resource='Property', resource_class='Property', limit=10, dmql_query='(ListPrice=150000+)')\n",
        "for result in search_results:\n",
        "  print(result)"
      ],
      "metadata": {
        "id": "toHLPI10rMqz"
      },
      "execution_count": null,
      "outputs": []
    },
    {
      "cell_type": "code",
      "source": [
        "filter = {\n",
        "        \"Status\": \"Active\",\n",
        "        \"Bedrooms\": {\n",
        "            \"$gte\": 4\n",
        "        },\n",
        "        \"Bathrooms\": {\n",
        "            \"$in\": [2, 3]\n",
        "        },\n",
        "        \"ListPrice\": {\n",
        "            \"$lte\": 150000\n",
        "        }\n",
        "    }\n",
        "search_results = rets_client.search('Property', 'Property', search_filter=filter)\n",
        "for result in search_results:\n",
        "  print(result)"
      ],
      "metadata": {
        "id": "Z9wFyDZSrRow"
      },
      "execution_count": null,
      "outputs": []
    }
  ]
}