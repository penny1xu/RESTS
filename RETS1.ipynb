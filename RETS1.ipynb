{
  "nbformat": 4,
  "nbformat_minor": 0,
  "metadata": {
    "colab": {
      "name": "RETS1.ipynb",
      "provenance": [],
      "collapsed_sections": [],
      "authorship_tag": "ABX9TyMKXDptXJP87PCNdUXq5KC1",
      "include_colab_link": true
    },
    "kernelspec": {
      "name": "python3",
      "display_name": "Python 3"
    },
    "language_info": {
      "name": "python"
    }
  },
  "cells": [
    {
      "cell_type": "markdown",
      "metadata": {
        "id": "view-in-github",
        "colab_type": "text"
      },
      "source": [
        "<a href=\"https://colab.research.google.com/github/penny1xu/RESTS/blob/main/RETS1.ipynb\" target=\"_parent\"><img src=\"https://colab.research.google.com/assets/colab-badge.svg\" alt=\"Open In Colab\"/></a>"
      ]
    },
    {
      "cell_type": "code",
      "execution_count": 30,
      "metadata": {
        "id": "kwADGTO9aB0U",
        "colab": {
          "base_uri": "https://localhost:8080/"
        },
        "outputId": "33b50bdc-a7fd-4faa-d572-411bcbc66583"
      },
      "outputs": [
        {
          "output_type": "stream",
          "name": "stdout",
          "text": [
            "Requirement already satisfied: rets in /usr/local/lib/python3.7/dist-packages (1.0.0)\n",
            "Requirement already satisfied: six>=1.10 in /usr/local/lib/python3.7/dist-packages (from rets) (1.15.0)\n",
            "Requirement already satisfied: xmltodict>=0.11.0 in /usr/local/lib/python3.7/dist-packages (from rets) (0.13.0)\n",
            "Requirement already satisfied: requests>=2.18.4 in /usr/local/lib/python3.7/dist-packages (from rets) (2.23.0)\n",
            "Requirement already satisfied: future>=0.16 in /usr/local/lib/python3.7/dist-packages (from rets) (0.16.0)\n",
            "Requirement already satisfied: idna<3,>=2.5 in /usr/local/lib/python3.7/dist-packages (from requests>=2.18.4->rets) (2.10)\n",
            "Requirement already satisfied: chardet<4,>=3.0.2 in /usr/local/lib/python3.7/dist-packages (from requests>=2.18.4->rets) (3.0.4)\n",
            "Requirement already satisfied: certifi>=2017.4.17 in /usr/local/lib/python3.7/dist-packages (from requests>=2.18.4->rets) (2021.10.8)\n",
            "Requirement already satisfied: urllib3!=1.25.0,!=1.25.1,<1.26,>=1.21.1 in /usr/local/lib/python3.7/dist-packages (from requests>=2.18.4->rets) (1.24.3)\n"
          ]
        }
      ],
      "source": [
        "!pip install rets\n",
        "from google.colab import files\n",
        "import pandas as pd\n",
        "import csv\n",
        "import copy\n",
        "from itertools import repeat, product\n",
        "import torch\n"
      ]
    },
    {
      "cell_type": "code",
      "source": [
        "from rets import Session\n",
        "login_url = 'https://ntrdd.mlsmatrix.com/rets/Login.ashx' \n",
        "username = '0671181_NID'\n",
        "password = 'Rt$tg6jx'\n",
        "rets_client = Session(login_url, username, password)\n",
        "rets_client.login()\n",
        "system_data = rets_client.get_system_metadata()\n",
        "#system_data\n",
        "##{'version': '1.11.76004', 'system_description': 'MLS-RETS', 'system_id': 'MLS-RETS'}\n",
        "#resources = rets_client.get_resource_metadata(resource='Agent')\n",
        "\n"
      ],
      "metadata": {
        "id": "N4p0ZniqaIRZ"
      },
      "execution_count": 46,
      "outputs": []
    },
    {
      "cell_type": "code",
      "source": [
        "search_results = rets_client.search(resource='Property', resource_class='Property', limit=20000, dmql_query='(BedroomsTotal = 4-)')\n"
      ],
      "metadata": {
        "id": "toHLPI10rMqz"
      },
      "execution_count": 63,
      "outputs": []
    },
    {
      "cell_type": "code",
      "source": [
        "key_list = list(result.keys())\n",
        "print(key_list)"
      ],
      "metadata": {
        "colab": {
          "base_uri": "https://localhost:8080/"
        },
        "id": "x7A9YY2hb6tV",
        "outputId": "bde2234c-1871-4bc1-dfe9-987b38efb488"
      },
      "execution_count": 59,
      "outputs": [
        {
          "output_type": "stream",
          "name": "stdout",
          "text": [
            "['ListingKeyNumeric', 'BathroomsFull', 'BathroomsHalf', 'BathroomsTotalInteger', 'BedroomsTotal', 'BuildingAreaSource', 'BuildingAreaTotal', 'BuyerAgencyCompensation', 'BuyerAgencyCompensationType', 'BuyerAgentDirectPhone', 'BuyerAgentEmail', 'BuyerAgentFullName', 'BuyerAgentKeyNumeric', 'BuyerAgentMlsId', 'BuyerOfficeKeyNumeric', 'BuyerOfficeMlsId', 'BuyerOfficeName', 'BuyerOfficePhone', 'CancellationDate', 'City', 'CloseDate', 'ClosePrice', 'CoBuyerAgentDirectPhone', 'CoBuyerAgentEmail', 'CoBuyerAgentFullName', 'CoBuyerAgentKeyNumeric', 'CoBuyerAgentMlsId', 'CoBuyerOfficeKeyNumeric', 'CoBuyerOfficeMlsId', 'CoBuyerOfficeName', 'CoBuyerOfficePhone', 'CoListAgentDirectPhone', 'CoListAgentEmail', 'CoListAgentFullName', 'CoListAgentKeyNumeric', 'CoListAgentMlsId', 'CoListOfficeKeyNumeric', 'CoListOfficeMlsId', 'CoListOfficeName', 'CoListOfficePhone', 'Cooling', 'CountyOrParish', 'CumulativeDaysOnMarket', 'DaysOnMarket', 'Directions', 'Heating', 'InternetAddressDisplayYN', 'InternetAutomatedValuationDisplayYN', 'InternetConsumerCommentYN', 'InternetEntireListingDisplayYN', 'Latitude', 'ListAgentDirectPhone', 'ListAgentEmail', 'ListAgentFullName', 'ListAgentKeyNumeric', 'ListAgentMlsId', 'ListingAgreement', 'ListingContractDate', 'ListingId', 'ListingService', 'ListOfficeKeyNumeric', 'ListOfficeMlsId', 'ListOfficeName', 'ListOfficePhone', 'ListPrice', 'LivingArea', 'Longitude', 'MlsStatus', 'ModificationTimestamp', 'OffMarketDate', 'OriginalListPrice', 'OriginatingSystemName', 'ParcelNumber', 'PhotosChangeTimestamp', 'PhotosCount', 'PostalCode', 'PostalCodePlus4', 'PreviousListPrice', 'PriceChangeTimestamp', 'PrivateRemarks', 'PropertySubType', 'PropertyType', 'PublicRemarks', 'PurchaseContractDate', 'StandardStatus', 'StateOrProvince', 'StatusChangeTimestamp', 'StoriesTotal', 'StreetDirPrefix', 'StreetDirSuffix', 'StreetName', 'StreetNumber', 'StreetNumberNumeric', 'StreetSuffix', 'SyndicateTo', 'UnitNumber', 'WithdrawnDate', 'YearBuilt', 'PreviousStatus', 'SpecialListingConditions', 'AccessibilityFeatures', 'AccessibilityFeaturesYN', 'AccessoryUnitSF', 'AccessoryUnitType', 'AccessoryUnitYN', 'AcresBottomLand', 'AcresCultivated', 'AcresIrrigated', 'AcresPasture', 'AerialPhotoAvailableYN', 'AGExemptionYN', 'AppFeePayableTo', 'AppFeePlus18YrsYN', 'AppliancesYN', 'Appliances', 'ApplicationFeeAmount', 'ApplicationFeeYN', 'AppraiserName', 'ArchitecturalStyle', 'AssociationFee', 'AssociationFeeFrequency', 'AssociationFeeIncludes', 'AssociationType', 'AttachedGarageYN', 'AuctionYN', 'AvailabilityDate', 'AverageMonthlyLease', 'OnMarketDate', 'HorseAmenities', 'BasementYN', 'BathroomsTotalDecimal', 'BuildingNumber', 'BuildingUse', 'BusinessName', 'BusinessType', 'BuyerFinancing', 'BuyerTeamKey', 'BuyerTeamKeyNumeric', 'BuyerTeamName', 'CapitalizationRate', 'CarportSpaces', 'CeilingHeight', 'CommercialFeatures', 'CommunityFeatures', 'CompensationPaid', 'ComplexName', 'ConsentforVisitorstoRecord', 'ConstructionMaterials', 'ContingencyInfo', 'Country', 'CoveredSpaces', 'CropRetireProgramYN', 'Crops', 'CurrentUse', 'DepositAmount', 'DepositPet', 'DevelopmentStatus', 'DOCBOX_GUID', 'DocBox_ModificationTimestamp', 'DocBox_NumMlsDocuments', 'DocBox_NumPrivateDocuments', 'DocBox_NumPublicDocuments', 'DockPermittedYN', 'DocumentManagerMLSCount', 'DocumentManagerPrivateCount', 'DocumentManagerPublicCount', 'DocumentManagerTotalCount', 'DocumentsAvailable', 'DualVariableCompensationYN', 'Easements', 'ElementarySchool', 'ElementarySchoolName', 'EnergySavingFeatures', 'Exclusions', 'ExpirationDateOption', 'ExteriorFeatures', 'FarmRanchFeatures', 'Fencing', 'FHA_VA_ApprovedComplexNumber', 'FireplaceFeatures', 'FireplacesTotal', 'Flooring', 'FloorLocationNumber', 'FoundationDetails', 'FreightDoors', 'FrontageFeet', 'FrontageLength', 'FurnishedYN', 'GarageLength', 'GarageSpaces', 'GarageWidth', 'GarageYN', 'GreenEnergyEfficient', 'GreenEnergyGeneration', 'GreenIndoorAirQuality', 'GreenLandscaping', 'GreenSustainability', 'GreenWaterConservation', 'GrossAnnualExpenses', 'GrossAnnualIncome', 'GrossIncomeMultiplier', 'HighSchool', 'HighSchoolName', 'HOAManagementCompany', 'HOAManagementCompanyPhone', 'HoldDate', 'TransactionIncludes', 'InsuranceExpense', 'InteriorFeatures', 'IntermediateSchoolName', 'JuniorHighSchoolName', 'LakePumpYN', 'LandLeaseYN', 'LaundryFeatures', 'LeasableArea', 'LeaseConditions', 'LeaseExpirationDate', 'LeaseRateMax', 'LeaseRateMin', 'LeaseTerm', 'LeaseType', 'LenderName', 'ListAgentMLSProvider', 'ListingTerms', 'ListMLSProvider', 'ListSource', 'ListSourceOriginal', 'ListSourceVendor', 'ListTeamKey', 'ListTeamKeyNumeric', 'ListTeamName', 'Loan1Amount', 'Loan1InterestRate', 'Loan1Years', 'LoanBalance', 'LoanInterestRate', 'LoanPayment', 'LoanPaymentType', 'LoanType', 'KeyboxNumber', 'LockBoxType', 'LotFeatures', 'LotNumber', 'LotSize', 'LotSizeAcres', 'LotSizeArea', 'LotSizeDimensions', 'LotSizeSource', 'LotSizeSquareFeet', 'LotSizeUnits', 'LotsSoldPackage', 'LotsSoldSeparate', 'MiddleOrJuniorSchool', 'MiddleSchoolName', 'MLSNumberSaleOrLease', 'MoniesRequired', 'MonthlyPetFee', 'MortgageCompany', 'MoveInDate', 'MultiParcelIDYN', 'MultiZoningYN', 'MunicipalUtilityDistrictYN', 'NetOperationIncome', 'NonRefundablePetFeeYN', 'NoticeSurveillanceDevicesPresent', 'NumberOfBarns', 'NumberOfBuildings', 'NumberOfDaysGuestsAllowed', 'NumberOfDiningAreas', 'NumberOfLakes', 'NumberOfLeaseableSpaces', 'NumberOfLivingAreas', 'NumberOfLots', 'NumberOfPetsAllowed', 'NumberOfResidences', 'NumberOfSeparateWaterMeters', 'NumberOfSpacesLeased', 'NumberOfStallsInBarn1', 'NumberOfStallsInBarn2', 'NumberOfStallsInBarn3', 'NumberOfTanksAndPonds', 'NumberOfUnitsTotal', 'NumberOfVehicles', 'NumberOfWells', 'OccupancyRate', 'OccupantName', 'OccupantPhoneAlternative', 'OccupantType', 'OpenParkingSpaces', 'OpenParkingYN', 'OperatingExpenseIncludes', 'OriginalMortgageDate', 'OriginatingSystemKey', 'OriginatingSystemTimestamp', 'OtherStructures', 'OwnerName', 'OwnerPays', 'OwnerPermissionToVideoYN', 'OwnerPhone', 'OwnerPhoneAlternative', 'ParcelNumber2', 'ParkingFeatures', 'PetsAllowed', 'PlannedDevelopment', 'PlattedWaterfrontBoundary', 'PoolFeatures', 'PoolYN', 'Possession', 'PossibleUse', 'PrimarySchoolName', 'PrivateOfficeRemarks', 'PropertyAttachedYN', 'RanchName', 'RangePriceYN', 'Restrictions', 'RETSUpdateTransactionYN', 'RoadAssessmentYN', 'RoadFrontageDistance', 'RoadFrontageType', 'RoadSurfaceType', 'Roof', 'SchoolDistrict', 'SecondMortgageYN', 'SecurityFeatures', 'SellerContributions', 'SeniorCommunityYN', 'SeniorHighSchoolName', 'Sewer', 'ShowingContactPhone', 'ShowingContactPhoneExt', 'ShowingContactType', 'ShowingInstructions', 'ShowingInstructionsSecured', 'ShowingRequirements', 'SmartHomeFeaturesApporPassYN', 'SoilType', 'SpecialNotes', 'SpecialTaxingEntities', 'SQFTGross', 'StructuralStyle', 'SubAgencyCompensation', 'SubAgencyCompensationType', 'SubdividedYN', 'SubdivisionName', 'SurfaceRights', 'TaxBlock', 'TaxLegalDescription', 'Tenancy', 'TenantPays', 'ThirdPartyAssistanceProgramYN', 'TitleCompanyClosing', 'TitleCompanyLocation', 'TitleCompanyPhone', 'TitleCompanyPreferred', 'Topography', 'TransactionType', 'UnexemptTaxes', 'URLNonPublic1', 'URLNonPublic2', 'URLNonPublic3', 'URLNonPublic4', 'URLNonPublic5', 'USProperty_MUI', 'Utilities', 'Vegetation', 'VirtualTourURLBranded', 'VirtualTourURLUnbranded', 'WalkScore', 'WaterbodyName', 'WaterfrontFeatures', 'WaterfrontYN', 'WillSubdivide', 'WillSubdivideYN', 'YearBuiltDetails', 'ZoningDescription', 'GeocodeConfidence', 'PropertyKey', 'PropertyMatch', 'BuyerOfficeManager', 'BuyerOfficeManagerKeyNumeric', 'BuyerOfficeManagerLicense', 'BuyerOfficeManagerMLSID', 'BuyerOfficeManagerPhone', 'CoBuyerOfficeManager', 'CoBuyerOfficeManagerKeyNumeric', 'CoBuyerOfficeManagerLicense', 'CoBuyerOfficeManagerMLSID', 'CoBuyerOfficeManagerPhone', 'CoListOfficeManager', 'CoListOfficeManagerKeyNumeric', 'CoListOfficeManagerLicense', 'CoListOfficeManagerMLSID', 'CoListOfficeManagerPhone', 'HorsePermittedYN', 'ListOfficeManager', 'ListOfficeManagerKeyNumeric', 'ListOfficeManagerLicense', 'ListOfficeManagerMLSID', 'ListOfficeManagerPhone', 'ListPriceLow', 'ListPriceLowSystem', 'OtherEquipment', 'PatioAndPorchFeatures', 'WindowFeatures', 'LockBoxLocation', 'PropertyAssociationFeeType', 'BarnsCount', 'GreenVerificationCount', 'LeaseTermDescription', 'OccupantPhone', 'LeasedPriceUnits', 'NumberOfParkingSpaces', 'ClosedRemarks', 'RATIO_ClosePrice_By_LotSizeAcres', 'RATIO_CurrentPrice_By_LotSizeAcres', 'RATIO_ListPrice_By_LotSizeAcres', 'ConstructionMaterialsWalls', 'AuctionHighPrice', 'ShowingAttendedYN', 'AccessCode', 'BuyerAgentTextingAllowedYN', 'CoBuyerAgentTextingAllowedYN', 'CoListAgentTextingAllowedYN', 'GarageHeight', 'ListAgentTextingAllowedYN', 'PropertyManagedBy', 'Levels', 'TaxLot']\n"
          ]
        }
      ]
    },
    {
      "cell_type": "code",
      "source": [
        "csv_columns = key_list\n",
        "csv_file = \"Result.csv\"\n",
        "try:\n",
        "    with open(csv_file, 'w') as csvfile:\n",
        "        writer = csv.DictWriter(csvfile, fieldnames=key_list)\n",
        "        writer.writeheader()\n",
        "        for result in search_results:\n",
        "            writer.writerow(result)\n",
        "except IOError:\n",
        "    print(\"I/O error\")"
      ],
      "metadata": {
        "id": "Z9wFyDZSrRow"
      },
      "execution_count": 60,
      "outputs": []
    },
    {
      "cell_type": "code",
      "source": [
        ""
      ],
      "metadata": {
        "colab": {
          "base_uri": "https://localhost:8080/",
          "height": 171
        },
        "id": "LA2FhJ2sgS6B",
        "outputId": "ec7f9038-6165-4967-954b-a015b97b969b"
      },
      "execution_count": 56,
      "outputs": [
        {
          "output_type": "error",
          "ename": "AttributeError",
          "evalue": "ignored",
          "traceback": [
            "\u001b[0;31m---------------------------------------------------------------------------\u001b[0m",
            "\u001b[0;31mAttributeError\u001b[0m                            Traceback (most recent call last)",
            "\u001b[0;32m<ipython-input-56-222c889f699f>\u001b[0m in \u001b[0;36m<module>\u001b[0;34m()\u001b[0m\n\u001b[0;32m----> 1\u001b[0;31m \u001b[0mlen\u001b[0m\u001b[0;34m(\u001b[0m\u001b[0mcsv\u001b[0m\u001b[0;34m.\u001b[0m\u001b[0mfile\u001b[0m\u001b[0;34m)\u001b[0m\u001b[0;34m\u001b[0m\u001b[0;34m\u001b[0m\u001b[0m\n\u001b[0m",
            "\u001b[0;31mAttributeError\u001b[0m: module 'csv' has no attribute 'file'"
          ]
        }
      ]
    }
  ]
}