{
  "nbformat": 4,
  "nbformat_minor": 0,
  "metadata": {
    "colab": {
      "name": "Copy of Untitled5.ipynb",
      "provenance": [],
      "authorship_tag": "ABX9TyMt5U6FusScggMqjoYLXGWT",
      "include_colab_link": true
    },
    "kernelspec": {
      "name": "python3",
      "display_name": "Python 3"
    },
    "language_info": {
      "name": "python"
    }
  },
  "cells": [
    {
      "cell_type": "markdown",
      "metadata": {
        "id": "view-in-github",
        "colab_type": "text"
      },
      "source": [
        "<a href=\"https://colab.research.google.com/github/penny1xu/RESTS/blob/main/Copy_of_Untitled5.ipynb\" target=\"_parent\"><img src=\"https://colab.research.google.com/assets/colab-badge.svg\" alt=\"Open In Colab\"/></a>"
      ]
    },
    {
      "cell_type": "code",
      "source": [
        "!pip install censusgeocode\n",
        "!pip install datatable\n",
        "!pip install rets\n",
        "import csv\n",
        "import pandas as pd\n",
        "import censusgeocode as cg\n",
        "import numpy as np\n",
        "import sys\n",
        "from rets import Session\n",
        "import datetime\n",
        "from datetime import datetime,timedelta\n",
        "!pip install pytz\n",
        "import pytz\n",
        "import datatable as dt"
      ],
      "metadata": {
        "id": "FXT4xeeBtUPD",
        "colab": {
          "base_uri": "https://localhost:8080/"
        },
        "outputId": "2410179f-9dd8-48c2-c7ea-0345cb25c406"
      },
      "execution_count": null,
      "outputs": [
        {
          "output_type": "stream",
          "name": "stdout",
          "text": [
            "Looking in indexes: https://pypi.org/simple, https://us-python.pkg.dev/colab-wheels/public/simple/\n",
            "Requirement already satisfied: censusgeocode in /usr/local/lib/python3.7/dist-packages (0.5.2)\n",
            "Requirement already satisfied: requests-toolbelt<1,>=0.9.0 in /usr/local/lib/python3.7/dist-packages (from censusgeocode) (0.9.1)\n",
            "Requirement already satisfied: requests[security]<3,>=2.27.0 in /usr/local/lib/python3.7/dist-packages (from censusgeocode) (2.28.1)\n",
            "Requirement already satisfied: charset-normalizer<3,>=2 in /usr/local/lib/python3.7/dist-packages (from requests[security]<3,>=2.27.0->censusgeocode) (2.1.0)\n",
            "Requirement already satisfied: idna<4,>=2.5 in /usr/local/lib/python3.7/dist-packages (from requests[security]<3,>=2.27.0->censusgeocode) (2.10)\n",
            "Requirement already satisfied: certifi>=2017.4.17 in /usr/local/lib/python3.7/dist-packages (from requests[security]<3,>=2.27.0->censusgeocode) (2022.6.15)\n",
            "Requirement already satisfied: urllib3<1.27,>=1.21.1 in /usr/local/lib/python3.7/dist-packages (from requests[security]<3,>=2.27.0->censusgeocode) (1.24.3)\n",
            "Looking in indexes: https://pypi.org/simple, https://us-python.pkg.dev/colab-wheels/public/simple/\n",
            "Requirement already satisfied: datatable in /usr/local/lib/python3.7/dist-packages (1.0.0)\n",
            "Looking in indexes: https://pypi.org/simple, https://us-python.pkg.dev/colab-wheels/public/simple/\n",
            "Requirement already satisfied: rets in /usr/local/lib/python3.7/dist-packages (1.0.0)\n",
            "Requirement already satisfied: six>=1.10 in /usr/local/lib/python3.7/dist-packages (from rets) (1.15.0)\n",
            "Requirement already satisfied: future>=0.16 in /usr/local/lib/python3.7/dist-packages (from rets) (0.16.0)\n",
            "Requirement already satisfied: xmltodict>=0.11.0 in /usr/local/lib/python3.7/dist-packages (from rets) (0.13.0)\n",
            "Requirement already satisfied: requests>=2.18.4 in /usr/local/lib/python3.7/dist-packages (from rets) (2.28.1)\n",
            "Requirement already satisfied: idna<4,>=2.5 in /usr/local/lib/python3.7/dist-packages (from requests>=2.18.4->rets) (2.10)\n",
            "Requirement already satisfied: urllib3<1.27,>=1.21.1 in /usr/local/lib/python3.7/dist-packages (from requests>=2.18.4->rets) (1.24.3)\n",
            "Requirement already satisfied: charset-normalizer<3,>=2 in /usr/local/lib/python3.7/dist-packages (from requests>=2.18.4->rets) (2.1.0)\n",
            "Requirement already satisfied: certifi>=2017.4.17 in /usr/local/lib/python3.7/dist-packages (from requests>=2.18.4->rets) (2022.6.15)\n",
            "Looking in indexes: https://pypi.org/simple, https://us-python.pkg.dev/colab-wheels/public/simple/\n",
            "Requirement already satisfied: pytz in /usr/local/lib/python3.7/dist-packages (2022.1)\n"
          ]
        }
      ]
    },
    {
      "cell_type": "code",
      "execution_count": null,
      "metadata": {
        "colab": {
          "base_uri": "https://localhost:8080/"
        },
        "id": "2WnKiKSfl1LY",
        "outputId": "b5fc5d0d-ea6b-47ab-9986-63e857d4b404"
      },
      "outputs": [
        {
          "output_type": "execute_result",
          "data": {
            "text/plain": [
              "True"
            ]
          },
          "metadata": {},
          "execution_count": 16
        }
      ],
      "source": [
        "login_url = 'https://ntrdd.mlsmatrix.com/rets/Login.ashx' \n",
        "username = '0671181_NID'\n",
        "password = 'Rt$tg6jx'\n",
        "rets_client = Session(login_url, username, password)\n",
        "rets_client.login()\n"
      ]
    },
    {
      "cell_type": "code",
      "source": [
        "import datetime\n",
        "n_days_ago = datetime.date.today() - datetime.timedelta(days=180)\n",
        "dt_string = n_days_ago.strftime(\"%Y-%m-%dT%H:%M:%S.000\")\n",
        "\n",
        "dt_string"
      ],
      "metadata": {
        "id": "lQWpsh8xuoaR"
      },
      "execution_count": null,
      "outputs": []
    },
    {
      "cell_type": "code",
      "source": [
        "ListingId_result = rets_client.search(resource = 'Property', resource_class='Property', limit = 400,dmql_query='(StatusChangeTimestamp = {}+),(MlsStatus = SLD)'.format(dt_string))\n",
        "lis = []\n",
        "di ={}\n",
        "df = pd.DataFrame()\n",
        "for item in ListingId_result:\n",
        "  if(item['PropertyType'] == 'Residential Lease' and item['PropertySubType'] == 'Single Family Residence' and item['StateOrProvince']== 'Texas' and item['BedroomsTotal'] == '4' or item['BedroomsTotal'] == '3'):\n",
        "   \n",
        "    df = pd.concat([df, pd.DataFrame(item.values())], axis=1, ignore_index=True) \n",
        "    di = item   \n",
        "for key in di:\n",
        "  lis.append(key)\n",
        "\n",
        "df = df.T\n",
        "df.columns = lis\n",
        "df['new_col'] = df['SubdivisionName'].astype(str).str[0:10]\n",
        "\n",
        "\n",
        "n = len(pd.unique(df['new_col']))\n",
        "result = df[['BathroomsFull','BathroomsHalf', 'BathroomsTotalDecimal', 'BathroomsTotalInteger','BedroomsTotal', 'BuildingAreaTotal', 'City', 'CloseDate', 'ClosePrice', 'CumulativeDaysOnMarket', \n",
        "   'DaysOnMarket', 'GarageSpaces', 'Latitude', 'ListingContractDate', 'ListingId', 'ListPrice', \n",
        "   'ListSource', 'LivingArea', 'Longitude', 'LotSizeAcres', 'MlsStatus', 'OwnerName', 'OwnerPhone', 'OwnerPhoneAlternative',\n",
        "   'ParcelNumber', 'ParcelNumber2', 'PoolYN', 'PostalCode', 'PreviousListPrice', 'PreviousStatus', 'PropertySubType',\n",
        "   'PropertyType', 'PublicRemarks', 'PurchaseContractDate', 'SchoolDistrict', 'StandardStatus', 'StatusChangeTimestamp',\n",
        "   'StreetDirPrefix', 'StreetDirSuffix', 'StreetName', 'StreetNumber', 'StreetNumberNumeric', 'StreetSuffix', 'SubdivisionName',\n",
        "   'USProperty_MUI', 'YearBuilt','LotSizeAcres','new_col']]  \n",
        "n = df.groupby(by=['new_col'])[\"new_col\"].count() \n",
        "n_by_state = df.groupby(by=['new_col','BedroomsTotal'])[\"ClosePrice\"].sum() \n",
        "print(n.head(10))\n",
        "print(n_by_state.head(10))\n",
        "result.to_csv('SLD.csv')\n",
        "#print(di)\n"
      ],
      "metadata": {
        "colab": {
          "base_uri": "https://localhost:8080/"
        },
        "id": "fP9xA8iGxFNu",
        "outputId": "ef59f9f0-5f2c-48ef-8076-4eb5ce5339aa"
      },
      "execution_count": null,
      "outputs": [
        {
          "output_type": "stream",
          "name": "stdout",
          "text": [
            "new_col\n",
            "Athens        1\n",
            "Bayside       4\n",
            "Brentwood     1\n",
            "Charles Do    1\n",
            "Dimpkins      1\n",
            "ELLERBE RO    1\n",
            "Edgemont P    1\n",
            "H.C. Gresh    1\n",
            "Harbor  Vi    1\n",
            "Harbor Vil    2\n",
            "Name: new_col, dtype: int64\n",
            "new_col     BedroomsTotal\n",
            "Athens      3                                          2200000.00\n",
            "Bayside     3                441833.00386575.00396488.00416010.00\n",
            "Brentwood   3                                           455400.00\n",
            "Charles Do  3                                           365000.00\n",
            "Dimpkins    3                                           134000.00\n",
            "ELLERBE RO  3                                           180000.00\n",
            "Edgemont P  3                                           120000.00\n",
            "H.C. Gresh  3                                           183000.00\n",
            "Harbor  Vi  3                                           449000.00\n",
            "Harbor Vil  3                                  425000.00459000.00\n",
            "Name: ClosePrice, dtype: object\n"
          ]
        }
      ]
    }
  ]
}